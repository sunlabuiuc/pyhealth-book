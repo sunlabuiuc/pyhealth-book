{
 "cells": [
  {
   "cell_type": "markdown",
   "id": "a2e87ac7",
   "metadata": {},
   "source": [
    "## STEP1: dataset processing"
   ]
  },
  {
   "cell_type": "code",
   "execution_count": 2,
   "id": "7b42536d",
   "metadata": {},
   "outputs": [
    {
     "name": "stdout",
     "output_type": "stream",
     "text": [
      "INFO: Pandarallel will run on 64 workers.\n",
      "INFO: Pandarallel will use Memory file system to transfer data between the main process and workers.\n",
      "finish basic patient information parsing : 26.628898859024048s\n",
      "finish parsing diagnoses_icd : 59.32148051261902s\n",
      "finish parsing procedures_icd : 18.32806658744812s\n",
      "finish parsing prescriptions : 267.0019724369049s\n"
     ]
    },
    {
     "name": "stderr",
     "output_type": "stream",
     "text": [
      "Mapping codes: 100%|███████████████████████████████████████████████████████████████████████████████| 190279/190279 [00:12<00:00, 15554.53it/s]\n"
     ]
    },
    {
     "name": "stdout",
     "output_type": "stream",
     "text": [
      "\n",
      "Statistics of base dataset (dev=False):\n",
      "\t- Dataset: MIMIC4Dataset\n",
      "\t- Number of patients: 190279\n",
      "\t- Number of visits: 454324\n",
      "\t- Number of visits per patient: 2.3877\n",
      "\t- Number of events per visit in diagnoses_icd: 11.0205\n",
      "\t- Number of events per visit in procedures_icd: 1.5498\n",
      "\t- Number of events per visit in prescriptions: 35.6424\n",
      "\n"
     ]
    },
    {
     "data": {
      "text/plain": [
       "'\\nStatistics of base dataset (dev=False):\\n\\t- Dataset: MIMIC4Dataset\\n\\t- Number of patients: 190279\\n\\t- Number of visits: 454324\\n\\t- Number of visits per patient: 2.3877\\n\\t- Number of events per visit in diagnoses_icd: 11.0205\\n\\t- Number of events per visit in procedures_icd: 1.5498\\n\\t- Number of events per visit in prescriptions: 35.6424\\n'"
      ]
     },
     "execution_count": 2,
     "metadata": {},
     "output_type": "execute_result"
    }
   ],
   "source": [
    "from pyhealth.datasets import MIMIC4Dataset\n",
    "\n",
    "mimic4_ds = MIMIC4Dataset(\n",
    "    root=\"/srv/local/data/physionet.org/files/mimiciv/2.0/hosp\",\n",
    "    tables=[\"diagnoses_icd\", \"procedures_icd\", \"prescriptions\"],\n",
    ")\n",
    "\n",
    "mimic4_ds.stat()"
   ]
  },
  {
   "cell_type": "code",
   "execution_count": 6,
   "id": "299d2c34",
   "metadata": {},
   "outputs": [
    {
     "data": {
      "text/plain": [
       "('10000084', Patient 10000084 with 2 visits)"
      ]
     },
     "execution_count": 6,
     "metadata": {},
     "output_type": "execute_result"
    }
   ],
   "source": [
    "patients = mimic4_ds.patients\n",
    "patient_id, patient_obj = list(patients.items())[2]\n",
    "patient_id, patient_obj"
   ]
  },
  {
   "cell_type": "code",
   "execution_count": 27,
   "id": "c94a458a",
   "metadata": {},
   "outputs": [
    {
     "data": {
      "text/plain": [
       "('23052089',\n",
       " Visit 23052089 from patient 10000084 with 19 events from tables ['diagnoses_icd', 'prescriptions'])"
      ]
     },
     "execution_count": 27,
     "metadata": {},
     "output_type": "execute_result"
    }
   ],
   "source": [
    "visits = patient_obj.visits\n",
    "visit_id, visit_obj = list(visits.items())[0] # the 0-th visit\n",
    "visit_id, visit_obj"
   ]
  },
  {
   "cell_type": "code",
   "execution_count": 28,
   "id": "8804c48c",
   "metadata": {},
   "outputs": [
    {
     "data": {
      "text/plain": [
       "Event with ICD10CM code G3183 from table diagnoses_icd"
      ]
     },
     "execution_count": 28,
     "metadata": {},
     "output_type": "execute_result"
    }
   ],
   "source": [
    "diagnoses = visit_obj.get_event_list(\"diagnoses_icd\")\n",
    "diagnosis = diagnoses[0] # the 0-th diagnosis\n",
    "diagnosis"
   ]
  },
  {
   "cell_type": "code",
   "execution_count": 29,
   "id": "d1c3cc48",
   "metadata": {},
   "outputs": [
    {
     "data": {
      "text/plain": [
       "Event with NDC code 0 from table prescriptions"
      ]
     },
     "execution_count": 29,
     "metadata": {},
     "output_type": "execute_result"
    }
   ],
   "source": [
    "prescriptions = visit_obj.get_event_list(\"prescriptions\")\n",
    "prescription = prescriptions[0] # the 0-th prescription\n",
    "prescription"
   ]
  },
  {
   "cell_type": "markdown",
   "id": "b3fdee5a",
   "metadata": {},
   "source": [
    "## STEP2: Task definition"
   ]
  },
  {
   "cell_type": "code",
   "execution_count": 31,
   "id": "6ce6d7e9",
   "metadata": {},
   "outputs": [],
   "source": [
    "def readmission_prediction_mimic4_fn(patient, time_window=7):\n",
    "    \"\"\"Processes a single patient for the readmission prediction task.\n",
    "    ...\n",
    "    \"\"\"\n",
    "    samples = []\n",
    "\n",
    "    # we will drop the last visit since we cannot tell its label\n",
    "    for i in range(len(patient) - 1):\n",
    "        visit = patient[i]\n",
    "        next_visit = patient[i + 1]\n",
    "\n",
    "        # get time difference between current visit and next visit\n",
    "        time_diff = (next_visit.encounter_time - visit.encounter_time).days\n",
    "        readmission_label = 1 if time_diff < time_window else 0\n",
    "\n",
    "        conditions = visit.get_code_list(table=\"diagnoses_icd\")\n",
    "        procedures = visit.get_code_list(table=\"procedures_icd\")\n",
    "        drugs = visit.get_code_list(table=\"prescriptions\")\n",
    "        # exclude: visits without condition, procedure, or drug code\n",
    "        if len(conditions) * len(procedures) * len(drugs) == 0:\n",
    "            continue\n",
    "        samples.append(\n",
    "            {\n",
    "                \"visit_id\": visit.visit_id,\n",
    "                \"patient_id\": patient.patient_id,\n",
    "                \"conditions\": conditions,\n",
    "                \"procedures\": procedures,\n",
    "                \"drugs\": drugs,\n",
    "                \"label\": readmission_label,\n",
    "            }\n",
    "        )\n",
    "\n",
    "        # use patient or visit level information for cohort selection\n",
    "        # ...\n",
    "    return samples"
   ]
  },
  {
   "cell_type": "code",
   "execution_count": 32,
   "id": "3b90e690",
   "metadata": {},
   "outputs": [
    {
     "name": "stderr",
     "output_type": "stream",
     "text": [
      "Generating samples for <lambda>: 100%|█████████████████████████████████████████████████████████████| 190279/190279 [00:06<00:00, 30338.08it/s]\n"
     ]
    },
    {
     "name": "stdout",
     "output_type": "stream",
     "text": [
      "Statistics of sample dataset:\n",
      "\t- Dataset: MIMIC4Dataset\n",
      "\t- Task: <lambda>\n",
      "\t- Number of samples: 132301\n",
      "\t- Number of patients: 59273\n",
      "\t- Number of visits: 132301\n",
      "\t- Number of visits per patient: 2.2321\n",
      "\t- conditions:\n",
      "\t\t- Number of conditions per sample: 13.5967\n",
      "\t\t- Number of unique conditions: 18858\n",
      "\t\t- Distribution of conditions (Top-10): [('4019', 34015), ('2724', 25635), ('53081', 18716), ('E785', 15686), ('25000', 15530), ('41401', 14924), ('4280', 14814), ('I10', 14065), ('42731', 13960), ('Z87891', 13776)]\n",
      "\t- procedures:\n",
      "\t\t- Number of procedures per sample: 2.7078\n",
      "\t\t- Number of unique procedures: 10220\n",
      "\t\t- Distribution of procedures (Top-10): [('3893', 8320), ('3897', 6165), ('3995', 6035), ('02HV33Z', 5966), ('8856', 5171), ('0040', 4588), ('966', 4479), ('9925', 4310), ('4513', 3395), ('5491', 3313)]\n",
      "\t- drugs:\n",
      "\t\t- Number of drugs per sample: 29.6466\n",
      "\t\t- Number of unique drugs: 5458\n",
      "\t\t- Distribution of drugs (Top-10): [('0', 127393), ('63323026201', 79098), ('00904224461', 70124), ('00338004904', 53800), ('00904516561', 53187), ('00338011704', 44555), ('00409672924', 40443), ('00409490234', 39312), ('00406055262', 36542), ('51079000220', 34618)]\n",
      "\t- label:\n",
      "\t\t- Number of label per sample: 1.0000\n",
      "\t\t- Number of unique label: 2\n",
      "\t\t- Distribution of label (Top-10): [(0, 67860), (1, 64441)]\n"
     ]
    },
    {
     "data": {
      "text/plain": [
       "\"Statistics of sample dataset:\\n\\t- Dataset: MIMIC4Dataset\\n\\t- Task: <lambda>\\n\\t- Number of samples: 132301\\n\\t- Number of patients: 59273\\n\\t- Number of visits: 132301\\n\\t- Number of visits per patient: 2.2321\\n\\t- conditions:\\n\\t\\t- Number of conditions per sample: 13.5967\\n\\t\\t- Number of unique conditions: 18858\\n\\t\\t- Distribution of conditions (Top-10): [('4019', 34015), ('2724', 25635), ('53081', 18716), ('E785', 15686), ('25000', 15530), ('41401', 14924), ('4280', 14814), ('I10', 14065), ('42731', 13960), ('Z87891', 13776)]\\n\\t- procedures:\\n\\t\\t- Number of procedures per sample: 2.7078\\n\\t\\t- Number of unique procedures: 10220\\n\\t\\t- Distribution of procedures (Top-10): [('3893', 8320), ('3897', 6165), ('3995', 6035), ('02HV33Z', 5966), ('8856', 5171), ('0040', 4588), ('966', 4479), ('9925', 4310), ('4513', 3395), ('5491', 3313)]\\n\\t- drugs:\\n\\t\\t- Number of drugs per sample: 29.6466\\n\\t\\t- Number of unique drugs: 5458\\n\\t\\t- Distribution of drugs (Top-10): [('0', 127393), ('63323026201', 79098), ('00904224461', 70124), ('00338004904', 53800), ('00904516561', 53187), ('00338011704', 44555), ('00409672924', 40443), ('00409490234', 39312), ('00406055262', 36542), ('51079000220', 34618)]\\n\\t- label:\\n\\t\\t- Number of label per sample: 1.0000\\n\\t\\t- Number of unique label: 2\\n\\t\\t- Distribution of label (Top-10): [(0, 67860), (1, 64441)]\""
      ]
     },
     "execution_count": 32,
     "metadata": {},
     "output_type": "execute_result"
    }
   ],
   "source": [
    "# STEP 2: define the readmission prediction task\n",
    "readmission_dataset = mimic4_ds.set_task(\n",
    "    lambda x: readmission_prediction_mimic4_fn(x, time_window=7)\n",
    ")\n",
    "readmission_dataset.stat()"
   ]
  },
  {
   "cell_type": "code",
   "execution_count": 33,
   "id": "3f1a6b2d",
   "metadata": {},
   "outputs": [
    {
     "data": {
      "text/plain": [
       "{'visit_id': '22595853',\n",
       " 'patient_id': '10000032',\n",
       " 'conditions': ['5723',\n",
       "  '78959',\n",
       "  '5715',\n",
       "  '07070',\n",
       "  '496',\n",
       "  '29680',\n",
       "  '30981',\n",
       "  'V1582'],\n",
       " 'procedures': ['5491'],\n",
       " 'drugs': ['0',\n",
       "  '63323026201',\n",
       "  '19515089452',\n",
       "  '00245004101',\n",
       "  '63739054410',\n",
       "  '51079007220',\n",
       "  '00904198861',\n",
       "  '00006022761',\n",
       "  '00173068224',\n",
       "  '61958070101',\n",
       "  '00135019502',\n",
       "  '00487980125',\n",
       "  '51079007320'],\n",
       " 'label': 0}"
      ]
     },
     "execution_count": 33,
     "metadata": {},
     "output_type": "execute_result"
    }
   ],
   "source": [
    "readmission_dataset[0]"
   ]
  },
  {
   "cell_type": "code",
   "execution_count": 40,
   "id": "31f341ca",
   "metadata": {},
   "outputs": [],
   "source": [
    "from pyhealth.datasets import split_by_patient, get_dataloader\n",
    "\n",
    "# split the dataset into train/val/test\n",
    "train_dataset, val_dataset, test_dataset = split_by_patient(\n",
    "    readmission_dataset, [0.8, 0.1, 0.1]\n",
    ")\n",
    "train_dataloader = get_dataloader(train_dataset, batch_size=32, shuffle=True)\n",
    "val_dataloader = get_dataloader(val_dataset, batch_size=32, shuffle=False)\n",
    "test_dataloader = get_dataloader(test_dataset, batch_size=32, shuffle=False)"
   ]
  },
  {
   "cell_type": "markdown",
   "id": "20390d95",
   "metadata": {},
   "source": [
    "## STEP3: initialize ML models"
   ]
  },
  {
   "cell_type": "code",
   "execution_count": 41,
   "id": "0e5003b5",
   "metadata": {},
   "outputs": [],
   "source": [
    "from pyhealth.models import MLP\n",
    "\n",
    "# STEP 3: define model\n",
    "model = MLP(\n",
    "    dataset=readmission_dataset,\n",
    "    feature_keys=[\"conditions\", \"procedures\", \"drugs\"],\n",
    "    label_key=\"label\",\n",
    "    mode=\"binary\",\n",
    "    embedding_dim=128,\n",
    "    hidden_dim=128,\n",
    "    n_layers=3,\n",
    "    activation=\"relu\",\n",
    ")"
   ]
  },
  {
   "cell_type": "markdown",
   "id": "fc635639",
   "metadata": {},
   "source": [
    "## STEP 4: model training"
   ]
  },
  {
   "cell_type": "code",
   "execution_count": 43,
   "id": "fd6f96d1",
   "metadata": {},
   "outputs": [
    {
     "name": "stdout",
     "output_type": "stream",
     "text": [
      "MLP(\n",
      "  (embeddings): ModuleDict(\n",
      "    (conditions): Embedding(18860, 128, padding_idx=0)\n",
      "    (procedures): Embedding(10222, 128, padding_idx=0)\n",
      "    (drugs): Embedding(5460, 128, padding_idx=0)\n",
      "  )\n",
      "  (linear_layers): ModuleDict()\n",
      "  (activation): ReLU()\n",
      "  (mlp): ModuleDict(\n",
      "    (conditions): Sequential(\n",
      "      (0): Linear(in_features=128, out_features=128, bias=True)\n",
      "      (1): ReLU()\n",
      "      (2): Linear(in_features=128, out_features=128, bias=True)\n",
      "      (3): ReLU()\n",
      "      (4): Linear(in_features=128, out_features=128, bias=True)\n",
      "    )\n",
      "    (procedures): Sequential(\n",
      "      (0): Linear(in_features=128, out_features=128, bias=True)\n",
      "      (1): ReLU()\n",
      "      (2): Linear(in_features=128, out_features=128, bias=True)\n",
      "      (3): ReLU()\n",
      "      (4): Linear(in_features=128, out_features=128, bias=True)\n",
      "    )\n",
      "    (drugs): Sequential(\n",
      "      (0): Linear(in_features=128, out_features=128, bias=True)\n",
      "      (1): ReLU()\n",
      "      (2): Linear(in_features=128, out_features=128, bias=True)\n",
      "      (3): ReLU()\n",
      "      (4): Linear(in_features=128, out_features=128, bias=True)\n",
      "    )\n",
      "  )\n",
      "  (fc): Linear(in_features=384, out_features=1, bias=True)\n",
      ")\n",
      "Metrics: None\n",
      "Device: cuda\n",
      "\n",
      "Training:\n",
      "Batch size: 32\n",
      "Optimizer: <class 'torch.optim.adam.Adam'>\n",
      "Optimizer params: {'lr': 0.001}\n",
      "Weight decay: 0.0\n",
      "Max grad norm: None\n",
      "Val dataloader: <torch.utils.data.dataloader.DataLoader object at 0x7fd49e09eee0>\n",
      "Monitor: roc_auc\n",
      "Monitor criterion: max\n",
      "Epochs: 5\n",
      "\n"
     ]
    },
    {
     "data": {
      "application/vnd.jupyter.widget-view+json": {
       "model_id": "23fba233693044cb89e4c5887e60d3ef",
       "version_major": 2,
       "version_minor": 0
      },
      "text/plain": [
       "Epoch 0 / 5:   0%|          | 0/3305 [00:00<?, ?it/s]"
      ]
     },
     "metadata": {},
     "output_type": "display_data"
    },
    {
     "name": "stdout",
     "output_type": "stream",
     "text": [
      "--- Train epoch-0, step-3305 ---\n",
      "loss: 0.5563\n"
     ]
    },
    {
     "name": "stderr",
     "output_type": "stream",
     "text": [
      "Evaluation: 100%|██████████████████████████████████████████████████████████████████████████████████████████| 418/418 [00:00<00:00, 472.71it/s]"
     ]
    },
    {
     "name": "stdout",
     "output_type": "stream",
     "text": [
      "--- Eval epoch-0, step-3305 ---\n",
      "pr_auc: 0.7000\n",
      "roc_auc: 0.7106\n",
      "f1: 0.6522\n",
      "loss: 0.6354\n",
      "New best roc_auc score (0.7106) at epoch-0, step-3305\n"
     ]
    },
    {
     "name": "stderr",
     "output_type": "stream",
     "text": [
      "\n"
     ]
    },
    {
     "name": "stdout",
     "output_type": "stream",
     "text": [
      "\n"
     ]
    },
    {
     "data": {
      "application/vnd.jupyter.widget-view+json": {
       "model_id": "87bff5e13be74a79801aae4abdc9688f",
       "version_major": 2,
       "version_minor": 0
      },
      "text/plain": [
       "Epoch 1 / 5:   0%|          | 0/3305 [00:00<?, ?it/s]"
      ]
     },
     "metadata": {},
     "output_type": "display_data"
    },
    {
     "name": "stdout",
     "output_type": "stream",
     "text": [
      "--- Train epoch-1, step-6610 ---\n",
      "loss: 0.5106\n"
     ]
    },
    {
     "name": "stderr",
     "output_type": "stream",
     "text": [
      "Evaluation: 100%|██████████████████████████████████████████████████████████████████████████████████████████| 418/418 [00:00<00:00, 479.10it/s]"
     ]
    },
    {
     "name": "stdout",
     "output_type": "stream",
     "text": [
      "--- Eval epoch-1, step-6610 ---\n",
      "pr_auc: 0.6829\n",
      "roc_auc: 0.6961\n",
      "f1: 0.5838\n",
      "loss: 0.6740\n",
      "\n"
     ]
    },
    {
     "name": "stderr",
     "output_type": "stream",
     "text": [
      "\n"
     ]
    },
    {
     "data": {
      "application/vnd.jupyter.widget-view+json": {
       "model_id": "7d5d156f55d24227a0a89e3dc3442242",
       "version_major": 2,
       "version_minor": 0
      },
      "text/plain": [
       "Epoch 2 / 5:   0%|          | 0/3305 [00:00<?, ?it/s]"
      ]
     },
     "metadata": {},
     "output_type": "display_data"
    },
    {
     "name": "stdout",
     "output_type": "stream",
     "text": [
      "--- Train epoch-2, step-9915 ---\n",
      "loss: 0.4470\n"
     ]
    },
    {
     "name": "stderr",
     "output_type": "stream",
     "text": [
      "Evaluation: 100%|██████████████████████████████████████████████████████████████████████████████████████████| 418/418 [00:00<00:00, 480.47it/s]"
     ]
    },
    {
     "name": "stdout",
     "output_type": "stream",
     "text": [
      "--- Eval epoch-2, step-9915 ---\n",
      "pr_auc: 0.6641\n",
      "roc_auc: 0.6779\n",
      "f1: 0.5818\n",
      "loss: 0.7736\n",
      "\n"
     ]
    },
    {
     "name": "stderr",
     "output_type": "stream",
     "text": [
      "\n"
     ]
    },
    {
     "data": {
      "application/vnd.jupyter.widget-view+json": {
       "model_id": "3616039f17fa4715a7e771d006556451",
       "version_major": 2,
       "version_minor": 0
      },
      "text/plain": [
       "Epoch 3 / 5:   0%|          | 0/3305 [00:00<?, ?it/s]"
      ]
     },
     "metadata": {},
     "output_type": "display_data"
    },
    {
     "name": "stdout",
     "output_type": "stream",
     "text": [
      "--- Train epoch-3, step-13220 ---\n",
      "loss: 0.3718\n"
     ]
    },
    {
     "name": "stderr",
     "output_type": "stream",
     "text": [
      "Evaluation: 100%|██████████████████████████████████████████████████████████████████████████████████████████| 418/418 [00:00<00:00, 435.57it/s]"
     ]
    },
    {
     "name": "stdout",
     "output_type": "stream",
     "text": [
      "--- Eval epoch-3, step-13220 ---\n",
      "pr_auc: 0.6505\n",
      "roc_auc: 0.6643\n",
      "f1: 0.5828\n",
      "loss: 0.8855\n",
      "\n"
     ]
    },
    {
     "name": "stderr",
     "output_type": "stream",
     "text": [
      "\n"
     ]
    },
    {
     "data": {
      "application/vnd.jupyter.widget-view+json": {
       "model_id": "4b47bf8c465046cbadc1ac657699cbd2",
       "version_major": 2,
       "version_minor": 0
      },
      "text/plain": [
       "Epoch 4 / 5:   0%|          | 0/3305 [00:00<?, ?it/s]"
      ]
     },
     "metadata": {},
     "output_type": "display_data"
    },
    {
     "name": "stdout",
     "output_type": "stream",
     "text": [
      "--- Train epoch-4, step-16525 ---\n",
      "loss: 0.2942\n"
     ]
    },
    {
     "name": "stderr",
     "output_type": "stream",
     "text": [
      "Evaluation: 100%|██████████████████████████████████████████████████████████████████████████████████████████| 418/418 [00:00<00:00, 469.68it/s]"
     ]
    },
    {
     "name": "stdout",
     "output_type": "stream",
     "text": [
      "--- Eval epoch-4, step-16525 ---\n",
      "pr_auc: 0.6489\n",
      "roc_auc: 0.6610\n",
      "f1: 0.6060\n",
      "loss: 1.1949\n",
      "Loaded best model\n"
     ]
    },
    {
     "name": "stderr",
     "output_type": "stream",
     "text": [
      "\n"
     ]
    }
   ],
   "source": [
    "from pyhealth.trainer import Trainer\n",
    "\n",
    "# STEP 4: define trainer\n",
    "trainer = Trainer(model=model)\n",
    "\n",
    "trainer.train(\n",
    "    train_dataloader=train_dataloader,\n",
    "    val_dataloader=val_dataloader,\n",
    "    epochs=5,\n",
    "    monitor=\"roc_auc\",\n",
    ") # model is training ...\n"
   ]
  },
  {
   "cell_type": "markdown",
   "id": "cb4640c1",
   "metadata": {},
   "source": [
    "## STEP5: model evaluation"
   ]
  },
  {
   "cell_type": "code",
   "execution_count": 45,
   "id": "3a5ced45",
   "metadata": {},
   "outputs": [
    {
     "name": "stderr",
     "output_type": "stream",
     "text": [
      "Evaluation: 100%|██████████████████████████████████████████████████████████████████████████████████████████| 413/413 [00:00<00:00, 477.67it/s]\n"
     ]
    },
    {
     "name": "stdout",
     "output_type": "stream",
     "text": [
      "{'pr_auc': 0.6920530474148421, 'roc_auc': 0.7015410673568111, 'f1': 0.6474005660658425, 'loss': 0.6424725677267835}\n"
     ]
    },
    {
     "name": "stderr",
     "output_type": "stream",
     "text": [
      "Evaluation: 100%|██████████████████████████████████████████████████████████████████████████████████████████| 413/413 [00:00<00:00, 477.06it/s]\n"
     ]
    },
    {
     "data": {
      "text/plain": [
       "{'pr_auc': 0.6920530474148421,\n",
       " 'roc_auc': 0.7015410673568111,\n",
       " 'f1': 0.6474005660658425}"
      ]
     },
     "execution_count": 45,
     "metadata": {},
     "output_type": "execute_result"
    }
   ],
   "source": [
    "# method 1\n",
    "result = trainer.evaluate(test_dataloader)\n",
    "print (result)\n",
    "\n",
    "# method 2\n",
    "from pyhealth.metrics.binary import binary_metrics_fn\n",
    "\n",
    "y_true, y_prob, loss = trainer.inference(test_dataloader)\n",
    "binary_metrics_fn(\n",
    "    y_true,\n",
    "    y_prob,\n",
    "    metrics=[\"pr_auc\", \"roc_auc\", \"f1\"]\n",
    ")"
   ]
  },
  {
   "cell_type": "code",
   "execution_count": null,
   "id": "9e4e4a79",
   "metadata": {},
   "outputs": [],
   "source": []
  }
 ],
 "metadata": {
  "kernelspec": {
   "display_name": "Python 3",
   "language": "python",
   "name": "python3"
  },
  "language_info": {
   "codemirror_mode": {
    "name": "ipython",
    "version": 3
   },
   "file_extension": ".py",
   "mimetype": "text/x-python",
   "name": "python",
   "nbconvert_exporter": "python",
   "pygments_lexer": "ipython3",
   "version": "3.9.12"
  }
 },
 "nbformat": 4,
 "nbformat_minor": 5
}
