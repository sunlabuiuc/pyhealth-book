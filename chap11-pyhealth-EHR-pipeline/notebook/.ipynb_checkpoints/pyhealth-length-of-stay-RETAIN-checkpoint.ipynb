{
 "cells": [
  {
   "cell_type": "markdown",
   "id": "f099a095",
   "metadata": {},
   "source": [
    "## Step 1: data processing by pyhealth.datasets"
   ]
  },
  {
   "cell_type": "code",
   "execution_count": 1,
   "id": "79c79ced",
   "metadata": {},
   "outputs": [
    {
     "name": "stderr",
     "output_type": "stream",
     "text": [
      "/home/chaoqiy2/miniconda3/lib/python3.9/site-packages/torchvision/io/image.py:13: UserWarning: Failed to load image Python extension: libtorch_cuda_cu.so: cannot open shared object file: No such file or directory\n",
      "  warn(f\"Failed to load image Python extension: {e}\")\n"
     ]
    },
    {
     "name": "stdout",
     "output_type": "stream",
     "text": [
      "INFO: Pandarallel will run on 64 workers.\n",
      "INFO: Pandarallel will use Memory file system to transfer data between the main process and workers.\n"
     ]
    },
    {
     "name": "stderr",
     "output_type": "stream",
     "text": [
      "Parsing patients: 100%|███████████████| 166355/166355 [01:52<00:00, 1474.20it/s]\n"
     ]
    },
    {
     "name": "stdout",
     "output_type": "stream",
     "text": [
      "finish basic patient information parsing : 115.66474342346191s\n",
      "finish parsing diagnosis : 232.50637197494507s\n",
      "finish parsing medication : 529.3215832710266s\n",
      "finish parsing physicalExam : 253.76233100891113s\n"
     ]
    },
    {
     "name": "stderr",
     "output_type": "stream",
     "text": [
      "Mapping codes: 100%|█████████████████| 166355/166355 [00:09<00:00, 17176.55it/s]\n"
     ]
    },
    {
     "name": "stdout",
     "output_type": "stream",
     "text": [
      "\n",
      "Statistics of base dataset (dev=False):\n",
      "\t- Dataset: eICUDataset\n",
      "\t- Number of patients: 166355\n",
      "\t- Number of visits: 200859\n",
      "\t- Number of visits per patient: 1.2074\n",
      "\t- Number of events per visit in diagnosis: 22.6781\n",
      "\t- Number of events per visit in medication: 23.3808\n",
      "\t- Number of events per visit in physicalExam: 45.8646\n",
      "\n"
     ]
    },
    {
     "data": {
      "text/plain": [
       "'\\nStatistics of base dataset (dev=False):\\n\\t- Dataset: eICUDataset\\n\\t- Number of patients: 166355\\n\\t- Number of visits: 200859\\n\\t- Number of visits per patient: 1.2074\\n\\t- Number of events per visit in diagnosis: 22.6781\\n\\t- Number of events per visit in medication: 23.3808\\n\\t- Number of events per visit in physicalExam: 45.8646\\n'"
      ]
     },
     "execution_count": 1,
     "metadata": {},
     "output_type": "execute_result"
    }
   ],
   "source": [
    "from pyhealth.datasets import eICUDataset\n",
    "dataset = eICUDataset(\n",
    "        root=\"/srv/local/data/physionet.org/files/eicu-crd/2.0\",\n",
    "        tables=[\"diagnosis\", \"medication\", \"physicalExam\"],\n",
    "    )\n",
    "dataset.stat()"
   ]
  },
  {
   "cell_type": "markdown",
   "id": "51f76e66",
   "metadata": {},
   "source": [
    "## Step 2: task processing by pyhealth.tasks"
   ]
  },
  {
   "cell_type": "code",
   "execution_count": 2,
   "id": "094681a8",
   "metadata": {},
   "outputs": [
    {
     "name": "stderr",
     "output_type": "stream",
     "text": [
      "Generating samples for length_of_stay_prediction_eicu_fn: 100%|█| 166355/166355 \n"
     ]
    },
    {
     "name": "stdout",
     "output_type": "stream",
     "text": [
      "Statistics of sample dataset:\n",
      "\t- Dataset: eICUDataset\n",
      "\t- Task: length_of_stay_prediction_eicu_fn\n",
      "\t- Number of samples: 124564\n",
      "\t- Number of patients: 114473\n",
      "\t- Number of visits: 124564\n",
      "\t- Number of visits per patient: 1.0882\n",
      "\t- conditions:\n",
      "\t\t- Number of conditions per sample: 6.8110\n",
      "\t\t- Number of unique conditions: 1670\n",
      "\t\t- Distribution of conditions (Top-10): [('518.81', 21925), ('J96.00', 21451), ('I10', 17728), ('401.9', 16440), ('584.9', 14759), ('N17.9', 14548), ('486', 13704), ('J18.9', 13697), ('038.9', 12423), ('427.31', 12110)]\n",
      "\t- procedures:\n",
      "\t\t- Number of procedures per sample: 25.1875\n",
      "\t\t- Number of unique procedures: 461\n",
      "\t\t- Distribution of procedures (Top-10): [('notes/Progress Notes/Physical Exam/Physical Exam Obtain Options/Performed - Structured', 121653), ('notes/Progress Notes/Physical Exam/Physical Exam/Neurologic/GCS/Score/scored', 118406), ('notes/Progress Notes/Physical Exam/Physical Exam/Constitutional/Weight and I&O/Weight (kg)/Admission', 107202), ('notes/Progress Notes/Physical Exam/Physical Exam/Neurologic/GCS/Motor Score/6', 104141), ('notes/Progress Notes/Physical Exam/Physical Exam/Neurologic/GCS/Eyes Score/4', 100746), ('notes/Progress Notes/Physical Exam/Physical Exam/Constitutional/Vital Sign and Physiological Data/BP (systolic)/BP (systolic) Current', 100453), ('notes/Progress Notes/Physical Exam/Physical Exam/Constitutional/Vital Sign and Physiological Data/BP (diastolic)/BP (diastolic) Current', 100447), ('notes/Progress Notes/Physical Exam/Physical Exam/Constitutional/Vital Sign and Physiological Data/BP (diastolic)/BP (diastolic) Highest', 98161), ('notes/Progress Notes/Physical Exam/Physical Exam/Constitutional/Vital Sign and Physiological Data/BP (systolic)/BP (systolic) Highest', 98160), ('notes/Progress Notes/Physical Exam/Physical Exam/Constitutional/Vital Sign and Physiological Data/BP (systolic)/BP (systolic) Lowest', 98140)]\n",
      "\t- drugs:\n",
      "\t\t- Number of drugs per sample: 17.2664\n",
      "\t\t- Number of unique drugs: 1411\n",
      "\t\t- Distribution of drugs (Top-10): [('ACETAMINOPHEN 325 MG PO TABS', 15697), ('ACETAMINOPHEN', 15180), ('TYLENOL', 12107), ('ZOFRAN', 11726), ('PANTOPRAZOLE SODIUM 40 MG IV SOLR', 11469), ('ONDANSETRON 2 MG/1 ML 2ML SDV INJ', 10840), ('PANTOPRAZOLE SODIUM 40 MG PO TBEC', 10082), ('SODIUM CHLORIDE 0.9%', 10029), ('SODIUM CHLORIDE 0.9 % IV : 1000 ML', 9121), ('SODIUM CHLORIDE 0.9% 1000 ML LVP', 8904)]\n",
      "\t- label:\n",
      "\t\t- Number of label per sample: 1.0000\n",
      "\t\t- Number of unique label: 10\n",
      "\t\t- Distribution of label (Top-10): [(1, 35713), (0, 32575), (2, 19722), (3, 10947), (8, 6572), (4, 6536), (5, 4307), (6, 3039), (9, 2875), (7, 2278)]\n"
     ]
    },
    {
     "data": {
      "text/plain": [
       "\"Statistics of sample dataset:\\n\\t- Dataset: eICUDataset\\n\\t- Task: length_of_stay_prediction_eicu_fn\\n\\t- Number of samples: 124564\\n\\t- Number of patients: 114473\\n\\t- Number of visits: 124564\\n\\t- Number of visits per patient: 1.0882\\n\\t- conditions:\\n\\t\\t- Number of conditions per sample: 6.8110\\n\\t\\t- Number of unique conditions: 1670\\n\\t\\t- Distribution of conditions (Top-10): [('518.81', 21925), ('J96.00', 21451), ('I10', 17728), ('401.9', 16440), ('584.9', 14759), ('N17.9', 14548), ('486', 13704), ('J18.9', 13697), ('038.9', 12423), ('427.31', 12110)]\\n\\t- procedures:\\n\\t\\t- Number of procedures per sample: 25.1875\\n\\t\\t- Number of unique procedures: 461\\n\\t\\t- Distribution of procedures (Top-10): [('notes/Progress Notes/Physical Exam/Physical Exam Obtain Options/Performed - Structured', 121653), ('notes/Progress Notes/Physical Exam/Physical Exam/Neurologic/GCS/Score/scored', 118406), ('notes/Progress Notes/Physical Exam/Physical Exam/Constitutional/Weight and I&O/Weight (kg)/Admission', 107202), ('notes/Progress Notes/Physical Exam/Physical Exam/Neurologic/GCS/Motor Score/6', 104141), ('notes/Progress Notes/Physical Exam/Physical Exam/Neurologic/GCS/Eyes Score/4', 100746), ('notes/Progress Notes/Physical Exam/Physical Exam/Constitutional/Vital Sign and Physiological Data/BP (systolic)/BP (systolic) Current', 100453), ('notes/Progress Notes/Physical Exam/Physical Exam/Constitutional/Vital Sign and Physiological Data/BP (diastolic)/BP (diastolic) Current', 100447), ('notes/Progress Notes/Physical Exam/Physical Exam/Constitutional/Vital Sign and Physiological Data/BP (diastolic)/BP (diastolic) Highest', 98161), ('notes/Progress Notes/Physical Exam/Physical Exam/Constitutional/Vital Sign and Physiological Data/BP (systolic)/BP (systolic) Highest', 98160), ('notes/Progress Notes/Physical Exam/Physical Exam/Constitutional/Vital Sign and Physiological Data/BP (systolic)/BP (systolic) Lowest', 98140)]\\n\\t- drugs:\\n\\t\\t- Number of drugs per sample: 17.2664\\n\\t\\t- Number of unique drugs: 1411\\n\\t\\t- Distribution of drugs (Top-10): [('ACETAMINOPHEN 325 MG PO TABS', 15697), ('ACETAMINOPHEN', 15180), ('TYLENOL', 12107), ('ZOFRAN', 11726), ('PANTOPRAZOLE SODIUM 40 MG IV SOLR', 11469), ('ONDANSETRON 2 MG/1 ML 2ML SDV INJ', 10840), ('PANTOPRAZOLE SODIUM 40 MG PO TBEC', 10082), ('SODIUM CHLORIDE 0.9%', 10029), ('SODIUM CHLORIDE 0.9 % IV : 1000 ML', 9121), ('SODIUM CHLORIDE 0.9% 1000 ML LVP', 8904)]\\n\\t- label:\\n\\t\\t- Number of label per sample: 1.0000\\n\\t\\t- Number of unique label: 10\\n\\t\\t- Distribution of label (Top-10): [(1, 35713), (0, 32575), (2, 19722), (3, 10947), (8, 6572), (4, 6536), (5, 4307), (6, 3039), (9, 2875), (7, 2278)]\""
      ]
     },
     "execution_count": 2,
     "metadata": {},
     "output_type": "execute_result"
    }
   ],
   "source": [
    "from pyhealth.tasks import length_of_stay_prediction_eicu_fn\n",
    "los_dataset = dataset.set_task(length_of_stay_prediction_eicu_fn)\n",
    "los_dataset.stat()"
   ]
  },
  {
   "cell_type": "code",
   "execution_count": 3,
   "id": "eb13bb52",
   "metadata": {},
   "outputs": [
    {
     "data": {
      "text/plain": [
       "{'visit_id': '224606',\n",
       " 'patient_id': '002-10009+193705',\n",
       " 'conditions': [['785.52',\n",
       "   'R65.21',\n",
       "   '287.5',\n",
       "   'D69.6',\n",
       "   '205.10',\n",
       "   'C92.10',\n",
       "   '567.9',\n",
       "   'K65.0']],\n",
       " 'procedures': [['notes/Progress Notes/Physical Exam/Physical Exam/Neurologic/GCS/Score/scored',\n",
       "   'notes/Progress Notes/Physical Exam/Physical Exam Obtain Options/Performed - Structured',\n",
       "   'notes/Progress Notes/Physical Exam/Physical Exam/Constitutional/Vital Sign and Physiological Data/HR/HR Current',\n",
       "   'notes/Progress Notes/Physical Exam/Physical Exam/Constitutional/Vital Sign and Physiological Data/HR/HR Lowest',\n",
       "   'notes/Progress Notes/Physical Exam/Physical Exam/Constitutional/Vital Sign and Physiological Data/HR/HR Highest',\n",
       "   'notes/Progress Notes/Physical Exam/Physical Exam/Constitutional/Vital Sign and Physiological Data/BP (systolic)/BP (systolic) Current',\n",
       "   'notes/Progress Notes/Physical Exam/Physical Exam/Constitutional/Vital Sign and Physiological Data/BP (systolic)/BP (systolic) Lowest',\n",
       "   'notes/Progress Notes/Physical Exam/Physical Exam/Constitutional/Vital Sign and Physiological Data/BP (systolic)/BP (systolic) Highest',\n",
       "   'notes/Progress Notes/Physical Exam/Physical Exam/Constitutional/Vital Sign and Physiological Data/BP (diastolic)/BP (diastolic) Current',\n",
       "   'notes/Progress Notes/Physical Exam/Physical Exam/Constitutional/Vital Sign and Physiological Data/BP (diastolic)/BP (diastolic) Lowest',\n",
       "   'notes/Progress Notes/Physical Exam/Physical Exam/Constitutional/Vital Sign and Physiological Data/BP (diastolic)/BP (diastolic) Highest',\n",
       "   'notes/Progress Notes/Physical Exam/Physical Exam/Constitutional/Vital Sign and Physiological Data/O2 Sat%/O2 Sat% Current',\n",
       "   'notes/Progress Notes/Physical Exam/Physical Exam/Constitutional/Vital Sign and Physiological Data/O2 Sat%/O2 Sat% Lowest',\n",
       "   'notes/Progress Notes/Physical Exam/Physical Exam/Constitutional/Vital Sign and Physiological Data/O2 Sat%/O2 Sat% Highest',\n",
       "   'notes/Progress Notes/Physical Exam/Physical Exam/Constitutional/Weight and I&O/Weight (kg)/Current',\n",
       "   'notes/Progress Notes/Physical Exam/Physical Exam/Constitutional/Weight and I&O/I&&O (ml)/Intake Total',\n",
       "   'notes/Progress Notes/Physical Exam/Physical Exam/Constitutional/Weight and I&O/I&&O (ml)/Output Total',\n",
       "   'notes/Progress Notes/Physical Exam/Physical Exam/Constitutional/Weight and I&O/I&&O (ml)/Dialysis Net',\n",
       "   'notes/Progress Notes/Physical Exam/Physical Exam/Constitutional/Weight and I&O/I&&O (ml)/Total Net',\n",
       "   'notes/Progress Notes/Physical Exam/Physical Exam/Neurologic/GCS/Motor Score/6',\n",
       "   'notes/Progress Notes/Physical Exam/Physical Exam/Neurologic/GCS/Verbal Score/5',\n",
       "   'notes/Progress Notes/Physical Exam/Physical Exam/Neurologic/GCS/Eyes Score/3']],\n",
       " 'drugs': [['MORPHINE INJ',\n",
       "   '2 ML VIAL : ONDANSETRON HCL 4 MG/2ML IJ SOLN',\n",
       "   '100 ML  -  METRONIDAZOLE IN NACL 5-0.79 MG/ML-% IV SOLN',\n",
       "   'CIPROFLOXACIN IN D5W 400 MG/200ML IV SOLN',\n",
       "   '1 ML  -  HYDROMORPHONE HCL 1 MG/ML IJ SOLN',\n",
       "   'MEPERIDINE RANGE INJ',\n",
       "   '1 ML  -  DIPHENHYDRAMINE HCL 50 MG/ML IJ SOLN',\n",
       "   '2 ML  -  FENTANYL CITRATE 0.05 MG/ML IJ SOLN',\n",
       "   '1000 ML  -  KCL IN DEXTROSE-NACL 20-5-0.45 MEQ/L-%-% IV SOLN',\n",
       "   \"NOREPINEPHRINE 4 MG/250 ML NS INFUSION (STD CON'C) (REPACKAGE)\",\n",
       "   'PANTOPRAZOLE SODIUM 40 MG IV SOLR',\n",
       "   'PIPERACILLIN SOD-TAZOBACTAM SO 3-0.375 G IV SOLR',\n",
       "   'POTASSIUM CHLORIDE CRYS ER 20 MEQ PO TBCR',\n",
       "   '100 ML  -  POTASSIUM CHLORIDE 20 MEQ/100ML IV SOLN',\n",
       "   'POTASSIUM CHLORIDE 20 MEQ PO PACK',\n",
       "   '50 ML FLEX CONT : MAGNESIUM SULFATE 4% IJ SOLN',\n",
       "   '100 ML  -  MAGNESIUM SULFATE IN D5W 10-5 MG/ML-% IV SOLN',\n",
       "   'K PHOS MONO-SOD PHOS DI & MONO 155-852-130 MG PO TABS',\n",
       "   '10 ML  -  CALCIUM GLUCONATE 10 % IV SOLN',\n",
       "   '50 ML  -  ALBUMIN HUMAN 25 % IV SOLN',\n",
       "   'ENOXAPARIN SODIUM 40 MG/0.4ML SC SOLN',\n",
       "   '10 ML VIAL : CALCIUM CHLORIDE 10 % IV SOLN',\n",
       "   '4 ML  -  FUROSEMIDE 10 MG/ML IJ SOLN',\n",
       "   '100 ML FLEX CONT : SODIUM CHLORIDE 0.9 % IV SOLN',\n",
       "   'HYDROCODONE-ACETAMINOPHEN 5-325 MG PO TABS']],\n",
       " 'label': 2}"
      ]
     },
     "execution_count": 3,
     "metadata": {},
     "output_type": "execute_result"
    }
   ],
   "source": [
    "los_dataset.samples[0]"
   ]
  },
  {
   "cell_type": "code",
   "execution_count": 13,
   "id": "306b2017",
   "metadata": {},
   "outputs": [],
   "source": [
    "from pyhealth.datasets import split_by_patient, get_dataloader\n",
    "\n",
    "train_dataset, val_dataset, test_dataset = split_by_patient(\n",
    "    los_dataset, [0.8, 0.1, 0.1]\n",
    ")\n",
    "train_dataloader = get_dataloader(train_dataset, batch_size=256, shuffle=True)\n",
    "val_dataloader = get_dataloader(val_dataset, batch_size=256, shuffle=False)\n",
    "test_dataloader = get_dataloader(test_dataset, batch_size=256, shuffle=False)"
   ]
  },
  {
   "cell_type": "markdown",
   "id": "dacc53fb",
   "metadata": {},
   "source": [
    "## Step 3: build the RETAIN model from pyhealth.models"
   ]
  },
  {
   "cell_type": "code",
   "execution_count": 6,
   "id": "c583a95a",
   "metadata": {},
   "outputs": [],
   "source": [
    "from pyhealth.models import RETAIN\n",
    "\n",
    "# STEP 3: define model\n",
    "model = RETAIN(\n",
    "    dataset=los_dataset,\n",
    "    feature_keys=[\"conditions\", \"procedures\", \"drugs\"],\n",
    "    label_key=\"label\",\n",
    "    mode=\"multiclass\",\n",
    "    dropout = 0.8,\n",
    "    embedding_dim = 256,\n",
    ")"
   ]
  },
  {
   "cell_type": "markdown",
   "id": "8e5c0f8e",
   "metadata": {},
   "source": [
    "## Step 4: use pyhealth.trainer.Trainer to train the RETAIN model"
   ]
  },
  {
   "cell_type": "code",
   "execution_count": 14,
   "id": "1867bb73",
   "metadata": {},
   "outputs": [
    {
     "name": "stdout",
     "output_type": "stream",
     "text": [
      "RETAIN(\n",
      "  (embeddings): ModuleDict(\n",
      "    (conditions): Embedding(1672, 256, padding_idx=0)\n",
      "    (procedures): Embedding(463, 256, padding_idx=0)\n",
      "    (drugs): Embedding(1413, 256, padding_idx=0)\n",
      "  )\n",
      "  (linear_layers): ModuleDict()\n",
      "  (retain): ModuleDict(\n",
      "    (conditions): RETAINLayer(\n",
      "      (dropout_layer): Dropout(p=0.8, inplace=False)\n",
      "      (alpha_gru): GRU(256, 256, batch_first=True)\n",
      "      (beta_gru): GRU(256, 256, batch_first=True)\n",
      "      (alpha_li): Linear(in_features=256, out_features=1, bias=True)\n",
      "      (beta_li): Linear(in_features=256, out_features=256, bias=True)\n",
      "    )\n",
      "    (procedures): RETAINLayer(\n",
      "      (dropout_layer): Dropout(p=0.8, inplace=False)\n",
      "      (alpha_gru): GRU(256, 256, batch_first=True)\n",
      "      (beta_gru): GRU(256, 256, batch_first=True)\n",
      "      (alpha_li): Linear(in_features=256, out_features=1, bias=True)\n",
      "      (beta_li): Linear(in_features=256, out_features=256, bias=True)\n",
      "    )\n",
      "    (drugs): RETAINLayer(\n",
      "      (dropout_layer): Dropout(p=0.8, inplace=False)\n",
      "      (alpha_gru): GRU(256, 256, batch_first=True)\n",
      "      (beta_gru): GRU(256, 256, batch_first=True)\n",
      "      (alpha_li): Linear(in_features=256, out_features=1, bias=True)\n",
      "      (beta_li): Linear(in_features=256, out_features=256, bias=True)\n",
      "    )\n",
      "  )\n",
      "  (fc): Linear(in_features=768, out_features=10, bias=True)\n",
      ")\n",
      "Metrics: ['accuracy', 'cohen_kappa']\n",
      "Device: cuda\n",
      "\n",
      "Training:\n",
      "Batch size: 256\n",
      "Optimizer: <class 'torch.optim.adam.Adam'>\n",
      "Optimizer params: {'lr': 0.001}\n",
      "Weight decay: 0.0\n",
      "Max grad norm: None\n",
      "Val dataloader: <torch.utils.data.dataloader.DataLoader object at 0x7fdaf3db9b20>\n",
      "Monitor: cohen_kappa\n",
      "Monitor criterion: max\n",
      "Epochs: 3\n",
      "\n"
     ]
    },
    {
     "data": {
      "application/vnd.jupyter.widget-view+json": {
       "model_id": "aa8f097a83504bbc84f855c84df2b333",
       "version_major": 2,
       "version_minor": 0
      },
      "text/plain": [
       "Epoch 0 / 3:   0%|          | 0/390 [00:00<?, ?it/s]"
      ]
     },
     "metadata": {},
     "output_type": "display_data"
    },
    {
     "name": "stdout",
     "output_type": "stream",
     "text": [
      "--- Train epoch-0, step-390 ---\n",
      "loss: 1.6861\n"
     ]
    },
    {
     "name": "stderr",
     "output_type": "stream",
     "text": [
      "Evaluation: 100%|███████████████████████████████| 49/49 [00:01<00:00, 25.14it/s]"
     ]
    },
    {
     "name": "stdout",
     "output_type": "stream",
     "text": [
      "--- Eval epoch-0, step-390 ---\n",
      "accuracy: 0.3642\n",
      "cohen_kappa: 0.1460\n",
      "loss: 1.6052\n",
      "New best cohen_kappa score (0.1460) at epoch-0, step-390\n",
      "\n"
     ]
    },
    {
     "name": "stderr",
     "output_type": "stream",
     "text": [
      "\n"
     ]
    },
    {
     "data": {
      "application/vnd.jupyter.widget-view+json": {
       "model_id": "53965a8459f54f769997269f57409a15",
       "version_major": 2,
       "version_minor": 0
      },
      "text/plain": [
       "Epoch 1 / 3:   0%|          | 0/390 [00:00<?, ?it/s]"
      ]
     },
     "metadata": {},
     "output_type": "display_data"
    },
    {
     "name": "stdout",
     "output_type": "stream",
     "text": [
      "--- Train epoch-1, step-780 ---\n",
      "loss: 1.6721\n"
     ]
    },
    {
     "name": "stderr",
     "output_type": "stream",
     "text": [
      "Evaluation: 100%|███████████████████████████████| 49/49 [00:01<00:00, 24.68it/s]"
     ]
    },
    {
     "name": "stdout",
     "output_type": "stream",
     "text": [
      "--- Eval epoch-1, step-780 ---\n",
      "accuracy: 0.3628\n",
      "cohen_kappa: 0.1586\n",
      "loss: 1.6047\n",
      "New best cohen_kappa score (0.1586) at epoch-1, step-780\n"
     ]
    },
    {
     "name": "stderr",
     "output_type": "stream",
     "text": [
      "\n"
     ]
    },
    {
     "name": "stdout",
     "output_type": "stream",
     "text": [
      "\n"
     ]
    },
    {
     "data": {
      "application/vnd.jupyter.widget-view+json": {
       "model_id": "8345a9f481d64686889e87420897cc75",
       "version_major": 2,
       "version_minor": 0
      },
      "text/plain": [
       "Epoch 2 / 3:   0%|          | 0/390 [00:00<?, ?it/s]"
      ]
     },
     "metadata": {},
     "output_type": "display_data"
    },
    {
     "name": "stdout",
     "output_type": "stream",
     "text": [
      "--- Train epoch-2, step-1170 ---\n",
      "loss: 1.6688\n"
     ]
    },
    {
     "name": "stderr",
     "output_type": "stream",
     "text": [
      "Evaluation: 100%|███████████████████████████████| 49/49 [00:02<00:00, 24.49it/s]"
     ]
    },
    {
     "name": "stdout",
     "output_type": "stream",
     "text": [
      "--- Eval epoch-2, step-1170 ---\n",
      "accuracy: 0.3672\n",
      "cohen_kappa: 0.1569\n",
      "loss: 1.6010\n",
      "Loaded best model\n"
     ]
    },
    {
     "name": "stderr",
     "output_type": "stream",
     "text": [
      "\n"
     ]
    }
   ],
   "source": [
    "from pyhealth.trainer import Trainer\n",
    "\n",
    "# STEP 4: define trainer\n",
    "trainer = Trainer(model=model, metrics=[\"accuracy\", \"cohen_kappa\"])\n",
    "\n",
    "trainer.train(\n",
    "    train_dataloader=train_dataloader,\n",
    "    val_dataloader=val_dataloader,\n",
    "    epochs=3,\n",
    "    monitor=\"cohen_kappa\",\n",
    ") # model is training ..."
   ]
  },
  {
   "cell_type": "markdown",
   "id": "2ae83e20",
   "metadata": {},
   "source": [
    "## Step 5: model evaluation with two methods"
   ]
  },
  {
   "cell_type": "code",
   "execution_count": 15,
   "id": "f00b01c5",
   "metadata": {},
   "outputs": [
    {
     "name": "stderr",
     "output_type": "stream",
     "text": [
      "Evaluation: 100%|███████████████████████████████| 49/49 [00:02<00:00, 24.32it/s]\n"
     ]
    },
    {
     "name": "stdout",
     "output_type": "stream",
     "text": [
      "{'accuracy': 0.35814177784922036, 'cohen_kappa': 0.16105721580856514, 'loss': 1.630508296343745}\n"
     ]
    },
    {
     "name": "stderr",
     "output_type": "stream",
     "text": [
      "Evaluation: 100%|███████████████████████████████| 49/49 [00:01<00:00, 25.25it/s]\n"
     ]
    },
    {
     "data": {
      "text/plain": [
       "{'accuracy': 0.35814177784922036, 'cohen_kappa': 0.16105721580856514}"
      ]
     },
     "execution_count": 15,
     "metadata": {},
     "output_type": "execute_result"
    }
   ],
   "source": [
    "# evaluation method 1\n",
    "result = trainer.evaluate(test_dataloader)\n",
    "print (result)\n",
    "\n",
    "# evaluation method 2\n",
    "from pyhealth.metrics.multiclass import multiclass_metrics_fn\n",
    "\n",
    "y_true, y_prob, loss = trainer.inference(test_dataloader)\n",
    "multiclass_metrics_fn(\n",
    "    y_true,\n",
    "    y_prob,\n",
    "    metrics=[\"accuracy\", \"cohen_kappa\"]\n",
    ")"
   ]
  },
  {
   "cell_type": "code",
   "execution_count": null,
   "id": "2c46b928",
   "metadata": {},
   "outputs": [],
   "source": []
  }
 ],
 "metadata": {
  "kernelspec": {
   "display_name": "Python 3",
   "language": "python",
   "name": "python3"
  },
  "language_info": {
   "codemirror_mode": {
    "name": "ipython",
    "version": 3
   },
   "file_extension": ".py",
   "mimetype": "text/x-python",
   "name": "python",
   "nbconvert_exporter": "python",
   "pygments_lexer": "ipython3",
   "version": "3.9.18"
  }
 },
 "nbformat": 4,
 "nbformat_minor": 5
}
