{
 "cells": [
  {
   "cell_type": "markdown",
   "id": "775dff6b",
   "metadata": {},
   "source": [
    "[PyHealth](https://pyhealth.readthedocs.io/en/latest/) is a Python library designed for healthcare data analysis, providing a\n",
    "range of tools and functionalities that simplify the process of building, training, and\n",
    "evaluating healthcare models.\n",
    "\n",
    "- Here, we will use the PyHealth package to handle <u>readmission prediction</u> task on [MIMIC-IV](https://physionet.org/content/mimiciv/0.4/) datasets. The package provides a whole suite of API\n",
    "modules, covering MIMIC-IV data processing, DNN model initialization, training,\n",
    "and evaluation. \n",
    "\n",
    "- The readmission task is defined by <u>using the procedure, medication, diagnosis codes from the current visit to predict\n",
    "whether the patient will be readmitted into ICU within 7 days</u>.\n",
    "\n",
    "Let us start step by step."
   ]
  },
  {
   "cell_type": "markdown",
   "id": "a2e87ac7",
   "metadata": {},
   "source": [
    "## STEP1: dataset processing\n",
    "\n",
    "The first step is to preprocess the MIMIC-IV data. The MIMIC-IV and other EHR\n",
    "databases all have heterogeneous and complicated file structures. Each type of clinical\n",
    "events will maintain a CSV table while these tables are connected by the unique patient\n",
    "visit ID. \n",
    "\n",
    "Before feeding the dataset into deep learning models, researchers usually join\n",
    "tables together and filter invalid records, etc. Here, we leverage\n",
    "the diagnosis, procedure, and medication tables as feature entries for the readmission\n",
    "prediction tasks. Lucikly, PyHealth provides the [pyhealth.datasets.MIMIC4Dataset](https://pyhealth.readthedocs.io/en/latest/api/datasets/pyhealth.datasets.MIMIC4Dataset.html) API to handle the data processing step.\n",
    "\n",
    "Calling the MIMIC4Dataset API requires the root of MIMIC-IV database and the\n",
    "data tables that we want to use for features (diagnoses, procedures, and prescriptions)."
   ]
  },
  {
   "cell_type": "code",
   "execution_count": 2,
   "id": "7b42536d",
   "metadata": {},
   "outputs": [
    {
     "ename": "FileNotFoundError",
     "evalue": "[Errno 2] No such file or directory: '/srv/local/data/physionet.org/files/mimiciv/2.0/hosp/patients.csv'",
     "output_type": "error",
     "traceback": [
      "\u001b[0;31m---------------------------------------------------------------------------\u001b[0m",
      "\u001b[0;31mFileNotFoundError\u001b[0m                         Traceback (most recent call last)",
      "\u001b[0;32m<ipython-input-2-0af002fec4a8>\u001b[0m in \u001b[0;36m<module>\u001b[0;34m\u001b[0m\n\u001b[1;32m      1\u001b[0m \u001b[0;32mfrom\u001b[0m \u001b[0mpyhealth\u001b[0m\u001b[0;34m.\u001b[0m\u001b[0mdatasets\u001b[0m \u001b[0;32mimport\u001b[0m \u001b[0mMIMIC4Dataset\u001b[0m\u001b[0;34m\u001b[0m\u001b[0;34m\u001b[0m\u001b[0m\n\u001b[1;32m      2\u001b[0m \u001b[0;34m\u001b[0m\u001b[0m\n\u001b[0;32m----> 3\u001b[0;31m mimic4_ds = MIMIC4Dataset(\n\u001b[0m\u001b[1;32m      4\u001b[0m     \u001b[0mroot\u001b[0m\u001b[0;34m=\u001b[0m\u001b[0;34m\"/srv/local/data/physionet.org/files/mimiciv/2.0/hosp\"\u001b[0m\u001b[0;34m,\u001b[0m\u001b[0;34m\u001b[0m\u001b[0;34m\u001b[0m\u001b[0m\n\u001b[1;32m      5\u001b[0m     \u001b[0mtables\u001b[0m\u001b[0;34m=\u001b[0m\u001b[0;34m[\u001b[0m\u001b[0;34m\"diagnoses_icd\"\u001b[0m\u001b[0;34m,\u001b[0m \u001b[0;34m\"procedures_icd\"\u001b[0m\u001b[0;34m,\u001b[0m \u001b[0;34m\"prescriptions\"\u001b[0m\u001b[0;34m]\u001b[0m\u001b[0;34m,\u001b[0m\u001b[0;34m\u001b[0m\u001b[0;34m\u001b[0m\u001b[0m\n",
      "\u001b[0;32m~/miniconda3/lib/python3.8/site-packages/pyhealth/datasets/base_dataset.py\u001b[0m in \u001b[0;36m__init__\u001b[0;34m(self, root, tables, dataset_name, code_mapping, dev, refresh_cache)\u001b[0m\n\u001b[1;32m    113\u001b[0m             \u001b[0mlogger\u001b[0m\u001b[0;34m.\u001b[0m\u001b[0mdebug\u001b[0m\u001b[0;34m(\u001b[0m\u001b[0;34mf\"Processing {self.dataset_name} base dataset...\"\u001b[0m\u001b[0;34m)\u001b[0m\u001b[0;34m\u001b[0m\u001b[0;34m\u001b[0m\u001b[0m\n\u001b[1;32m    114\u001b[0m             \u001b[0;31m# parse tables\u001b[0m\u001b[0;34m\u001b[0m\u001b[0;34m\u001b[0m\u001b[0;34m\u001b[0m\u001b[0m\n\u001b[0;32m--> 115\u001b[0;31m             \u001b[0mpatients\u001b[0m \u001b[0;34m=\u001b[0m \u001b[0mself\u001b[0m\u001b[0;34m.\u001b[0m\u001b[0mparse_tables\u001b[0m\u001b[0;34m(\u001b[0m\u001b[0;34m)\u001b[0m\u001b[0;34m\u001b[0m\u001b[0;34m\u001b[0m\u001b[0m\n\u001b[0m\u001b[1;32m    116\u001b[0m             \u001b[0;31m# convert codes\u001b[0m\u001b[0;34m\u001b[0m\u001b[0;34m\u001b[0m\u001b[0;34m\u001b[0m\u001b[0m\n\u001b[1;32m    117\u001b[0m             \u001b[0mpatients\u001b[0m \u001b[0;34m=\u001b[0m \u001b[0mself\u001b[0m\u001b[0;34m.\u001b[0m\u001b[0m_convert_code_in_patient_dict\u001b[0m\u001b[0;34m(\u001b[0m\u001b[0mpatients\u001b[0m\u001b[0;34m)\u001b[0m\u001b[0;34m\u001b[0m\u001b[0;34m\u001b[0m\u001b[0m\n",
      "\u001b[0;32m~/miniconda3/lib/python3.8/site-packages/pyhealth/datasets/base_dataset.py\u001b[0m in \u001b[0;36mparse_tables\u001b[0;34m(self)\u001b[0m\n\u001b[1;32m    161\u001b[0m         \u001b[0mpatients\u001b[0m\u001b[0;34m:\u001b[0m \u001b[0mDict\u001b[0m\u001b[0;34m[\u001b[0m\u001b[0mstr\u001b[0m\u001b[0;34m,\u001b[0m \u001b[0mPatient\u001b[0m\u001b[0;34m]\u001b[0m \u001b[0;34m=\u001b[0m \u001b[0mdict\u001b[0m\u001b[0;34m(\u001b[0m\u001b[0;34m)\u001b[0m\u001b[0;34m\u001b[0m\u001b[0;34m\u001b[0m\u001b[0m\n\u001b[1;32m    162\u001b[0m         \u001b[0;31m# process basic information (e.g., patients and visits)\u001b[0m\u001b[0;34m\u001b[0m\u001b[0;34m\u001b[0m\u001b[0;34m\u001b[0m\u001b[0m\n\u001b[0;32m--> 163\u001b[0;31m         \u001b[0mpatients\u001b[0m \u001b[0;34m=\u001b[0m \u001b[0mself\u001b[0m\u001b[0;34m.\u001b[0m\u001b[0mparse_basic_info\u001b[0m\u001b[0;34m(\u001b[0m\u001b[0mpatients\u001b[0m\u001b[0;34m)\u001b[0m\u001b[0;34m\u001b[0m\u001b[0;34m\u001b[0m\u001b[0m\n\u001b[0m\u001b[1;32m    164\u001b[0m         \u001b[0;31m# process clinical tables\u001b[0m\u001b[0;34m\u001b[0m\u001b[0;34m\u001b[0m\u001b[0;34m\u001b[0m\u001b[0m\n\u001b[1;32m    165\u001b[0m         \u001b[0;32mfor\u001b[0m \u001b[0mtable\u001b[0m \u001b[0;32min\u001b[0m \u001b[0mself\u001b[0m\u001b[0;34m.\u001b[0m\u001b[0mtables\u001b[0m\u001b[0;34m:\u001b[0m\u001b[0;34m\u001b[0m\u001b[0;34m\u001b[0m\u001b[0m\n",
      "\u001b[0;32m~/miniconda3/lib/python3.8/site-packages/pyhealth/datasets/mimic4.py\u001b[0m in \u001b[0;36mparse_basic_info\u001b[0;34m(self, patients)\u001b[0m\n\u001b[1;32m     89\u001b[0m         \"\"\"\n\u001b[1;32m     90\u001b[0m         \u001b[0;31m# read patients table\u001b[0m\u001b[0;34m\u001b[0m\u001b[0;34m\u001b[0m\u001b[0;34m\u001b[0m\u001b[0m\n\u001b[0;32m---> 91\u001b[0;31m         patients_df = pd.read_csv(\n\u001b[0m\u001b[1;32m     92\u001b[0m             \u001b[0mos\u001b[0m\u001b[0;34m.\u001b[0m\u001b[0mpath\u001b[0m\u001b[0;34m.\u001b[0m\u001b[0mjoin\u001b[0m\u001b[0;34m(\u001b[0m\u001b[0mself\u001b[0m\u001b[0;34m.\u001b[0m\u001b[0mroot\u001b[0m\u001b[0;34m,\u001b[0m \u001b[0;34m\"patients.csv\"\u001b[0m\u001b[0;34m)\u001b[0m\u001b[0;34m,\u001b[0m\u001b[0;34m\u001b[0m\u001b[0;34m\u001b[0m\u001b[0m\n\u001b[1;32m     93\u001b[0m             \u001b[0mdtype\u001b[0m\u001b[0;34m=\u001b[0m\u001b[0;34m{\u001b[0m\u001b[0;34m\"subject_id\"\u001b[0m\u001b[0;34m:\u001b[0m \u001b[0mstr\u001b[0m\u001b[0;34m}\u001b[0m\u001b[0;34m,\u001b[0m\u001b[0;34m\u001b[0m\u001b[0;34m\u001b[0m\u001b[0m\n",
      "\u001b[0;32m~/miniconda3/lib/python3.8/site-packages/pandas/io/parsers/readers.py\u001b[0m in \u001b[0;36mread_csv\u001b[0;34m(filepath_or_buffer, sep, delimiter, header, names, index_col, usecols, dtype, engine, converters, true_values, false_values, skipinitialspace, skiprows, skipfooter, nrows, na_values, keep_default_na, na_filter, verbose, skip_blank_lines, parse_dates, infer_datetime_format, keep_date_col, date_parser, date_format, dayfirst, cache_dates, iterator, chunksize, compression, thousands, decimal, lineterminator, quotechar, quoting, doublequote, escapechar, comment, encoding, encoding_errors, dialect, on_bad_lines, delim_whitespace, low_memory, memory_map, float_precision, storage_options, dtype_backend)\u001b[0m\n\u001b[1;32m    910\u001b[0m     \u001b[0mkwds\u001b[0m\u001b[0;34m.\u001b[0m\u001b[0mupdate\u001b[0m\u001b[0;34m(\u001b[0m\u001b[0mkwds_defaults\u001b[0m\u001b[0;34m)\u001b[0m\u001b[0;34m\u001b[0m\u001b[0;34m\u001b[0m\u001b[0m\n\u001b[1;32m    911\u001b[0m \u001b[0;34m\u001b[0m\u001b[0m\n\u001b[0;32m--> 912\u001b[0;31m     \u001b[0;32mreturn\u001b[0m \u001b[0m_read\u001b[0m\u001b[0;34m(\u001b[0m\u001b[0mfilepath_or_buffer\u001b[0m\u001b[0;34m,\u001b[0m \u001b[0mkwds\u001b[0m\u001b[0;34m)\u001b[0m\u001b[0;34m\u001b[0m\u001b[0;34m\u001b[0m\u001b[0m\n\u001b[0m\u001b[1;32m    913\u001b[0m \u001b[0;34m\u001b[0m\u001b[0m\n\u001b[1;32m    914\u001b[0m \u001b[0;34m\u001b[0m\u001b[0m\n",
      "\u001b[0;32m~/miniconda3/lib/python3.8/site-packages/pandas/io/parsers/readers.py\u001b[0m in \u001b[0;36m_read\u001b[0;34m(filepath_or_buffer, kwds)\u001b[0m\n\u001b[1;32m    575\u001b[0m \u001b[0;34m\u001b[0m\u001b[0m\n\u001b[1;32m    576\u001b[0m     \u001b[0;31m# Create the parser.\u001b[0m\u001b[0;34m\u001b[0m\u001b[0;34m\u001b[0m\u001b[0;34m\u001b[0m\u001b[0m\n\u001b[0;32m--> 577\u001b[0;31m     \u001b[0mparser\u001b[0m \u001b[0;34m=\u001b[0m \u001b[0mTextFileReader\u001b[0m\u001b[0;34m(\u001b[0m\u001b[0mfilepath_or_buffer\u001b[0m\u001b[0;34m,\u001b[0m \u001b[0;34m**\u001b[0m\u001b[0mkwds\u001b[0m\u001b[0;34m)\u001b[0m\u001b[0;34m\u001b[0m\u001b[0;34m\u001b[0m\u001b[0m\n\u001b[0m\u001b[1;32m    578\u001b[0m \u001b[0;34m\u001b[0m\u001b[0m\n\u001b[1;32m    579\u001b[0m     \u001b[0;32mif\u001b[0m \u001b[0mchunksize\u001b[0m \u001b[0;32mor\u001b[0m \u001b[0miterator\u001b[0m\u001b[0;34m:\u001b[0m\u001b[0;34m\u001b[0m\u001b[0;34m\u001b[0m\u001b[0m\n",
      "\u001b[0;32m~/miniconda3/lib/python3.8/site-packages/pandas/io/parsers/readers.py\u001b[0m in \u001b[0;36m__init__\u001b[0;34m(self, f, engine, **kwds)\u001b[0m\n\u001b[1;32m   1405\u001b[0m \u001b[0;34m\u001b[0m\u001b[0m\n\u001b[1;32m   1406\u001b[0m         \u001b[0mself\u001b[0m\u001b[0;34m.\u001b[0m\u001b[0mhandles\u001b[0m\u001b[0;34m:\u001b[0m \u001b[0mIOHandles\u001b[0m \u001b[0;34m|\u001b[0m \u001b[0;32mNone\u001b[0m \u001b[0;34m=\u001b[0m \u001b[0;32mNone\u001b[0m\u001b[0;34m\u001b[0m\u001b[0;34m\u001b[0m\u001b[0m\n\u001b[0;32m-> 1407\u001b[0;31m         \u001b[0mself\u001b[0m\u001b[0;34m.\u001b[0m\u001b[0m_engine\u001b[0m \u001b[0;34m=\u001b[0m \u001b[0mself\u001b[0m\u001b[0;34m.\u001b[0m\u001b[0m_make_engine\u001b[0m\u001b[0;34m(\u001b[0m\u001b[0mf\u001b[0m\u001b[0;34m,\u001b[0m \u001b[0mself\u001b[0m\u001b[0;34m.\u001b[0m\u001b[0mengine\u001b[0m\u001b[0;34m)\u001b[0m\u001b[0;34m\u001b[0m\u001b[0;34m\u001b[0m\u001b[0m\n\u001b[0m\u001b[1;32m   1408\u001b[0m \u001b[0;34m\u001b[0m\u001b[0m\n\u001b[1;32m   1409\u001b[0m     \u001b[0;32mdef\u001b[0m \u001b[0mclose\u001b[0m\u001b[0;34m(\u001b[0m\u001b[0mself\u001b[0m\u001b[0;34m)\u001b[0m \u001b[0;34m->\u001b[0m \u001b[0;32mNone\u001b[0m\u001b[0;34m:\u001b[0m\u001b[0;34m\u001b[0m\u001b[0;34m\u001b[0m\u001b[0m\n",
      "\u001b[0;32m~/miniconda3/lib/python3.8/site-packages/pandas/io/parsers/readers.py\u001b[0m in \u001b[0;36m_make_engine\u001b[0;34m(self, f, engine)\u001b[0m\n\u001b[1;32m   1659\u001b[0m                 \u001b[0;32mif\u001b[0m \u001b[0;34m\"b\"\u001b[0m \u001b[0;32mnot\u001b[0m \u001b[0;32min\u001b[0m \u001b[0mmode\u001b[0m\u001b[0;34m:\u001b[0m\u001b[0;34m\u001b[0m\u001b[0;34m\u001b[0m\u001b[0m\n\u001b[1;32m   1660\u001b[0m                     \u001b[0mmode\u001b[0m \u001b[0;34m+=\u001b[0m \u001b[0;34m\"b\"\u001b[0m\u001b[0;34m\u001b[0m\u001b[0;34m\u001b[0m\u001b[0m\n\u001b[0;32m-> 1661\u001b[0;31m             self.handles = get_handle(\n\u001b[0m\u001b[1;32m   1662\u001b[0m                 \u001b[0mf\u001b[0m\u001b[0;34m,\u001b[0m\u001b[0;34m\u001b[0m\u001b[0;34m\u001b[0m\u001b[0m\n\u001b[1;32m   1663\u001b[0m                 \u001b[0mmode\u001b[0m\u001b[0;34m,\u001b[0m\u001b[0;34m\u001b[0m\u001b[0;34m\u001b[0m\u001b[0m\n",
      "\u001b[0;32m~/miniconda3/lib/python3.8/site-packages/pandas/io/common.py\u001b[0m in \u001b[0;36mget_handle\u001b[0;34m(path_or_buf, mode, encoding, compression, memory_map, is_text, errors, storage_options)\u001b[0m\n\u001b[1;32m    857\u001b[0m         \u001b[0;32mif\u001b[0m \u001b[0mioargs\u001b[0m\u001b[0;34m.\u001b[0m\u001b[0mencoding\u001b[0m \u001b[0;32mand\u001b[0m \u001b[0;34m\"b\"\u001b[0m \u001b[0;32mnot\u001b[0m \u001b[0;32min\u001b[0m \u001b[0mioargs\u001b[0m\u001b[0;34m.\u001b[0m\u001b[0mmode\u001b[0m\u001b[0;34m:\u001b[0m\u001b[0;34m\u001b[0m\u001b[0;34m\u001b[0m\u001b[0m\n\u001b[1;32m    858\u001b[0m             \u001b[0;31m# Encoding\u001b[0m\u001b[0;34m\u001b[0m\u001b[0;34m\u001b[0m\u001b[0;34m\u001b[0m\u001b[0m\n\u001b[0;32m--> 859\u001b[0;31m             handle = open(\n\u001b[0m\u001b[1;32m    860\u001b[0m                 \u001b[0mhandle\u001b[0m\u001b[0;34m,\u001b[0m\u001b[0;34m\u001b[0m\u001b[0;34m\u001b[0m\u001b[0m\n\u001b[1;32m    861\u001b[0m                 \u001b[0mioargs\u001b[0m\u001b[0;34m.\u001b[0m\u001b[0mmode\u001b[0m\u001b[0;34m,\u001b[0m\u001b[0;34m\u001b[0m\u001b[0;34m\u001b[0m\u001b[0m\n",
      "\u001b[0;31mFileNotFoundError\u001b[0m: [Errno 2] No such file or directory: '/srv/local/data/physionet.org/files/mimiciv/2.0/hosp/patients.csv'"
     ]
    }
   ],
   "source": [
    "from pyhealth.datasets import MIMIC4Dataset\n",
    "\n",
    "mimic4_ds = MIMIC4Dataset(\n",
    "    root=\"/srv/local/data/physionet.org/files/mimiciv/2.0/hosp\",\n",
    "    tables=[\"diagnoses_icd\", \"procedures_icd\", \"prescriptions\"],\n",
    ")\n",
    "\n",
    "mimic4_ds.stat()"
   ]
  },
  {
   "cell_type": "code",
   "execution_count": 4,
   "id": "299d2c34",
   "metadata": {},
   "outputs": [
    {
     "ename": "NameError",
     "evalue": "name 'mimic4_ds' is not defined",
     "output_type": "error",
     "traceback": [
      "\u001b[0;31m---------------------------------------------------------------------------\u001b[0m",
      "\u001b[0;31mNameError\u001b[0m                                 Traceback (most recent call last)",
      "\u001b[0;32m<ipython-input-4-d735b565a3e9>\u001b[0m in \u001b[0;36m<module>\u001b[0;34m\u001b[0m\n\u001b[1;32m      1\u001b[0m \u001b[0;31m# query the patient level information\u001b[0m\u001b[0;34m\u001b[0m\u001b[0;34m\u001b[0m\u001b[0;34m\u001b[0m\u001b[0m\n\u001b[1;32m      2\u001b[0m \u001b[0;34m\u001b[0m\u001b[0m\n\u001b[0;32m----> 3\u001b[0;31m \u001b[0mpatients\u001b[0m \u001b[0;34m=\u001b[0m \u001b[0mmimic4_ds\u001b[0m\u001b[0;34m.\u001b[0m\u001b[0mpatients\u001b[0m\u001b[0;34m\u001b[0m\u001b[0;34m\u001b[0m\u001b[0m\n\u001b[0m\u001b[1;32m      4\u001b[0m \u001b[0mpatient_id\u001b[0m\u001b[0;34m,\u001b[0m \u001b[0mpatient_obj\u001b[0m \u001b[0;34m=\u001b[0m \u001b[0mlist\u001b[0m\u001b[0;34m(\u001b[0m\u001b[0mpatients\u001b[0m\u001b[0;34m.\u001b[0m\u001b[0mitems\u001b[0m\u001b[0;34m(\u001b[0m\u001b[0;34m)\u001b[0m\u001b[0;34m)\u001b[0m\u001b[0;34m[\u001b[0m\u001b[0;36m2\u001b[0m\u001b[0;34m]\u001b[0m\u001b[0;34m\u001b[0m\u001b[0;34m\u001b[0m\u001b[0m\n\u001b[1;32m      5\u001b[0m \u001b[0mpatient_id\u001b[0m\u001b[0;34m,\u001b[0m \u001b[0mpatient_obj\u001b[0m\u001b[0;34m\u001b[0m\u001b[0;34m\u001b[0m\u001b[0m\n",
      "\u001b[0;31mNameError\u001b[0m: name 'mimic4_ds' is not defined"
     ]
    }
   ],
   "source": [
    "# query the patient level information\n",
    "\n",
    "patients = mimic4_ds.patients\n",
    "patient_id, patient_obj = list(patients.items())[2]\n",
    "patient_id, patient_obj"
   ]
  },
  {
   "cell_type": "code",
   "execution_count": 3,
   "id": "c94a458a",
   "metadata": {},
   "outputs": [
    {
     "ename": "NameError",
     "evalue": "name 'patient_obj' is not defined",
     "output_type": "error",
     "traceback": [
      "\u001b[0;31m---------------------------------------------------------------------------\u001b[0m",
      "\u001b[0;31mNameError\u001b[0m                                 Traceback (most recent call last)",
      "\u001b[0;32m<ipython-input-3-4d703d7c6d26>\u001b[0m in \u001b[0;36m<module>\u001b[0;34m\u001b[0m\n\u001b[1;32m      1\u001b[0m \u001b[0;31m# query the visit level information\u001b[0m\u001b[0;34m\u001b[0m\u001b[0;34m\u001b[0m\u001b[0;34m\u001b[0m\u001b[0m\n\u001b[1;32m      2\u001b[0m \u001b[0;34m\u001b[0m\u001b[0m\n\u001b[0;32m----> 3\u001b[0;31m \u001b[0mvisits\u001b[0m \u001b[0;34m=\u001b[0m \u001b[0mpatient_obj\u001b[0m\u001b[0;34m.\u001b[0m\u001b[0mvisits\u001b[0m\u001b[0;34m\u001b[0m\u001b[0;34m\u001b[0m\u001b[0m\n\u001b[0m\u001b[1;32m      4\u001b[0m \u001b[0mvisit_id\u001b[0m\u001b[0;34m,\u001b[0m \u001b[0mvisit_obj\u001b[0m \u001b[0;34m=\u001b[0m \u001b[0mlist\u001b[0m\u001b[0;34m(\u001b[0m\u001b[0mvisits\u001b[0m\u001b[0;34m.\u001b[0m\u001b[0mitems\u001b[0m\u001b[0;34m(\u001b[0m\u001b[0;34m)\u001b[0m\u001b[0;34m)\u001b[0m\u001b[0;34m[\u001b[0m\u001b[0;36m0\u001b[0m\u001b[0;34m]\u001b[0m \u001b[0;31m# the 0-th visit\u001b[0m\u001b[0;34m\u001b[0m\u001b[0;34m\u001b[0m\u001b[0m\n\u001b[1;32m      5\u001b[0m \u001b[0mvisit_id\u001b[0m\u001b[0;34m,\u001b[0m \u001b[0mvisit_obj\u001b[0m\u001b[0;34m\u001b[0m\u001b[0;34m\u001b[0m\u001b[0m\n",
      "\u001b[0;31mNameError\u001b[0m: name 'patient_obj' is not defined"
     ]
    }
   ],
   "source": [
    "# query the visit level information\n",
    "\n",
    "visits = patient_obj.visits\n",
    "visit_id, visit_obj = list(visits.items())[0] # the 0-th visit\n",
    "visit_id, visit_obj"
   ]
  },
  {
   "cell_type": "code",
   "execution_count": 28,
   "id": "8804c48c",
   "metadata": {},
   "outputs": [
    {
     "data": {
      "text/plain": [
       "Event with ICD10CM code G3183 from table diagnoses_icd"
      ]
     },
     "execution_count": 28,
     "metadata": {},
     "output_type": "execute_result"
    }
   ],
   "source": [
    "# query the event level information\n",
    "\n",
    "diagnoses = visit_obj.get_event_list(\"diagnoses_icd\")\n",
    "diagnosis = diagnoses[0] # the 0-th diagnosis\n",
    "diagnosis"
   ]
  },
  {
   "cell_type": "code",
   "execution_count": 29,
   "id": "d1c3cc48",
   "metadata": {},
   "outputs": [
    {
     "data": {
      "text/plain": [
       "Event with NDC code 0 from table prescriptions"
      ]
     },
     "execution_count": 29,
     "metadata": {},
     "output_type": "execute_result"
    }
   ],
   "source": [
    "# query the event level information\n",
    "\n",
    "prescriptions = visit_obj.get_event_list(\"prescriptions\")\n",
    "prescription = prescriptions[0] # the 0-th prescription\n",
    "prescription"
   ]
  },
  {
   "cell_type": "markdown",
   "id": "b3fdee5a",
   "metadata": {},
   "source": [
    "## STEP2: Task definition\n",
    "\n",
    "To define the healthcare AI task, the [pyhealth.tasks](https://pyhealth.readthedocs.io/en/latest/api/tasks.html) module provides a different variety of example task functions. Each of them defines a unique healthcare\n",
    "AI task. \n",
    "\n",
    "- Following the readmission task example (below), all task functions input\n",
    "a pyhealth.data.Patient object and then output a list of samples containing the “X\"\n",
    "and “Y\" for supervised learning. If the task is defined as a patient-level prediction task,\n",
    "then the output is one sample; if it is a visit-level prediction task, then the output is a\n",
    "list of samples, one for each visit.\n",
    "Readmission prediction is a visit-level clinical predictive task. Given the above\n",
    "structured dataset, we need to extract the diagnosis, procedure, and prescription infor-\n",
    "mation as the features and compare the time gap between the current visit and next\n",
    "visit to decide whether the patient will be readmitted into hospital within 7 days. If\n",
    "the answer is Yes, then we set label to be 1; otherwise, the label is 0. It is a binary\n",
    "classification task.\n",
    "Luckily, \n",
    "\n",
    "PyHealth provides a default readmission prediction task with time window\n",
    "as an argument (In this task, the threshold is 7 days)."
   ]
  },
  {
   "cell_type": "code",
   "execution_count": 31,
   "id": "6ce6d7e9",
   "metadata": {},
   "outputs": [],
   "source": [
    "def readmission_prediction_mimic4_fn(patient, time_window=7):\n",
    "    \"\"\"Processes a single patient for the readmission prediction task.\n",
    "    ...\n",
    "    \"\"\"\n",
    "    samples = []\n",
    "\n",
    "    # we will drop the last visit since we cannot tell its label\n",
    "    for i in range(len(patient) - 1):\n",
    "        visit = patient[i]\n",
    "        next_visit = patient[i + 1]\n",
    "\n",
    "        # get time difference between current visit and next visit\n",
    "        time_diff = (next_visit.encounter_time - visit.encounter_time).days\n",
    "        readmission_label = 1 if time_diff < time_window else 0\n",
    "\n",
    "        conditions = visit.get_code_list(table=\"diagnoses_icd\")\n",
    "        procedures = visit.get_code_list(table=\"procedures_icd\")\n",
    "        drugs = visit.get_code_list(table=\"prescriptions\")\n",
    "        # exclude: visits without condition, procedure, or drug code\n",
    "        if len(conditions) * len(procedures) * len(drugs) == 0:\n",
    "            continue\n",
    "        samples.append(\n",
    "            {\n",
    "                \"visit_id\": visit.visit_id,\n",
    "                \"patient_id\": patient.patient_id,\n",
    "                \"conditions\": conditions,\n",
    "                \"procedures\": procedures,\n",
    "                \"drugs\": drugs,\n",
    "                \"label\": readmission_label,\n",
    "            }\n",
    "        )\n",
    "\n",
    "        # use patient or visit level information for cohort selection\n",
    "        # ...\n",
    "    return samples"
   ]
  },
  {
   "cell_type": "code",
   "execution_count": 32,
   "id": "3b90e690",
   "metadata": {},
   "outputs": [
    {
     "name": "stderr",
     "output_type": "stream",
     "text": [
      "Generating samples for <lambda>: 100%|█████████████████████████████████████████████████████████████| 190279/190279 [00:06<00:00, 30338.08it/s]\n"
     ]
    },
    {
     "name": "stdout",
     "output_type": "stream",
     "text": [
      "Statistics of sample dataset:\n",
      "\t- Dataset: MIMIC4Dataset\n",
      "\t- Task: <lambda>\n",
      "\t- Number of samples: 132301\n",
      "\t- Number of patients: 59273\n",
      "\t- Number of visits: 132301\n",
      "\t- Number of visits per patient: 2.2321\n",
      "\t- conditions:\n",
      "\t\t- Number of conditions per sample: 13.5967\n",
      "\t\t- Number of unique conditions: 18858\n",
      "\t\t- Distribution of conditions (Top-10): [('4019', 34015), ('2724', 25635), ('53081', 18716), ('E785', 15686), ('25000', 15530), ('41401', 14924), ('4280', 14814), ('I10', 14065), ('42731', 13960), ('Z87891', 13776)]\n",
      "\t- procedures:\n",
      "\t\t- Number of procedures per sample: 2.7078\n",
      "\t\t- Number of unique procedures: 10220\n",
      "\t\t- Distribution of procedures (Top-10): [('3893', 8320), ('3897', 6165), ('3995', 6035), ('02HV33Z', 5966), ('8856', 5171), ('0040', 4588), ('966', 4479), ('9925', 4310), ('4513', 3395), ('5491', 3313)]\n",
      "\t- drugs:\n",
      "\t\t- Number of drugs per sample: 29.6466\n",
      "\t\t- Number of unique drugs: 5458\n",
      "\t\t- Distribution of drugs (Top-10): [('0', 127393), ('63323026201', 79098), ('00904224461', 70124), ('00338004904', 53800), ('00904516561', 53187), ('00338011704', 44555), ('00409672924', 40443), ('00409490234', 39312), ('00406055262', 36542), ('51079000220', 34618)]\n",
      "\t- label:\n",
      "\t\t- Number of label per sample: 1.0000\n",
      "\t\t- Number of unique label: 2\n",
      "\t\t- Distribution of label (Top-10): [(0, 67860), (1, 64441)]\n"
     ]
    },
    {
     "data": {
      "text/plain": [
       "\"Statistics of sample dataset:\\n\\t- Dataset: MIMIC4Dataset\\n\\t- Task: <lambda>\\n\\t- Number of samples: 132301\\n\\t- Number of patients: 59273\\n\\t- Number of visits: 132301\\n\\t- Number of visits per patient: 2.2321\\n\\t- conditions:\\n\\t\\t- Number of conditions per sample: 13.5967\\n\\t\\t- Number of unique conditions: 18858\\n\\t\\t- Distribution of conditions (Top-10): [('4019', 34015), ('2724', 25635), ('53081', 18716), ('E785', 15686), ('25000', 15530), ('41401', 14924), ('4280', 14814), ('I10', 14065), ('42731', 13960), ('Z87891', 13776)]\\n\\t- procedures:\\n\\t\\t- Number of procedures per sample: 2.7078\\n\\t\\t- Number of unique procedures: 10220\\n\\t\\t- Distribution of procedures (Top-10): [('3893', 8320), ('3897', 6165), ('3995', 6035), ('02HV33Z', 5966), ('8856', 5171), ('0040', 4588), ('966', 4479), ('9925', 4310), ('4513', 3395), ('5491', 3313)]\\n\\t- drugs:\\n\\t\\t- Number of drugs per sample: 29.6466\\n\\t\\t- Number of unique drugs: 5458\\n\\t\\t- Distribution of drugs (Top-10): [('0', 127393), ('63323026201', 79098), ('00904224461', 70124), ('00338004904', 53800), ('00904516561', 53187), ('00338011704', 44555), ('00409672924', 40443), ('00409490234', 39312), ('00406055262', 36542), ('51079000220', 34618)]\\n\\t- label:\\n\\t\\t- Number of label per sample: 1.0000\\n\\t\\t- Number of unique label: 2\\n\\t\\t- Distribution of label (Top-10): [(0, 67860), (1, 64441)]\""
      ]
     },
     "execution_count": 32,
     "metadata": {},
     "output_type": "execute_result"
    }
   ],
   "source": [
    "# STEP 2: define the readmission prediction task\n",
    "readmission_dataset = mimic4_ds.set_task(\n",
    "    lambda x: readmission_prediction_mimic4_fn(x, time_window=7)\n",
    ")\n",
    "readmission_dataset.stat()"
   ]
  },
  {
   "cell_type": "code",
   "execution_count": 5,
   "id": "3f1a6b2d",
   "metadata": {},
   "outputs": [
    {
     "ename": "NameError",
     "evalue": "name 'readmission_dataset' is not defined",
     "output_type": "error",
     "traceback": [
      "\u001b[0;31m---------------------------------------------------------------------------\u001b[0m",
      "\u001b[0;31mNameError\u001b[0m                                 Traceback (most recent call last)",
      "\u001b[0;32m<ipython-input-5-1357567462f4>\u001b[0m in \u001b[0;36m<module>\u001b[0;34m\u001b[0m\n\u001b[1;32m      1\u001b[0m \u001b[0;31m# look at the first sample\u001b[0m\u001b[0;34m\u001b[0m\u001b[0;34m\u001b[0m\u001b[0;34m\u001b[0m\u001b[0m\n\u001b[1;32m      2\u001b[0m \u001b[0;34m\u001b[0m\u001b[0m\n\u001b[0;32m----> 3\u001b[0;31m \u001b[0mreadmission_dataset\u001b[0m\u001b[0;34m[\u001b[0m\u001b[0;36m0\u001b[0m\u001b[0;34m]\u001b[0m\u001b[0;34m\u001b[0m\u001b[0;34m\u001b[0m\u001b[0m\n\u001b[0m",
      "\u001b[0;31mNameError\u001b[0m: name 'readmission_dataset' is not defined"
     ]
    }
   ],
   "source": [
    "# look at the first sample\n",
    "\n",
    "readmission_dataset[0]"
   ]
  },
  {
   "cell_type": "code",
   "execution_count": 40,
   "id": "31f341ca",
   "metadata": {},
   "outputs": [],
   "source": [
    "from pyhealth.datasets import split_by_patient, get_dataloader\n",
    "\n",
    "# split the dataset into train/val/test\n",
    "train_dataset, val_dataset, test_dataset = split_by_patient(\n",
    "    readmission_dataset, [0.8, 0.1, 0.1]\n",
    ")\n",
    "train_dataloader = get_dataloader(train_dataset, batch_size=32, shuffle=True)\n",
    "val_dataloader = get_dataloader(val_dataset, batch_size=32, shuffle=False)\n",
    "test_dataloader = get_dataloader(test_dataset, batch_size=32, shuffle=False)"
   ]
  },
  {
   "cell_type": "markdown",
   "id": "20390d95",
   "metadata": {},
   "source": [
    "## STEP3: initialize ML models\n",
    "\n",
    "The [pyhealth.models](https://pyhealth.readthedocs.io/en/latest/api/models.html) module provides a large variety of ML models for users to\n",
    "choose from. These methods can be broadly categorized into: (i) general deep learning\n",
    "models and (ii) healthcare specific deep learning models. For healthcare specific DL\n",
    "models, we are constantly implementing new ones and add them into our package.\n",
    "\n",
    "In this section, we will use the simple three-layer multi-layer perceptron (MLP) in\n",
    "PyHealth, specifying the number of layers, the number of hidden neurons in each layer,\n",
    "and the activation functions. More advanced models and examples can be found in\n",
    "later sections or visit the [PyHealth website](https://pyhealth.readthedocs.io/en/latest/).\n",
    "\n",
    "In model initialization, we input the keys listed in the sample dictionary. To leverage\n",
    "three types of clinical event information, we use “conditions\", “procedures\", “drugs\"\n",
    "as keywords for features, and we input the “label\" as the readmission prediction label."
   ]
  },
  {
   "cell_type": "code",
   "execution_count": 41,
   "id": "0e5003b5",
   "metadata": {},
   "outputs": [],
   "source": [
    "from pyhealth.models import MLP\n",
    "\n",
    "# STEP 3: define model\n",
    "model = MLP(\n",
    "    dataset=readmission_dataset,\n",
    "    feature_keys=[\"conditions\", \"procedures\", \"drugs\"],\n",
    "    label_key=\"label\",\n",
    "    mode=\"binary\",\n",
    "    embedding_dim=128,\n",
    "    hidden_dim=128,\n",
    "    n_layers=3,\n",
    "    activation=\"relu\",\n",
    ")"
   ]
  },
  {
   "cell_type": "markdown",
   "id": "fc635639",
   "metadata": {},
   "source": [
    "## STEP 4: model training\n",
    "\n",
    "In PyHealth, the [pyhealth.trainer.Trainer](https://pyhealth.readthedocs.io/en/latest/api/trainer.html) module serves as a powerful tool for\n",
    "managing the training process of all models. \n",
    "\n",
    "This trainer simplifies logging during\n",
    "training, automatically selects available devices, and conveniently saves the best model\n",
    "to disk. The trainer module offers a range of selectable arguments for customization.\n",
    "\n",
    "Let’s proceed with the programming steps outlined below."
   ]
  },
  {
   "cell_type": "code",
   "execution_count": 43,
   "id": "fd6f96d1",
   "metadata": {},
   "outputs": [
    {
     "name": "stdout",
     "output_type": "stream",
     "text": [
      "MLP(\n",
      "  (embeddings): ModuleDict(\n",
      "    (conditions): Embedding(18860, 128, padding_idx=0)\n",
      "    (procedures): Embedding(10222, 128, padding_idx=0)\n",
      "    (drugs): Embedding(5460, 128, padding_idx=0)\n",
      "  )\n",
      "  (linear_layers): ModuleDict()\n",
      "  (activation): ReLU()\n",
      "  (mlp): ModuleDict(\n",
      "    (conditions): Sequential(\n",
      "      (0): Linear(in_features=128, out_features=128, bias=True)\n",
      "      (1): ReLU()\n",
      "      (2): Linear(in_features=128, out_features=128, bias=True)\n",
      "      (3): ReLU()\n",
      "      (4): Linear(in_features=128, out_features=128, bias=True)\n",
      "    )\n",
      "    (procedures): Sequential(\n",
      "      (0): Linear(in_features=128, out_features=128, bias=True)\n",
      "      (1): ReLU()\n",
      "      (2): Linear(in_features=128, out_features=128, bias=True)\n",
      "      (3): ReLU()\n",
      "      (4): Linear(in_features=128, out_features=128, bias=True)\n",
      "    )\n",
      "    (drugs): Sequential(\n",
      "      (0): Linear(in_features=128, out_features=128, bias=True)\n",
      "      (1): ReLU()\n",
      "      (2): Linear(in_features=128, out_features=128, bias=True)\n",
      "      (3): ReLU()\n",
      "      (4): Linear(in_features=128, out_features=128, bias=True)\n",
      "    )\n",
      "  )\n",
      "  (fc): Linear(in_features=384, out_features=1, bias=True)\n",
      ")\n",
      "Metrics: None\n",
      "Device: cuda\n",
      "\n",
      "Training:\n",
      "Batch size: 32\n",
      "Optimizer: <class 'torch.optim.adam.Adam'>\n",
      "Optimizer params: {'lr': 0.001}\n",
      "Weight decay: 0.0\n",
      "Max grad norm: None\n",
      "Val dataloader: <torch.utils.data.dataloader.DataLoader object at 0x7fd49e09eee0>\n",
      "Monitor: roc_auc\n",
      "Monitor criterion: max\n",
      "Epochs: 5\n",
      "\n"
     ]
    },
    {
     "data": {
      "application/vnd.jupyter.widget-view+json": {
       "model_id": "23fba233693044cb89e4c5887e60d3ef",
       "version_major": 2,
       "version_minor": 0
      },
      "text/plain": [
       "Epoch 0 / 5:   0%|          | 0/3305 [00:00<?, ?it/s]"
      ]
     },
     "metadata": {},
     "output_type": "display_data"
    },
    {
     "name": "stdout",
     "output_type": "stream",
     "text": [
      "--- Train epoch-0, step-3305 ---\n",
      "loss: 0.5563\n"
     ]
    },
    {
     "name": "stderr",
     "output_type": "stream",
     "text": [
      "Evaluation: 100%|██████████████████████████████████████████████████████████████████████████████████████████| 418/418 [00:00<00:00, 472.71it/s]"
     ]
    },
    {
     "name": "stdout",
     "output_type": "stream",
     "text": [
      "--- Eval epoch-0, step-3305 ---\n",
      "pr_auc: 0.7000\n",
      "roc_auc: 0.7106\n",
      "f1: 0.6522\n",
      "loss: 0.6354\n",
      "New best roc_auc score (0.7106) at epoch-0, step-3305\n"
     ]
    },
    {
     "name": "stderr",
     "output_type": "stream",
     "text": [
      "\n"
     ]
    },
    {
     "name": "stdout",
     "output_type": "stream",
     "text": [
      "\n"
     ]
    },
    {
     "data": {
      "application/vnd.jupyter.widget-view+json": {
       "model_id": "87bff5e13be74a79801aae4abdc9688f",
       "version_major": 2,
       "version_minor": 0
      },
      "text/plain": [
       "Epoch 1 / 5:   0%|          | 0/3305 [00:00<?, ?it/s]"
      ]
     },
     "metadata": {},
     "output_type": "display_data"
    },
    {
     "name": "stdout",
     "output_type": "stream",
     "text": [
      "--- Train epoch-1, step-6610 ---\n",
      "loss: 0.5106\n"
     ]
    },
    {
     "name": "stderr",
     "output_type": "stream",
     "text": [
      "Evaluation: 100%|██████████████████████████████████████████████████████████████████████████████████████████| 418/418 [00:00<00:00, 479.10it/s]"
     ]
    },
    {
     "name": "stdout",
     "output_type": "stream",
     "text": [
      "--- Eval epoch-1, step-6610 ---\n",
      "pr_auc: 0.6829\n",
      "roc_auc: 0.6961\n",
      "f1: 0.5838\n",
      "loss: 0.6740\n",
      "\n"
     ]
    },
    {
     "name": "stderr",
     "output_type": "stream",
     "text": [
      "\n"
     ]
    },
    {
     "data": {
      "application/vnd.jupyter.widget-view+json": {
       "model_id": "7d5d156f55d24227a0a89e3dc3442242",
       "version_major": 2,
       "version_minor": 0
      },
      "text/plain": [
       "Epoch 2 / 5:   0%|          | 0/3305 [00:00<?, ?it/s]"
      ]
     },
     "metadata": {},
     "output_type": "display_data"
    },
    {
     "name": "stdout",
     "output_type": "stream",
     "text": [
      "--- Train epoch-2, step-9915 ---\n",
      "loss: 0.4470\n"
     ]
    },
    {
     "name": "stderr",
     "output_type": "stream",
     "text": [
      "Evaluation: 100%|██████████████████████████████████████████████████████████████████████████████████████████| 418/418 [00:00<00:00, 480.47it/s]"
     ]
    },
    {
     "name": "stdout",
     "output_type": "stream",
     "text": [
      "--- Eval epoch-2, step-9915 ---\n",
      "pr_auc: 0.6641\n",
      "roc_auc: 0.6779\n",
      "f1: 0.5818\n",
      "loss: 0.7736\n",
      "\n"
     ]
    },
    {
     "name": "stderr",
     "output_type": "stream",
     "text": [
      "\n"
     ]
    },
    {
     "data": {
      "application/vnd.jupyter.widget-view+json": {
       "model_id": "3616039f17fa4715a7e771d006556451",
       "version_major": 2,
       "version_minor": 0
      },
      "text/plain": [
       "Epoch 3 / 5:   0%|          | 0/3305 [00:00<?, ?it/s]"
      ]
     },
     "metadata": {},
     "output_type": "display_data"
    },
    {
     "name": "stdout",
     "output_type": "stream",
     "text": [
      "--- Train epoch-3, step-13220 ---\n",
      "loss: 0.3718\n"
     ]
    },
    {
     "name": "stderr",
     "output_type": "stream",
     "text": [
      "Evaluation: 100%|██████████████████████████████████████████████████████████████████████████████████████████| 418/418 [00:00<00:00, 435.57it/s]"
     ]
    },
    {
     "name": "stdout",
     "output_type": "stream",
     "text": [
      "--- Eval epoch-3, step-13220 ---\n",
      "pr_auc: 0.6505\n",
      "roc_auc: 0.6643\n",
      "f1: 0.5828\n",
      "loss: 0.8855\n",
      "\n"
     ]
    },
    {
     "name": "stderr",
     "output_type": "stream",
     "text": [
      "\n"
     ]
    },
    {
     "data": {
      "application/vnd.jupyter.widget-view+json": {
       "model_id": "4b47bf8c465046cbadc1ac657699cbd2",
       "version_major": 2,
       "version_minor": 0
      },
      "text/plain": [
       "Epoch 4 / 5:   0%|          | 0/3305 [00:00<?, ?it/s]"
      ]
     },
     "metadata": {},
     "output_type": "display_data"
    },
    {
     "name": "stdout",
     "output_type": "stream",
     "text": [
      "--- Train epoch-4, step-16525 ---\n",
      "loss: 0.2942\n"
     ]
    },
    {
     "name": "stderr",
     "output_type": "stream",
     "text": [
      "Evaluation: 100%|██████████████████████████████████████████████████████████████████████████████████████████| 418/418 [00:00<00:00, 469.68it/s]"
     ]
    },
    {
     "name": "stdout",
     "output_type": "stream",
     "text": [
      "--- Eval epoch-4, step-16525 ---\n",
      "pr_auc: 0.6489\n",
      "roc_auc: 0.6610\n",
      "f1: 0.6060\n",
      "loss: 1.1949\n",
      "Loaded best model\n"
     ]
    },
    {
     "name": "stderr",
     "output_type": "stream",
     "text": [
      "\n"
     ]
    }
   ],
   "source": [
    "from pyhealth.trainer import Trainer\n",
    "\n",
    "# STEP 4: define trainer\n",
    "trainer = Trainer(model=model)\n",
    "\n",
    "trainer.train(\n",
    "    train_dataloader=train_dataloader,\n",
    "    val_dataloader=val_dataloader,\n",
    "    epochs=5,\n",
    "    monitor=\"roc_auc\",\n",
    ") # model is training ...\n"
   ]
  },
  {
   "cell_type": "markdown",
   "id": "cb4640c1",
   "metadata": {},
   "source": [
    "## STEP5: model evaluation\n",
    "\n",
    "Following model training, we offer two evaluation methods for the optimized deep\n",
    "learning model through the [pyhealth.metrics](https://pyhealth.readthedocs.io/en/latest/api/metrics.html). \n",
    "\n",
    "PyHealth offers an array\n",
    "of metrics suitable for assessing binary classification, multi-class classification, and\n",
    "multi-label classification problems, alongside fairness metrics and advanced model\n",
    "calibration metrics."
   ]
  },
  {
   "cell_type": "code",
   "execution_count": 45,
   "id": "3a5ced45",
   "metadata": {},
   "outputs": [
    {
     "name": "stderr",
     "output_type": "stream",
     "text": [
      "Evaluation: 100%|██████████████████████████████████████████████████████████████████████████████████████████| 413/413 [00:00<00:00, 477.67it/s]\n"
     ]
    },
    {
     "name": "stdout",
     "output_type": "stream",
     "text": [
      "{'pr_auc': 0.6920530474148421, 'roc_auc': 0.7015410673568111, 'f1': 0.6474005660658425, 'loss': 0.6424725677267835}\n"
     ]
    },
    {
     "name": "stderr",
     "output_type": "stream",
     "text": [
      "Evaluation: 100%|██████████████████████████████████████████████████████████████████████████████████████████| 413/413 [00:00<00:00, 477.06it/s]\n"
     ]
    },
    {
     "data": {
      "text/plain": [
       "{'pr_auc': 0.6920530474148421,\n",
       " 'roc_auc': 0.7015410673568111,\n",
       " 'f1': 0.6474005660658425}"
      ]
     },
     "execution_count": 45,
     "metadata": {},
     "output_type": "execute_result"
    }
   ],
   "source": [
    "# method 1\n",
    "result = trainer.evaluate(test_dataloader)\n",
    "print (result)\n",
    "\n",
    "# method 2\n",
    "from pyhealth.metrics.binary import binary_metrics_fn\n",
    "\n",
    "y_true, y_prob, loss = trainer.inference(test_dataloader)\n",
    "binary_metrics_fn(\n",
    "    y_true,\n",
    "    y_prob,\n",
    "    metrics=[\"pr_auc\", \"roc_auc\", \"f1\"]\n",
    ")"
   ]
  },
  {
   "cell_type": "code",
   "execution_count": null,
   "id": "9e4e4a79",
   "metadata": {},
   "outputs": [],
   "source": []
  }
 ],
 "metadata": {
  "kernelspec": {
   "display_name": "Python 3",
   "language": "python",
   "name": "python3"
  },
  "language_info": {
   "codemirror_mode": {
    "name": "ipython",
    "version": 3
   },
   "file_extension": ".py",
   "mimetype": "text/x-python",
   "name": "python",
   "nbconvert_exporter": "python",
   "pygments_lexer": "ipython3",
   "version": "3.8.3"
  }
 },
 "nbformat": 4,
 "nbformat_minor": 5
}
