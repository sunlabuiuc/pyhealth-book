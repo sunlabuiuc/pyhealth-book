{
 "cells": [
  {
   "cell_type": "markdown",
   "id": "775dff6b",
   "metadata": {},
   "source": [
    "[PyHealth](https://pyhealth.readthedocs.io/en/latest/) is a Python library designed for healthcare data analysis, providing a\n",
    "range of tools and functionalities that simplify the process of building, training, and\n",
    "evaluating healthcare models.\n",
    "\n",
    "- Here, we will use the PyHealth package to handle <u>readmission prediction</u> task on [MIMIC-IV-demo](https://physionet.org/content/mimic-iv-demo/2.2/) datasets. The package provides a whole suite of API\n",
    "modules, covering MIMIC-IV data processing, DNN model initialization, training,\n",
    "and evaluation. \n",
    "\n",
    "- The readmission task is defined by <u>using the procedure, medication, diagnosis codes from the current visit to predict\n",
    "whether the patient will be readmitted into ICU within 7 days</u>.\n",
    "\n",
    "Let us start step by step."
   ]
  },
  {
   "cell_type": "markdown",
   "id": "a2e87ac7",
   "metadata": {},
   "source": [
    "## STEP1: dataset processing\n",
    "\n",
    "The first step is to preprocess the MIMIC-IV-demo data. Since we are unable to distribute the original MIMIC-IV dataset, we use the [MIMIC-IV-demo dataset](https://physionet.org/content/mimic-iv-demo/2.2/) as the substitute here.\n",
    "\n",
    "The MIMIC-IV and other EHR\n",
    "databases all have heterogeneous and complicated file structures. Each type of clinical\n",
    "events will maintain a CSV table while these tables are connected by the unique patient\n",
    "visit ID. \n",
    "\n",
    "Before feeding the dataset into deep learning models, researchers usually join\n",
    "tables together and filter invalid records, etc. Here, we leverage\n",
    "the diagnosis, procedure, and medication tables as feature entries for the readmission\n",
    "prediction tasks. Lucikly, PyHealth provides the [pyhealth.datasets.MIMIC4Dataset](https://pyhealth.readthedocs.io/en/latest/api/datasets/pyhealth.datasets.MIMIC4Dataset.html) API to handle the data processing step.\n",
    "\n",
    "Calling the MIMIC4Dataset API requires the root of MIMIC-IV-demo database and the\n",
    "data tables that we want to use for features (diagnoses, procedures, and prescriptions)."
   ]
  },
  {
   "cell_type": "code",
   "execution_count": 2,
   "id": "7b42536d",
   "metadata": {},
   "outputs": [
    {
     "name": "stderr",
     "output_type": "stream",
     "text": [
      "/home/chaoqiy2/miniconda3/lib/python3.9/site-packages/torchvision/io/image.py:13: UserWarning: Failed to load image Python extension: libtorch_cuda_cu.so: cannot open shared object file: No such file or directory\n",
      "  warn(f\"Failed to load image Python extension: {e}\")\n"
     ]
    },
    {
     "name": "stdout",
     "output_type": "stream",
     "text": [
      "INFO: Pandarallel will run on 64 workers.\n",
      "INFO: Pandarallel will use Memory file system to transfer data between the main process and workers.\n",
      "finish basic patient information parsing : 1.3815855979919434s\n",
      "finish parsing diagnoses_icd : 1.0474581718444824s\n",
      "finish parsing procedures_icd : 1.006455659866333s\n",
      "finish parsing prescriptions : 1.826772928237915s\n"
     ]
    },
    {
     "name": "stderr",
     "output_type": "stream",
     "text": [
      "Mapping codes: 100%|███████████████████████████████████████████████████████████████| 100/100 [00:00<00:00, 5759.82it/s]"
     ]
    },
    {
     "name": "stdout",
     "output_type": "stream",
     "text": [
      "\n",
      "Statistics of base dataset (dev=False):\n",
      "\t- Dataset: MIMIC4Dataset\n",
      "\t- Number of patients: 100\n",
      "\t- Number of visits: 275\n",
      "\t- Number of visits per patient: 2.7500\n",
      "\t- Number of events per visit in diagnoses_icd: 16.3855\n",
      "\t- Number of events per visit in procedures_icd: 2.6255\n",
      "\t- Number of events per visit in prescriptions: 65.6945\n",
      "\n"
     ]
    },
    {
     "name": "stderr",
     "output_type": "stream",
     "text": [
      "\n"
     ]
    },
    {
     "data": {
      "text/plain": [
       "'\\nStatistics of base dataset (dev=False):\\n\\t- Dataset: MIMIC4Dataset\\n\\t- Number of patients: 100\\n\\t- Number of visits: 275\\n\\t- Number of visits per patient: 2.7500\\n\\t- Number of events per visit in diagnoses_icd: 16.3855\\n\\t- Number of events per visit in procedures_icd: 2.6255\\n\\t- Number of events per visit in prescriptions: 65.6945\\n'"
      ]
     },
     "execution_count": 2,
     "metadata": {},
     "output_type": "execute_result"
    }
   ],
   "source": [
    "from pyhealth.datasets import MIMIC4Dataset\n",
    "\n",
    "mimic4_ds = MIMIC4Dataset(\n",
    "    # if you have the access to MIMIC-IV dataset, please replace the following root\n",
    "    root=\"https://storage.googleapis.com/pyhealth/mimiciv-demo/hosp\",\n",
    "    tables=[\"diagnoses_icd\", \"procedures_icd\", \"prescriptions\"],\n",
    ")\n",
    "\n",
    "mimic4_ds.stat()"
   ]
  },
  {
   "cell_type": "code",
   "execution_count": 3,
   "id": "299d2c34",
   "metadata": {},
   "outputs": [
    {
     "data": {
      "text/plain": [
       "('10001725', Patient 10001725 with 1 visits)"
      ]
     },
     "execution_count": 3,
     "metadata": {},
     "output_type": "execute_result"
    }
   ],
   "source": [
    "# query the patient level information\n",
    "\n",
    "patients = mimic4_ds.patients\n",
    "patient_id, patient_obj = list(patients.items())[2]\n",
    "patient_id, patient_obj"
   ]
  },
  {
   "cell_type": "code",
   "execution_count": 4,
   "id": "c94a458a",
   "metadata": {},
   "outputs": [
    {
     "data": {
      "text/plain": [
       "('25563031',\n",
       " Visit 25563031 from patient 10001725 with 91 events from tables ['diagnoses_icd', 'procedures_icd', 'prescriptions'])"
      ]
     },
     "execution_count": 4,
     "metadata": {},
     "output_type": "execute_result"
    }
   ],
   "source": [
    "# query the visit level information\n",
    "\n",
    "visits = patient_obj.visits\n",
    "visit_id, visit_obj = list(visits.items())[0] # the 0-th visit\n",
    "visit_id, visit_obj"
   ]
  },
  {
   "cell_type": "code",
   "execution_count": 5,
   "id": "8804c48c",
   "metadata": {},
   "outputs": [
    {
     "data": {
      "text/plain": [
       "Event with ICD9CM code 78829 from table diagnoses_icd"
      ]
     },
     "execution_count": 5,
     "metadata": {},
     "output_type": "execute_result"
    }
   ],
   "source": [
    "# query the event level information\n",
    "\n",
    "diagnoses = visit_obj.get_event_list(\"diagnoses_icd\")\n",
    "diagnosis = diagnoses[0] # the 0-th diagnosis\n",
    "diagnosis"
   ]
  },
  {
   "cell_type": "code",
   "execution_count": 6,
   "id": "d1c3cc48",
   "metadata": {},
   "outputs": [
    {
     "data": {
      "text/plain": [
       "Event with NDC code 68084008901 from table prescriptions"
      ]
     },
     "execution_count": 6,
     "metadata": {},
     "output_type": "execute_result"
    }
   ],
   "source": [
    "# query the event level information\n",
    "\n",
    "prescriptions = visit_obj.get_event_list(\"prescriptions\")\n",
    "prescription = prescriptions[0] # the 0-th prescription\n",
    "prescription"
   ]
  },
  {
   "cell_type": "markdown",
   "id": "b3fdee5a",
   "metadata": {},
   "source": [
    "## STEP2: Task definition\n",
    "\n",
    "To define the healthcare AI task, the [pyhealth.tasks](https://pyhealth.readthedocs.io/en/latest/api/tasks.html) module provides a different variety of example task functions. Each of them defines a unique healthcare\n",
    "AI task. \n",
    "\n",
    "- Following the readmission task example (below), all task functions input\n",
    "a pyhealth.data.Patient object and then output a list of samples containing the “X\"\n",
    "and “Y\" for supervised learning. If the task is defined as a patient-level prediction task,\n",
    "then the output is one sample; if it is a visit-level prediction task, then the output is a\n",
    "list of samples, one for each visit.\n",
    "Readmission prediction is a visit-level clinical predictive task. Given the above\n",
    "structured dataset, we need to extract the diagnosis, procedure, and prescription infor-\n",
    "mation as the features and compare the time gap between the current visit and next\n",
    "visit to decide whether the patient will be readmitted into hospital within 7 days. If\n",
    "the answer is Yes, then we set label to be 1; otherwise, the label is 0. It is a binary\n",
    "classification task.\n",
    "Luckily, \n",
    "\n",
    "PyHealth provides a default readmission prediction task with time window\n",
    "as an argument (In this task, the threshold is 7 days)."
   ]
  },
  {
   "cell_type": "code",
   "execution_count": 7,
   "id": "6ce6d7e9",
   "metadata": {},
   "outputs": [],
   "source": [
    "def readmission_prediction_mimic4_fn(patient, time_window=7):\n",
    "    \"\"\"Processes a single patient for the readmission prediction task.\n",
    "    ...\n",
    "    \"\"\"\n",
    "    samples = []\n",
    "\n",
    "    # we will drop the last visit since we cannot tell its label\n",
    "    for i in range(len(patient) - 1):\n",
    "        visit = patient[i]\n",
    "        next_visit = patient[i + 1]\n",
    "\n",
    "        # get time difference between current visit and next visit\n",
    "        time_diff = (next_visit.encounter_time - visit.encounter_time).days\n",
    "        readmission_label = 1 if time_diff < time_window else 0\n",
    "\n",
    "        conditions = visit.get_code_list(table=\"diagnoses_icd\")\n",
    "        procedures = visit.get_code_list(table=\"procedures_icd\")\n",
    "        drugs = visit.get_code_list(table=\"prescriptions\")\n",
    "        # exclude: visits without condition, procedure, or drug code\n",
    "        if len(conditions) * len(procedures) * len(drugs) == 0:\n",
    "            continue\n",
    "        samples.append(\n",
    "            {\n",
    "                \"visit_id\": visit.visit_id,\n",
    "                \"patient_id\": patient.patient_id,\n",
    "                \"conditions\": conditions,\n",
    "                \"procedures\": procedures,\n",
    "                \"drugs\": drugs,\n",
    "                \"label\": readmission_label,\n",
    "            }\n",
    "        )\n",
    "\n",
    "        # use patient or visit level information for cohort selection\n",
    "        # ...\n",
    "    return samples"
   ]
  },
  {
   "cell_type": "code",
   "execution_count": 8,
   "id": "3b90e690",
   "metadata": {},
   "outputs": [
    {
     "name": "stderr",
     "output_type": "stream",
     "text": [
      "Generating samples for <lambda>: 100%|████████████████████████████████████████████| 100/100 [00:00<00:00, 14952.42it/s]"
     ]
    },
    {
     "name": "stdout",
     "output_type": "stream",
     "text": [
      "Statistics of sample dataset:\n",
      "\t- Dataset: MIMIC4Dataset\n",
      "\t- Task: <lambda>\n",
      "\t- Number of samples: 104\n",
      "\t- Number of patients: 42\n",
      "\t- Number of visits: 104\n",
      "\t- Number of visits per patient: 2.4762\n",
      "\t- conditions:\n",
      "\t\t- Number of conditions per sample: 17.6827\n",
      "\t\t- Number of unique conditions: 843\n",
      "\t\t- Distribution of conditions (Top-10): [('4019', 26), ('E039', 21), ('E785', 20), ('2724', 18), ('Z87891', 18), ('V1582', 15), ('F329', 15), ('Z794', 15), ('N179', 14), ('2859', 12)]\n",
      "\t- procedures:\n",
      "\t\t- Number of procedures per sample: 3.3077\n",
      "\t\t- Number of unique procedures: 199\n",
      "\t\t- Distribution of procedures (Top-10): [('3897', 15), ('02HV33Z', 14), ('966', 10), ('5491', 7), ('9671', 7), ('3893', 7), ('5A1D70Z', 7), ('5A1945Z', 6), ('3E0G76Z', 6), ('9604', 5)]\n",
      "\t- drugs:\n",
      "\t\t- Number of drugs per sample: 38.2500\n",
      "\t\t- Number of unique drugs: 928\n",
      "\t\t- Distribution of drugs (Top-10): [('0', 104), ('63323026201', 74), ('00409490234', 56), ('00338004904', 53), ('00904224461', 51), ('00904516561', 49), ('38396055018', 47), ('00409672924', 45), ('55390000401', 43), ('00338055318', 41)]\n",
      "\t- label:\n",
      "\t\t- Number of label per sample: 1.0000\n",
      "\t\t- Number of unique label: 2\n",
      "\t\t- Distribution of label (Top-10): [(0, 54), (1, 50)]\n"
     ]
    },
    {
     "name": "stderr",
     "output_type": "stream",
     "text": [
      "\n"
     ]
    },
    {
     "data": {
      "text/plain": [
       "\"Statistics of sample dataset:\\n\\t- Dataset: MIMIC4Dataset\\n\\t- Task: <lambda>\\n\\t- Number of samples: 104\\n\\t- Number of patients: 42\\n\\t- Number of visits: 104\\n\\t- Number of visits per patient: 2.4762\\n\\t- conditions:\\n\\t\\t- Number of conditions per sample: 17.6827\\n\\t\\t- Number of unique conditions: 843\\n\\t\\t- Distribution of conditions (Top-10): [('4019', 26), ('E039', 21), ('E785', 20), ('2724', 18), ('Z87891', 18), ('V1582', 15), ('F329', 15), ('Z794', 15), ('N179', 14), ('2859', 12)]\\n\\t- procedures:\\n\\t\\t- Number of procedures per sample: 3.3077\\n\\t\\t- Number of unique procedures: 199\\n\\t\\t- Distribution of procedures (Top-10): [('3897', 15), ('02HV33Z', 14), ('966', 10), ('5491', 7), ('9671', 7), ('3893', 7), ('5A1D70Z', 7), ('5A1945Z', 6), ('3E0G76Z', 6), ('9604', 5)]\\n\\t- drugs:\\n\\t\\t- Number of drugs per sample: 38.2500\\n\\t\\t- Number of unique drugs: 928\\n\\t\\t- Distribution of drugs (Top-10): [('0', 104), ('63323026201', 74), ('00409490234', 56), ('00338004904', 53), ('00904224461', 51), ('00904516561', 49), ('38396055018', 47), ('00409672924', 45), ('55390000401', 43), ('00338055318', 41)]\\n\\t- label:\\n\\t\\t- Number of label per sample: 1.0000\\n\\t\\t- Number of unique label: 2\\n\\t\\t- Distribution of label (Top-10): [(0, 54), (1, 50)]\""
      ]
     },
     "execution_count": 8,
     "metadata": {},
     "output_type": "execute_result"
    }
   ],
   "source": [
    "# STEP 2: define the readmission prediction task\n",
    "readmission_dataset = mimic4_ds.set_task(\n",
    "    lambda x: readmission_prediction_mimic4_fn(x, time_window=7)\n",
    ")\n",
    "readmission_dataset.stat()"
   ]
  },
  {
   "cell_type": "code",
   "execution_count": 9,
   "id": "3f1a6b2d",
   "metadata": {},
   "outputs": [
    {
     "data": {
      "text/plain": [
       "{'visit_id': '22595853',\n",
       " 'patient_id': '10000032',\n",
       " 'conditions': ['5723',\n",
       "  '78959',\n",
       "  '5715',\n",
       "  '07070',\n",
       "  '496',\n",
       "  '29680',\n",
       "  '30981',\n",
       "  'V1582'],\n",
       " 'procedures': ['5491'],\n",
       " 'drugs': ['63323026201',\n",
       "  '19515089452',\n",
       "  '0',\n",
       "  '00245004101',\n",
       "  '51079007220',\n",
       "  '63739054410',\n",
       "  '00904198861',\n",
       "  '00135019502',\n",
       "  '00006022761',\n",
       "  '61958070101',\n",
       "  '00173068224',\n",
       "  '00487980125',\n",
       "  '51079007320'],\n",
       " 'label': 0}"
      ]
     },
     "execution_count": 9,
     "metadata": {},
     "output_type": "execute_result"
    }
   ],
   "source": [
    "# look at the first sample\n",
    "\n",
    "readmission_dataset[0]"
   ]
  },
  {
   "cell_type": "code",
   "execution_count": 16,
   "id": "31f341ca",
   "metadata": {},
   "outputs": [],
   "source": [
    "from pyhealth.datasets import split_by_patient, get_dataloader\n",
    "\n",
    "# split the dataset into train/val/test\n",
    "train_dataset, val_dataset, test_dataset = split_by_patient(\n",
    "    readmission_dataset, [0.6, 0.2, 0.2]\n",
    ")\n",
    "train_dataloader = get_dataloader(train_dataset, batch_size=32, shuffle=True)\n",
    "val_dataloader = get_dataloader(val_dataset, batch_size=32, shuffle=False)\n",
    "test_dataloader = get_dataloader(test_dataset, batch_size=32, shuffle=False)"
   ]
  },
  {
   "cell_type": "markdown",
   "id": "20390d95",
   "metadata": {},
   "source": [
    "## STEP3: initialize ML models\n",
    "\n",
    "The [pyhealth.models](https://pyhealth.readthedocs.io/en/latest/api/models.html) module provides a large variety of ML models for users to\n",
    "choose from. These methods can be broadly categorized into: (i) general deep learning\n",
    "models and (ii) healthcare specific deep learning models. For healthcare specific DL\n",
    "models, we are constantly implementing new ones and add them into our package.\n",
    "\n",
    "In this section, we will use the simple three-layer multi-layer perceptron (MLP) in\n",
    "PyHealth, specifying the number of layers, the number of hidden neurons in each layer,\n",
    "and the activation functions. More advanced models and examples can be found in\n",
    "later sections or visit the [PyHealth website](https://pyhealth.readthedocs.io/en/latest/).\n",
    "\n",
    "In model initialization, we input the keys listed in the sample dictionary. To leverage\n",
    "three types of clinical event information, we use “conditions\", “procedures\", “drugs\"\n",
    "as keywords for features, and we input the “label\" as the readmission prediction label."
   ]
  },
  {
   "cell_type": "code",
   "execution_count": 21,
   "id": "0e5003b5",
   "metadata": {},
   "outputs": [],
   "source": [
    "from pyhealth.models import MLP\n",
    "\n",
    "# STEP 3: define model\n",
    "model = MLP(\n",
    "    dataset=readmission_dataset,\n",
    "    feature_keys=[\"conditions\", \"procedures\", \"drugs\"],\n",
    "    label_key=\"label\",\n",
    "    mode=\"binary\",\n",
    "    embedding_dim=16,\n",
    "    hidden_dim=16,\n",
    "    n_layers=2,\n",
    "    activation=\"relu\",\n",
    ")"
   ]
  },
  {
   "cell_type": "markdown",
   "id": "fc635639",
   "metadata": {},
   "source": [
    "## STEP 4: model training\n",
    "\n",
    "In PyHealth, the [pyhealth.trainer.Trainer](https://pyhealth.readthedocs.io/en/latest/api/trainer.html) module serves as a powerful tool for\n",
    "managing the training process of all models. \n",
    "\n",
    "This trainer simplifies logging during\n",
    "training, automatically selects available devices, and conveniently saves the best model\n",
    "to disk. The trainer module offers a range of selectable arguments for customization.\n",
    "\n",
    "Let’s proceed with the programming steps outlined below."
   ]
  },
  {
   "cell_type": "code",
   "execution_count": 22,
   "id": "fd6f96d1",
   "metadata": {},
   "outputs": [
    {
     "name": "stdout",
     "output_type": "stream",
     "text": [
      "MLP(\n",
      "  (embeddings): ModuleDict(\n",
      "    (conditions): Embedding(845, 16, padding_idx=0)\n",
      "    (procedures): Embedding(201, 16, padding_idx=0)\n",
      "    (drugs): Embedding(930, 16, padding_idx=0)\n",
      "  )\n",
      "  (linear_layers): ModuleDict()\n",
      "  (activation): ReLU()\n",
      "  (mlp): ModuleDict(\n",
      "    (conditions): Sequential(\n",
      "      (0): Linear(in_features=16, out_features=16, bias=True)\n",
      "      (1): ReLU()\n",
      "      (2): Linear(in_features=16, out_features=16, bias=True)\n",
      "    )\n",
      "    (procedures): Sequential(\n",
      "      (0): Linear(in_features=16, out_features=16, bias=True)\n",
      "      (1): ReLU()\n",
      "      (2): Linear(in_features=16, out_features=16, bias=True)\n",
      "    )\n",
      "    (drugs): Sequential(\n",
      "      (0): Linear(in_features=16, out_features=16, bias=True)\n",
      "      (1): ReLU()\n",
      "      (2): Linear(in_features=16, out_features=16, bias=True)\n",
      "    )\n",
      "  )\n",
      "  (fc): Linear(in_features=48, out_features=1, bias=True)\n",
      ")\n",
      "Metrics: None\n",
      "Device: cuda\n",
      "\n",
      "Training:\n",
      "Batch size: 32\n",
      "Optimizer: <class 'torch.optim.adam.Adam'>\n",
      "Optimizer params: {'lr': 0.001}\n",
      "Weight decay: 0.0\n",
      "Max grad norm: None\n",
      "Val dataloader: <torch.utils.data.dataloader.DataLoader object at 0x7f497cbc1850>\n",
      "Monitor: roc_auc\n",
      "Monitor criterion: max\n",
      "Epochs: 50\n",
      "\n"
     ]
    },
    {
     "data": {
      "application/vnd.jupyter.widget-view+json": {
       "model_id": "89fe6c1535c34cc4b6bafd8501910d68",
       "version_major": 2,
       "version_minor": 0
      },
      "text/plain": [
       "Epoch 0 / 50:   0%|          | 0/2 [00:00<?, ?it/s]"
      ]
     },
     "metadata": {},
     "output_type": "display_data"
    },
    {
     "name": "stdout",
     "output_type": "stream",
     "text": [
      "--- Train epoch-0, step-2 ---\n",
      "loss: 0.6956\n"
     ]
    },
    {
     "name": "stderr",
     "output_type": "stream",
     "text": [
      "Evaluation: 100%|███████████████████████████████████████████████████████████████████████| 1/1 [00:00<00:00, 217.30it/s]"
     ]
    },
    {
     "name": "stdout",
     "output_type": "stream",
     "text": [
      "--- Eval epoch-0, step-2 ---\n",
      "pr_auc: 0.5418\n",
      "roc_auc: 0.5714\n",
      "f1: 0.5333\n",
      "loss: 0.6931\n",
      "New best roc_auc score (0.5714) at epoch-0, step-2\n",
      "\n"
     ]
    },
    {
     "name": "stderr",
     "output_type": "stream",
     "text": [
      "\n"
     ]
    },
    {
     "data": {
      "application/vnd.jupyter.widget-view+json": {
       "model_id": "3c2559f07e8f474eae092914afa6c9c0",
       "version_major": 2,
       "version_minor": 0
      },
      "text/plain": [
       "Epoch 1 / 50:   0%|          | 0/2 [00:00<?, ?it/s]"
      ]
     },
     "metadata": {},
     "output_type": "display_data"
    },
    {
     "name": "stdout",
     "output_type": "stream",
     "text": [
      "--- Train epoch-1, step-4 ---\n",
      "loss: 0.6926\n"
     ]
    },
    {
     "name": "stderr",
     "output_type": "stream",
     "text": [
      "Evaluation: 100%|███████████████████████████████████████████████████████████████████████| 1/1 [00:00<00:00, 123.83it/s]"
     ]
    },
    {
     "name": "stdout",
     "output_type": "stream",
     "text": [
      "--- Eval epoch-1, step-4 ---\n",
      "pr_auc: 0.5180\n",
      "roc_auc: 0.5556\n",
      "f1: 0.5000\n",
      "loss: 0.6916\n",
      "\n"
     ]
    },
    {
     "name": "stderr",
     "output_type": "stream",
     "text": [
      "\n"
     ]
    },
    {
     "data": {
      "application/vnd.jupyter.widget-view+json": {
       "model_id": "d6303f2aaa5549ffb8b71c11890ca0f2",
       "version_major": 2,
       "version_minor": 0
      },
      "text/plain": [
       "Epoch 2 / 50:   0%|          | 0/2 [00:00<?, ?it/s]"
      ]
     },
     "metadata": {},
     "output_type": "display_data"
    },
    {
     "name": "stdout",
     "output_type": "stream",
     "text": [
      "--- Train epoch-2, step-6 ---\n",
      "loss: 0.6891\n"
     ]
    },
    {
     "name": "stderr",
     "output_type": "stream",
     "text": [
      "Evaluation: 100%|███████████████████████████████████████████████████████████████████████| 1/1 [00:00<00:00, 118.17it/s]"
     ]
    },
    {
     "name": "stdout",
     "output_type": "stream",
     "text": [
      "--- Eval epoch-2, step-6 ---\n",
      "pr_auc: 0.5180\n",
      "roc_auc: 0.5556\n",
      "f1: 0.2000\n",
      "loss: 0.6904\n",
      "\n"
     ]
    },
    {
     "name": "stderr",
     "output_type": "stream",
     "text": [
      "\n"
     ]
    },
    {
     "data": {
      "application/vnd.jupyter.widget-view+json": {
       "model_id": "4317e68c608243dbaa68bdb2ce39a8fa",
       "version_major": 2,
       "version_minor": 0
      },
      "text/plain": [
       "Epoch 3 / 50:   0%|          | 0/2 [00:00<?, ?it/s]"
      ]
     },
     "metadata": {},
     "output_type": "display_data"
    },
    {
     "name": "stdout",
     "output_type": "stream",
     "text": [
      "--- Train epoch-3, step-8 ---\n",
      "loss: 0.6867\n"
     ]
    },
    {
     "name": "stderr",
     "output_type": "stream",
     "text": [
      "Evaluation: 100%|███████████████████████████████████████████████████████████████████████| 1/1 [00:00<00:00, 140.61it/s]"
     ]
    },
    {
     "name": "stdout",
     "output_type": "stream",
     "text": [
      "--- Eval epoch-3, step-8 ---\n",
      "pr_auc: 0.5156\n",
      "roc_auc: 0.5556\n",
      "f1: 0.0000\n",
      "loss: 0.6894\n",
      "\n"
     ]
    },
    {
     "name": "stderr",
     "output_type": "stream",
     "text": [
      "\n"
     ]
    },
    {
     "data": {
      "application/vnd.jupyter.widget-view+json": {
       "model_id": "b3a406f9cbac4114a2a2d9f1efe40581",
       "version_major": 2,
       "version_minor": 0
      },
      "text/plain": [
       "Epoch 4 / 50:   0%|          | 0/2 [00:00<?, ?it/s]"
      ]
     },
     "metadata": {},
     "output_type": "display_data"
    },
    {
     "name": "stdout",
     "output_type": "stream",
     "text": [
      "--- Train epoch-4, step-10 ---\n",
      "loss: 0.6842\n"
     ]
    },
    {
     "name": "stderr",
     "output_type": "stream",
     "text": [
      "Evaluation: 100%|███████████████████████████████████████████████████████████████████████| 1/1 [00:00<00:00, 223.85it/s]"
     ]
    },
    {
     "name": "stdout",
     "output_type": "stream",
     "text": [
      "--- Eval epoch-4, step-10 ---\n",
      "pr_auc: 0.5221\n",
      "roc_auc: 0.5714\n",
      "f1: 0.0000\n",
      "loss: 0.6884\n",
      "\n"
     ]
    },
    {
     "name": "stderr",
     "output_type": "stream",
     "text": [
      "\n"
     ]
    },
    {
     "data": {
      "application/vnd.jupyter.widget-view+json": {
       "model_id": "922ec90ec7e24c1aa9216f6f6e64491a",
       "version_major": 2,
       "version_minor": 0
      },
      "text/plain": [
       "Epoch 5 / 50:   0%|          | 0/2 [00:00<?, ?it/s]"
      ]
     },
     "metadata": {},
     "output_type": "display_data"
    },
    {
     "name": "stdout",
     "output_type": "stream",
     "text": [
      "--- Train epoch-5, step-12 ---\n",
      "loss: 0.6811\n"
     ]
    },
    {
     "name": "stderr",
     "output_type": "stream",
     "text": [
      "Evaluation: 100%|███████████████████████████████████████████████████████████████████████| 1/1 [00:00<00:00, 221.36it/s]"
     ]
    },
    {
     "name": "stdout",
     "output_type": "stream",
     "text": [
      "--- Eval epoch-5, step-12 ---\n",
      "pr_auc: 0.4982\n",
      "roc_auc: 0.5556\n",
      "f1: 0.0000\n",
      "loss: 0.6877\n",
      "\n"
     ]
    },
    {
     "name": "stderr",
     "output_type": "stream",
     "text": [
      "\n"
     ]
    },
    {
     "data": {
      "application/vnd.jupyter.widget-view+json": {
       "model_id": "ee40e692f4ac4745a229de3c9faaff82",
       "version_major": 2,
       "version_minor": 0
      },
      "text/plain": [
       "Epoch 6 / 50:   0%|          | 0/2 [00:00<?, ?it/s]"
      ]
     },
     "metadata": {},
     "output_type": "display_data"
    },
    {
     "name": "stdout",
     "output_type": "stream",
     "text": [
      "--- Train epoch-6, step-14 ---\n",
      "loss: 0.6789\n"
     ]
    },
    {
     "name": "stderr",
     "output_type": "stream",
     "text": [
      "Evaluation: 100%|███████████████████████████████████████████████████████████████████████| 1/1 [00:00<00:00, 188.06it/s]\n"
     ]
    },
    {
     "name": "stdout",
     "output_type": "stream",
     "text": [
      "--- Eval epoch-6, step-14 ---\n",
      "pr_auc: 0.4880\n",
      "roc_auc: 0.5397\n",
      "f1: 0.0000\n",
      "loss: 0.6871\n",
      "\n"
     ]
    },
    {
     "data": {
      "application/vnd.jupyter.widget-view+json": {
       "model_id": "7d6230d5bfd146bc9248e08fe895fdd7",
       "version_major": 2,
       "version_minor": 0
      },
      "text/plain": [
       "Epoch 7 / 50:   0%|          | 0/2 [00:00<?, ?it/s]"
      ]
     },
     "metadata": {},
     "output_type": "display_data"
    },
    {
     "name": "stdout",
     "output_type": "stream",
     "text": [
      "--- Train epoch-7, step-16 ---\n",
      "loss: 0.6767\n"
     ]
    },
    {
     "name": "stderr",
     "output_type": "stream",
     "text": [
      "Evaluation: 100%|████████████████████████████████████████████████████████████████████████| 1/1 [00:00<00:00, 92.04it/s]\n"
     ]
    },
    {
     "name": "stdout",
     "output_type": "stream",
     "text": [
      "--- Eval epoch-7, step-16 ---\n",
      "pr_auc: 0.4960\n",
      "roc_auc: 0.5556\n",
      "f1: 0.0000\n",
      "loss: 0.6865\n",
      "\n"
     ]
    },
    {
     "data": {
      "application/vnd.jupyter.widget-view+json": {
       "model_id": "b42fbe2d745a49bfb9807ddd4a1b111b",
       "version_major": 2,
       "version_minor": 0
      },
      "text/plain": [
       "Epoch 8 / 50:   0%|          | 0/2 [00:00<?, ?it/s]"
      ]
     },
     "metadata": {},
     "output_type": "display_data"
    },
    {
     "name": "stdout",
     "output_type": "stream",
     "text": [
      "--- Train epoch-8, step-18 ---\n",
      "loss: 0.6748\n"
     ]
    },
    {
     "name": "stderr",
     "output_type": "stream",
     "text": [
      "Evaluation: 100%|███████████████████████████████████████████████████████████████████████| 1/1 [00:00<00:00, 110.29it/s]"
     ]
    },
    {
     "name": "stdout",
     "output_type": "stream",
     "text": [
      "--- Eval epoch-8, step-18 ---\n",
      "pr_auc: 0.5062\n",
      "roc_auc: 0.5714\n",
      "f1: 0.0000\n",
      "loss: 0.6861\n",
      "\n"
     ]
    },
    {
     "name": "stderr",
     "output_type": "stream",
     "text": [
      "\n"
     ]
    },
    {
     "data": {
      "application/vnd.jupyter.widget-view+json": {
       "model_id": "aa195658868440c3bf0ed819adda2278",
       "version_major": 2,
       "version_minor": 0
      },
      "text/plain": [
       "Epoch 9 / 50:   0%|          | 0/2 [00:00<?, ?it/s]"
      ]
     },
     "metadata": {},
     "output_type": "display_data"
    },
    {
     "name": "stdout",
     "output_type": "stream",
     "text": [
      "--- Train epoch-9, step-20 ---\n",
      "loss: 0.6742\n"
     ]
    },
    {
     "name": "stderr",
     "output_type": "stream",
     "text": [
      "Evaluation: 100%|███████████████████████████████████████████████████████████████████████| 1/1 [00:00<00:00, 230.32it/s]"
     ]
    },
    {
     "name": "stdout",
     "output_type": "stream",
     "text": [
      "--- Eval epoch-9, step-20 ---\n",
      "pr_auc: 0.5062\n",
      "roc_auc: 0.5714\n"
     ]
    },
    {
     "name": "stderr",
     "output_type": "stream",
     "text": [
      "\n"
     ]
    },
    {
     "name": "stdout",
     "output_type": "stream",
     "text": [
      "f1: 0.0000\n",
      "loss: 0.6857\n",
      "\n"
     ]
    },
    {
     "data": {
      "application/vnd.jupyter.widget-view+json": {
       "model_id": "fa8c73c3e43e492494216beefde9411d",
       "version_major": 2,
       "version_minor": 0
      },
      "text/plain": [
       "Epoch 10 / 50:   0%|          | 0/2 [00:00<?, ?it/s]"
      ]
     },
     "metadata": {},
     "output_type": "display_data"
    },
    {
     "name": "stdout",
     "output_type": "stream",
     "text": [
      "--- Train epoch-10, step-22 ---\n",
      "loss: 0.6709\n"
     ]
    },
    {
     "name": "stderr",
     "output_type": "stream",
     "text": [
      "Evaluation: 100%|███████████████████████████████████████████████████████████████████████| 1/1 [00:00<00:00, 139.70it/s]\n"
     ]
    },
    {
     "name": "stdout",
     "output_type": "stream",
     "text": [
      "--- Eval epoch-10, step-22 ---\n",
      "pr_auc: 0.5062\n",
      "roc_auc: 0.5714\n",
      "f1: 0.0000\n",
      "loss: 0.6854\n",
      "\n"
     ]
    },
    {
     "data": {
      "application/vnd.jupyter.widget-view+json": {
       "model_id": "583437dcb2be4393abccd9a4c3be97a2",
       "version_major": 2,
       "version_minor": 0
      },
      "text/plain": [
       "Epoch 11 / 50:   0%|          | 0/2 [00:00<?, ?it/s]"
      ]
     },
     "metadata": {},
     "output_type": "display_data"
    },
    {
     "name": "stdout",
     "output_type": "stream",
     "text": [
      "--- Train epoch-11, step-24 ---\n",
      "loss: 0.6686\n"
     ]
    },
    {
     "name": "stderr",
     "output_type": "stream",
     "text": [
      "Evaluation: 100%|███████████████████████████████████████████████████████████████████████| 1/1 [00:00<00:00, 122.49it/s]"
     ]
    },
    {
     "name": "stdout",
     "output_type": "stream",
     "text": [
      "--- Eval epoch-11, step-24 ---\n",
      "pr_auc: 0.5300\n",
      "roc_auc: 0.5873\n",
      "f1: 0.0000\n",
      "loss: 0.6851\n",
      "New best roc_auc score (0.5873) at epoch-11, step-24\n",
      "\n"
     ]
    },
    {
     "name": "stderr",
     "output_type": "stream",
     "text": [
      "\n"
     ]
    },
    {
     "data": {
      "application/vnd.jupyter.widget-view+json": {
       "model_id": "3054b667bcc14caaaddb749d294b9fed",
       "version_major": 2,
       "version_minor": 0
      },
      "text/plain": [
       "Epoch 12 / 50:   0%|          | 0/2 [00:00<?, ?it/s]"
      ]
     },
     "metadata": {},
     "output_type": "display_data"
    },
    {
     "name": "stdout",
     "output_type": "stream",
     "text": [
      "--- Train epoch-12, step-26 ---\n",
      "loss: 0.6656\n"
     ]
    },
    {
     "name": "stderr",
     "output_type": "stream",
     "text": [
      "Evaluation: 100%|████████████████████████████████████████████████████████████████████████| 1/1 [00:00<00:00, 84.68it/s]"
     ]
    },
    {
     "name": "stdout",
     "output_type": "stream",
     "text": [
      "--- Eval epoch-12, step-26 ---\n",
      "pr_auc: 0.5300\n",
      "roc_auc: 0.5873\n",
      "f1: 0.0000\n",
      "loss: 0.6849\n",
      "\n"
     ]
    },
    {
     "name": "stderr",
     "output_type": "stream",
     "text": [
      "\n"
     ]
    },
    {
     "data": {
      "application/vnd.jupyter.widget-view+json": {
       "model_id": "031376d6dfa9422c889db70991f32715",
       "version_major": 2,
       "version_minor": 0
      },
      "text/plain": [
       "Epoch 13 / 50:   0%|          | 0/2 [00:00<?, ?it/s]"
      ]
     },
     "metadata": {},
     "output_type": "display_data"
    },
    {
     "name": "stdout",
     "output_type": "stream",
     "text": [
      "--- Train epoch-13, step-28 ---\n",
      "loss: 0.6633\n"
     ]
    },
    {
     "name": "stderr",
     "output_type": "stream",
     "text": [
      "Evaluation: 100%|███████████████████████████████████████████████████████████████████████| 1/1 [00:00<00:00, 237.18it/s]\n"
     ]
    },
    {
     "name": "stdout",
     "output_type": "stream",
     "text": [
      "--- Eval epoch-13, step-28 ---\n",
      "pr_auc: 0.5157\n",
      "roc_auc: 0.5714\n",
      "f1: 0.0000\n",
      "loss: 0.6846\n",
      "\n"
     ]
    },
    {
     "data": {
      "application/vnd.jupyter.widget-view+json": {
       "model_id": "6676d6e08d704f2283d7f1e07d89e2c8",
       "version_major": 2,
       "version_minor": 0
      },
      "text/plain": [
       "Epoch 14 / 50:   0%|          | 0/2 [00:00<?, ?it/s]"
      ]
     },
     "metadata": {},
     "output_type": "display_data"
    },
    {
     "name": "stdout",
     "output_type": "stream",
     "text": [
      "--- Train epoch-14, step-30 ---\n",
      "loss: 0.6607\n"
     ]
    },
    {
     "name": "stderr",
     "output_type": "stream",
     "text": [
      "Evaluation: 100%|███████████████████████████████████████████████████████████████████████| 1/1 [00:00<00:00, 291.01it/s]\n"
     ]
    },
    {
     "name": "stdout",
     "output_type": "stream",
     "text": [
      "--- Eval epoch-14, step-30 ---\n",
      "pr_auc: 0.5157\n",
      "roc_auc: 0.5714\n",
      "f1: 0.0000\n",
      "loss: 0.6844\n",
      "\n"
     ]
    },
    {
     "data": {
      "application/vnd.jupyter.widget-view+json": {
       "model_id": "17ba54e6d6d94d73b3afe84f1868e61f",
       "version_major": 2,
       "version_minor": 0
      },
      "text/plain": [
       "Epoch 15 / 50:   0%|          | 0/2 [00:00<?, ?it/s]"
      ]
     },
     "metadata": {},
     "output_type": "display_data"
    },
    {
     "name": "stdout",
     "output_type": "stream",
     "text": [
      "--- Train epoch-15, step-32 ---\n",
      "loss: 0.6594\n"
     ]
    },
    {
     "name": "stderr",
     "output_type": "stream",
     "text": [
      "Evaluation: 100%|███████████████████████████████████████████████████████████████████████| 1/1 [00:00<00:00, 155.01it/s]"
     ]
    },
    {
     "name": "stdout",
     "output_type": "stream",
     "text": [
      "--- Eval epoch-15, step-32 ---\n",
      "pr_auc: 0.5157\n",
      "roc_auc: 0.5714\n",
      "f1: 0.0000\n",
      "loss: 0.6841\n",
      "\n"
     ]
    },
    {
     "name": "stderr",
     "output_type": "stream",
     "text": [
      "\n"
     ]
    },
    {
     "data": {
      "application/vnd.jupyter.widget-view+json": {
       "model_id": "bd8f0914538d480f9875ca1bd3440472",
       "version_major": 2,
       "version_minor": 0
      },
      "text/plain": [
       "Epoch 16 / 50:   0%|          | 0/2 [00:00<?, ?it/s]"
      ]
     },
     "metadata": {},
     "output_type": "display_data"
    },
    {
     "name": "stdout",
     "output_type": "stream",
     "text": [
      "--- Train epoch-16, step-34 ---\n",
      "loss: 0.6579\n"
     ]
    },
    {
     "name": "stderr",
     "output_type": "stream",
     "text": [
      "Evaluation: 100%|███████████████████████████████████████████████████████████████████████| 1/1 [00:00<00:00, 225.13it/s]"
     ]
    },
    {
     "name": "stdout",
     "output_type": "stream",
     "text": [
      "--- Eval epoch-16, step-34 ---\n",
      "pr_auc: 0.5395\n",
      "roc_auc: 0.5873\n",
      "f1: 0.0000\n",
      "loss: 0.6838\n",
      "\n"
     ]
    },
    {
     "name": "stderr",
     "output_type": "stream",
     "text": [
      "\n"
     ]
    },
    {
     "data": {
      "application/vnd.jupyter.widget-view+json": {
       "model_id": "8c012eec7f98402cb637f50f99ee902c",
       "version_major": 2,
       "version_minor": 0
      },
      "text/plain": [
       "Epoch 17 / 50:   0%|          | 0/2 [00:00<?, ?it/s]"
      ]
     },
     "metadata": {},
     "output_type": "display_data"
    },
    {
     "name": "stdout",
     "output_type": "stream",
     "text": [
      "--- Train epoch-17, step-36 ---\n",
      "loss: 0.6559\n"
     ]
    },
    {
     "name": "stderr",
     "output_type": "stream",
     "text": [
      "Evaluation: 100%|███████████████████████████████████████████████████████████████████████| 1/1 [00:00<00:00, 229.91it/s]"
     ]
    },
    {
     "name": "stdout",
     "output_type": "stream",
     "text": [
      "--- Eval epoch-17, step-36 ---\n",
      "pr_auc: 0.5395\n",
      "roc_auc: 0.5873\n",
      "f1: 0.0000\n",
      "loss: 0.6836\n",
      "\n"
     ]
    },
    {
     "name": "stderr",
     "output_type": "stream",
     "text": [
      "\n"
     ]
    },
    {
     "data": {
      "application/vnd.jupyter.widget-view+json": {
       "model_id": "adb5e7aa25bb4ba2b4afbe4285f216d8",
       "version_major": 2,
       "version_minor": 0
      },
      "text/plain": [
       "Epoch 18 / 50:   0%|          | 0/2 [00:00<?, ?it/s]"
      ]
     },
     "metadata": {},
     "output_type": "display_data"
    },
    {
     "name": "stdout",
     "output_type": "stream",
     "text": [
      "--- Train epoch-18, step-38 ---\n",
      "loss: 0.6508\n"
     ]
    },
    {
     "name": "stderr",
     "output_type": "stream",
     "text": [
      "Evaluation: 100%|███████████████████████████████████████████████████████████████████████| 1/1 [00:00<00:00, 137.01it/s]"
     ]
    },
    {
     "name": "stdout",
     "output_type": "stream",
     "text": [
      "--- Eval epoch-18, step-38 ---\n",
      "pr_auc: 0.5395\n",
      "roc_auc: 0.5873\n",
      "f1: 0.0000\n",
      "loss: 0.6833\n",
      "\n"
     ]
    },
    {
     "name": "stderr",
     "output_type": "stream",
     "text": [
      "\n"
     ]
    },
    {
     "data": {
      "application/vnd.jupyter.widget-view+json": {
       "model_id": "b3fe096365ab4ca8976b81ecc0b592e3",
       "version_major": 2,
       "version_minor": 0
      },
      "text/plain": [
       "Epoch 19 / 50:   0%|          | 0/2 [00:00<?, ?it/s]"
      ]
     },
     "metadata": {},
     "output_type": "display_data"
    },
    {
     "name": "stdout",
     "output_type": "stream",
     "text": [
      "--- Train epoch-19, step-40 ---\n",
      "loss: 0.6500\n"
     ]
    },
    {
     "name": "stderr",
     "output_type": "stream",
     "text": [
      "Evaluation: 100%|███████████████████████████████████████████████████████████████████████| 1/1 [00:00<00:00, 231.93it/s]"
     ]
    },
    {
     "name": "stdout",
     "output_type": "stream",
     "text": [
      "--- Eval epoch-19, step-40 ---\n",
      "pr_auc: 0.5395\n",
      "roc_auc: 0.5873\n",
      "f1: 0.0000\n",
      "loss: 0.6830\n",
      "\n"
     ]
    },
    {
     "name": "stderr",
     "output_type": "stream",
     "text": [
      "\n"
     ]
    },
    {
     "data": {
      "application/vnd.jupyter.widget-view+json": {
       "model_id": "f35da805799841008f20123c121c3afe",
       "version_major": 2,
       "version_minor": 0
      },
      "text/plain": [
       "Epoch 20 / 50:   0%|          | 0/2 [00:00<?, ?it/s]"
      ]
     },
     "metadata": {},
     "output_type": "display_data"
    },
    {
     "name": "stdout",
     "output_type": "stream",
     "text": [
      "--- Train epoch-20, step-42 ---\n",
      "loss: 0.6467\n"
     ]
    },
    {
     "name": "stderr",
     "output_type": "stream",
     "text": [
      "Evaluation: 100%|███████████████████████████████████████████████████████████████████████| 1/1 [00:00<00:00, 149.18it/s]"
     ]
    },
    {
     "name": "stdout",
     "output_type": "stream",
     "text": [
      "--- Eval epoch-20, step-42 ---\n",
      "pr_auc: 0.5330\n",
      "roc_auc: 0.5714\n",
      "f1: 0.0000\n",
      "loss: 0.6826\n",
      "\n"
     ]
    },
    {
     "name": "stderr",
     "output_type": "stream",
     "text": [
      "\n"
     ]
    },
    {
     "data": {
      "application/vnd.jupyter.widget-view+json": {
       "model_id": "061023f9a1e04ec9bd0f9a11a6d8545b",
       "version_major": 2,
       "version_minor": 0
      },
      "text/plain": [
       "Epoch 21 / 50:   0%|          | 0/2 [00:00<?, ?it/s]"
      ]
     },
     "metadata": {},
     "output_type": "display_data"
    },
    {
     "name": "stdout",
     "output_type": "stream",
     "text": [
      "--- Train epoch-21, step-44 ---\n",
      "loss: 0.6431\n"
     ]
    },
    {
     "name": "stderr",
     "output_type": "stream",
     "text": [
      "Evaluation: 100%|███████████████████████████████████████████████████████████████████████| 1/1 [00:00<00:00, 321.82it/s]"
     ]
    },
    {
     "name": "stdout",
     "output_type": "stream",
     "text": [
      "--- Eval epoch-21, step-44 ---\n",
      "pr_auc: 0.5330\n",
      "roc_auc: 0.5714\n",
      "f1: 0.0000\n",
      "loss: 0.6822\n",
      "\n"
     ]
    },
    {
     "name": "stderr",
     "output_type": "stream",
     "text": [
      "\n"
     ]
    },
    {
     "data": {
      "application/vnd.jupyter.widget-view+json": {
       "model_id": "045838519c9a418db2097cfa1c05c183",
       "version_major": 2,
       "version_minor": 0
      },
      "text/plain": [
       "Epoch 22 / 50:   0%|          | 0/2 [00:00<?, ?it/s]"
      ]
     },
     "metadata": {},
     "output_type": "display_data"
    },
    {
     "name": "stdout",
     "output_type": "stream",
     "text": [
      "--- Train epoch-22, step-46 ---\n",
      "loss: 0.6403\n"
     ]
    },
    {
     "name": "stderr",
     "output_type": "stream",
     "text": [
      "Evaluation: 100%|███████████████████████████████████████████████████████████████████████| 1/1 [00:00<00:00, 158.04it/s]"
     ]
    },
    {
     "name": "stdout",
     "output_type": "stream",
     "text": [
      "--- Eval epoch-22, step-46 ---\n",
      "pr_auc: 0.5473\n",
      "roc_auc: 0.5873\n",
      "f1: 0.0000\n",
      "loss: 0.6817\n",
      "\n"
     ]
    },
    {
     "name": "stderr",
     "output_type": "stream",
     "text": [
      "\n"
     ]
    },
    {
     "data": {
      "application/vnd.jupyter.widget-view+json": {
       "model_id": "ea58f1e248d94699ae80898c8647c074",
       "version_major": 2,
       "version_minor": 0
      },
      "text/plain": [
       "Epoch 23 / 50:   0%|          | 0/2 [00:00<?, ?it/s]"
      ]
     },
     "metadata": {},
     "output_type": "display_data"
    },
    {
     "name": "stdout",
     "output_type": "stream",
     "text": [
      "--- Train epoch-23, step-48 ---\n",
      "loss: 0.6385\n"
     ]
    },
    {
     "name": "stderr",
     "output_type": "stream",
     "text": [
      "Evaluation: 100%|███████████████████████████████████████████████████████████████████████| 1/1 [00:00<00:00, 187.05it/s]"
     ]
    },
    {
     "name": "stdout",
     "output_type": "stream",
     "text": [
      "--- Eval epoch-23, step-48 ---\n",
      "pr_auc: 0.5473\n",
      "roc_auc: 0.5873\n",
      "f1: 0.0000\n",
      "loss: 0.6812\n",
      "\n"
     ]
    },
    {
     "name": "stderr",
     "output_type": "stream",
     "text": [
      "\n"
     ]
    },
    {
     "data": {
      "application/vnd.jupyter.widget-view+json": {
       "model_id": "956aa8423ffb4d85bf3d45bd4d012368",
       "version_major": 2,
       "version_minor": 0
      },
      "text/plain": [
       "Epoch 24 / 50:   0%|          | 0/2 [00:00<?, ?it/s]"
      ]
     },
     "metadata": {},
     "output_type": "display_data"
    },
    {
     "name": "stdout",
     "output_type": "stream",
     "text": [
      "--- Train epoch-24, step-50 ---\n",
      "loss: 0.6349\n"
     ]
    },
    {
     "name": "stderr",
     "output_type": "stream",
     "text": [
      "Evaluation: 100%|███████████████████████████████████████████████████████████████████████| 1/1 [00:00<00:00, 144.79it/s]"
     ]
    },
    {
     "name": "stdout",
     "output_type": "stream",
     "text": [
      "--- Eval epoch-24, step-50 ---\n",
      "pr_auc: 0.5371\n",
      "roc_auc: 0.5714\n",
      "f1: 0.0000\n",
      "loss: 0.6808\n",
      "\n"
     ]
    },
    {
     "name": "stderr",
     "output_type": "stream",
     "text": [
      "\n"
     ]
    },
    {
     "data": {
      "application/vnd.jupyter.widget-view+json": {
       "model_id": "1d0bb1608e4f4472b55e10df4ffca023",
       "version_major": 2,
       "version_minor": 0
      },
      "text/plain": [
       "Epoch 25 / 50:   0%|          | 0/2 [00:00<?, ?it/s]"
      ]
     },
     "metadata": {},
     "output_type": "display_data"
    },
    {
     "name": "stdout",
     "output_type": "stream",
     "text": [
      "--- Train epoch-25, step-52 ---\n",
      "loss: 0.6283\n"
     ]
    },
    {
     "name": "stderr",
     "output_type": "stream",
     "text": [
      "Evaluation: 100%|███████████████████████████████████████████████████████████████████████| 1/1 [00:00<00:00, 143.58it/s]"
     ]
    },
    {
     "name": "stdout",
     "output_type": "stream",
     "text": [
      "--- Eval epoch-25, step-52 ---\n",
      "pr_auc: 0.5371\n",
      "roc_auc: 0.5714\n",
      "f1: 0.0000\n",
      "loss: 0.6804\n",
      "\n"
     ]
    },
    {
     "name": "stderr",
     "output_type": "stream",
     "text": [
      "\n"
     ]
    },
    {
     "data": {
      "application/vnd.jupyter.widget-view+json": {
       "model_id": "b8ca3474e9b84f53be8cdf3a4be149e8",
       "version_major": 2,
       "version_minor": 0
      },
      "text/plain": [
       "Epoch 26 / 50:   0%|          | 0/2 [00:00<?, ?it/s]"
      ]
     },
     "metadata": {},
     "output_type": "display_data"
    },
    {
     "name": "stdout",
     "output_type": "stream",
     "text": [
      "--- Train epoch-26, step-54 ---\n",
      "loss: 0.6234\n"
     ]
    },
    {
     "name": "stderr",
     "output_type": "stream",
     "text": [
      "Evaluation: 100%|███████████████████████████████████████████████████████████████████████| 1/1 [00:00<00:00, 112.50it/s]"
     ]
    },
    {
     "name": "stdout",
     "output_type": "stream",
     "text": [
      "--- Eval epoch-26, step-54 ---\n",
      "pr_auc: 0.5413\n",
      "roc_auc: 0.5873\n",
      "f1: 0.0000\n",
      "loss: 0.6798\n",
      "\n"
     ]
    },
    {
     "name": "stderr",
     "output_type": "stream",
     "text": [
      "\n"
     ]
    },
    {
     "data": {
      "application/vnd.jupyter.widget-view+json": {
       "model_id": "02fc125d11d14c44a4fc38d40faa606d",
       "version_major": 2,
       "version_minor": 0
      },
      "text/plain": [
       "Epoch 27 / 50:   0%|          | 0/2 [00:00<?, ?it/s]"
      ]
     },
     "metadata": {},
     "output_type": "display_data"
    },
    {
     "name": "stdout",
     "output_type": "stream",
     "text": [
      "--- Train epoch-27, step-56 ---\n",
      "loss: 0.6202\n"
     ]
    },
    {
     "name": "stderr",
     "output_type": "stream",
     "text": [
      "Evaluation: 100%|███████████████████████████████████████████████████████████████████████| 1/1 [00:00<00:00, 137.13it/s]"
     ]
    },
    {
     "name": "stdout",
     "output_type": "stream",
     "text": [
      "--- Eval epoch-27, step-56 ---\n",
      "pr_auc: 0.5413\n",
      "roc_auc: 0.5873\n",
      "f1: 0.0000\n",
      "loss: 0.6793\n",
      "\n"
     ]
    },
    {
     "name": "stderr",
     "output_type": "stream",
     "text": [
      "\n"
     ]
    },
    {
     "data": {
      "application/vnd.jupyter.widget-view+json": {
       "model_id": "dbf01f536d174b1ca45677fc6ef5ffff",
       "version_major": 2,
       "version_minor": 0
      },
      "text/plain": [
       "Epoch 28 / 50:   0%|          | 0/2 [00:00<?, ?it/s]"
      ]
     },
     "metadata": {},
     "output_type": "display_data"
    },
    {
     "name": "stdout",
     "output_type": "stream",
     "text": [
      "--- Train epoch-28, step-58 ---\n",
      "loss: 0.6140\n"
     ]
    },
    {
     "name": "stderr",
     "output_type": "stream",
     "text": [
      "Evaluation: 100%|███████████████████████████████████████████████████████████████████████| 1/1 [00:00<00:00, 148.93it/s]"
     ]
    },
    {
     "name": "stdout",
     "output_type": "stream",
     "text": [
      "--- Eval epoch-28, step-58 ---\n",
      "pr_auc: 0.5413\n",
      "roc_auc: 0.5873\n",
      "f1: 0.0000\n",
      "loss: 0.6787\n",
      "\n"
     ]
    },
    {
     "name": "stderr",
     "output_type": "stream",
     "text": [
      "\n"
     ]
    },
    {
     "data": {
      "application/vnd.jupyter.widget-view+json": {
       "model_id": "d3f986aed4fe45ddb7f2c051db035c2c",
       "version_major": 2,
       "version_minor": 0
      },
      "text/plain": [
       "Epoch 29 / 50:   0%|          | 0/2 [00:00<?, ?it/s]"
      ]
     },
     "metadata": {},
     "output_type": "display_data"
    },
    {
     "name": "stdout",
     "output_type": "stream",
     "text": [
      "--- Train epoch-29, step-60 ---\n",
      "loss: 0.6084\n"
     ]
    },
    {
     "name": "stderr",
     "output_type": "stream",
     "text": [
      "Evaluation: 100%|███████████████████████████████████████████████████████████████████████| 1/1 [00:00<00:00, 114.46it/s]"
     ]
    },
    {
     "name": "stdout",
     "output_type": "stream",
     "text": [
      "--- Eval epoch-29, step-60 ---\n",
      "pr_auc: 0.5095\n",
      "roc_auc: 0.5556\n",
      "f1: 0.0000\n",
      "loss: 0.6781\n",
      "\n"
     ]
    },
    {
     "name": "stderr",
     "output_type": "stream",
     "text": [
      "\n"
     ]
    },
    {
     "data": {
      "application/vnd.jupyter.widget-view+json": {
       "model_id": "9941c78903c24db88247b2950464a752",
       "version_major": 2,
       "version_minor": 0
      },
      "text/plain": [
       "Epoch 30 / 50:   0%|          | 0/2 [00:00<?, ?it/s]"
      ]
     },
     "metadata": {},
     "output_type": "display_data"
    },
    {
     "name": "stdout",
     "output_type": "stream",
     "text": [
      "--- Train epoch-30, step-62 ---\n",
      "loss: 0.6035\n"
     ]
    },
    {
     "name": "stderr",
     "output_type": "stream",
     "text": [
      "Evaluation: 100%|███████████████████████████████████████████████████████████████████████| 1/1 [00:00<00:00, 147.19it/s]"
     ]
    },
    {
     "name": "stdout",
     "output_type": "stream",
     "text": [
      "--- Eval epoch-30, step-62 ---\n",
      "pr_auc: 0.5063\n",
      "roc_auc: 0.5556\n",
      "f1: 0.0000\n",
      "loss: 0.6775\n",
      "\n"
     ]
    },
    {
     "name": "stderr",
     "output_type": "stream",
     "text": [
      "\n"
     ]
    },
    {
     "data": {
      "application/vnd.jupyter.widget-view+json": {
       "model_id": "9da2c21ab4634e0fbcc8f7caca303af8",
       "version_major": 2,
       "version_minor": 0
      },
      "text/plain": [
       "Epoch 31 / 50:   0%|          | 0/2 [00:00<?, ?it/s]"
      ]
     },
     "metadata": {},
     "output_type": "display_data"
    },
    {
     "name": "stdout",
     "output_type": "stream",
     "text": [
      "--- Train epoch-31, step-64 ---\n",
      "loss: 0.5978\n"
     ]
    },
    {
     "name": "stderr",
     "output_type": "stream",
     "text": [
      "Evaluation: 100%|███████████████████████████████████████████████████████████████████████| 1/1 [00:00<00:00, 117.04it/s]"
     ]
    },
    {
     "name": "stdout",
     "output_type": "stream",
     "text": [
      "--- Eval epoch-31, step-64 ---\n",
      "pr_auc: 0.5063\n"
     ]
    },
    {
     "name": "stderr",
     "output_type": "stream",
     "text": [
      "\n"
     ]
    },
    {
     "name": "stdout",
     "output_type": "stream",
     "text": [
      "roc_auc: 0.5556\n",
      "f1: 0.0000\n",
      "loss: 0.6768\n",
      "\n"
     ]
    },
    {
     "data": {
      "application/vnd.jupyter.widget-view+json": {
       "model_id": "2a8789d4b6864f3eb37815e351e0293d",
       "version_major": 2,
       "version_minor": 0
      },
      "text/plain": [
       "Epoch 32 / 50:   0%|          | 0/2 [00:00<?, ?it/s]"
      ]
     },
     "metadata": {},
     "output_type": "display_data"
    },
    {
     "name": "stdout",
     "output_type": "stream",
     "text": [
      "--- Train epoch-32, step-66 ---\n",
      "loss: 0.5906\n"
     ]
    },
    {
     "name": "stderr",
     "output_type": "stream",
     "text": [
      "Evaluation: 100%|███████████████████████████████████████████████████████████████████████| 1/1 [00:00<00:00, 104.32it/s]\n"
     ]
    },
    {
     "name": "stdout",
     "output_type": "stream",
     "text": [
      "--- Eval epoch-32, step-66 ---\n",
      "pr_auc: 0.5063\n",
      "roc_auc: 0.5556\n",
      "f1: 0.0000\n",
      "loss: 0.6761\n",
      "\n"
     ]
    },
    {
     "data": {
      "application/vnd.jupyter.widget-view+json": {
       "model_id": "15ffe467c5244c9bbc9d88319e184c5d",
       "version_major": 2,
       "version_minor": 0
      },
      "text/plain": [
       "Epoch 33 / 50:   0%|          | 0/2 [00:00<?, ?it/s]"
      ]
     },
     "metadata": {},
     "output_type": "display_data"
    },
    {
     "name": "stdout",
     "output_type": "stream",
     "text": [
      "--- Train epoch-33, step-68 ---\n",
      "loss: 0.5878\n"
     ]
    },
    {
     "name": "stderr",
     "output_type": "stream",
     "text": [
      "Evaluation: 100%|███████████████████████████████████████████████████████████████████████| 1/1 [00:00<00:00, 455.26it/s]"
     ]
    },
    {
     "name": "stdout",
     "output_type": "stream",
     "text": [
      "--- Eval epoch-33, step-68 ---\n",
      "pr_auc: 0.5302\n",
      "roc_auc: 0.5714\n",
      "f1: 0.0000\n",
      "loss: 0.6755\n",
      "\n"
     ]
    },
    {
     "name": "stderr",
     "output_type": "stream",
     "text": [
      "\n"
     ]
    },
    {
     "data": {
      "application/vnd.jupyter.widget-view+json": {
       "model_id": "2a435b57e39447f88289aa0c120ea5cb",
       "version_major": 2,
       "version_minor": 0
      },
      "text/plain": [
       "Epoch 34 / 50:   0%|          | 0/2 [00:00<?, ?it/s]"
      ]
     },
     "metadata": {},
     "output_type": "display_data"
    },
    {
     "name": "stdout",
     "output_type": "stream",
     "text": [
      "--- Train epoch-34, step-70 ---\n",
      "loss: 0.5796\n"
     ]
    },
    {
     "name": "stderr",
     "output_type": "stream",
     "text": [
      "Evaluation: 100%|███████████████████████████████████████████████████████████████████████| 1/1 [00:00<00:00, 458.90it/s]"
     ]
    },
    {
     "name": "stdout",
     "output_type": "stream",
     "text": [
      "--- Eval epoch-34, step-70 ---\n",
      "pr_auc: 0.5302\n",
      "roc_auc: 0.5714\n",
      "f1: 0.0000\n",
      "loss: 0.6746\n",
      "\n"
     ]
    },
    {
     "name": "stderr",
     "output_type": "stream",
     "text": [
      "\n"
     ]
    },
    {
     "data": {
      "application/vnd.jupyter.widget-view+json": {
       "model_id": "d62c07565b104db482dc0c285ee4c369",
       "version_major": 2,
       "version_minor": 0
      },
      "text/plain": [
       "Epoch 35 / 50:   0%|          | 0/2 [00:00<?, ?it/s]"
      ]
     },
     "metadata": {},
     "output_type": "display_data"
    },
    {
     "name": "stdout",
     "output_type": "stream",
     "text": [
      "--- Train epoch-35, step-72 ---\n",
      "loss: 0.5706\n"
     ]
    },
    {
     "name": "stderr",
     "output_type": "stream",
     "text": [
      "Evaluation: 100%|███████████████████████████████████████████████████████████████████████| 1/1 [00:00<00:00, 341.86it/s]\n"
     ]
    },
    {
     "name": "stdout",
     "output_type": "stream",
     "text": [
      "--- Eval epoch-35, step-72 ---\n",
      "pr_auc: 0.5302\n",
      "roc_auc: 0.5714\n",
      "f1: 0.0000\n",
      "loss: 0.6738\n",
      "\n"
     ]
    },
    {
     "data": {
      "application/vnd.jupyter.widget-view+json": {
       "model_id": "7e2add0cb1884c4992f15c67539b665d",
       "version_major": 2,
       "version_minor": 0
      },
      "text/plain": [
       "Epoch 36 / 50:   0%|          | 0/2 [00:00<?, ?it/s]"
      ]
     },
     "metadata": {},
     "output_type": "display_data"
    },
    {
     "name": "stdout",
     "output_type": "stream",
     "text": [
      "--- Train epoch-36, step-74 ---\n",
      "loss: 0.5630\n"
     ]
    },
    {
     "name": "stderr",
     "output_type": "stream",
     "text": [
      "Evaluation: 100%|███████████████████████████████████████████████████████████████████████| 1/1 [00:00<00:00, 238.52it/s]"
     ]
    },
    {
     "name": "stdout",
     "output_type": "stream",
     "text": [
      "--- Eval epoch-36, step-74 ---\n",
      "pr_auc: 0.5302\n",
      "roc_auc: 0.5714\n",
      "f1: 0.0000\n",
      "loss: 0.6730\n",
      "\n"
     ]
    },
    {
     "name": "stderr",
     "output_type": "stream",
     "text": [
      "\n"
     ]
    },
    {
     "data": {
      "application/vnd.jupyter.widget-view+json": {
       "model_id": "d4d65bb075d648f68e13ba1b8b47a42d",
       "version_major": 2,
       "version_minor": 0
      },
      "text/plain": [
       "Epoch 37 / 50:   0%|          | 0/2 [00:00<?, ?it/s]"
      ]
     },
     "metadata": {},
     "output_type": "display_data"
    },
    {
     "name": "stdout",
     "output_type": "stream",
     "text": [
      "--- Train epoch-37, step-76 ---\n",
      "loss: 0.5550\n"
     ]
    },
    {
     "name": "stderr",
     "output_type": "stream",
     "text": [
      "Evaluation: 100%|███████████████████████████████████████████████████████████████████████| 1/1 [00:00<00:00, 274.42it/s]"
     ]
    },
    {
     "name": "stdout",
     "output_type": "stream",
     "text": [
      "--- Eval epoch-37, step-76 ---\n",
      "pr_auc: 0.5237\n",
      "roc_auc: 0.5556\n",
      "f1: 0.4000\n",
      "loss: 0.6725\n",
      "\n"
     ]
    },
    {
     "name": "stderr",
     "output_type": "stream",
     "text": [
      "\n"
     ]
    },
    {
     "data": {
      "application/vnd.jupyter.widget-view+json": {
       "model_id": "20c637dfc3074e6896b258e9c57738ef",
       "version_major": 2,
       "version_minor": 0
      },
      "text/plain": [
       "Epoch 38 / 50:   0%|          | 0/2 [00:00<?, ?it/s]"
      ]
     },
     "metadata": {},
     "output_type": "display_data"
    },
    {
     "name": "stdout",
     "output_type": "stream",
     "text": [
      "--- Train epoch-38, step-78 ---\n",
      "loss: 0.5472\n"
     ]
    },
    {
     "name": "stderr",
     "output_type": "stream",
     "text": [
      "Evaluation: 100%|███████████████████████████████████████████████████████████████████████| 1/1 [00:00<00:00, 249.42it/s]"
     ]
    },
    {
     "name": "stdout",
     "output_type": "stream",
     "text": [
      "--- Eval epoch-38, step-78 ---\n",
      "pr_auc: 0.5237\n",
      "roc_auc: 0.5556\n",
      "f1: 0.3636\n",
      "loss: 0.6718\n",
      "\n"
     ]
    },
    {
     "name": "stderr",
     "output_type": "stream",
     "text": [
      "\n"
     ]
    },
    {
     "data": {
      "application/vnd.jupyter.widget-view+json": {
       "model_id": "861c314dc6134ac883c087965377cfdd",
       "version_major": 2,
       "version_minor": 0
      },
      "text/plain": [
       "Epoch 39 / 50:   0%|          | 0/2 [00:00<?, ?it/s]"
      ]
     },
     "metadata": {},
     "output_type": "display_data"
    },
    {
     "name": "stdout",
     "output_type": "stream",
     "text": [
      "--- Train epoch-39, step-80 ---\n",
      "loss: 0.5377\n"
     ]
    },
    {
     "name": "stderr",
     "output_type": "stream",
     "text": [
      "Evaluation: 100%|███████████████████████████████████████████████████████████████████████| 1/1 [00:00<00:00, 113.52it/s]"
     ]
    },
    {
     "name": "stdout",
     "output_type": "stream",
     "text": [
      "--- Eval epoch-39, step-80 ---\n",
      "pr_auc: 0.5237\n",
      "roc_auc: 0.5556\n",
      "f1: 0.3636\n",
      "loss: 0.6713\n",
      "\n"
     ]
    },
    {
     "name": "stderr",
     "output_type": "stream",
     "text": [
      "\n"
     ]
    },
    {
     "data": {
      "application/vnd.jupyter.widget-view+json": {
       "model_id": "ea597cc94d43451e9ce4644bf6a3f45e",
       "version_major": 2,
       "version_minor": 0
      },
      "text/plain": [
       "Epoch 40 / 50:   0%|          | 0/2 [00:00<?, ?it/s]"
      ]
     },
     "metadata": {},
     "output_type": "display_data"
    },
    {
     "name": "stdout",
     "output_type": "stream",
     "text": [
      "--- Train epoch-40, step-82 ---\n",
      "loss: 0.5259\n"
     ]
    },
    {
     "name": "stderr",
     "output_type": "stream",
     "text": [
      "Evaluation: 100%|███████████████████████████████████████████████████████████████████████| 1/1 [00:00<00:00, 241.14it/s]"
     ]
    },
    {
     "name": "stdout",
     "output_type": "stream",
     "text": [
      "--- Eval epoch-40, step-82 ---\n",
      "pr_auc: 0.5237\n",
      "roc_auc: 0.5556\n",
      "f1: 0.5000\n",
      "loss: 0.6707\n",
      "\n"
     ]
    },
    {
     "name": "stderr",
     "output_type": "stream",
     "text": [
      "\n"
     ]
    },
    {
     "data": {
      "application/vnd.jupyter.widget-view+json": {
       "model_id": "73ec465282ec4bc1b7fd4deaeb88503a",
       "version_major": 2,
       "version_minor": 0
      },
      "text/plain": [
       "Epoch 41 / 50:   0%|          | 0/2 [00:00<?, ?it/s]"
      ]
     },
     "metadata": {},
     "output_type": "display_data"
    },
    {
     "name": "stdout",
     "output_type": "stream",
     "text": [
      "--- Train epoch-41, step-84 ---\n",
      "loss: 0.5167\n"
     ]
    },
    {
     "name": "stderr",
     "output_type": "stream",
     "text": [
      "Evaluation: 100%|███████████████████████████████████████████████████████████████████████| 1/1 [00:00<00:00, 243.20it/s]"
     ]
    },
    {
     "name": "stdout",
     "output_type": "stream",
     "text": [
      "--- Eval epoch-41, step-84 ---\n",
      "pr_auc: 0.5292\n",
      "roc_auc: 0.5714\n",
      "f1: 0.5000\n",
      "loss: 0.6703\n",
      "\n"
     ]
    },
    {
     "name": "stderr",
     "output_type": "stream",
     "text": [
      "\n"
     ]
    },
    {
     "data": {
      "application/vnd.jupyter.widget-view+json": {
       "model_id": "c7354cfd50b248f1949825a8df49731a",
       "version_major": 2,
       "version_minor": 0
      },
      "text/plain": [
       "Epoch 42 / 50:   0%|          | 0/2 [00:00<?, ?it/s]"
      ]
     },
     "metadata": {},
     "output_type": "display_data"
    },
    {
     "name": "stdout",
     "output_type": "stream",
     "text": [
      "--- Train epoch-42, step-86 ---\n",
      "loss: 0.5077\n"
     ]
    },
    {
     "name": "stderr",
     "output_type": "stream",
     "text": [
      "Evaluation: 100%|███████████████████████████████████████████████████████████████████████| 1/1 [00:00<00:00, 347.44it/s]"
     ]
    },
    {
     "name": "stdout",
     "output_type": "stream",
     "text": [
      "--- Eval epoch-42, step-86 ---\n",
      "pr_auc: 0.5292\n",
      "roc_auc: 0.5714\n",
      "f1: 0.5000\n",
      "loss: 0.6701\n",
      "\n"
     ]
    },
    {
     "name": "stderr",
     "output_type": "stream",
     "text": [
      "\n"
     ]
    },
    {
     "data": {
      "application/vnd.jupyter.widget-view+json": {
       "model_id": "3c00ea115d60433095a2e4d61ad9ced3",
       "version_major": 2,
       "version_minor": 0
      },
      "text/plain": [
       "Epoch 43 / 50:   0%|          | 0/2 [00:00<?, ?it/s]"
      ]
     },
     "metadata": {},
     "output_type": "display_data"
    },
    {
     "name": "stdout",
     "output_type": "stream",
     "text": [
      "--- Train epoch-43, step-88 ---\n",
      "loss: 0.4962\n"
     ]
    },
    {
     "name": "stderr",
     "output_type": "stream",
     "text": [
      "Evaluation: 100%|███████████████████████████████████████████████████████████████████████| 1/1 [00:00<00:00, 438.00it/s]"
     ]
    },
    {
     "name": "stdout",
     "output_type": "stream",
     "text": [
      "--- Eval epoch-43, step-88 ---\n",
      "pr_auc: 0.5292\n",
      "roc_auc: 0.5714\n",
      "f1: 0.5000\n",
      "loss: 0.6700\n",
      "\n"
     ]
    },
    {
     "name": "stderr",
     "output_type": "stream",
     "text": [
      "\n"
     ]
    },
    {
     "data": {
      "application/vnd.jupyter.widget-view+json": {
       "model_id": "325fc7e08520454c8379d747ea1ee20b",
       "version_major": 2,
       "version_minor": 0
      },
      "text/plain": [
       "Epoch 44 / 50:   0%|          | 0/2 [00:00<?, ?it/s]"
      ]
     },
     "metadata": {},
     "output_type": "display_data"
    },
    {
     "name": "stdout",
     "output_type": "stream",
     "text": [
      "--- Train epoch-44, step-90 ---\n",
      "loss: 0.4850\n"
     ]
    },
    {
     "name": "stderr",
     "output_type": "stream",
     "text": [
      "Evaluation: 100%|███████████████████████████████████████████████████████████████████████| 1/1 [00:00<00:00, 204.12it/s]\n"
     ]
    },
    {
     "name": "stdout",
     "output_type": "stream",
     "text": [
      "--- Eval epoch-44, step-90 ---\n",
      "pr_auc: 0.5292\n",
      "roc_auc: 0.5714\n",
      "f1: 0.5000\n",
      "loss: 0.6702\n",
      "\n"
     ]
    },
    {
     "data": {
      "application/vnd.jupyter.widget-view+json": {
       "model_id": "1d4253c8c5a344189e3c75ddc5757547",
       "version_major": 2,
       "version_minor": 0
      },
      "text/plain": [
       "Epoch 45 / 50:   0%|          | 0/2 [00:00<?, ?it/s]"
      ]
     },
     "metadata": {},
     "output_type": "display_data"
    },
    {
     "name": "stdout",
     "output_type": "stream",
     "text": [
      "--- Train epoch-45, step-92 ---\n",
      "loss: 0.4731\n"
     ]
    },
    {
     "name": "stderr",
     "output_type": "stream",
     "text": [
      "Evaluation: 100%|███████████████████████████████████████████████████████████████████████| 1/1 [00:00<00:00, 305.75it/s]"
     ]
    },
    {
     "name": "stdout",
     "output_type": "stream",
     "text": [
      "--- Eval epoch-45, step-92 ---\n",
      "pr_auc: 0.5054\n",
      "roc_auc: 0.5556\n",
      "f1: 0.5000\n",
      "loss: 0.6705\n"
     ]
    },
    {
     "name": "stderr",
     "output_type": "stream",
     "text": [
      "\n"
     ]
    },
    {
     "name": "stdout",
     "output_type": "stream",
     "text": [
      "\n"
     ]
    },
    {
     "data": {
      "application/vnd.jupyter.widget-view+json": {
       "model_id": "91562a468088434897cd3582c9a5ae57",
       "version_major": 2,
       "version_minor": 0
      },
      "text/plain": [
       "Epoch 46 / 50:   0%|          | 0/2 [00:00<?, ?it/s]"
      ]
     },
     "metadata": {},
     "output_type": "display_data"
    },
    {
     "name": "stdout",
     "output_type": "stream",
     "text": [
      "--- Train epoch-46, step-94 ---\n",
      "loss: 0.4581\n"
     ]
    },
    {
     "name": "stderr",
     "output_type": "stream",
     "text": [
      "Evaluation: 100%|███████████████████████████████████████████████████████████████████████| 1/1 [00:00<00:00, 333.41it/s]"
     ]
    },
    {
     "name": "stdout",
     "output_type": "stream",
     "text": [
      "--- Eval epoch-46, step-94 ---\n",
      "pr_auc: 0.5054\n",
      "roc_auc: 0.5556\n",
      "f1: 0.5000\n",
      "loss: 0.6712\n"
     ]
    },
    {
     "name": "stderr",
     "output_type": "stream",
     "text": [
      "\n"
     ]
    },
    {
     "name": "stdout",
     "output_type": "stream",
     "text": [
      "\n"
     ]
    },
    {
     "data": {
      "application/vnd.jupyter.widget-view+json": {
       "model_id": "e9c0a1e7834143d4804152feabff7e58",
       "version_major": 2,
       "version_minor": 0
      },
      "text/plain": [
       "Epoch 47 / 50:   0%|          | 0/2 [00:00<?, ?it/s]"
      ]
     },
     "metadata": {},
     "output_type": "display_data"
    },
    {
     "name": "stdout",
     "output_type": "stream",
     "text": [
      "--- Train epoch-47, step-96 ---\n",
      "loss: 0.4476\n"
     ]
    },
    {
     "name": "stderr",
     "output_type": "stream",
     "text": [
      "Evaluation: 100%|███████████████████████████████████████████████████████████████████████| 1/1 [00:00<00:00, 322.37it/s]"
     ]
    },
    {
     "name": "stdout",
     "output_type": "stream",
     "text": [
      "--- Eval epoch-47, step-96 ---\n",
      "pr_auc: 0.4999\n",
      "roc_auc: 0.5397\n",
      "f1: 0.5000\n",
      "loss: 0.6724\n",
      "\n"
     ]
    },
    {
     "name": "stderr",
     "output_type": "stream",
     "text": [
      "\n"
     ]
    },
    {
     "data": {
      "application/vnd.jupyter.widget-view+json": {
       "model_id": "e8633d89a06f48c2830a4962dfd8e468",
       "version_major": 2,
       "version_minor": 0
      },
      "text/plain": [
       "Epoch 48 / 50:   0%|          | 0/2 [00:00<?, ?it/s]"
      ]
     },
     "metadata": {},
     "output_type": "display_data"
    },
    {
     "name": "stdout",
     "output_type": "stream",
     "text": [
      "--- Train epoch-48, step-98 ---\n",
      "loss: 0.4350\n"
     ]
    },
    {
     "name": "stderr",
     "output_type": "stream",
     "text": [
      "Evaluation: 100%|███████████████████████████████████████████████████████████████████████| 1/1 [00:00<00:00, 158.69it/s]"
     ]
    },
    {
     "name": "stdout",
     "output_type": "stream",
     "text": [
      "--- Eval epoch-48, step-98 ---\n",
      "pr_auc: 0.4999\n",
      "roc_auc: 0.5397\n",
      "f1: 0.5000\n",
      "loss: 0.6736\n",
      "\n"
     ]
    },
    {
     "name": "stderr",
     "output_type": "stream",
     "text": [
      "\n"
     ]
    },
    {
     "data": {
      "application/vnd.jupyter.widget-view+json": {
       "model_id": "cb202afc862b438ebae76cdf1ffc972a",
       "version_major": 2,
       "version_minor": 0
      },
      "text/plain": [
       "Epoch 49 / 50:   0%|          | 0/2 [00:00<?, ?it/s]"
      ]
     },
     "metadata": {},
     "output_type": "display_data"
    },
    {
     "name": "stdout",
     "output_type": "stream",
     "text": [
      "--- Train epoch-49, step-100 ---\n",
      "loss: 0.4221\n"
     ]
    },
    {
     "name": "stderr",
     "output_type": "stream",
     "text": [
      "Evaluation: 100%|███████████████████████████████████████████████████████████████████████| 1/1 [00:00<00:00, 233.82it/s]"
     ]
    },
    {
     "name": "stdout",
     "output_type": "stream",
     "text": [
      "--- Eval epoch-49, step-100 ---\n",
      "pr_auc: 0.4999\n",
      "roc_auc: 0.5397\n",
      "f1: 0.5000\n",
      "loss: 0.6751\n",
      "Loaded best model\n"
     ]
    },
    {
     "name": "stderr",
     "output_type": "stream",
     "text": [
      "\n"
     ]
    }
   ],
   "source": [
    "from pyhealth.trainer import Trainer\n",
    "\n",
    "# STEP 4: define trainer\n",
    "trainer = Trainer(model=model)\n",
    "\n",
    "trainer.train(\n",
    "    train_dataloader=train_dataloader,\n",
    "    val_dataloader=val_dataloader,\n",
    "    epochs=50,\n",
    "    monitor=\"roc_auc\",\n",
    ") # model is training ...\n"
   ]
  },
  {
   "cell_type": "markdown",
   "id": "cb4640c1",
   "metadata": {},
   "source": [
    "## STEP5: model evaluation\n",
    "\n",
    "Following model training, we offer two evaluation methods for the optimized deep\n",
    "learning model through the [pyhealth.metrics](https://pyhealth.readthedocs.io/en/latest/api/metrics.html). \n",
    "\n",
    "PyHealth offers an array\n",
    "of metrics suitable for assessing binary classification, multi-class classification, and\n",
    "multi-label classification problems, alongside fairness metrics and advanced model\n",
    "calibration metrics."
   ]
  },
  {
   "cell_type": "code",
   "execution_count": 24,
   "id": "3a5ced45",
   "metadata": {},
   "outputs": [
    {
     "name": "stderr",
     "output_type": "stream",
     "text": [
      "Evaluation: 100%|███████████████████████████████████████████████████████████████████████| 1/1 [00:00<00:00, 205.15it/s]\n"
     ]
    },
    {
     "name": "stdout",
     "output_type": "stream",
     "text": [
      "{'pr_auc': 0.5818931986585775, 'roc_auc': 0.39772727272727276, 'f1': 0.0, 'loss': 0.7247440218925476}\n"
     ]
    },
    {
     "name": "stderr",
     "output_type": "stream",
     "text": [
      "Evaluation: 100%|███████████████████████████████████████████████████████████████████████| 1/1 [00:00<00:00, 155.38it/s]\n"
     ]
    },
    {
     "data": {
      "text/plain": [
       "{'pr_auc': 0.5818931986585775, 'roc_auc': 0.39772727272727276, 'f1': 0.0}"
      ]
     },
     "execution_count": 24,
     "metadata": {},
     "output_type": "execute_result"
    }
   ],
   "source": [
    "# method 1\n",
    "result = trainer.evaluate(test_dataloader)\n",
    "print (result)\n",
    "\n",
    "# method 2\n",
    "from pyhealth.metrics.binary import binary_metrics_fn\n",
    "\n",
    "y_true, y_prob, loss = trainer.inference(test_dataloader)\n",
    "binary_metrics_fn(\n",
    "    y_true,\n",
    "    y_prob,\n",
    "    metrics=[\"pr_auc\", \"roc_auc\", \"f1\"]\n",
    ")"
   ]
  },
  {
   "cell_type": "markdown",
   "id": "2d72a5e5",
   "metadata": {},
   "source": [
    "- Note that the performance is bad on MIMIC-IV-demo dataset since it only contains 100 patients, which makes the model overfit. You could try to download the original MIMIC-IV dataset and re-run the pipeline."
   ]
  },
  {
   "cell_type": "code",
   "execution_count": null,
   "id": "df5effc1",
   "metadata": {},
   "outputs": [],
   "source": []
  }
 ],
 "metadata": {
  "kernelspec": {
   "display_name": "Python 3",
   "language": "python",
   "name": "python3"
  },
  "language_info": {
   "codemirror_mode": {
    "name": "ipython",
    "version": 3
   },
   "file_extension": ".py",
   "mimetype": "text/x-python",
   "name": "python",
   "nbconvert_exporter": "python",
   "pygments_lexer": "ipython3",
   "version": "3.9.18"
  }
 },
 "nbformat": 4,
 "nbformat_minor": 5
}
