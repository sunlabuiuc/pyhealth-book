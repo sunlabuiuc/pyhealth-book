{
 "cells": [
  {
   "cell_type": "markdown",
   "id": "775dff6b",
   "metadata": {},
   "source": [
    "[PyHealth](https://pyhealth.readthedocs.io/en/latest/) is a Python library designed for healthcare data analysis, providing a\n",
    "range of tools and functionalities that simplify the process of building, training, and\n",
    "evaluating healthcare models.\n",
    "\n",
    "- Here, we will use the PyHealth package to handle <u>readmission prediction</u> task on [MIMIC-IV](https://physionet.org/content/mimiciv/0.4/) datasets. The package provides a whole suite of API\n",
    "modules, covering MIMIC-IV data processing, DNN model initialization, training,\n",
    "and evaluation. \n",
    "\n",
    "- The readmission task is defined by <u>using the procedure, medication, diagnosis codes from the current visit to predict\n",
    "whether the patient will be readmitted into ICU within 7 days</u>.\n",
    "\n",
    "Let us start step by step."
   ]
  },
  {
   "cell_type": "markdown",
   "id": "a2e87ac7",
   "metadata": {},
   "source": [
    "## STEP1: dataset processing\n",
    "\n",
    "The first step is to preprocess the MIMIC-IV data. The MIMIC-IV and other EHR\n",
    "databases all have heterogeneous and complicated file structures. Each type of clinical\n",
    "events will maintain a CSV table while these tables are connected by the unique patient\n",
    "visit ID. \n",
    "\n",
    "Before feeding the dataset into deep learning models, researchers usually join\n",
    "tables together and filter invalid records, etc. Here, we leverage\n",
    "the diagnosis, procedure, and medication tables as feature entries for the readmission\n",
    "prediction tasks. Lucikly, PyHealth provides the [pyhealth.datasets.MIMIC4Dataset](https://pyhealth.readthedocs.io/en/latest/api/datasets/pyhealth.datasets.MIMIC4Dataset.html) API to handle the data processing step.\n",
    "\n",
    "Calling the MIMIC4Dataset API requires the root of MIMIC-IV database and the\n",
    "data tables that we want to use for features (diagnoses, procedures, and prescriptions)."
   ]
  },
  {
   "cell_type": "code",
   "execution_count": 1,
   "id": "7b42536d",
   "metadata": {},
   "outputs": [
    {
     "name": "stderr",
     "output_type": "stream",
     "text": [
      "/home/chaoqiy2/miniconda3/lib/python3.9/site-packages/torchvision/io/image.py:13: UserWarning: Failed to load image Python extension: libtorch_cuda_cu.so: cannot open shared object file: No such file or directory\n",
      "  warn(f\"Failed to load image Python extension: {e}\")\n"
     ]
    },
    {
     "name": "stdout",
     "output_type": "stream",
     "text": [
      "INFO: Pandarallel will run on 64 workers.\n",
      "INFO: Pandarallel will use Memory file system to transfer data between the main process and workers.\n",
      "finish basic patient information parsing : 171.1595709323883s\n",
      "finish parsing diagnoses_icd : 146.14841985702515s\n",
      "finish parsing procedures_icd : 66.90621590614319s\n",
      "finish parsing prescriptions : 924.1118702888489s\n"
     ]
    },
    {
     "name": "stderr",
     "output_type": "stream",
     "text": [
      "Mapping codes: 100%|██████████████████████████████████████████████████████████████████████| 190279/190279 [00:13<00:00, 14490.83it/s]\n"
     ]
    },
    {
     "name": "stdout",
     "output_type": "stream",
     "text": [
      "\n",
      "Statistics of base dataset (dev=False):\n",
      "\t- Dataset: MIMIC4Dataset\n",
      "\t- Number of patients: 190279\n",
      "\t- Number of visits: 454324\n",
      "\t- Number of visits per patient: 2.3877\n",
      "\t- Number of events per visit in diagnoses_icd: 11.0205\n",
      "\t- Number of events per visit in procedures_icd: 1.5498\n",
      "\t- Number of events per visit in prescriptions: 35.6424\n",
      "\n"
     ]
    },
    {
     "data": {
      "text/plain": [
       "'\\nStatistics of base dataset (dev=False):\\n\\t- Dataset: MIMIC4Dataset\\n\\t- Number of patients: 190279\\n\\t- Number of visits: 454324\\n\\t- Number of visits per patient: 2.3877\\n\\t- Number of events per visit in diagnoses_icd: 11.0205\\n\\t- Number of events per visit in procedures_icd: 1.5498\\n\\t- Number of events per visit in prescriptions: 35.6424\\n'"
      ]
     },
     "execution_count": 1,
     "metadata": {},
     "output_type": "execute_result"
    }
   ],
   "source": [
    "from pyhealth.datasets import MIMIC4Dataset\n",
    "\n",
    "mimic4_ds = MIMIC4Dataset(\n",
    "    root=\"/srv/local/data/physionet.org/files/mimiciv/2.0/hosp\",\n",
    "    tables=[\"diagnoses_icd\", \"procedures_icd\", \"prescriptions\"],\n",
    ")\n",
    "\n",
    "mimic4_ds.stat()"
   ]
  },
  {
   "cell_type": "code",
   "execution_count": 2,
   "id": "299d2c34",
   "metadata": {},
   "outputs": [
    {
     "data": {
      "text/plain": [
       "('10000084', Patient 10000084 with 2 visits)"
      ]
     },
     "execution_count": 2,
     "metadata": {},
     "output_type": "execute_result"
    }
   ],
   "source": [
    "# query the patient level information\n",
    "\n",
    "patients = mimic4_ds.patients\n",
    "patient_id, patient_obj = list(patients.items())[2]\n",
    "patient_id, patient_obj"
   ]
  },
  {
   "cell_type": "code",
   "execution_count": 3,
   "id": "c94a458a",
   "metadata": {},
   "outputs": [
    {
     "data": {
      "text/plain": [
       "('23052089',\n",
       " Visit 23052089 from patient 10000084 with 19 events from tables ['diagnoses_icd', 'prescriptions'])"
      ]
     },
     "execution_count": 3,
     "metadata": {},
     "output_type": "execute_result"
    }
   ],
   "source": [
    "# query the visit level information\n",
    "\n",
    "visits = patient_obj.visits\n",
    "visit_id, visit_obj = list(visits.items())[0] # the 0-th visit\n",
    "visit_id, visit_obj"
   ]
  },
  {
   "cell_type": "code",
   "execution_count": 4,
   "id": "8804c48c",
   "metadata": {},
   "outputs": [
    {
     "data": {
      "text/plain": [
       "Event with ICD10CM code G3183 from table diagnoses_icd"
      ]
     },
     "execution_count": 4,
     "metadata": {},
     "output_type": "execute_result"
    }
   ],
   "source": [
    "# query the event level information\n",
    "\n",
    "diagnoses = visit_obj.get_event_list(\"diagnoses_icd\")\n",
    "diagnosis = diagnoses[0] # the 0-th diagnosis\n",
    "diagnosis"
   ]
  },
  {
   "cell_type": "code",
   "execution_count": 5,
   "id": "d1c3cc48",
   "metadata": {},
   "outputs": [
    {
     "data": {
      "text/plain": [
       "Event with NDC code 0 from table prescriptions"
      ]
     },
     "execution_count": 5,
     "metadata": {},
     "output_type": "execute_result"
    }
   ],
   "source": [
    "# query the event level information\n",
    "\n",
    "prescriptions = visit_obj.get_event_list(\"prescriptions\")\n",
    "prescription = prescriptions[0] # the 0-th prescription\n",
    "prescription"
   ]
  },
  {
   "cell_type": "markdown",
   "id": "b3fdee5a",
   "metadata": {},
   "source": [
    "## STEP2: Task definition\n",
    "\n",
    "To define the healthcare AI task, the [pyhealth.tasks](https://pyhealth.readthedocs.io/en/latest/api/tasks.html) module provides a different variety of example task functions. Each of them defines a unique healthcare\n",
    "AI task. \n",
    "\n",
    "- Following the readmission task example (below), all task functions input\n",
    "a pyhealth.data.Patient object and then output a list of samples containing the “X\"\n",
    "and “Y\" for supervised learning. If the task is defined as a patient-level prediction task,\n",
    "then the output is one sample; if it is a visit-level prediction task, then the output is a\n",
    "list of samples, one for each visit.\n",
    "Readmission prediction is a visit-level clinical predictive task. Given the above\n",
    "structured dataset, we need to extract the diagnosis, procedure, and prescription infor-\n",
    "mation as the features and compare the time gap between the current visit and next\n",
    "visit to decide whether the patient will be readmitted into hospital within 7 days. If\n",
    "the answer is Yes, then we set label to be 1; otherwise, the label is 0. It is a binary\n",
    "classification task.\n",
    "Luckily, \n",
    "\n",
    "PyHealth provides a default readmission prediction task with time window\n",
    "as an argument (In this task, the threshold is 7 days)."
   ]
  },
  {
   "cell_type": "code",
   "execution_count": 6,
   "id": "6ce6d7e9",
   "metadata": {},
   "outputs": [],
   "source": [
    "def readmission_prediction_mimic4_fn(patient, time_window=7):\n",
    "    \"\"\"Processes a single patient for the readmission prediction task.\n",
    "    ...\n",
    "    \"\"\"\n",
    "    samples = []\n",
    "\n",
    "    # we will drop the last visit since we cannot tell its label\n",
    "    for i in range(len(patient) - 1):\n",
    "        visit = patient[i]\n",
    "        next_visit = patient[i + 1]\n",
    "\n",
    "        # get time difference between current visit and next visit\n",
    "        time_diff = (next_visit.encounter_time - visit.encounter_time).days\n",
    "        readmission_label = 1 if time_diff < time_window else 0\n",
    "\n",
    "        conditions = visit.get_code_list(table=\"diagnoses_icd\")\n",
    "        procedures = visit.get_code_list(table=\"procedures_icd\")\n",
    "        drugs = visit.get_code_list(table=\"prescriptions\")\n",
    "        # exclude: visits without condition, procedure, or drug code\n",
    "        if len(conditions) * len(procedures) * len(drugs) == 0:\n",
    "            continue\n",
    "        samples.append(\n",
    "            {\n",
    "                \"visit_id\": visit.visit_id,\n",
    "                \"patient_id\": patient.patient_id,\n",
    "                \"conditions\": conditions,\n",
    "                \"procedures\": procedures,\n",
    "                \"drugs\": drugs,\n",
    "                \"label\": readmission_label,\n",
    "            }\n",
    "        )\n",
    "\n",
    "        # use patient or visit level information for cohort selection\n",
    "        # ...\n",
    "    return samples"
   ]
  },
  {
   "cell_type": "code",
   "execution_count": 7,
   "id": "3b90e690",
   "metadata": {},
   "outputs": [
    {
     "name": "stderr",
     "output_type": "stream",
     "text": [
      "Generating samples for <lambda>: 100%|████████████████████████████████████████████████████| 190279/190279 [00:06<00:00, 30362.70it/s]\n"
     ]
    },
    {
     "name": "stdout",
     "output_type": "stream",
     "text": [
      "Statistics of sample dataset:\n",
      "\t- Dataset: MIMIC4Dataset\n",
      "\t- Task: <lambda>\n",
      "\t- Number of samples: 132301\n",
      "\t- Number of patients: 59273\n",
      "\t- Number of visits: 132301\n",
      "\t- Number of visits per patient: 2.2321\n",
      "\t- conditions:\n",
      "\t\t- Number of conditions per sample: 13.5967\n",
      "\t\t- Number of unique conditions: 18858\n",
      "\t\t- Distribution of conditions (Top-10): [('4019', 34015), ('2724', 25635), ('53081', 18716), ('E785', 15686), ('25000', 15530), ('41401', 14924), ('4280', 14814), ('I10', 14065), ('42731', 13960), ('Z87891', 13776)]\n",
      "\t- procedures:\n",
      "\t\t- Number of procedures per sample: 2.7078\n",
      "\t\t- Number of unique procedures: 10220\n",
      "\t\t- Distribution of procedures (Top-10): [('3893', 8320), ('3897', 6165), ('3995', 6035), ('02HV33Z', 5966), ('8856', 5171), ('0040', 4588), ('966', 4479), ('9925', 4310), ('4513', 3395), ('5491', 3313)]\n",
      "\t- drugs:\n",
      "\t\t- Number of drugs per sample: 29.6466\n",
      "\t\t- Number of unique drugs: 5458\n",
      "\t\t- Distribution of drugs (Top-10): [('0', 127393), ('63323026201', 79098), ('00904224461', 70124), ('00338004904', 53800), ('00904516561', 53187), ('00338011704', 44555), ('00409672924', 40443), ('00409490234', 39312), ('00406055262', 36542), ('51079000220', 34618)]\n",
      "\t- label:\n",
      "\t\t- Number of label per sample: 1.0000\n",
      "\t\t- Number of unique label: 2\n",
      "\t\t- Distribution of label (Top-10): [(0, 67860), (1, 64441)]\n"
     ]
    },
    {
     "data": {
      "text/plain": [
       "\"Statistics of sample dataset:\\n\\t- Dataset: MIMIC4Dataset\\n\\t- Task: <lambda>\\n\\t- Number of samples: 132301\\n\\t- Number of patients: 59273\\n\\t- Number of visits: 132301\\n\\t- Number of visits per patient: 2.2321\\n\\t- conditions:\\n\\t\\t- Number of conditions per sample: 13.5967\\n\\t\\t- Number of unique conditions: 18858\\n\\t\\t- Distribution of conditions (Top-10): [('4019', 34015), ('2724', 25635), ('53081', 18716), ('E785', 15686), ('25000', 15530), ('41401', 14924), ('4280', 14814), ('I10', 14065), ('42731', 13960), ('Z87891', 13776)]\\n\\t- procedures:\\n\\t\\t- Number of procedures per sample: 2.7078\\n\\t\\t- Number of unique procedures: 10220\\n\\t\\t- Distribution of procedures (Top-10): [('3893', 8320), ('3897', 6165), ('3995', 6035), ('02HV33Z', 5966), ('8856', 5171), ('0040', 4588), ('966', 4479), ('9925', 4310), ('4513', 3395), ('5491', 3313)]\\n\\t- drugs:\\n\\t\\t- Number of drugs per sample: 29.6466\\n\\t\\t- Number of unique drugs: 5458\\n\\t\\t- Distribution of drugs (Top-10): [('0', 127393), ('63323026201', 79098), ('00904224461', 70124), ('00338004904', 53800), ('00904516561', 53187), ('00338011704', 44555), ('00409672924', 40443), ('00409490234', 39312), ('00406055262', 36542), ('51079000220', 34618)]\\n\\t- label:\\n\\t\\t- Number of label per sample: 1.0000\\n\\t\\t- Number of unique label: 2\\n\\t\\t- Distribution of label (Top-10): [(0, 67860), (1, 64441)]\""
      ]
     },
     "execution_count": 7,
     "metadata": {},
     "output_type": "execute_result"
    }
   ],
   "source": [
    "# STEP 2: define the readmission prediction task\n",
    "readmission_dataset = mimic4_ds.set_task(\n",
    "    lambda x: readmission_prediction_mimic4_fn(x, time_window=7)\n",
    ")\n",
    "readmission_dataset.stat()"
   ]
  },
  {
   "cell_type": "code",
   "execution_count": 8,
   "id": "3f1a6b2d",
   "metadata": {},
   "outputs": [
    {
     "data": {
      "text/plain": [
       "{'visit_id': '22595853',\n",
       " 'patient_id': '10000032',\n",
       " 'conditions': ['5723',\n",
       "  '78959',\n",
       "  '5715',\n",
       "  '07070',\n",
       "  '496',\n",
       "  '29680',\n",
       "  '30981',\n",
       "  'V1582'],\n",
       " 'procedures': ['5491'],\n",
       " 'drugs': ['0',\n",
       "  '63323026201',\n",
       "  '19515089452',\n",
       "  '00245004101',\n",
       "  '63739054410',\n",
       "  '51079007220',\n",
       "  '00904198861',\n",
       "  '00006022761',\n",
       "  '00173068224',\n",
       "  '61958070101',\n",
       "  '00135019502',\n",
       "  '00487980125',\n",
       "  '51079007320'],\n",
       " 'label': 0}"
      ]
     },
     "execution_count": 8,
     "metadata": {},
     "output_type": "execute_result"
    }
   ],
   "source": [
    "# look at the first sample\n",
    "\n",
    "readmission_dataset[0]"
   ]
  },
  {
   "cell_type": "code",
   "execution_count": 9,
   "id": "31f341ca",
   "metadata": {},
   "outputs": [],
   "source": [
    "from pyhealth.datasets import split_by_patient, get_dataloader\n",
    "\n",
    "# split the dataset into train/val/test\n",
    "train_dataset, val_dataset, test_dataset = split_by_patient(\n",
    "    readmission_dataset, [0.8, 0.1, 0.1]\n",
    ")\n",
    "train_dataloader = get_dataloader(train_dataset, batch_size=32, shuffle=True)\n",
    "val_dataloader = get_dataloader(val_dataset, batch_size=32, shuffle=False)\n",
    "test_dataloader = get_dataloader(test_dataset, batch_size=32, shuffle=False)"
   ]
  },
  {
   "cell_type": "markdown",
   "id": "20390d95",
   "metadata": {},
   "source": [
    "## STEP3: initialize ML models\n",
    "\n",
    "The [pyhealth.models](https://pyhealth.readthedocs.io/en/latest/api/models.html) module provides a large variety of ML models for users to\n",
    "choose from. These methods can be broadly categorized into: (i) general deep learning\n",
    "models and (ii) healthcare specific deep learning models. For healthcare specific DL\n",
    "models, we are constantly implementing new ones and add them into our package.\n",
    "\n",
    "In this section, we will use the simple three-layer multi-layer perceptron (MLP) in\n",
    "PyHealth, specifying the number of layers, the number of hidden neurons in each layer,\n",
    "and the activation functions. More advanced models and examples can be found in\n",
    "later sections or visit the [PyHealth website](https://pyhealth.readthedocs.io/en/latest/).\n",
    "\n",
    "In model initialization, we input the keys listed in the sample dictionary. To leverage\n",
    "three types of clinical event information, we use “conditions\", “procedures\", “drugs\"\n",
    "as keywords for features, and we input the “label\" as the readmission prediction label."
   ]
  },
  {
   "cell_type": "code",
   "execution_count": 10,
   "id": "0e5003b5",
   "metadata": {},
   "outputs": [],
   "source": [
    "from pyhealth.models import MLP\n",
    "\n",
    "# STEP 3: define model\n",
    "model = MLP(\n",
    "    dataset=readmission_dataset,\n",
    "    feature_keys=[\"conditions\", \"procedures\", \"drugs\"],\n",
    "    label_key=\"label\",\n",
    "    mode=\"binary\",\n",
    "    embedding_dim=128,\n",
    "    hidden_dim=128,\n",
    "    n_layers=3,\n",
    "    activation=\"relu\",\n",
    ")"
   ]
  },
  {
   "cell_type": "markdown",
   "id": "fc635639",
   "metadata": {},
   "source": [
    "## STEP 4: model training\n",
    "\n",
    "In PyHealth, the [pyhealth.trainer.Trainer](https://pyhealth.readthedocs.io/en/latest/api/trainer.html) module serves as a powerful tool for\n",
    "managing the training process of all models. \n",
    "\n",
    "This trainer simplifies logging during\n",
    "training, automatically selects available devices, and conveniently saves the best model\n",
    "to disk. The trainer module offers a range of selectable arguments for customization.\n",
    "\n",
    "Let’s proceed with the programming steps outlined below."
   ]
  },
  {
   "cell_type": "code",
   "execution_count": 11,
   "id": "fd6f96d1",
   "metadata": {},
   "outputs": [
    {
     "name": "stdout",
     "output_type": "stream",
     "text": [
      "MLP(\n",
      "  (embeddings): ModuleDict(\n",
      "    (conditions): Embedding(18860, 128, padding_idx=0)\n",
      "    (procedures): Embedding(10222, 128, padding_idx=0)\n",
      "    (drugs): Embedding(5460, 128, padding_idx=0)\n",
      "  )\n",
      "  (linear_layers): ModuleDict()\n",
      "  (activation): ReLU()\n",
      "  (mlp): ModuleDict(\n",
      "    (conditions): Sequential(\n",
      "      (0): Linear(in_features=128, out_features=128, bias=True)\n",
      "      (1): ReLU()\n",
      "      (2): Linear(in_features=128, out_features=128, bias=True)\n",
      "      (3): ReLU()\n",
      "      (4): Linear(in_features=128, out_features=128, bias=True)\n",
      "    )\n",
      "    (procedures): Sequential(\n",
      "      (0): Linear(in_features=128, out_features=128, bias=True)\n",
      "      (1): ReLU()\n",
      "      (2): Linear(in_features=128, out_features=128, bias=True)\n",
      "      (3): ReLU()\n",
      "      (4): Linear(in_features=128, out_features=128, bias=True)\n",
      "    )\n",
      "    (drugs): Sequential(\n",
      "      (0): Linear(in_features=128, out_features=128, bias=True)\n",
      "      (1): ReLU()\n",
      "      (2): Linear(in_features=128, out_features=128, bias=True)\n",
      "      (3): ReLU()\n",
      "      (4): Linear(in_features=128, out_features=128, bias=True)\n",
      "    )\n",
      "  )\n",
      "  (fc): Linear(in_features=384, out_features=1, bias=True)\n",
      ")\n",
      "Metrics: None\n",
      "Device: cuda\n",
      "\n",
      "Training:\n",
      "Batch size: 32\n",
      "Optimizer: <class 'torch.optim.adam.Adam'>\n",
      "Optimizer params: {'lr': 0.001}\n",
      "Weight decay: 0.0\n",
      "Max grad norm: None\n",
      "Val dataloader: <torch.utils.data.dataloader.DataLoader object at 0x7f5ad5f2c4f0>\n",
      "Monitor: roc_auc\n",
      "Monitor criterion: max\n",
      "Epochs: 5\n"
     ]
    },
    {
     "name": "stderr",
     "output_type": "stream",
     "text": [
      "/home/chaoqiy2/data/MNIST/github/PyHealth/pyhealth/trainer.py:12: TqdmExperimentalWarning: Using `tqdm.autonotebook.tqdm` in notebook mode. Use `tqdm.tqdm` instead to force console mode (e.g. in jupyter console)\n",
      "  from tqdm.autonotebook import trange\n"
     ]
    },
    {
     "name": "stdout",
     "output_type": "stream",
     "text": [
      "\n"
     ]
    },
    {
     "data": {
      "application/vnd.jupyter.widget-view+json": {
       "model_id": "7b14c6b68413458da09ba55591a7d26e",
       "version_major": 2,
       "version_minor": 0
      },
      "text/plain": [
       "Epoch 0 / 5:   0%|          | 0/3306 [00:00<?, ?it/s]"
      ]
     },
     "metadata": {},
     "output_type": "display_data"
    },
    {
     "name": "stdout",
     "output_type": "stream",
     "text": [
      "--- Train epoch-0, step-3306 ---\n",
      "loss: 0.6340\n"
     ]
    },
    {
     "name": "stderr",
     "output_type": "stream",
     "text": [
      "Evaluation: 100%|█████████████████████████████████████████████████████████████████████████████████| 413/413 [00:01<00:00, 387.94it/s]"
     ]
    },
    {
     "name": "stdout",
     "output_type": "stream",
     "text": [
      "--- Eval epoch-0, step-3306 ---\n",
      "pr_auc: 0.7015\n",
      "roc_auc: 0.7083\n",
      "f1: 0.6200\n",
      "loss: 0.6235\n",
      "New best roc_auc score (0.7083) at epoch-0, step-3306\n",
      "\n"
     ]
    },
    {
     "name": "stderr",
     "output_type": "stream",
     "text": [
      "\n"
     ]
    },
    {
     "data": {
      "application/vnd.jupyter.widget-view+json": {
       "model_id": "e7df22a62f4f4049b8fbcc32e382d456",
       "version_major": 2,
       "version_minor": 0
      },
      "text/plain": [
       "Epoch 1 / 5:   0%|          | 0/3306 [00:00<?, ?it/s]"
      ]
     },
     "metadata": {},
     "output_type": "display_data"
    },
    {
     "name": "stdout",
     "output_type": "stream",
     "text": [
      "--- Train epoch-1, step-6612 ---\n",
      "loss: 0.5954\n"
     ]
    },
    {
     "name": "stderr",
     "output_type": "stream",
     "text": [
      "Evaluation: 100%|█████████████████████████████████████████████████████████████████████████████████| 413/413 [00:00<00:00, 436.33it/s]"
     ]
    },
    {
     "name": "stdout",
     "output_type": "stream",
     "text": [
      "--- Eval epoch-1, step-6612 ---\n",
      "pr_auc: 0.7090\n",
      "roc_auc: 0.7124\n",
      "f1: 0.6440\n",
      "loss: 0.6201\n",
      "New best roc_auc score (0.7124) at epoch-1, step-6612\n",
      "\n"
     ]
    },
    {
     "name": "stderr",
     "output_type": "stream",
     "text": [
      "\n"
     ]
    },
    {
     "data": {
      "application/vnd.jupyter.widget-view+json": {
       "model_id": "3f8b0554b4234bfaa76cef0bb0ee5738",
       "version_major": 2,
       "version_minor": 0
      },
      "text/plain": [
       "Epoch 2 / 5:   0%|          | 0/3306 [00:00<?, ?it/s]"
      ]
     },
     "metadata": {},
     "output_type": "display_data"
    },
    {
     "name": "stdout",
     "output_type": "stream",
     "text": [
      "--- Train epoch-2, step-9918 ---\n",
      "loss: 0.5590\n"
     ]
    },
    {
     "name": "stderr",
     "output_type": "stream",
     "text": [
      "Evaluation: 100%|█████████████████████████████████████████████████████████████████████████████████| 413/413 [00:00<00:00, 454.66it/s]\n"
     ]
    },
    {
     "name": "stdout",
     "output_type": "stream",
     "text": [
      "--- Eval epoch-2, step-9918 ---\n",
      "pr_auc: 0.7009\n",
      "roc_auc: 0.7050\n",
      "f1: 0.6217\n",
      "loss: 0.6340\n",
      "\n"
     ]
    },
    {
     "data": {
      "application/vnd.jupyter.widget-view+json": {
       "model_id": "60da30add0e346fc9bdc540661249a13",
       "version_major": 2,
       "version_minor": 0
      },
      "text/plain": [
       "Epoch 3 / 5:   0%|          | 0/3306 [00:00<?, ?it/s]"
      ]
     },
     "metadata": {},
     "output_type": "display_data"
    },
    {
     "name": "stdout",
     "output_type": "stream",
     "text": [
      "--- Train epoch-3, step-13224 ---\n",
      "loss: 0.5087\n"
     ]
    },
    {
     "name": "stderr",
     "output_type": "stream",
     "text": [
      "Evaluation: 100%|█████████████████████████████████████████████████████████████████████████████████| 413/413 [00:00<00:00, 450.28it/s]"
     ]
    },
    {
     "name": "stdout",
     "output_type": "stream",
     "text": [
      "--- Eval epoch-3, step-13224 ---\n",
      "pr_auc: 0.6864\n",
      "roc_auc: 0.6905\n",
      "f1: 0.6154\n",
      "loss: 0.6752\n",
      "\n"
     ]
    },
    {
     "name": "stderr",
     "output_type": "stream",
     "text": [
      "\n"
     ]
    },
    {
     "data": {
      "application/vnd.jupyter.widget-view+json": {
       "model_id": "c8b8a63ec5574457aec8da052101bccf",
       "version_major": 2,
       "version_minor": 0
      },
      "text/plain": [
       "Epoch 4 / 5:   0%|          | 0/3306 [00:00<?, ?it/s]"
      ]
     },
     "metadata": {},
     "output_type": "display_data"
    },
    {
     "name": "stdout",
     "output_type": "stream",
     "text": [
      "--- Train epoch-4, step-16530 ---\n",
      "loss: 0.4416\n"
     ]
    },
    {
     "name": "stderr",
     "output_type": "stream",
     "text": [
      "Evaluation: 100%|█████████████████████████████████████████████████████████████████████████████████| 413/413 [00:00<00:00, 467.63it/s]"
     ]
    },
    {
     "name": "stdout",
     "output_type": "stream",
     "text": [
      "--- Eval epoch-4, step-16530 ---\n",
      "pr_auc: 0.6768\n",
      "roc_auc: 0.6823\n",
      "f1: 0.6199\n",
      "loss: 0.7485\n",
      "Loaded best model\n"
     ]
    },
    {
     "name": "stderr",
     "output_type": "stream",
     "text": [
      "\n"
     ]
    }
   ],
   "source": [
    "from pyhealth.trainer import Trainer\n",
    "\n",
    "# STEP 4: define trainer\n",
    "trainer = Trainer(model=model)\n",
    "\n",
    "trainer.train(\n",
    "    train_dataloader=train_dataloader,\n",
    "    val_dataloader=val_dataloader,\n",
    "    epochs=5,\n",
    "    monitor=\"roc_auc\",\n",
    ") # model is training ...\n"
   ]
  },
  {
   "cell_type": "markdown",
   "id": "cb4640c1",
   "metadata": {},
   "source": [
    "## STEP5: model evaluation\n",
    "\n",
    "Following model training, we offer two evaluation methods for the optimized deep\n",
    "learning model through the [pyhealth.metrics](https://pyhealth.readthedocs.io/en/latest/api/metrics.html). \n",
    "\n",
    "PyHealth offers an array\n",
    "of metrics suitable for assessing binary classification, multi-class classification, and\n",
    "multi-label classification problems, alongside fairness metrics and advanced model\n",
    "calibration metrics."
   ]
  },
  {
   "cell_type": "code",
   "execution_count": 12,
   "id": "3a5ced45",
   "metadata": {},
   "outputs": [
    {
     "name": "stderr",
     "output_type": "stream",
     "text": [
      "Evaluation: 100%|█████████████████████████████████████████████████████████████████████████████████| 417/417 [00:00<00:00, 471.50it/s]\n"
     ]
    },
    {
     "name": "stdout",
     "output_type": "stream",
     "text": [
      "{'pr_auc': 0.7005253538678087, 'roc_auc': 0.7104076335419567, 'f1': 0.635956098315041, 'loss': 0.6220264265434348}\n"
     ]
    },
    {
     "name": "stderr",
     "output_type": "stream",
     "text": [
      "Evaluation: 100%|█████████████████████████████████████████████████████████████████████████████████| 417/417 [00:00<00:00, 472.24it/s]\n"
     ]
    },
    {
     "data": {
      "text/plain": [
       "{'pr_auc': 0.7005253538678087,\n",
       " 'roc_auc': 0.7104076335419567,\n",
       " 'f1': 0.635956098315041}"
      ]
     },
     "execution_count": 12,
     "metadata": {},
     "output_type": "execute_result"
    }
   ],
   "source": [
    "# method 1\n",
    "result = trainer.evaluate(test_dataloader)\n",
    "print (result)\n",
    "\n",
    "# method 2\n",
    "from pyhealth.metrics.binary import binary_metrics_fn\n",
    "\n",
    "y_true, y_prob, loss = trainer.inference(test_dataloader)\n",
    "binary_metrics_fn(\n",
    "    y_true,\n",
    "    y_prob,\n",
    "    metrics=[\"pr_auc\", \"roc_auc\", \"f1\"]\n",
    ")"
   ]
  },
  {
   "cell_type": "code",
   "execution_count": null,
   "id": "9e4e4a79",
   "metadata": {},
   "outputs": [],
   "source": []
  },
  {
   "cell_type": "code",
   "execution_count": null,
   "id": "df5effc1",
   "metadata": {},
   "outputs": [],
   "source": []
  }
 ],
 "metadata": {
  "kernelspec": {
   "display_name": "Python 3",
   "language": "python",
   "name": "python3"
  },
  "language_info": {
   "codemirror_mode": {
    "name": "ipython",
    "version": 3
   },
   "file_extension": ".py",
   "mimetype": "text/x-python",
   "name": "python",
   "nbconvert_exporter": "python",
   "pygments_lexer": "ipython3",
   "version": "3.9.18"
  }
 },
 "nbformat": 4,
 "nbformat_minor": 5
}
