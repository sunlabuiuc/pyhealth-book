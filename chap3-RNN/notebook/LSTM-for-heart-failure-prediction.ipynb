{
 "cells": [
  {
   "cell_type": "code",
   "execution_count": 5,
   "id": "d019bd04",
   "metadata": {},
   "outputs": [],
   "source": [
    "import pyhealth\n",
    "import pickle\n",
    "import os"
   ]
  },
  {
   "cell_type": "markdown",
   "id": "ec51b951",
   "metadata": {},
   "source": [
    "## dataset lookups\n",
    "\n",
    "The dataset synthesized from MIMIC-III contains several .pkl files for both the training\n",
    "and test portion. We show the contents below."
   ]
  },
  {
   "cell_type": "code",
   "execution_count": 6,
   "id": "4de8d1f3",
   "metadata": {},
   "outputs": [],
   "source": [
    "\"\"\"\n",
    "where\n",
    "\n",
    "- `pids`: contains the patient ids\n",
    "- `vids`: contains a list of visit ids for each patient\n",
    "- `hfs`: contains the heart failure label (0: normal, 1: heart failure) for each patient\n",
    "- `seqs`: contains a list of visit (in ICD9 codes) for each patient\n",
    "- `types`: contains the map from ICD9 codes to ICD-9 labels\n",
    "- `rtypes`: contains the map from ICD9 labels to ICD9 codes\n",
    "\"\"\"\n",
    "\n",
    "DATA_PATH = \"./\"\n",
    "pids = pickle.load(open(os.path.join(DATA_PATH,'train/pids.pkl'), 'rb'))\n",
    "vids = pickle.load(open(os.path.join(DATA_PATH,'train/vids.pkl'), 'rb'))\n",
    "hfs = pickle.load(open(os.path.join(DATA_PATH,'train/hfs.pkl'), 'rb'))\n",
    "seqs = pickle.load(open(os.path.join(DATA_PATH,'train/seqs.pkl'), 'rb'))\n",
    "types = pickle.load(open(os.path.join(DATA_PATH,'train/types.pkl'), 'rb'))\n",
    "rtypes = pickle.load(open(os.path.join(DATA_PATH,'train/rtypes.pkl'), 'rb'))\n",
    "\n",
    "assert len(pids) == len(vids) == len(hfs) == len(seqs) == 1000\n",
    "assert len(types) == 619"
   ]
  },
  {
   "cell_type": "code",
   "execution_count": 7,
   "id": "41acdb81",
   "metadata": {},
   "outputs": [
    {
     "name": "stdout",
     "output_type": "stream",
     "text": [
      "Patient ID: 47537\n",
      "Heart Failure: 0\n",
      "# of visits: 2\n",
      "\t0-th visit id: 0\n",
      "\t0-th visit diagnosis labels: [12, 103, 262, 285, 290, 292, 359, 416, 39, 225, 275, 294, 326, 267, 93]\n",
      "\t0-th visit diagnosis codes: ['DIAG_041', 'DIAG_276', 'DIAG_518', 'DIAG_560', 'DIAG_567', 'DIAG_569', 'DIAG_707', 'DIAG_785', 'DIAG_155', 'DIAG_456', 'DIAG_537', 'DIAG_571', 'DIAG_608', 'DIAG_529', 'DIAG_263']\n",
      "\t1-th visit id: 1\n",
      "\t1-th visit diagnosis labels: [12, 103, 240, 262, 290, 292, 319, 359, 510, 513, 577, 307, 8, 280, 18, 131]\n",
      "\t1-th visit diagnosis codes: ['DIAG_041', 'DIAG_276', 'DIAG_482', 'DIAG_518', 'DIAG_567', 'DIAG_569', 'DIAG_599', 'DIAG_707', 'DIAG_995', 'DIAG_998', 'DIAG_V09', 'DIAG_584', 'DIAG_031', 'DIAG_553', 'DIAG_070', 'DIAG_305']\n"
     ]
    }
   ],
   "source": [
    "# take the 3rd patient as an example\n",
    "\n",
    "print(\"Patient ID:\", pids[3])\n",
    "print(\"Heart Failure:\", hfs[3])\n",
    "print(\"# of visits:\", len(vids[3]))\n",
    "for visit in range(len(vids[3])):\n",
    "    print(f\"\\t{visit}-th visit id:\", vids[3][visit])\n",
    "    print(f\"\\t{visit}-th visit diagnosis labels:\", seqs[3][visit])\n",
    "    print(f\"\\t{visit}-th visit diagnosis codes:\", [rtypes[label] for label in seqs[3][visit]])"
   ]
  },
  {
   "cell_type": "code",
   "execution_count": 8,
   "id": "d78111ec",
   "metadata": {},
   "outputs": [
    {
     "name": "stdout",
     "output_type": "stream",
     "text": [
      "number of heart failure patients: 548\n",
      "ratio of heart failure patients: 0.55\n"
     ]
    }
   ],
   "source": [
    "print(\"number of heart failure patients:\", sum(hfs))\n",
    "print(\"ratio of heart failure patients: %.2f\" % (sum(hfs) / len(hfs)))"
   ]
  },
  {
   "cell_type": "markdown",
   "id": "9534e104",
   "metadata": {},
   "source": [
    "## Step1 & 2: dataset wrapper and split\n",
    "\n",
    "- Since we already have a clean dataset, we need to structure it into the PyHealth format. \n",
    "- As we have learned from Section 2.3.2 that the data samples in\n",
    "PyHealth are stored in json structure, the following code will essentially organize the\n",
    "patient ID, visit ID, label, and diagnosis information from this heart failure dataset\n",
    "into one JSON structure, subsequently adding it to the samples list.\n",
    "- We can then employ the pyhealth.dataset.SampleEHRDataset API to transform it into the PyHealth\n",
    "supported structure."
   ]
  },
  {
   "cell_type": "code",
   "execution_count": 9,
   "id": "accca73f",
   "metadata": {},
   "outputs": [],
   "source": [
    "\"\"\"\n",
    "With this user processed data, we just need to wrap up the data to fit\n",
    "the pyhealth format.\n",
    "\n",
    "Task definition: we will use all the visits from the patients as the features,\n",
    "    then, the labels are given b the hfs list.\n",
    "\"\"\"\n",
    "samples = []\n",
    "for pid, vid, hf, seq in zip(pids, vids, hfs, seqs):\n",
    "    samples.append(\n",
    "        {\n",
    "            'patient_id': pid,\n",
    "            'visit_id': vid[-1],\n",
    "            'label': hf,\n",
    "            'diagnoses': [[rtypes[v] for v in visit] for visit in seq],\n",
    "        }\n",
    "    )\n",
    "    "
   ]
  },
  {
   "cell_type": "code",
   "execution_count": 10,
   "id": "17e394e7",
   "metadata": {},
   "outputs": [
    {
     "name": "stderr",
     "output_type": "stream",
     "text": [
      "/home/chaoqiy2/miniconda3/lib/python3.9/site-packages/torchvision/io/image.py:13: UserWarning: Failed to load image Python extension: libtorch_cuda_cu.so: cannot open shared object file: No such file or directory\n",
      "  warn(f\"Failed to load image Python extension: {e}\")\n"
     ]
    }
   ],
   "source": [
    "# load into the dataset\n",
    "from pyhealth.datasets import SampleEHRDataset\n",
    "train_dataset = SampleEHRDataset(samples, code_vocs=None)"
   ]
  },
  {
   "cell_type": "code",
   "execution_count": 11,
   "id": "2b7b4ba9",
   "metadata": {},
   "outputs": [
    {
     "data": {
      "text/plain": [
       "{'patient_id': 89571,\n",
       " 'visit_id': 1,\n",
       " 'label': 1,\n",
       " 'diagnoses': [['DIAG_250',\n",
       "   'DIAG_285',\n",
       "   'DIAG_682',\n",
       "   'DIAG_730',\n",
       "   'DIAG_531',\n",
       "   'DIAG_996',\n",
       "   'DIAG_287',\n",
       "   'DIAG_276',\n",
       "   'DIAG_E878',\n",
       "   'DIAG_V45',\n",
       "   'DIAG_996'],\n",
       "  ['DIAG_250',\n",
       "   'DIAG_276',\n",
       "   'DIAG_285',\n",
       "   'DIAG_998',\n",
       "   'DIAG_996',\n",
       "   'DIAG_078',\n",
       "   'DIAG_336',\n",
       "   'DIAG_E878',\n",
       "   'DIAG_401',\n",
       "   'DIAG_205']]}"
      ]
     },
     "execution_count": 11,
     "metadata": {},
     "output_type": "execute_result"
    }
   ],
   "source": [
    "train_dataset.samples[0]"
   ]
  },
  {
   "cell_type": "code",
   "execution_count": 12,
   "id": "a5609668",
   "metadata": {},
   "outputs": [],
   "source": [
    "from pyhealth.datasets.splitter import split_by_patient\n",
    "from pyhealth.datasets import split_by_patient, get_dataloader\n",
    "\n",
    "# dataset split by patient id\n",
    "train_ds, val_ds, test_ds = split_by_patient(train_dataset, [0.8, 0.2, 0])\n",
    "\n",
    "# obtain train/val/test dataloader, they are <torch.data.DataLoader> object\n",
    "train_loader = get_dataloader(train_ds, batch_size=64, shuffle=True)\n",
    "val_loader = get_dataloader(val_ds, batch_size=64, shuffle=False)"
   ]
  },
  {
   "cell_type": "markdown",
   "id": "50b4c85d",
   "metadata": {},
   "source": [
    "## Step3: initialize the LSTM model\n",
    "\n",
    "Right now, we obtained the training loader and the validation loader, we want to\n",
    "initialize an LSTM model. We call the pyhealth.model.RN N API below. The API\n",
    "uses the training dataset, set diagnoses key as the features, choose LSTM as the RNN\n",
    "type, embedding dimension and the hidden dimension are both set at 64, and configure\n",
    "other attributes on need. The initialization steps is similar to the DNN initialization in\n",
    "the last section\n"
   ]
  },
  {
   "cell_type": "code",
   "execution_count": 13,
   "id": "49bee621",
   "metadata": {},
   "outputs": [],
   "source": [
    "from pyhealth.models import RNN\n",
    "\n",
    "model = RNN(\n",
    "    dataset=train_dataset,\n",
    "    feature_keys=[\"diagnoses\"],\n",
    "    label_key=\"label\",\n",
    "    mode=\"binary\",\n",
    "    rnn_type=\"LSTM\",\n",
    "    num_layers=2,\n",
    "    embedding_dim=64,\n",
    "    hidden_dim=64,\n",
    ")"
   ]
  },
  {
   "cell_type": "markdown",
   "id": "84c7d067",
   "metadata": {},
   "source": [
    "## Step4: model training\n",
    "\n",
    "Similar to previous pipelines, we use the pyhealth.trainer.Trainer to handle the\n",
    "model training and evaluation. During the training, we record the precision-recall area\n",
    "under curve (PRAUC), AUROC, and the F1 measure as the evaluation metrics. We\n",
    "set the training epochs to 20 and monitor the AUROC curves to select the best model\n",
    "based on the validation set. The best model will automatically be loaded in the Trainer\n",
    "for the next evaluation step. The configuration of Trainer could refer to [this page](https://pyhealth.readthedocs.io/en/latest/api/trainer.html)."
   ]
  },
  {
   "cell_type": "code",
   "execution_count": 14,
   "id": "648d3e42",
   "metadata": {},
   "outputs": [
    {
     "name": "stderr",
     "output_type": "stream",
     "text": [
      "/home/chaoqiy2/data/MNIST/github/PyHealth/pyhealth/trainer.py:12: TqdmExperimentalWarning: Using `tqdm.autonotebook.tqdm` in notebook mode. Use `tqdm.tqdm` instead to force console mode (e.g. in jupyter console)\n",
      "  from tqdm.autonotebook import trange\n"
     ]
    },
    {
     "name": "stdout",
     "output_type": "stream",
     "text": [
      "RNN(\n",
      "  (embeddings): ModuleDict(\n",
      "    (diagnoses): Embedding(601, 64, padding_idx=0)\n",
      "  )\n",
      "  (linear_layers): ModuleDict()\n",
      "  (rnn): ModuleDict(\n",
      "    (diagnoses): RNNLayer(\n",
      "      (dropout_layer): Dropout(p=0.5, inplace=False)\n",
      "      (rnn): LSTM(64, 64, num_layers=2, batch_first=True, dropout=0.5)\n",
      "    )\n",
      "  )\n",
      "  (fc): Linear(in_features=64, out_features=1, bias=True)\n",
      ")\n",
      "Metrics: ['pr_auc', 'roc_auc', 'f1']\n",
      "Device: cuda\n",
      "\n",
      "Training:\n",
      "Batch size: 64\n",
      "Optimizer: <class 'torch.optim.adam.Adam'>\n",
      "Optimizer params: {'lr': 0.001}\n",
      "Weight decay: 0.0\n",
      "Max grad norm: None\n",
      "Val dataloader: <torch.utils.data.dataloader.DataLoader object at 0x7f6f60390370>\n",
      "Monitor: roc_auc\n",
      "Monitor criterion: max\n",
      "Epochs: 20\n",
      "\n"
     ]
    },
    {
     "data": {
      "application/vnd.jupyter.widget-view+json": {
       "model_id": "23d832f45ab34b12be0814f4736aa18b",
       "version_major": 2,
       "version_minor": 0
      },
      "text/plain": [
       "Epoch 0 / 20:   0%|          | 0/13 [00:00<?, ?it/s]"
      ]
     },
     "metadata": {},
     "output_type": "display_data"
    },
    {
     "name": "stdout",
     "output_type": "stream",
     "text": [
      "--- Train epoch-0, step-13 ---\n",
      "loss: 0.6874\n"
     ]
    },
    {
     "name": "stderr",
     "output_type": "stream",
     "text": [
      "Evaluation: 100%|██████████████████████████████████████████████████████████████████████████████████████████| 4/4 [00:00<00:00, 164.56it/s]"
     ]
    },
    {
     "name": "stdout",
     "output_type": "stream",
     "text": [
      "--- Eval epoch-0, step-13 ---\n",
      "pr_auc: 0.6874\n",
      "roc_auc: 0.6813\n",
      "f1: 0.6890\n",
      "loss: 0.6897\n",
      "New best roc_auc score (0.6813) at epoch-0, step-13\n",
      "\n"
     ]
    },
    {
     "name": "stderr",
     "output_type": "stream",
     "text": [
      "\n"
     ]
    },
    {
     "data": {
      "application/vnd.jupyter.widget-view+json": {
       "model_id": "c726c47584204312979106952f7920e4",
       "version_major": 2,
       "version_minor": 0
      },
      "text/plain": [
       "Epoch 1 / 20:   0%|          | 0/13 [00:00<?, ?it/s]"
      ]
     },
     "metadata": {},
     "output_type": "display_data"
    },
    {
     "name": "stdout",
     "output_type": "stream",
     "text": [
      "--- Train epoch-1, step-26 ---\n",
      "loss: 0.6797\n"
     ]
    },
    {
     "name": "stderr",
     "output_type": "stream",
     "text": [
      "Evaluation: 100%|██████████████████████████████████████████████████████████████████████████████████████████| 4/4 [00:00<00:00, 148.50it/s]"
     ]
    },
    {
     "name": "stdout",
     "output_type": "stream",
     "text": [
      "--- Eval epoch-1, step-26 ---\n",
      "pr_auc: 0.7509\n",
      "roc_auc: 0.7455\n",
      "f1: 0.6936\n",
      "loss: 0.6843\n",
      "New best roc_auc score (0.7455) at epoch-1, step-26\n",
      "\n"
     ]
    },
    {
     "name": "stderr",
     "output_type": "stream",
     "text": [
      "\n"
     ]
    },
    {
     "data": {
      "application/vnd.jupyter.widget-view+json": {
       "model_id": "23ff27ba9f60472e8bc6e5fd244b92d2",
       "version_major": 2,
       "version_minor": 0
      },
      "text/plain": [
       "Epoch 2 / 20:   0%|          | 0/13 [00:00<?, ?it/s]"
      ]
     },
     "metadata": {},
     "output_type": "display_data"
    },
    {
     "name": "stdout",
     "output_type": "stream",
     "text": [
      "--- Train epoch-2, step-39 ---\n",
      "loss: 0.6644\n"
     ]
    },
    {
     "name": "stderr",
     "output_type": "stream",
     "text": [
      "Evaluation: 100%|██████████████████████████████████████████████████████████████████████████████████████████| 4/4 [00:00<00:00, 192.00it/s]"
     ]
    },
    {
     "name": "stdout",
     "output_type": "stream",
     "text": [
      "--- Eval epoch-2, step-39 ---\n",
      "pr_auc: 0.7710\n",
      "roc_auc: 0.7651\n",
      "f1: 0.7108\n",
      "loss: 0.6764\n",
      "New best roc_auc score (0.7651) at epoch-2, step-39\n",
      "\n"
     ]
    },
    {
     "name": "stderr",
     "output_type": "stream",
     "text": [
      "\n"
     ]
    },
    {
     "data": {
      "application/vnd.jupyter.widget-view+json": {
       "model_id": "5d9d17971f814261bd4dd2b779483673",
       "version_major": 2,
       "version_minor": 0
      },
      "text/plain": [
       "Epoch 3 / 20:   0%|          | 0/13 [00:00<?, ?it/s]"
      ]
     },
     "metadata": {},
     "output_type": "display_data"
    },
    {
     "name": "stdout",
     "output_type": "stream",
     "text": [
      "--- Train epoch-3, step-52 ---\n",
      "loss: 0.6478\n"
     ]
    },
    {
     "name": "stderr",
     "output_type": "stream",
     "text": [
      "Evaluation: 100%|██████████████████████████████████████████████████████████████████████████████████████████| 4/4 [00:00<00:00, 154.12it/s]"
     ]
    },
    {
     "name": "stdout",
     "output_type": "stream",
     "text": [
      "--- Eval epoch-3, step-52 ---\n"
     ]
    },
    {
     "name": "stderr",
     "output_type": "stream",
     "text": [
      "\n"
     ]
    },
    {
     "name": "stdout",
     "output_type": "stream",
     "text": [
      "pr_auc: 0.7785\n",
      "roc_auc: 0.7721\n",
      "f1: 0.7299\n",
      "loss: 0.6626\n",
      "New best roc_auc score (0.7721) at epoch-3, step-52\n",
      "\n"
     ]
    },
    {
     "data": {
      "application/vnd.jupyter.widget-view+json": {
       "model_id": "b24c5e632f2c4e0fac0cbd6bcc0fdfdd",
       "version_major": 2,
       "version_minor": 0
      },
      "text/plain": [
       "Epoch 4 / 20:   0%|          | 0/13 [00:00<?, ?it/s]"
      ]
     },
     "metadata": {},
     "output_type": "display_data"
    },
    {
     "name": "stdout",
     "output_type": "stream",
     "text": [
      "--- Train epoch-4, step-65 ---\n",
      "loss: 0.6210\n"
     ]
    },
    {
     "name": "stderr",
     "output_type": "stream",
     "text": [
      "Evaluation: 100%|██████████████████████████████████████████████████████████████████████████████████████████| 4/4 [00:00<00:00, 197.97it/s]"
     ]
    },
    {
     "name": "stdout",
     "output_type": "stream",
     "text": [
      "--- Eval epoch-4, step-65 ---\n",
      "pr_auc: 0.7840\n",
      "roc_auc: 0.7794\n",
      "f1: 0.7597\n",
      "loss: 0.6477\n",
      "New best roc_auc score (0.7794) at epoch-4, step-65\n",
      "\n"
     ]
    },
    {
     "name": "stderr",
     "output_type": "stream",
     "text": [
      "\n"
     ]
    },
    {
     "data": {
      "application/vnd.jupyter.widget-view+json": {
       "model_id": "750e586db94145c2b97914ce562a7c56",
       "version_major": 2,
       "version_minor": 0
      },
      "text/plain": [
       "Epoch 5 / 20:   0%|          | 0/13 [00:00<?, ?it/s]"
      ]
     },
     "metadata": {},
     "output_type": "display_data"
    },
    {
     "name": "stdout",
     "output_type": "stream",
     "text": [
      "--- Train epoch-5, step-78 ---\n",
      "loss: 0.6049\n"
     ]
    },
    {
     "name": "stderr",
     "output_type": "stream",
     "text": [
      "Evaluation: 100%|██████████████████████████████████████████████████████████████████████████████████████████| 4/4 [00:00<00:00, 195.47it/s]"
     ]
    },
    {
     "name": "stdout",
     "output_type": "stream",
     "text": [
      "--- Eval epoch-5, step-78 ---\n",
      "pr_auc: 0.7861\n",
      "roc_auc: 0.7767\n",
      "f1: 0.7386\n",
      "loss: 0.6358\n",
      "\n"
     ]
    },
    {
     "name": "stderr",
     "output_type": "stream",
     "text": [
      "\n"
     ]
    },
    {
     "data": {
      "application/vnd.jupyter.widget-view+json": {
       "model_id": "0f17bcb3b96142269d92e34a34a8dcd6",
       "version_major": 2,
       "version_minor": 0
      },
      "text/plain": [
       "Epoch 6 / 20:   0%|          | 0/13 [00:00<?, ?it/s]"
      ]
     },
     "metadata": {},
     "output_type": "display_data"
    },
    {
     "name": "stdout",
     "output_type": "stream",
     "text": [
      "--- Train epoch-6, step-91 ---\n",
      "loss: 0.5697\n"
     ]
    },
    {
     "name": "stderr",
     "output_type": "stream",
     "text": [
      "Evaluation: 100%|██████████████████████████████████████████████████████████████████████████████████████████| 4/4 [00:00<00:00, 185.07it/s]"
     ]
    },
    {
     "name": "stdout",
     "output_type": "stream",
     "text": [
      "--- Eval epoch-6, step-91 ---\n",
      "pr_auc: 0.7935\n",
      "roc_auc: 0.7774\n",
      "f1: 0.7074\n",
      "loss: 0.6524\n",
      "\n"
     ]
    },
    {
     "name": "stderr",
     "output_type": "stream",
     "text": [
      "\n"
     ]
    },
    {
     "data": {
      "application/vnd.jupyter.widget-view+json": {
       "model_id": "8e6f132990b041e096f57bfd3c6c7bb1",
       "version_major": 2,
       "version_minor": 0
      },
      "text/plain": [
       "Epoch 7 / 20:   0%|          | 0/13 [00:00<?, ?it/s]"
      ]
     },
     "metadata": {},
     "output_type": "display_data"
    },
    {
     "name": "stdout",
     "output_type": "stream",
     "text": [
      "--- Train epoch-7, step-104 ---\n",
      "loss: 0.5443\n"
     ]
    },
    {
     "name": "stderr",
     "output_type": "stream",
     "text": [
      "Evaluation: 100%|██████████████████████████████████████████████████████████████████████████████████████████| 4/4 [00:00<00:00, 153.11it/s]"
     ]
    },
    {
     "name": "stdout",
     "output_type": "stream",
     "text": [
      "--- Eval epoch-7, step-104 ---\n",
      "pr_auc: 0.7910\n",
      "roc_auc: 0.7711\n",
      "f1: 0.7022\n",
      "loss: 0.7081\n",
      "\n"
     ]
    },
    {
     "name": "stderr",
     "output_type": "stream",
     "text": [
      "\n"
     ]
    },
    {
     "data": {
      "application/vnd.jupyter.widget-view+json": {
       "model_id": "ebd0a71595c44352a03c7075df78a723",
       "version_major": 2,
       "version_minor": 0
      },
      "text/plain": [
       "Epoch 8 / 20:   0%|          | 0/13 [00:00<?, ?it/s]"
      ]
     },
     "metadata": {},
     "output_type": "display_data"
    },
    {
     "name": "stdout",
     "output_type": "stream",
     "text": [
      "--- Train epoch-8, step-117 ---\n",
      "loss: 0.5493\n"
     ]
    },
    {
     "name": "stderr",
     "output_type": "stream",
     "text": [
      "Evaluation: 100%|███████████████████████████████████████████████████████████████████████████████████████████| 4/4 [00:00<00:00, 43.49it/s]"
     ]
    },
    {
     "name": "stdout",
     "output_type": "stream",
     "text": [
      "--- Eval epoch-8, step-117 ---\n",
      "pr_auc: 0.7970\n",
      "roc_auc: 0.7800\n",
      "f1: 0.7280\n",
      "loss: 0.7188\n",
      "New best roc_auc score (0.7800) at epoch-8, step-117\n",
      "\n"
     ]
    },
    {
     "name": "stderr",
     "output_type": "stream",
     "text": [
      "\n"
     ]
    },
    {
     "data": {
      "application/vnd.jupyter.widget-view+json": {
       "model_id": "c3e10b63c12d4739ab1d28c3d47284f9",
       "version_major": 2,
       "version_minor": 0
      },
      "text/plain": [
       "Epoch 9 / 20:   0%|          | 0/13 [00:00<?, ?it/s]"
      ]
     },
     "metadata": {},
     "output_type": "display_data"
    },
    {
     "name": "stdout",
     "output_type": "stream",
     "text": [
      "--- Train epoch-9, step-130 ---\n",
      "loss: 0.5281\n"
     ]
    },
    {
     "name": "stderr",
     "output_type": "stream",
     "text": [
      "Evaluation: 100%|██████████████████████████████████████████████████████████████████████████████████████████| 4/4 [00:00<00:00, 259.99it/s]"
     ]
    },
    {
     "name": "stdout",
     "output_type": "stream",
     "text": [
      "--- Eval epoch-9, step-130 ---\n",
      "pr_auc: 0.8022\n",
      "roc_auc: 0.7872\n",
      "f1: 0.7541\n",
      "loss: 0.6981\n",
      "New best roc_auc score (0.7872) at epoch-9, step-130\n",
      "\n"
     ]
    },
    {
     "name": "stderr",
     "output_type": "stream",
     "text": [
      "\n"
     ]
    },
    {
     "data": {
      "application/vnd.jupyter.widget-view+json": {
       "model_id": "766a64cd2df64436a294ddd1eb5f02ae",
       "version_major": 2,
       "version_minor": 0
      },
      "text/plain": [
       "Epoch 10 / 20:   0%|          | 0/13 [00:00<?, ?it/s]"
      ]
     },
     "metadata": {},
     "output_type": "display_data"
    },
    {
     "name": "stdout",
     "output_type": "stream",
     "text": [
      "--- Train epoch-10, step-143 ---\n",
      "loss: 0.5091\n"
     ]
    },
    {
     "name": "stderr",
     "output_type": "stream",
     "text": [
      "Evaluation: 100%|██████████████████████████████████████████████████████████████████████████████████████████| 4/4 [00:00<00:00, 174.11it/s]"
     ]
    },
    {
     "name": "stdout",
     "output_type": "stream",
     "text": [
      "--- Eval epoch-10, step-143 ---\n"
     ]
    },
    {
     "name": "stderr",
     "output_type": "stream",
     "text": [
      "\n"
     ]
    },
    {
     "name": "stdout",
     "output_type": "stream",
     "text": [
      "pr_auc: 0.7932\n",
      "roc_auc: 0.7752\n",
      "f1: 0.7074\n",
      "loss: 0.7020\n",
      "\n"
     ]
    },
    {
     "data": {
      "application/vnd.jupyter.widget-view+json": {
       "model_id": "1aa2b87fe71f4f6ab3cbe5086818ff2c",
       "version_major": 2,
       "version_minor": 0
      },
      "text/plain": [
       "Epoch 11 / 20:   0%|          | 0/13 [00:00<?, ?it/s]"
      ]
     },
     "metadata": {},
     "output_type": "display_data"
    },
    {
     "name": "stdout",
     "output_type": "stream",
     "text": [
      "--- Train epoch-11, step-156 ---\n",
      "loss: 0.5120\n"
     ]
    },
    {
     "name": "stderr",
     "output_type": "stream",
     "text": [
      "Evaluation: 100%|██████████████████████████████████████████████████████████████████████████████████████████| 4/4 [00:00<00:00, 153.34it/s]"
     ]
    },
    {
     "name": "stdout",
     "output_type": "stream",
     "text": [
      "--- Eval epoch-11, step-156 ---\n",
      "pr_auc: 0.7983\n",
      "roc_auc: 0.7767\n",
      "f1: 0.7130\n"
     ]
    },
    {
     "name": "stderr",
     "output_type": "stream",
     "text": [
      "\n"
     ]
    },
    {
     "name": "stdout",
     "output_type": "stream",
     "text": [
      "loss: 0.7504\n",
      "\n"
     ]
    },
    {
     "data": {
      "application/vnd.jupyter.widget-view+json": {
       "model_id": "b76b3da9cd364705949159c25f8aeb12",
       "version_major": 2,
       "version_minor": 0
      },
      "text/plain": [
       "Epoch 12 / 20:   0%|          | 0/13 [00:00<?, ?it/s]"
      ]
     },
     "metadata": {},
     "output_type": "display_data"
    },
    {
     "name": "stdout",
     "output_type": "stream",
     "text": [
      "--- Train epoch-12, step-169 ---\n",
      "loss: 0.4912\n"
     ]
    },
    {
     "name": "stderr",
     "output_type": "stream",
     "text": [
      "Evaluation: 100%|██████████████████████████████████████████████████████████████████████████████████████████| 4/4 [00:00<00:00, 136.10it/s]"
     ]
    },
    {
     "name": "stdout",
     "output_type": "stream",
     "text": [
      "--- Eval epoch-12, step-169 ---\n",
      "pr_auc: 0.8053\n",
      "roc_auc: 0.7853\n",
      "f1: 0.7426\n",
      "loss: 0.7604\n",
      "\n"
     ]
    },
    {
     "name": "stderr",
     "output_type": "stream",
     "text": [
      "\n"
     ]
    },
    {
     "data": {
      "application/vnd.jupyter.widget-view+json": {
       "model_id": "dc38141a5eac4b93ad560aa3a4b81318",
       "version_major": 2,
       "version_minor": 0
      },
      "text/plain": [
       "Epoch 13 / 20:   0%|          | 0/13 [00:00<?, ?it/s]"
      ]
     },
     "metadata": {},
     "output_type": "display_data"
    },
    {
     "name": "stdout",
     "output_type": "stream",
     "text": [
      "--- Train epoch-13, step-182 ---\n",
      "loss: 0.5067\n"
     ]
    },
    {
     "name": "stderr",
     "output_type": "stream",
     "text": [
      "Evaluation: 100%|██████████████████████████████████████████████████████████████████████████████████████████| 4/4 [00:00<00:00, 260.06it/s]"
     ]
    },
    {
     "name": "stdout",
     "output_type": "stream",
     "text": [
      "--- Eval epoch-13, step-182 ---\n",
      "pr_auc: 0.8072\n",
      "roc_auc: 0.7863\n",
      "f1: 0.7280\n",
      "loss: 0.7556\n",
      "\n"
     ]
    },
    {
     "name": "stderr",
     "output_type": "stream",
     "text": [
      "\n"
     ]
    },
    {
     "data": {
      "application/vnd.jupyter.widget-view+json": {
       "model_id": "a851c5cdb6554fcda9da6b5287f16754",
       "version_major": 2,
       "version_minor": 0
      },
      "text/plain": [
       "Epoch 14 / 20:   0%|          | 0/13 [00:00<?, ?it/s]"
      ]
     },
     "metadata": {},
     "output_type": "display_data"
    },
    {
     "name": "stdout",
     "output_type": "stream",
     "text": [
      "--- Train epoch-14, step-195 ---\n",
      "loss: 0.4993\n"
     ]
    },
    {
     "name": "stderr",
     "output_type": "stream",
     "text": [
      "Evaluation: 100%|██████████████████████████████████████████████████████████████████████████████████████████| 4/4 [00:00<00:00, 215.39it/s]"
     ]
    },
    {
     "name": "stdout",
     "output_type": "stream",
     "text": [
      "--- Eval epoch-14, step-195 ---\n",
      "pr_auc: 0.8005\n",
      "roc_auc: 0.7790\n",
      "f1: 0.7273\n",
      "loss: 0.7670\n",
      "\n"
     ]
    },
    {
     "name": "stderr",
     "output_type": "stream",
     "text": [
      "\n"
     ]
    },
    {
     "data": {
      "application/vnd.jupyter.widget-view+json": {
       "model_id": "1f88b4a168bc4a06be6f0aa778e4cb6c",
       "version_major": 2,
       "version_minor": 0
      },
      "text/plain": [
       "Epoch 15 / 20:   0%|          | 0/13 [00:00<?, ?it/s]"
      ]
     },
     "metadata": {},
     "output_type": "display_data"
    },
    {
     "name": "stdout",
     "output_type": "stream",
     "text": [
      "--- Train epoch-15, step-208 ---\n",
      "loss: 0.4842\n"
     ]
    },
    {
     "name": "stderr",
     "output_type": "stream",
     "text": [
      "Evaluation: 100%|██████████████████████████████████████████████████████████████████████████████████████████| 4/4 [00:00<00:00, 153.54it/s]"
     ]
    },
    {
     "name": "stdout",
     "output_type": "stream",
     "text": [
      "--- Eval epoch-15, step-208 ---\n",
      "pr_auc: 0.8028\n",
      "roc_auc: 0.7808\n",
      "f1: 0.7288\n",
      "loss: 0.7621\n",
      "\n"
     ]
    },
    {
     "name": "stderr",
     "output_type": "stream",
     "text": [
      "\n"
     ]
    },
    {
     "data": {
      "application/vnd.jupyter.widget-view+json": {
       "model_id": "42d08a24c6a24fd7802c799b8adea0f8",
       "version_major": 2,
       "version_minor": 0
      },
      "text/plain": [
       "Epoch 16 / 20:   0%|          | 0/13 [00:00<?, ?it/s]"
      ]
     },
     "metadata": {},
     "output_type": "display_data"
    },
    {
     "name": "stdout",
     "output_type": "stream",
     "text": [
      "--- Train epoch-16, step-221 ---\n",
      "loss: 0.4731\n"
     ]
    },
    {
     "name": "stderr",
     "output_type": "stream",
     "text": [
      "Evaluation: 100%|██████████████████████████████████████████████████████████████████████████████████████████| 4/4 [00:00<00:00, 106.69it/s]\n"
     ]
    },
    {
     "name": "stdout",
     "output_type": "stream",
     "text": [
      "--- Eval epoch-16, step-221 ---\n",
      "pr_auc: 0.8046\n",
      "roc_auc: 0.7832\n",
      "f1: 0.7227\n",
      "loss: 0.7614\n",
      "\n"
     ]
    },
    {
     "data": {
      "application/vnd.jupyter.widget-view+json": {
       "model_id": "740b1bcc3a6940e1b2584e5cc96b92c6",
       "version_major": 2,
       "version_minor": 0
      },
      "text/plain": [
       "Epoch 17 / 20:   0%|          | 0/13 [00:00<?, ?it/s]"
      ]
     },
     "metadata": {},
     "output_type": "display_data"
    },
    {
     "name": "stdout",
     "output_type": "stream",
     "text": [
      "--- Train epoch-17, step-234 ---\n",
      "loss: 0.4886\n"
     ]
    },
    {
     "name": "stderr",
     "output_type": "stream",
     "text": [
      "Evaluation: 100%|██████████████████████████████████████████████████████████████████████████████████████████| 4/4 [00:00<00:00, 259.22it/s]"
     ]
    },
    {
     "name": "stdout",
     "output_type": "stream",
     "text": [
      "--- Eval epoch-17, step-234 ---\n",
      "pr_auc: 0.8033\n",
      "roc_auc: 0.7811\n",
      "f1: 0.7359\n",
      "loss: 0.7728\n",
      "\n"
     ]
    },
    {
     "name": "stderr",
     "output_type": "stream",
     "text": [
      "\n"
     ]
    },
    {
     "data": {
      "application/vnd.jupyter.widget-view+json": {
       "model_id": "75ace0af90c8475da1796375dce5d0a7",
       "version_major": 2,
       "version_minor": 0
      },
      "text/plain": [
       "Epoch 18 / 20:   0%|          | 0/13 [00:00<?, ?it/s]"
      ]
     },
     "metadata": {},
     "output_type": "display_data"
    },
    {
     "name": "stdout",
     "output_type": "stream",
     "text": [
      "--- Train epoch-18, step-247 ---\n",
      "loss: 0.4945\n"
     ]
    },
    {
     "name": "stderr",
     "output_type": "stream",
     "text": [
      "Evaluation: 100%|██████████████████████████████████████████████████████████████████████████████████████████| 4/4 [00:00<00:00, 157.60it/s]"
     ]
    },
    {
     "name": "stdout",
     "output_type": "stream",
     "text": [
      "--- Eval epoch-18, step-247 ---\n",
      "pr_auc: 0.8038\n",
      "roc_auc: 0.7843\n",
      "f1: 0.7395\n",
      "loss: 0.7313\n",
      "\n"
     ]
    },
    {
     "name": "stderr",
     "output_type": "stream",
     "text": [
      "\n"
     ]
    },
    {
     "data": {
      "application/vnd.jupyter.widget-view+json": {
       "model_id": "30dfd4b2ba5345be91bd95a7353982b4",
       "version_major": 2,
       "version_minor": 0
      },
      "text/plain": [
       "Epoch 19 / 20:   0%|          | 0/13 [00:00<?, ?it/s]"
      ]
     },
     "metadata": {},
     "output_type": "display_data"
    },
    {
     "name": "stdout",
     "output_type": "stream",
     "text": [
      "--- Train epoch-19, step-260 ---\n",
      "loss: 0.4679\n"
     ]
    },
    {
     "name": "stderr",
     "output_type": "stream",
     "text": [
      "Evaluation: 100%|██████████████████████████████████████████████████████████████████████████████████████████| 4/4 [00:00<00:00, 147.10it/s]"
     ]
    },
    {
     "name": "stdout",
     "output_type": "stream",
     "text": [
      "--- Eval epoch-19, step-260 ---\n",
      "pr_auc: 0.8077\n",
      "roc_auc: 0.7866\n",
      "f1: 0.7364\n",
      "loss: 0.7543\n",
      "Loaded best model\n"
     ]
    },
    {
     "name": "stderr",
     "output_type": "stream",
     "text": [
      "\n"
     ]
    }
   ],
   "source": [
    "from pyhealth.trainer import Trainer\n",
    "\n",
    "# use our Trainer to train the model\n",
    "\n",
    "trainer = Trainer(\n",
    "    model=model,\n",
    "    metrics=[\"pr_auc\", \"roc_auc\", \"f1\"]\n",
    ")\n",
    "\n",
    "trainer.train(\n",
    "    train_dataloader=train_loader,\n",
    "    val_dataloader=val_loader,\n",
    "    epochs=20,\n",
    "    monitor=\"roc_auc\",\n",
    ")"
   ]
  },
  {
   "cell_type": "markdown",
   "id": "5c727a7d",
   "metadata": {},
   "source": [
    "## Step5: model evaluation\n",
    "\n",
    "So far, we have processed the training set into train and validation and obtain the\n",
    "best trained LSTM model. Now, we will similarly process the test data into PyHealth\n",
    "format, use the same pyhealth wrapper to get a test data loader and compute the final\n",
    "evaluation metrics. The trainer.evaluate() function automatically use the best trained\n",
    "LSTM model for evaluation"
   ]
  },
  {
   "cell_type": "code",
   "execution_count": 15,
   "id": "ce889acf",
   "metadata": {},
   "outputs": [],
   "source": [
    "DATA_PATH = \"./\"\n",
    "pids = pickle.load(open(os.path.join(DATA_PATH,'test/pids.pkl'), 'rb'))\n",
    "vids = pickle.load(open(os.path.join(DATA_PATH,'test/vids.pkl'), 'rb'))\n",
    "hfs = pickle.load(open(os.path.join(DATA_PATH,'test/hfs.pkl'), 'rb'))\n",
    "seqs = pickle.load(open(os.path.join(DATA_PATH,'test/seqs.pkl'), 'rb'))\n",
    "types = pickle.load(open(os.path.join(DATA_PATH,'test/types.pkl'), 'rb'))\n",
    "rtypes = pickle.load(open(os.path.join(DATA_PATH,'test/rtypes.pkl'), 'rb'))"
   ]
  },
  {
   "cell_type": "code",
   "execution_count": 16,
   "id": "92031674",
   "metadata": {},
   "outputs": [],
   "source": [
    "test_samples = []\n",
    "for pid, vid, hf, seq in zip(pids, vids, hfs, seqs):\n",
    "    test_samples.append(\n",
    "        {\n",
    "            'patient_id': pid,\n",
    "            'visit_id': vid[-1],\n",
    "            'label': hf,\n",
    "            'diagnoses': [[rtypes[v] for v in visit] for visit in seq],\n",
    "        }\n",
    "    )\n",
    "    \n",
    "test_dataset = SampleEHRDataset(test_samples, code_vocs=None)\n",
    "test_loader = get_dataloader(test_dataset, batch_size=64, shuffle=False)"
   ]
  },
  {
   "cell_type": "code",
   "execution_count": 17,
   "id": "baa250fb",
   "metadata": {},
   "outputs": [
    {
     "name": "stderr",
     "output_type": "stream",
     "text": [
      "Evaluation: 100%|██████████████████████████████████████████████████████████████████████████████████████████| 4/4 [00:00<00:00, 149.98it/s]"
     ]
    },
    {
     "name": "stdout",
     "output_type": "stream",
     "text": [
      "{'pr_auc': 0.7620261511596843, 'roc_auc': 0.7703540432566468, 'f1': 0.7465753424657535, 'loss': 0.6352440267801285}\n"
     ]
    },
    {
     "name": "stderr",
     "output_type": "stream",
     "text": [
      "\n"
     ]
    }
   ],
   "source": [
    "result = trainer.evaluate(test_loader)\n",
    "print (result)"
   ]
  },
  {
   "cell_type": "code",
   "execution_count": null,
   "id": "583d9676",
   "metadata": {},
   "outputs": [],
   "source": []
  },
  {
   "cell_type": "code",
   "execution_count": null,
   "id": "6906d3c1",
   "metadata": {},
   "outputs": [],
   "source": []
  }
 ],
 "metadata": {
  "kernelspec": {
   "display_name": "Python 3",
   "language": "python",
   "name": "python3"
  },
  "language_info": {
   "codemirror_mode": {
    "name": "ipython",
    "version": 3
   },
   "file_extension": ".py",
   "mimetype": "text/x-python",
   "name": "python",
   "nbconvert_exporter": "python",
   "pygments_lexer": "ipython3",
   "version": "3.9.18"
  }
 },
 "nbformat": 4,
 "nbformat_minor": 5
}
