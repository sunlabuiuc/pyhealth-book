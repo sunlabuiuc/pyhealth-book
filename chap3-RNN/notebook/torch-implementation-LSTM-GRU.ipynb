{
 "cells": [
  {
   "cell_type": "code",
   "execution_count": 1,
   "id": "70f82d01",
   "metadata": {},
   "outputs": [],
   "source": [
    "import torch"
   ]
  },
  {
   "cell_type": "markdown",
   "id": "9e752868",
   "metadata": {},
   "source": [
    "### LSTM torch implementation"
   ]
  },
  {
   "cell_type": "code",
   "execution_count": 2,
   "id": "ffb657a4",
   "metadata": {},
   "outputs": [],
   "source": [
    "# we define an LSTM model using torch API\n",
    "\"\"\"\n",
    "10 as the input size\n",
    "20 as the hidden embedding size\n",
    "2 as the LSTM gate neural network layers\n",
    "\"\"\"\n",
    "\n",
    "I, H, L = 10, 20, 2\n",
    "\n",
    "lstm = torch.nn.LSTM(I, H, L)"
   ]
  },
  {
   "cell_type": "markdown",
   "id": "9e422517",
   "metadata": {},
   "source": [
    "#### generate synthetic input data"
   ]
  },
  {
   "cell_type": "code",
   "execution_count": 3,
   "id": "a197d0cf",
   "metadata": {},
   "outputs": [],
   "source": [
    "# generate input (25 as time steps, 8 as batch size, 10 as input size)\n",
    "input = torch.randn(25, 8, I)\n",
    "\n",
    "# generate initial hidden state (2 hidden layers, 8 as batch size, 20 as hidden embedding size)\n",
    "h0 = torch.randn(L, 8, H)\n",
    "\n",
    "# generate initial memory cell (2 hidden layers, 8 as batch size, 20 as hidden embedding size)\n",
    "c0 = torch.randn(L, 8, H)"
   ]
  },
  {
   "cell_type": "code",
   "execution_count": 4,
   "id": "46621df8",
   "metadata": {},
   "outputs": [
    {
     "data": {
      "text/plain": [
       "(torch.Size([25, 8, 20]), torch.Size([2, 8, 20]), torch.Size([2, 8, 20]))"
      ]
     },
     "execution_count": 4,
     "metadata": {},
     "output_type": "execute_result"
    }
   ],
   "source": [
    "# use lstm for inference\n",
    "output, (hn, cn) = lstm(input, (h0, c0))\n",
    "\n",
    "output.shape, hn.shape, cn.shape"
   ]
  },
  {
   "cell_type": "markdown",
   "id": "f3cfa783",
   "metadata": {},
   "source": [
    "### GRU torch implementation"
   ]
  },
  {
   "cell_type": "code",
   "execution_count": 5,
   "id": "f2f38d48",
   "metadata": {},
   "outputs": [],
   "source": [
    "# we define a GRU model using torch API\n",
    "\"\"\"\n",
    "10 as the input size\n",
    "20 as the hidden embedding size\n",
    "2 as the GRU gate neural network layers\n",
    "\"\"\"\n",
    "\n",
    "I, H, L = 10, 20, 2\n",
    "\n",
    "gru = torch.nn.GRU(I, H, L)"
   ]
  },
  {
   "cell_type": "code",
   "execution_count": 6,
   "id": "a80470d4",
   "metadata": {},
   "outputs": [
    {
     "data": {
      "text/plain": [
       "(torch.Size([25, 8, 20]), torch.Size([2, 8, 20]))"
      ]
     },
     "execution_count": 6,
     "metadata": {},
     "output_type": "execute_result"
    }
   ],
   "source": [
    "# use lstm for inference\n",
    "output, hn = gru(input, h0)\n",
    "\n",
    "output.shape, hn.shape"
   ]
  },
  {
   "cell_type": "code",
   "execution_count": null,
   "id": "f50ba537",
   "metadata": {},
   "outputs": [],
   "source": []
  },
  {
   "cell_type": "code",
   "execution_count": null,
   "id": "857dc01e",
   "metadata": {},
   "outputs": [],
   "source": []
  },
  {
   "cell_type": "markdown",
   "id": "1cc0640d",
   "metadata": {},
   "source": [
    "### Train a GRU model in torch"
   ]
  },
  {
   "cell_type": "code",
   "execution_count": 11,
   "id": "b336cb78",
   "metadata": {},
   "outputs": [],
   "source": [
    "import matplotlib.pyplot as plt"
   ]
  },
  {
   "cell_type": "markdown",
   "id": "e6e0db78",
   "metadata": {},
   "source": [
    "#### 1. generate the train/test data\n",
    "- we generate the sinusoid function as the mapping relations.\n",
    "- each input only has 1 dimension\n",
    "- the output also has 1 dimension"
   ]
  },
  {
   "cell_type": "code",
   "execution_count": 40,
   "id": "6f2a63ed",
   "metadata": {},
   "outputs": [
    {
     "name": "stdout",
     "output_type": "stream",
     "text": [
      "/home/chaoqiy2/github/pyhealth-book/chap3-RNN/notebook\r\n"
     ]
    }
   ],
   "source": [
    "!pwd"
   ]
  },
  {
   "cell_type": "code",
   "execution_count": 39,
   "id": "6c07f5bd",
   "metadata": {},
   "outputs": [
    {
     "data": {
      "image/png": "[encoded data removed]",
      "text/plain": [
       "<Figure size 432x288 with 1 Axes>"
      ]
     },
     "metadata": {
      "needs_background": "light"
     },
     "output_type": "display_data"
    }
   ],
   "source": [
    "X = torch.arange(10000)\n",
    "y = torch.sin(X / 500)\n",
    "\n",
    "plt.plot(X, y)\n",
    "plt.xlabel(\"X\")\n",
    "plt.ylabel(\"y\")\n",
    "plt.savefig(\"train-gru-sin-dataset.pdf\")"
   ]
  },
  {
   "cell_type": "code",
   "execution_count": 25,
   "id": "d42422fd",
   "metadata": {},
   "outputs": [
    {
     "data": {
      "text/plain": [
       "(torch.Size([1, 8000, 1]),\n",
       " torch.Size([1, 2000, 1]),\n",
       " torch.Size([1, 8000]),\n",
       " torch.Size([1, 2000]))"
      ]
     },
     "execution_count": 25,
     "metadata": {},
     "output_type": "execute_result"
    }
   ],
   "source": [
    "# split into train and test\n",
    "X_train, X_test = torch.FloatTensor(X[:8000].float()), torch.FloatTensor(X[8000:].float())\n",
    "y_train, y_test = torch.FloatTensor(y[:8000]), torch.FloatTensor(y[8000:])\n",
    "\n",
    "X_train = X_train.unsqueeze(0).unsqueeze(-1)\n",
    "X_test = X_test.unsqueeze(0).unsqueeze(-1)\n",
    "y_train = y_train.unsqueeze(0)\n",
    "y_test = y_test.unsqueeze(0)\n",
    "\n",
    "X_train.shape, X_test.shape, y_train.shape, y_test.shape"
   ]
  },
  {
   "cell_type": "markdown",
   "id": "496a6bbd",
   "metadata": {},
   "source": [
    "#### 2. initialize the GRU model, optimizer, loss function"
   ]
  },
  {
   "cell_type": "code",
   "execution_count": 35,
   "id": "ebb1ba7c",
   "metadata": {},
   "outputs": [],
   "source": [
    "gru = torch.nn.GRU(1, 1, 2)\n",
    "\n",
    "criterion = torch.nn.MSELoss()\n",
    "optimizer = torch.optim.Adam(gru.parameters(), lr=0.01) "
   ]
  },
  {
   "cell_type": "markdown",
   "id": "adb92567",
   "metadata": {},
   "source": [
    "#### 3. train the model and test at the end of each epoch"
   ]
  },
  {
   "cell_type": "code",
   "execution_count": 36,
   "id": "7e8dd6de",
   "metadata": {},
   "outputs": [
    {
     "name": "stderr",
     "output_type": "stream",
     "text": [
      "100%|███████████████████████████████████████████████████████████████████████████████| 200/200 [00:01<00:00, 153.56it/s]\n"
     ]
    }
   ],
   "source": [
    "from tqdm import tqdm\n",
    "\n",
    "train_loss, test_loss = [], []\n",
    "\n",
    "for epoch in tqdm(range(200)):\n",
    "    \n",
    "    gru.train()\n",
    "    # predict on the training data\n",
    "    h0 = torch.randn(2, 8000, 1)\n",
    "    pre, _ = gru(X_train, h0)\n",
    "    \n",
    "    # calculate the loss\n",
    "    loss = criterion(pre.squeeze(-1), y_train)\n",
    "    train_loss.append(loss.item())\n",
    "    \n",
    "    # gradient update\n",
    "    optimizer.zero_grad()\n",
    "    loss.backward()\n",
    "    optimizer.step()\n",
    "    \n",
    "    gru.eval()\n",
    "    with torch.no_grad():\n",
    "        h0 = torch.randn(2, 2000, 1)\n",
    "        pre, _ = gru(X_test, h0)\n",
    "        loss = criterion(pre.squeeze(-1), y_test)\n",
    "        test_loss.append(loss.item())\n",
    "    \n",
    "    "
   ]
  },
  {
   "cell_type": "markdown",
   "id": "f3f159a6",
   "metadata": {},
   "source": [
    "#### 4. draw the loss curve"
   ]
  },
  {
   "cell_type": "code",
   "execution_count": 41,
   "id": "43405713",
   "metadata": {},
   "outputs": [
    {
     "data": {
      "image/png": "[encoded data removed]",
      "text/plain": [
       "<Figure size 432x288 with 1 Axes>"
      ]
     },
     "metadata": {
      "needs_background": "light"
     },
     "output_type": "display_data"
    }
   ],
   "source": [
    "plt.plot(train_loss, label=\"train_loss\")\n",
    "plt.plot(test_loss, label=\"test_loss\")\n",
    "plt.legend()\n",
    "plt.xlabel(\"epoch\")\n",
    "plt.ylabel(\"MSE loss\")\n",
    "\n",
    "plt.savefig(\"train-gru-loss-curves.pdf\")"
   ]
  },
  {
   "cell_type": "code",
   "execution_count": null,
   "id": "19e5fd74",
   "metadata": {},
   "outputs": [],
   "source": []
  }
 ],
 "metadata": {
  "kernelspec": {
   "display_name": "Python 3",
   "language": "python",
   "name": "python3"
  },
  "language_info": {
   "codemirror_mode": {
    "name": "ipython",
    "version": 3
   },
   "file_extension": ".py",
   "mimetype": "text/x-python",
   "name": "python",
   "nbconvert_exporter": "python",
   "pygments_lexer": "ipython3",
   "version": "3.9.18"
  }
 },
 "nbformat": 4,
 "nbformat_minor": 5
}
