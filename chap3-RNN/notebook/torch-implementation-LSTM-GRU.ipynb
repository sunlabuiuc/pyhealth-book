{
 "cells": [
  {
   "cell_type": "code",
   "execution_count": 1,
   "id": "70f82d01",
   "metadata": {},
   "outputs": [],
   "source": [
    "import torch"
   ]
  },
  {
   "cell_type": "markdown",
   "id": "9e752868",
   "metadata": {},
   "source": [
    "### LSTM torch implementation"
   ]
  },
  {
   "cell_type": "code",
   "execution_count": 3,
   "id": "ffb657a4",
   "metadata": {},
   "outputs": [],
   "source": [
    "# we define an LSTM model using torch API\n",
    "\"\"\"\n",
    "10 as the input size\n",
    "20 as the hidden embedding size\n",
    "2 as the LSTM gate neural network layers\n",
    "\"\"\"\n",
    "\n",
    "I, H, L = 10, 20, 2\n",
    "\n",
    "lstm = torch.nn.LSTM(I, H, L)"
   ]
  },
  {
   "cell_type": "markdown",
   "id": "9e422517",
   "metadata": {},
   "source": [
    "##### generate synthetic input data"
   ]
  },
  {
   "cell_type": "code",
   "execution_count": 12,
   "id": "a197d0cf",
   "metadata": {},
   "outputs": [],
   "source": [
    "# generate input (25 as time steps, 8 as batch size, 10 as input size)\n",
    "input = torch.randn(25, 8, I)\n",
    "\n",
    "# generate initial hidden state (2 hidden layers, 8 as batch size, 20 as hidden embedding size)\n",
    "h0 = torch.randn(L, 8, H)\n",
    "\n",
    "# generate initial memory cell (2 hidden layers, 8 as batch size, 20 as hidden embedding size)\n",
    "c0 = torch.randn(L, 8, H)"
   ]
  },
  {
   "cell_type": "code",
   "execution_count": 13,
   "id": "46621df8",
   "metadata": {},
   "outputs": [
    {
     "data": {
      "text/plain": [
       "(torch.Size([25, 8, 20]), torch.Size([2, 8, 20]), torch.Size([2, 8, 20]))"
      ]
     },
     "execution_count": 13,
     "metadata": {},
     "output_type": "execute_result"
    }
   ],
   "source": [
    "# use lstm for inference\n",
    "output, (hn, cn) = lstm(input, (h0, c0))\n",
    "\n",
    "output.shape, hn.shape, cn.shape"
   ]
  },
  {
   "cell_type": "markdown",
   "id": "f3cfa783",
   "metadata": {},
   "source": [
    "### GRU torch implementation"
   ]
  },
  {
   "cell_type": "code",
   "execution_count": 14,
   "id": "f2f38d48",
   "metadata": {},
   "outputs": [],
   "source": [
    "# we define a GRU model using torch API\n",
    "\"\"\"\n",
    "10 as the input size\n",
    "20 as the hidden embedding size\n",
    "2 as the GRU gate neural network layers\n",
    "\"\"\"\n",
    "\n",
    "I, H, L = 10, 20, 2\n",
    "\n",
    "gru = torch.nn.GRU(I, H, L)"
   ]
  },
  {
   "cell_type": "code",
   "execution_count": 16,
   "id": "a80470d4",
   "metadata": {},
   "outputs": [
    {
     "data": {
      "text/plain": [
       "(torch.Size([25, 8, 20]), torch.Size([2, 8, 20]))"
      ]
     },
     "execution_count": 16,
     "metadata": {},
     "output_type": "execute_result"
    }
   ],
   "source": [
    "# use lstm for inference\n",
    "output, hn = gru(input, h0)\n",
    "\n",
    "output.shape, hn.shape"
   ]
  },
  {
   "cell_type": "code",
   "execution_count": null,
   "id": "4e967a54",
   "metadata": {},
   "outputs": [],
   "source": []
  }
 ],
 "metadata": {
  "kernelspec": {
   "display_name": "Python 3",
   "language": "python",
   "name": "python3"
  },
  "language_info": {
   "codemirror_mode": {
    "name": "ipython",
    "version": 3
   },
   "file_extension": ".py",
   "mimetype": "text/x-python",
   "name": "python",
   "nbconvert_exporter": "python",
   "pygments_lexer": "ipython3",
   "version": "3.9.18"
  }
 },
 "nbformat": 4,
 "nbformat_minor": 5
}
