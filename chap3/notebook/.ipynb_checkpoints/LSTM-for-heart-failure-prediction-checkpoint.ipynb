{
 "cells": [
  {
   "cell_type": "code",
   "execution_count": 2,
   "id": "d019bd04",
   "metadata": {},
   "outputs": [],
   "source": [
    "import pyhealth\n",
    "import pickle\n",
    "import os"
   ]
  },
  {
   "cell_type": "markdown",
   "id": "ec51b951",
   "metadata": {},
   "source": [
    "## dataset lookups"
   ]
  },
  {
   "cell_type": "code",
   "execution_count": 3,
   "id": "4de8d1f3",
   "metadata": {},
   "outputs": [],
   "source": [
    "\"\"\"\n",
    "where\n",
    "\n",
    "- `pids`: contains the patient ids\n",
    "- `vids`: contains a list of visit ids for each patient\n",
    "- `hfs`: contains the heart failure label (0: normal, 1: heart failure) for each patient\n",
    "- `seqs`: contains a list of visit (in ICD9 codes) for each patient\n",
    "- `types`: contains the map from ICD9 codes to ICD-9 labels\n",
    "- `rtypes`: contains the map from ICD9 labels to ICD9 codes\n",
    "\"\"\"\n",
    "\n",
    "DATA_PATH = \"./\"\n",
    "pids = pickle.load(open(os.path.join(DATA_PATH,'train/pids.pkl'), 'rb'))\n",
    "vids = pickle.load(open(os.path.join(DATA_PATH,'train/vids.pkl'), 'rb'))\n",
    "hfs = pickle.load(open(os.path.join(DATA_PATH,'train/hfs.pkl'), 'rb'))\n",
    "seqs = pickle.load(open(os.path.join(DATA_PATH,'train/seqs.pkl'), 'rb'))\n",
    "types = pickle.load(open(os.path.join(DATA_PATH,'train/types.pkl'), 'rb'))\n",
    "rtypes = pickle.load(open(os.path.join(DATA_PATH,'train/rtypes.pkl'), 'rb'))\n",
    "\n",
    "assert len(pids) == len(vids) == len(hfs) == len(seqs) == 1000\n",
    "assert len(types) == 619"
   ]
  },
  {
   "cell_type": "code",
   "execution_count": 4,
   "id": "41acdb81",
   "metadata": {},
   "outputs": [
    {
     "name": "stdout",
     "output_type": "stream",
     "text": [
      "Patient ID: 47537\n",
      "Heart Failure: 0\n",
      "# of visits: 2\n",
      "\t0-th visit id: 0\n",
      "\t0-th visit diagnosis labels: [12, 103, 262, 285, 290, 292, 359, 416, 39, 225, 275, 294, 326, 267, 93]\n",
      "\t0-th visit diagnosis codes: ['DIAG_041', 'DIAG_276', 'DIAG_518', 'DIAG_560', 'DIAG_567', 'DIAG_569', 'DIAG_707', 'DIAG_785', 'DIAG_155', 'DIAG_456', 'DIAG_537', 'DIAG_571', 'DIAG_608', 'DIAG_529', 'DIAG_263']\n",
      "\t1-th visit id: 1\n",
      "\t1-th visit diagnosis labels: [12, 103, 240, 262, 290, 292, 319, 359, 510, 513, 577, 307, 8, 280, 18, 131]\n",
      "\t1-th visit diagnosis codes: ['DIAG_041', 'DIAG_276', 'DIAG_482', 'DIAG_518', 'DIAG_567', 'DIAG_569', 'DIAG_599', 'DIAG_707', 'DIAG_995', 'DIAG_998', 'DIAG_V09', 'DIAG_584', 'DIAG_031', 'DIAG_553', 'DIAG_070', 'DIAG_305']\n"
     ]
    }
   ],
   "source": [
    "# take the 3rd patient as an example\n",
    "\n",
    "print(\"Patient ID:\", pids[3])\n",
    "print(\"Heart Failure:\", hfs[3])\n",
    "print(\"# of visits:\", len(vids[3]))\n",
    "for visit in range(len(vids[3])):\n",
    "    print(f\"\\t{visit}-th visit id:\", vids[3][visit])\n",
    "    print(f\"\\t{visit}-th visit diagnosis labels:\", seqs[3][visit])\n",
    "    print(f\"\\t{visit}-th visit diagnosis codes:\", [rtypes[label] for label in seqs[3][visit]])"
   ]
  },
  {
   "cell_type": "code",
   "execution_count": 5,
   "id": "d78111ec",
   "metadata": {},
   "outputs": [
    {
     "name": "stdout",
     "output_type": "stream",
     "text": [
      "number of heart failure patients: 548\n",
      "ratio of heart failure patients: 0.55\n"
     ]
    }
   ],
   "source": [
    "print(\"number of heart failure patients:\", sum(hfs))\n",
    "print(\"ratio of heart failure patients: %.2f\" % (sum(hfs) / len(hfs)))"
   ]
  },
  {
   "cell_type": "markdown",
   "id": "9534e104",
   "metadata": {},
   "source": [
    "## Step1 & 2: dataset processing and task definition"
   ]
  },
  {
   "cell_type": "code",
   "execution_count": 6,
   "id": "accca73f",
   "metadata": {},
   "outputs": [],
   "source": [
    "\"\"\"\n",
    "With this user processed data, we just need to wrap up the data to fit\n",
    "the pyhealth format.\n",
    "\n",
    "Task definition: we will use all the visits from the patients as the features,\n",
    "    then, the labels are given b the hfs list.\n",
    "\"\"\"\n",
    "samples = []\n",
    "for pid, vid, hf, seq in zip(pids, vids, hfs, seqs):\n",
    "    samples.append(\n",
    "        {\n",
    "            'patient_id': pid,\n",
    "            'visit_id': vid[-1],\n",
    "            'label': hf,\n",
    "            'diagnoses': [[rtypes[v] for v in visit] for visit in seq],\n",
    "        }\n",
    "    )\n",
    "    "
   ]
  },
  {
   "cell_type": "code",
   "execution_count": 7,
   "id": "17e394e7",
   "metadata": {},
   "outputs": [],
   "source": [
    "# load into the dataset\n",
    "from pyhealth.datasets import SampleEHRDataset\n",
    "train_dataset = SampleEHRDataset(samples, code_vocs=None)"
   ]
  },
  {
   "cell_type": "code",
   "execution_count": 14,
   "id": "2b7b4ba9",
   "metadata": {},
   "outputs": [
    {
     "data": {
      "text/plain": [
       "{'patient_id': 89571,\n",
       " 'visit_id': 1,\n",
       " 'label': 1,\n",
       " 'diagnoses': [['DIAG_250',\n",
       "   'DIAG_285',\n",
       "   'DIAG_682',\n",
       "   'DIAG_730',\n",
       "   'DIAG_531',\n",
       "   'DIAG_996',\n",
       "   'DIAG_287',\n",
       "   'DIAG_276',\n",
       "   'DIAG_E878',\n",
       "   'DIAG_V45',\n",
       "   'DIAG_996'],\n",
       "  ['DIAG_250',\n",
       "   'DIAG_276',\n",
       "   'DIAG_285',\n",
       "   'DIAG_998',\n",
       "   'DIAG_996',\n",
       "   'DIAG_078',\n",
       "   'DIAG_336',\n",
       "   'DIAG_E878',\n",
       "   'DIAG_401',\n",
       "   'DIAG_205']]}"
      ]
     },
     "execution_count": 14,
     "metadata": {},
     "output_type": "execute_result"
    }
   ],
   "source": [
    "train_dataset.samples[0]"
   ]
  },
  {
   "cell_type": "code",
   "execution_count": 8,
   "id": "a5609668",
   "metadata": {},
   "outputs": [],
   "source": [
    "from pyhealth.datasets.splitter import split_by_patient\n",
    "from pyhealth.datasets import split_by_patient, get_dataloader\n",
    "\n",
    "# dataset split by patient id\n",
    "train_ds, val_ds, test_ds = split_by_patient(train_dataset, [0.8, 0.2, 0])\n",
    "\n",
    "# obtain train/val/test dataloader, they are <torch.data.DataLoader> object\n",
    "train_loader = get_dataloader(train_ds, batch_size=64, shuffle=True)\n",
    "val_loader = get_dataloader(val_ds, batch_size=64, shuffle=False)"
   ]
  },
  {
   "cell_type": "markdown",
   "id": "50b4c85d",
   "metadata": {},
   "source": [
    "## Step3: initialize the LSTM model"
   ]
  },
  {
   "cell_type": "code",
   "execution_count": 9,
   "id": "49bee621",
   "metadata": {},
   "outputs": [],
   "source": [
    "from pyhealth.models import RNN\n",
    "\n",
    "model = RNN(\n",
    "    dataset=dataset,\n",
    "    feature_keys=[\"diagnoses\"],\n",
    "    label_key=\"label\",\n",
    "    mode=\"binary\",\n",
    "    rnn_type=\"LSTM\",\n",
    "    num_layers=2,\n",
    "    embedding_dim=64,\n",
    "    hidden_dim=64,\n",
    ")"
   ]
  },
  {
   "cell_type": "markdown",
   "id": "84c7d067",
   "metadata": {},
   "source": [
    "## Step4: model training"
   ]
  },
  {
   "cell_type": "code",
   "execution_count": 10,
   "id": "648d3e42",
   "metadata": {},
   "outputs": [
    {
     "name": "stdout",
     "output_type": "stream",
     "text": [
      "RNN(\n",
      "  (embeddings): ModuleDict(\n",
      "    (diagnoses): Embedding(601, 64, padding_idx=0)\n",
      "  )\n",
      "  (linear_layers): ModuleDict()\n",
      "  (rnn): ModuleDict(\n",
      "    (diagnoses): RNNLayer(\n",
      "      (dropout_layer): Dropout(p=0.5, inplace=False)\n",
      "      (rnn): LSTM(64, 64, num_layers=2, batch_first=True, dropout=0.5)\n",
      "    )\n",
      "  )\n",
      "  (fc): Linear(in_features=64, out_features=1, bias=True)\n",
      ")\n",
      "Metrics: ['pr_auc', 'roc_auc', 'f1']\n",
      "Device: cuda\n",
      "\n",
      "Training:\n",
      "Batch size: 64\n",
      "Optimizer: <class 'torch.optim.adam.Adam'>\n",
      "Optimizer params: {'lr': 0.001}\n",
      "Weight decay: 0.0\n",
      "Max grad norm: None\n",
      "Val dataloader: <torch.utils.data.dataloader.DataLoader object at 0x7f933d6add90>\n",
      "Monitor: roc_auc\n",
      "Monitor criterion: max\n",
      "Epochs: 20\n",
      "\n"
     ]
    },
    {
     "data": {
      "application/vnd.jupyter.widget-view+json": {
       "model_id": "56e241f70a75428cbb4ab3324e6d532c",
       "version_major": 2,
       "version_minor": 0
      },
      "text/plain": [
       "Epoch 0 / 20:   0%|          | 0/13 [00:00<?, ?it/s]"
      ]
     },
     "metadata": {},
     "output_type": "display_data"
    },
    {
     "name": "stdout",
     "output_type": "stream",
     "text": [
      "--- Train epoch-0, step-13 ---\n",
      "loss: 0.6889\n"
     ]
    },
    {
     "name": "stderr",
     "output_type": "stream",
     "text": [
      "Evaluation: 100%|████████████████████████| 4/4 [00:00<00:00, 111.64it/s]"
     ]
    },
    {
     "name": "stdout",
     "output_type": "stream",
     "text": [
      "--- Eval epoch-0, step-13 ---\n",
      "pr_auc: 0.6721\n",
      "roc_auc: 0.6805\n",
      "f1: 0.6993\n",
      "loss: 0.6820\n",
      "New best roc_auc score (0.6805) at epoch-0, step-13\n",
      "\n"
     ]
    },
    {
     "name": "stderr",
     "output_type": "stream",
     "text": [
      "\n"
     ]
    },
    {
     "data": {
      "application/vnd.jupyter.widget-view+json": {
       "model_id": "a570a7a19f0b4d40b8963c8df3dacf6c",
       "version_major": 2,
       "version_minor": 0
      },
      "text/plain": [
       "Epoch 1 / 20:   0%|          | 0/13 [00:00<?, ?it/s]"
      ]
     },
     "metadata": {},
     "output_type": "display_data"
    },
    {
     "name": "stdout",
     "output_type": "stream",
     "text": [
      "--- Train epoch-1, step-26 ---\n",
      "loss: 0.6778\n"
     ]
    },
    {
     "name": "stderr",
     "output_type": "stream",
     "text": [
      "Evaluation: 100%|████████████████████████| 4/4 [00:00<00:00, 196.64it/s]"
     ]
    },
    {
     "name": "stdout",
     "output_type": "stream",
     "text": [
      "--- Eval epoch-1, step-26 ---\n",
      "pr_auc: 0.6903\n",
      "roc_auc: 0.7080\n",
      "f1: 0.7114\n",
      "loss: 0.6673\n",
      "New best roc_auc score (0.7080) at epoch-1, step-26\n",
      "\n"
     ]
    },
    {
     "name": "stderr",
     "output_type": "stream",
     "text": [
      "\n"
     ]
    },
    {
     "data": {
      "application/vnd.jupyter.widget-view+json": {
       "model_id": "571b0949192b458e9b4adff719527dd2",
       "version_major": 2,
       "version_minor": 0
      },
      "text/plain": [
       "Epoch 2 / 20:   0%|          | 0/13 [00:00<?, ?it/s]"
      ]
     },
     "metadata": {},
     "output_type": "display_data"
    },
    {
     "name": "stdout",
     "output_type": "stream",
     "text": [
      "--- Train epoch-2, step-39 ---\n",
      "loss: 0.6681\n"
     ]
    },
    {
     "name": "stderr",
     "output_type": "stream",
     "text": [
      "Evaluation: 100%|████████████████████████| 4/4 [00:00<00:00, 238.66it/s]"
     ]
    },
    {
     "name": "stdout",
     "output_type": "stream",
     "text": [
      "--- Eval epoch-2, step-39 ---\n",
      "pr_auc: 0.6957\n",
      "roc_auc: 0.7194\n",
      "f1: 0.7241\n",
      "loss: 0.6458\n",
      "New best roc_auc score (0.7194) at epoch-2, step-39\n",
      "\n"
     ]
    },
    {
     "name": "stderr",
     "output_type": "stream",
     "text": [
      "\n"
     ]
    },
    {
     "data": {
      "application/vnd.jupyter.widget-view+json": {
       "model_id": "15d68447c4b44d289cdb8653c7eb1246",
       "version_major": 2,
       "version_minor": 0
      },
      "text/plain": [
       "Epoch 3 / 20:   0%|          | 0/13 [00:00<?, ?it/s]"
      ]
     },
     "metadata": {},
     "output_type": "display_data"
    },
    {
     "name": "stdout",
     "output_type": "stream",
     "text": [
      "--- Train epoch-3, step-52 ---\n",
      "loss: 0.6522\n"
     ]
    },
    {
     "name": "stderr",
     "output_type": "stream",
     "text": [
      "Evaluation: 100%|████████████████████████| 4/4 [00:00<00:00, 234.29it/s]"
     ]
    },
    {
     "name": "stdout",
     "output_type": "stream",
     "text": [
      "--- Eval epoch-3, step-52 ---\n",
      "pr_auc: 0.7096\n",
      "roc_auc: 0.7310\n",
      "f1: 0.7365\n",
      "loss: 0.6176\n",
      "New best roc_auc score (0.7310) at epoch-3, step-52\n",
      "\n"
     ]
    },
    {
     "name": "stderr",
     "output_type": "stream",
     "text": [
      "\n"
     ]
    },
    {
     "data": {
      "application/vnd.jupyter.widget-view+json": {
       "model_id": "bb3e4795878f4ba4abe556986b1cf0e4",
       "version_major": 2,
       "version_minor": 0
      },
      "text/plain": [
       "Epoch 4 / 20:   0%|          | 0/13 [00:00<?, ?it/s]"
      ]
     },
     "metadata": {},
     "output_type": "display_data"
    },
    {
     "name": "stdout",
     "output_type": "stream",
     "text": [
      "--- Train epoch-4, step-65 ---\n",
      "loss: 0.6313\n"
     ]
    },
    {
     "name": "stderr",
     "output_type": "stream",
     "text": [
      "Evaluation: 100%|████████████████████████| 4/4 [00:00<00:00, 231.39it/s]"
     ]
    },
    {
     "name": "stdout",
     "output_type": "stream",
     "text": [
      "--- Eval epoch-4, step-65 ---\n",
      "pr_auc: 0.7104\n",
      "roc_auc: 0.7323\n",
      "f1: 0.7576\n",
      "loss: 0.5919\n",
      "New best roc_auc score (0.7323) at epoch-4, step-65\n",
      "\n"
     ]
    },
    {
     "name": "stderr",
     "output_type": "stream",
     "text": [
      "\n"
     ]
    },
    {
     "data": {
      "application/vnd.jupyter.widget-view+json": {
       "model_id": "b492840993d8483d90c6ebe48a55bc68",
       "version_major": 2,
       "version_minor": 0
      },
      "text/plain": [
       "Epoch 5 / 20:   0%|          | 0/13 [00:00<?, ?it/s]"
      ]
     },
     "metadata": {},
     "output_type": "display_data"
    },
    {
     "name": "stdout",
     "output_type": "stream",
     "text": [
      "--- Train epoch-5, step-78 ---\n",
      "loss: 0.6152\n"
     ]
    },
    {
     "name": "stderr",
     "output_type": "stream",
     "text": [
      "Evaluation: 100%|█████████████████████████| 4/4 [00:00<00:00, 51.77it/s]"
     ]
    },
    {
     "name": "stdout",
     "output_type": "stream",
     "text": [
      "--- Eval epoch-5, step-78 ---\n",
      "pr_auc: 0.7206\n",
      "roc_auc: 0.7361\n",
      "f1: 0.7360\n",
      "loss: 0.5673\n",
      "New best roc_auc score (0.7361) at epoch-5, step-78\n",
      "\n"
     ]
    },
    {
     "name": "stderr",
     "output_type": "stream",
     "text": [
      "\n"
     ]
    },
    {
     "data": {
      "application/vnd.jupyter.widget-view+json": {
       "model_id": "e228865987864d0bb626aa4da6f34416",
       "version_major": 2,
       "version_minor": 0
      },
      "text/plain": [
       "Epoch 6 / 20:   0%|          | 0/13 [00:00<?, ?it/s]"
      ]
     },
     "metadata": {},
     "output_type": "display_data"
    },
    {
     "name": "stdout",
     "output_type": "stream",
     "text": [
      "--- Train epoch-6, step-91 ---\n",
      "loss: 0.5898\n"
     ]
    },
    {
     "name": "stderr",
     "output_type": "stream",
     "text": [
      "Evaluation: 100%|████████████████████████| 4/4 [00:00<00:00, 121.60it/s]"
     ]
    },
    {
     "name": "stdout",
     "output_type": "stream",
     "text": [
      "--- Eval epoch-6, step-91 ---\n",
      "pr_auc: 0.7347\n",
      "roc_auc: 0.7483\n",
      "f1: 0.7303\n",
      "loss: 0.5458\n",
      "New best roc_auc score (0.7483) at epoch-6, step-91\n",
      "\n"
     ]
    },
    {
     "name": "stderr",
     "output_type": "stream",
     "text": [
      "\n"
     ]
    },
    {
     "data": {
      "application/vnd.jupyter.widget-view+json": {
       "model_id": "024962519a284066bd1d2923ba22330c",
       "version_major": 2,
       "version_minor": 0
      },
      "text/plain": [
       "Epoch 7 / 20:   0%|          | 0/13 [00:00<?, ?it/s]"
      ]
     },
     "metadata": {},
     "output_type": "display_data"
    },
    {
     "name": "stdout",
     "output_type": "stream",
     "text": [
      "--- Train epoch-7, step-104 ---\n",
      "loss: 0.5629\n"
     ]
    },
    {
     "name": "stderr",
     "output_type": "stream",
     "text": [
      "Evaluation: 100%|████████████████████████| 4/4 [00:00<00:00, 236.18it/s]"
     ]
    },
    {
     "name": "stdout",
     "output_type": "stream",
     "text": [
      "--- Eval epoch-7, step-104 ---\n",
      "pr_auc: 0.7378\n",
      "roc_auc: 0.7527\n",
      "f1: 0.7364\n",
      "loss: 0.5317\n",
      "New best roc_auc score (0.7527) at epoch-7, step-104\n",
      "\n"
     ]
    },
    {
     "name": "stderr",
     "output_type": "stream",
     "text": [
      "\n"
     ]
    },
    {
     "data": {
      "application/vnd.jupyter.widget-view+json": {
       "model_id": "7bcf98c1c2b944f1852eaf404f2ada95",
       "version_major": 2,
       "version_minor": 0
      },
      "text/plain": [
       "Epoch 8 / 20:   0%|          | 0/13 [00:00<?, ?it/s]"
      ]
     },
     "metadata": {},
     "output_type": "display_data"
    },
    {
     "name": "stdout",
     "output_type": "stream",
     "text": [
      "--- Train epoch-8, step-117 ---\n",
      "loss: 0.5589\n"
     ]
    },
    {
     "name": "stderr",
     "output_type": "stream",
     "text": [
      "Evaluation: 100%|████████████████████████| 4/4 [00:00<00:00, 235.89it/s]"
     ]
    },
    {
     "name": "stdout",
     "output_type": "stream",
     "text": [
      "--- Eval epoch-8, step-117 ---\n",
      "pr_auc: 0.7656\n",
      "roc_auc: 0.7673\n",
      "f1: 0.7404\n",
      "loss: 0.5101\n",
      "New best roc_auc score (0.7673) at epoch-8, step-117\n",
      "\n"
     ]
    },
    {
     "name": "stderr",
     "output_type": "stream",
     "text": [
      "\n"
     ]
    },
    {
     "data": {
      "application/vnd.jupyter.widget-view+json": {
       "model_id": "c18d8b97a01448f2b72d0dafdfa4dd5e",
       "version_major": 2,
       "version_minor": 0
      },
      "text/plain": [
       "Epoch 9 / 20:   0%|          | 0/13 [00:00<?, ?it/s]"
      ]
     },
     "metadata": {},
     "output_type": "display_data"
    },
    {
     "name": "stdout",
     "output_type": "stream",
     "text": [
      "--- Train epoch-9, step-130 ---\n",
      "loss: 0.5472\n"
     ]
    },
    {
     "name": "stderr",
     "output_type": "stream",
     "text": [
      "Evaluation: 100%|████████████████████████| 4/4 [00:00<00:00, 131.29it/s]"
     ]
    },
    {
     "name": "stdout",
     "output_type": "stream",
     "text": [
      "--- Eval epoch-9, step-130 ---\n",
      "pr_auc: 0.7745\n",
      "roc_auc: 0.7733\n",
      "f1: 0.7552\n",
      "loss: 0.5079\n",
      "New best roc_auc score (0.7733) at epoch-9, step-130\n",
      "\n"
     ]
    },
    {
     "name": "stderr",
     "output_type": "stream",
     "text": [
      "\n"
     ]
    },
    {
     "data": {
      "application/vnd.jupyter.widget-view+json": {
       "model_id": "60ff4a481ccf4afab3b19eaf453bd7d6",
       "version_major": 2,
       "version_minor": 0
      },
      "text/plain": [
       "Epoch 10 / 20:   0%|          | 0/13 [00:00<?, ?it/s]"
      ]
     },
     "metadata": {},
     "output_type": "display_data"
    },
    {
     "name": "stdout",
     "output_type": "stream",
     "text": [
      "--- Train epoch-10, step-143 ---\n",
      "loss: 0.5463\n"
     ]
    },
    {
     "name": "stderr",
     "output_type": "stream",
     "text": [
      "Evaluation: 100%|████████████████████████| 4/4 [00:00<00:00, 102.12it/s]"
     ]
    },
    {
     "name": "stdout",
     "output_type": "stream",
     "text": [
      "--- Eval epoch-10, step-143 ---\n",
      "pr_auc: 0.7879\n",
      "roc_auc: 0.7839\n",
      "f1: 0.7642\n",
      "loss: 0.5002\n",
      "New best roc_auc score (0.7839) at epoch-10, step-143\n",
      "\n"
     ]
    },
    {
     "name": "stderr",
     "output_type": "stream",
     "text": [
      "\n"
     ]
    },
    {
     "data": {
      "application/vnd.jupyter.widget-view+json": {
       "model_id": "2e58f0f50bb84dc287e9682a9a601747",
       "version_major": 2,
       "version_minor": 0
      },
      "text/plain": [
       "Epoch 11 / 20:   0%|          | 0/13 [00:00<?, ?it/s]"
      ]
     },
     "metadata": {},
     "output_type": "display_data"
    },
    {
     "name": "stdout",
     "output_type": "stream",
     "text": [
      "--- Train epoch-11, step-156 ---\n",
      "loss: 0.5498\n"
     ]
    },
    {
     "name": "stderr",
     "output_type": "stream",
     "text": [
      "Evaluation: 100%|████████████████████████| 4/4 [00:00<00:00, 232.88it/s]"
     ]
    },
    {
     "name": "stdout",
     "output_type": "stream",
     "text": [
      "--- Eval epoch-11, step-156 ---\n",
      "pr_auc: 0.7941\n",
      "roc_auc: 0.7882\n",
      "f1: 0.7686\n",
      "loss: 0.4904\n",
      "New best roc_auc score (0.7882) at epoch-11, step-156\n",
      "\n"
     ]
    },
    {
     "name": "stderr",
     "output_type": "stream",
     "text": [
      "\n"
     ]
    },
    {
     "data": {
      "application/vnd.jupyter.widget-view+json": {
       "model_id": "a2cc5c534047494c88ac7dd9c686e80c",
       "version_major": 2,
       "version_minor": 0
      },
      "text/plain": [
       "Epoch 12 / 20:   0%|          | 0/13 [00:00<?, ?it/s]"
      ]
     },
     "metadata": {},
     "output_type": "display_data"
    },
    {
     "name": "stdout",
     "output_type": "stream",
     "text": [
      "--- Train epoch-12, step-169 ---\n",
      "loss: 0.5162\n"
     ]
    },
    {
     "name": "stderr",
     "output_type": "stream",
     "text": [
      "Evaluation: 100%|████████████████████████| 4/4 [00:00<00:00, 238.60it/s]"
     ]
    },
    {
     "name": "stdout",
     "output_type": "stream",
     "text": [
      "--- Eval epoch-12, step-169 ---\n",
      "pr_auc: 0.7973\n",
      "roc_auc: 0.7882\n",
      "f1: 0.7686\n",
      "loss: 0.4855\n",
      "\n"
     ]
    },
    {
     "name": "stderr",
     "output_type": "stream",
     "text": [
      "\n"
     ]
    },
    {
     "data": {
      "application/vnd.jupyter.widget-view+json": {
       "model_id": "70c339d0faf041b38a9326414fc888e4",
       "version_major": 2,
       "version_minor": 0
      },
      "text/plain": [
       "Epoch 13 / 20:   0%|          | 0/13 [00:00<?, ?it/s]"
      ]
     },
     "metadata": {},
     "output_type": "display_data"
    },
    {
     "name": "stdout",
     "output_type": "stream",
     "text": [
      "--- Train epoch-13, step-182 ---\n",
      "loss: 0.5113\n"
     ]
    },
    {
     "name": "stderr",
     "output_type": "stream",
     "text": [
      "Evaluation: 100%|████████████████████████| 4/4 [00:00<00:00, 239.53it/s]"
     ]
    },
    {
     "name": "stdout",
     "output_type": "stream",
     "text": [
      "--- Eval epoch-13, step-182 ---\n",
      "pr_auc: 0.7970\n",
      "roc_auc: 0.7880\n",
      "f1: 0.7635\n",
      "loss: 0.4821\n",
      "\n"
     ]
    },
    {
     "name": "stderr",
     "output_type": "stream",
     "text": [
      "\n"
     ]
    },
    {
     "data": {
      "application/vnd.jupyter.widget-view+json": {
       "model_id": "fe37d73a1ea046a2af51d08909ce93dd",
       "version_major": 2,
       "version_minor": 0
      },
      "text/plain": [
       "Epoch 14 / 20:   0%|          | 0/13 [00:00<?, ?it/s]"
      ]
     },
     "metadata": {},
     "output_type": "display_data"
    },
    {
     "name": "stdout",
     "output_type": "stream",
     "text": [
      "--- Train epoch-14, step-195 ---\n",
      "loss: 0.5085\n"
     ]
    },
    {
     "name": "stderr",
     "output_type": "stream",
     "text": [
      "Evaluation: 100%|████████████████████████| 4/4 [00:00<00:00, 177.25it/s]"
     ]
    },
    {
     "name": "stdout",
     "output_type": "stream",
     "text": [
      "--- Eval epoch-14, step-195 ---\n",
      "pr_auc: 0.7967\n",
      "roc_auc: 0.7898\n",
      "f1: 0.7737\n",
      "loss: 0.4798\n",
      "New best roc_auc score (0.7898) at epoch-14, step-195\n",
      "\n"
     ]
    },
    {
     "name": "stderr",
     "output_type": "stream",
     "text": [
      "\n"
     ]
    },
    {
     "data": {
      "application/vnd.jupyter.widget-view+json": {
       "model_id": "c4d5bf467ef64c7a9a47b657b441e384",
       "version_major": 2,
       "version_minor": 0
      },
      "text/plain": [
       "Epoch 15 / 20:   0%|          | 0/13 [00:00<?, ?it/s]"
      ]
     },
     "metadata": {},
     "output_type": "display_data"
    },
    {
     "name": "stdout",
     "output_type": "stream",
     "text": [
      "--- Train epoch-15, step-208 ---\n",
      "loss: 0.5254\n"
     ]
    },
    {
     "name": "stderr",
     "output_type": "stream",
     "text": [
      "Evaluation: 100%|████████████████████████| 4/4 [00:00<00:00, 238.35it/s]"
     ]
    },
    {
     "name": "stdout",
     "output_type": "stream",
     "text": [
      "--- Eval epoch-15, step-208 ---\n",
      "pr_auc: 0.7895\n",
      "roc_auc: 0.7894\n",
      "f1: 0.7692\n",
      "loss: 0.4850\n",
      "\n"
     ]
    },
    {
     "name": "stderr",
     "output_type": "stream",
     "text": [
      "\n"
     ]
    },
    {
     "data": {
      "application/vnd.jupyter.widget-view+json": {
       "model_id": "c75ceb75629f4ed2805c13c53fdc680a",
       "version_major": 2,
       "version_minor": 0
      },
      "text/plain": [
       "Epoch 16 / 20:   0%|          | 0/13 [00:00<?, ?it/s]"
      ]
     },
     "metadata": {},
     "output_type": "display_data"
    },
    {
     "name": "stdout",
     "output_type": "stream",
     "text": [
      "--- Train epoch-16, step-221 ---\n",
      "loss: 0.4883\n"
     ]
    },
    {
     "name": "stderr",
     "output_type": "stream",
     "text": [
      "Evaluation: 100%|█████████████████████████| 4/4 [00:00<00:00, 52.19it/s]"
     ]
    },
    {
     "name": "stdout",
     "output_type": "stream",
     "text": [
      "--- Eval epoch-16, step-221 ---\n",
      "pr_auc: 0.7896\n",
      "roc_auc: 0.7889\n",
      "f1: 0.7718\n",
      "loss: 0.4810\n",
      "\n"
     ]
    },
    {
     "name": "stderr",
     "output_type": "stream",
     "text": [
      "\n"
     ]
    },
    {
     "data": {
      "application/vnd.jupyter.widget-view+json": {
       "model_id": "d5fcdc8464b84ed686e9be5b5b690c6f",
       "version_major": 2,
       "version_minor": 0
      },
      "text/plain": [
       "Epoch 17 / 20:   0%|          | 0/13 [00:00<?, ?it/s]"
      ]
     },
     "metadata": {},
     "output_type": "display_data"
    },
    {
     "name": "stdout",
     "output_type": "stream",
     "text": [
      "--- Train epoch-17, step-234 ---\n",
      "loss: 0.4866\n"
     ]
    },
    {
     "name": "stderr",
     "output_type": "stream",
     "text": [
      "Evaluation: 100%|█████████████████████████| 4/4 [00:00<00:00, 51.81it/s]"
     ]
    },
    {
     "name": "stdout",
     "output_type": "stream",
     "text": [
      "--- Eval epoch-17, step-234 ---\n",
      "pr_auc: 0.7851\n",
      "roc_auc: 0.7879\n",
      "f1: 0.7755\n",
      "loss: 0.4894\n",
      "\n"
     ]
    },
    {
     "name": "stderr",
     "output_type": "stream",
     "text": [
      "\n"
     ]
    },
    {
     "data": {
      "application/vnd.jupyter.widget-view+json": {
       "model_id": "70a7c6950eec44f88e4f7d6b79f839d6",
       "version_major": 2,
       "version_minor": 0
      },
      "text/plain": [
       "Epoch 18 / 20:   0%|          | 0/13 [00:00<?, ?it/s]"
      ]
     },
     "metadata": {},
     "output_type": "display_data"
    },
    {
     "name": "stdout",
     "output_type": "stream",
     "text": [
      "--- Train epoch-18, step-247 ---\n",
      "loss: 0.5024\n"
     ]
    },
    {
     "name": "stderr",
     "output_type": "stream",
     "text": [
      "Evaluation: 100%|█████████████████████████| 4/4 [00:00<00:00, 72.17it/s]"
     ]
    },
    {
     "name": "stdout",
     "output_type": "stream",
     "text": [
      "--- Eval epoch-18, step-247 ---\n",
      "pr_auc: 0.7900\n",
      "roc_auc: 0.7911\n",
      "f1: 0.7782\n",
      "loss: 0.4830\n",
      "New best roc_auc score (0.7911) at epoch-18, step-247\n",
      "\n"
     ]
    },
    {
     "name": "stderr",
     "output_type": "stream",
     "text": [
      "\n"
     ]
    },
    {
     "data": {
      "application/vnd.jupyter.widget-view+json": {
       "model_id": "13bdde3d012448fd90d01112852bc540",
       "version_major": 2,
       "version_minor": 0
      },
      "text/plain": [
       "Epoch 19 / 20:   0%|          | 0/13 [00:00<?, ?it/s]"
      ]
     },
     "metadata": {},
     "output_type": "display_data"
    },
    {
     "name": "stdout",
     "output_type": "stream",
     "text": [
      "--- Train epoch-19, step-260 ---\n",
      "loss: 0.4758\n"
     ]
    },
    {
     "name": "stderr",
     "output_type": "stream",
     "text": [
      "Evaluation: 100%|█████████████████████████| 4/4 [00:00<00:00, 51.86it/s]"
     ]
    },
    {
     "name": "stdout",
     "output_type": "stream",
     "text": [
      "--- Eval epoch-19, step-260 ---\n",
      "pr_auc: 0.7912\n",
      "roc_auc: 0.7926\n",
      "f1: 0.7737\n",
      "loss: 0.4866\n",
      "New best roc_auc score (0.7926) at epoch-19, step-260\n",
      "Loaded best model\n"
     ]
    },
    {
     "name": "stderr",
     "output_type": "stream",
     "text": [
      "\n"
     ]
    }
   ],
   "source": [
    "from pyhealth.trainer import Trainer\n",
    "\n",
    "# use our Trainer to train the model\n",
    "\n",
    "trainer = Trainer(\n",
    "    model=model,\n",
    "    metrics=[\"pr_auc\", \"roc_auc\", \"f1\"]\n",
    ")\n",
    "\n",
    "trainer.train(\n",
    "    train_dataloader=train_loader,\n",
    "    val_dataloader=val_loader,\n",
    "    epochs=20,\n",
    "    monitor=\"roc_auc\",\n",
    ")"
   ]
  },
  {
   "cell_type": "markdown",
   "id": "5c727a7d",
   "metadata": {},
   "source": [
    "## Step5: model evaluation"
   ]
  },
  {
   "cell_type": "code",
   "execution_count": 11,
   "id": "ce889acf",
   "metadata": {},
   "outputs": [],
   "source": [
    "DATA_PATH = \"./\"\n",
    "pids = pickle.load(open(os.path.join(DATA_PATH,'test/pids.pkl'), 'rb'))\n",
    "vids = pickle.load(open(os.path.join(DATA_PATH,'test/vids.pkl'), 'rb'))\n",
    "hfs = pickle.load(open(os.path.join(DATA_PATH,'test/hfs.pkl'), 'rb'))\n",
    "seqs = pickle.load(open(os.path.join(DATA_PATH,'test/seqs.pkl'), 'rb'))\n",
    "types = pickle.load(open(os.path.join(DATA_PATH,'test/types.pkl'), 'rb'))\n",
    "rtypes = pickle.load(open(os.path.join(DATA_PATH,'test/rtypes.pkl'), 'rb'))"
   ]
  },
  {
   "cell_type": "code",
   "execution_count": 12,
   "id": "92031674",
   "metadata": {},
   "outputs": [],
   "source": [
    "test_samples = []\n",
    "for pid, vid, hf, seq in zip(pids, vids, hfs, seqs):\n",
    "    test_samples.append(\n",
    "        {\n",
    "            'patient_id': pid,\n",
    "            'visit_id': vid[-1],\n",
    "            'label': hf,\n",
    "            'diagnoses': [[rtypes[v] for v in visit] for visit in seq],\n",
    "        }\n",
    "    )\n",
    "    \n",
    "test_dataset = SampleEHRDataset(test_samples, code_vocs=None)\n",
    "test_loader = get_dataloader(test_dataset, batch_size=64, shuffle=False)"
   ]
  },
  {
   "cell_type": "code",
   "execution_count": 13,
   "id": "baa250fb",
   "metadata": {},
   "outputs": [
    {
     "name": "stderr",
     "output_type": "stream",
     "text": [
      "Evaluation: 100%|█████████████████████████| 4/4 [00:00<00:00, 61.53it/s]"
     ]
    },
    {
     "name": "stdout",
     "output_type": "stream",
     "text": [
      "{'pr_auc': 0.7694151513845636, 'roc_auc': 0.7851632456261194, 'f1': 0.7318840579710146, 'loss': 0.6059411615133286}\n"
     ]
    },
    {
     "name": "stderr",
     "output_type": "stream",
     "text": [
      "\n"
     ]
    }
   ],
   "source": [
    "result = trainer.evaluate(test_loader)\n",
    "print (result)"
   ]
  },
  {
   "cell_type": "code",
   "execution_count": null,
   "id": "583d9676",
   "metadata": {},
   "outputs": [],
   "source": []
  },
  {
   "cell_type": "code",
   "execution_count": null,
   "id": "6906d3c1",
   "metadata": {},
   "outputs": [],
   "source": []
  }
 ],
 "metadata": {
  "kernelspec": {
   "display_name": "Python 3",
   "language": "python",
   "name": "python3"
  },
  "language_info": {
   "codemirror_mode": {
    "name": "ipython",
    "version": 3
   },
   "file_extension": ".py",
   "mimetype": "text/x-python",
   "name": "python",
   "nbconvert_exporter": "python",
   "pygments_lexer": "ipython3",
   "version": "3.9.12"
  }
 },
 "nbformat": 4,
 "nbformat_minor": 5
}
