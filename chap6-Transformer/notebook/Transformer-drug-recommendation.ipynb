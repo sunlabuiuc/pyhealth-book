{
  "cells": [
    {
      "cell_type": "code",
      "source": [
        "!pip install pyhealth"
      ],
      "metadata": {
        "id": "ug7i91vVIJ5m",
        "colab": {
          "base_uri": "https://localhost:8080/"
        },
        "outputId": "d8edc92a-4c0c-4aa2-b49c-fc9baebf42e2"
      },
      "execution_count": null,
      "outputs": [
        {
          "output_type": "stream",
          "name": "stdout",
          "text": [
            "Collecting pyhealth\n",
            "  Downloading pyhealth-1.1.4-py2.py3-none-any.whl (226 kB)\n",
            "\u001b[?25l     \u001b[90m━━━━━━━━━━━━━━━━━━━━━━━━━━━━━━━━━━━━━━━━\u001b[0m \u001b[32m0.0/226.3 kB\u001b[0m \u001b[31m?\u001b[0m eta \u001b[36m-:--:--\u001b[0m\r\u001b[2K     \u001b[91m━━━━━━━━━━━━━━━━━━━━━━━━━━━━━━━━━━━━━━\u001b[0m\u001b[91m╸\u001b[0m \u001b[32m225.3/226.3 kB\u001b[0m \u001b[31m6.5 MB/s\u001b[0m eta \u001b[36m0:00:01\u001b[0m\r\u001b[2K     \u001b[90m━━━━━━━━━━━━━━━━━━━━━━━━━━━━━━━━━━━━━━━\u001b[0m \u001b[32m226.3/226.3 kB\u001b[0m \u001b[31m4.9 MB/s\u001b[0m eta \u001b[36m0:00:00\u001b[0m\n",
            "\u001b[?25hRequirement already satisfied: torch>=1.8.0 in /usr/local/lib/python3.10/dist-packages (from pyhealth) (2.0.1+cu118)\n",
            "Collecting rdkit>=2022.03.4 (from pyhealth)\n",
            "  Downloading rdkit-2023.3.3-cp310-cp310-manylinux_2_17_x86_64.manylinux2014_x86_64.whl (29.7 MB)\n",
            "\u001b[2K     \u001b[90m━━━━━━━━━━━━━━━━━━━━━━━━━━━━━━━━━━━━━━━━\u001b[0m \u001b[32m29.7/29.7 MB\u001b[0m \u001b[31m72.1 MB/s\u001b[0m eta \u001b[36m0:00:00\u001b[0m\n",
            "\u001b[?25hRequirement already satisfied: scikit-learn>=0.24.2 in /usr/local/lib/python3.10/dist-packages (from pyhealth) (1.2.2)\n",
            "Requirement already satisfied: networkx>=2.6.3 in /usr/local/lib/python3.10/dist-packages (from pyhealth) (3.1)\n",
            "Requirement already satisfied: pandas<2,>=1.3.2 in /usr/local/lib/python3.10/dist-packages (from pyhealth) (1.5.3)\n",
            "Collecting pandarallel>=1.5.3 (from pyhealth)\n",
            "  Downloading pandarallel-1.6.5.tar.gz (14 kB)\n",
            "  Preparing metadata (setup.py) ... \u001b[?25l\u001b[?25hdone\n",
            "Collecting mne>=1.0.3 (from pyhealth)\n",
            "  Downloading mne-1.5.0-py3-none-any.whl (7.7 MB)\n",
            "\u001b[2K     \u001b[90m━━━━━━━━━━━━━━━━━━━━━━━━━━━━━━━━━━━━━━━━\u001b[0m \u001b[32m7.7/7.7 MB\u001b[0m \u001b[31m61.6 MB/s\u001b[0m eta \u001b[36m0:00:00\u001b[0m\n",
            "\u001b[?25hCollecting urllib3<=1.26.15 (from pyhealth)\n",
            "  Downloading urllib3-1.26.15-py2.py3-none-any.whl (140 kB)\n",
            "\u001b[2K     \u001b[90m━━━━━━━━━━━━━━━━━━━━━━━━━━━━━━━━━━━━━━\u001b[0m \u001b[32m140.9/140.9 kB\u001b[0m \u001b[31m13.4 MB/s\u001b[0m eta \u001b[36m0:00:00\u001b[0m\n",
            "\u001b[?25hRequirement already satisfied: numpy in /usr/local/lib/python3.10/dist-packages (from pyhealth) (1.23.5)\n",
            "Requirement already satisfied: tqdm in /usr/local/lib/python3.10/dist-packages (from pyhealth) (4.66.1)\n",
            "Requirement already satisfied: scipy>=1.6.3 in /usr/local/lib/python3.10/dist-packages (from mne>=1.0.3->pyhealth) (1.10.1)\n",
            "Requirement already satisfied: matplotlib>=3.4.0 in /usr/local/lib/python3.10/dist-packages (from mne>=1.0.3->pyhealth) (3.7.1)\n",
            "Requirement already satisfied: pooch>=1.5 in /usr/local/lib/python3.10/dist-packages (from mne>=1.0.3->pyhealth) (1.7.0)\n",
            "Requirement already satisfied: decorator in /usr/local/lib/python3.10/dist-packages (from mne>=1.0.3->pyhealth) (4.4.2)\n",
            "Requirement already satisfied: packaging in /usr/local/lib/python3.10/dist-packages (from mne>=1.0.3->pyhealth) (23.1)\n",
            "Requirement already satisfied: jinja2 in /usr/local/lib/python3.10/dist-packages (from mne>=1.0.3->pyhealth) (3.1.2)\n",
            "Collecting dill>=0.3.1 (from pandarallel>=1.5.3->pyhealth)\n",
            "  Downloading dill-0.3.7-py3-none-any.whl (115 kB)\n",
            "\u001b[2K     \u001b[90m━━━━━━━━━━━━━━━━━━━━━━━━━━━━━━━━━━━━━━━\u001b[0m \u001b[32m115.3/115.3 kB\u001b[0m \u001b[31m7.0 MB/s\u001b[0m eta \u001b[36m0:00:00\u001b[0m\n",
            "\u001b[?25hRequirement already satisfied: psutil in /usr/local/lib/python3.10/dist-packages (from pandarallel>=1.5.3->pyhealth) (5.9.5)\n",
            "Requirement already satisfied: python-dateutil>=2.8.1 in /usr/local/lib/python3.10/dist-packages (from pandas<2,>=1.3.2->pyhealth) (2.8.2)\n",
            "Requirement already satisfied: pytz>=2020.1 in /usr/local/lib/python3.10/dist-packages (from pandas<2,>=1.3.2->pyhealth) (2023.3)\n",
            "Requirement already satisfied: Pillow in /usr/local/lib/python3.10/dist-packages (from rdkit>=2022.03.4->pyhealth) (9.4.0)\n",
            "Requirement already satisfied: joblib>=1.1.1 in /usr/local/lib/python3.10/dist-packages (from scikit-learn>=0.24.2->pyhealth) (1.3.2)\n",
            "Requirement already satisfied: threadpoolctl>=2.0.0 in /usr/local/lib/python3.10/dist-packages (from scikit-learn>=0.24.2->pyhealth) (3.2.0)\n",
            "Requirement already satisfied: filelock in /usr/local/lib/python3.10/dist-packages (from torch>=1.8.0->pyhealth) (3.12.2)\n",
            "Requirement already satisfied: typing-extensions in /usr/local/lib/python3.10/dist-packages (from torch>=1.8.0->pyhealth) (4.7.1)\n",
            "Requirement already satisfied: sympy in /usr/local/lib/python3.10/dist-packages (from torch>=1.8.0->pyhealth) (1.12)\n",
            "Requirement already satisfied: triton==2.0.0 in /usr/local/lib/python3.10/dist-packages (from torch>=1.8.0->pyhealth) (2.0.0)\n",
            "Requirement already satisfied: cmake in /usr/local/lib/python3.10/dist-packages (from triton==2.0.0->torch>=1.8.0->pyhealth) (3.27.2)\n",
            "Requirement already satisfied: lit in /usr/local/lib/python3.10/dist-packages (from triton==2.0.0->torch>=1.8.0->pyhealth) (16.0.6)\n",
            "Requirement already satisfied: contourpy>=1.0.1 in /usr/local/lib/python3.10/dist-packages (from matplotlib>=3.4.0->mne>=1.0.3->pyhealth) (1.1.0)\n",
            "Requirement already satisfied: cycler>=0.10 in /usr/local/lib/python3.10/dist-packages (from matplotlib>=3.4.0->mne>=1.0.3->pyhealth) (0.11.0)\n",
            "Requirement already satisfied: fonttools>=4.22.0 in /usr/local/lib/python3.10/dist-packages (from matplotlib>=3.4.0->mne>=1.0.3->pyhealth) (4.42.0)\n",
            "Requirement already satisfied: kiwisolver>=1.0.1 in /usr/local/lib/python3.10/dist-packages (from matplotlib>=3.4.0->mne>=1.0.3->pyhealth) (1.4.4)\n",
            "Requirement already satisfied: pyparsing>=2.3.1 in /usr/local/lib/python3.10/dist-packages (from matplotlib>=3.4.0->mne>=1.0.3->pyhealth) (3.1.1)\n",
            "Requirement already satisfied: platformdirs>=2.5.0 in /usr/local/lib/python3.10/dist-packages (from pooch>=1.5->mne>=1.0.3->pyhealth) (3.10.0)\n",
            "Requirement already satisfied: requests>=2.19.0 in /usr/local/lib/python3.10/dist-packages (from pooch>=1.5->mne>=1.0.3->pyhealth) (2.31.0)\n",
            "Requirement already satisfied: six>=1.5 in /usr/local/lib/python3.10/dist-packages (from python-dateutil>=2.8.1->pandas<2,>=1.3.2->pyhealth) (1.16.0)\n",
            "Requirement already satisfied: MarkupSafe>=2.0 in /usr/local/lib/python3.10/dist-packages (from jinja2->mne>=1.0.3->pyhealth) (2.1.3)\n",
            "Requirement already satisfied: mpmath>=0.19 in /usr/local/lib/python3.10/dist-packages (from sympy->torch>=1.8.0->pyhealth) (1.3.0)\n",
            "Requirement already satisfied: charset-normalizer<4,>=2 in /usr/local/lib/python3.10/dist-packages (from requests>=2.19.0->pooch>=1.5->mne>=1.0.3->pyhealth) (3.2.0)\n",
            "Requirement already satisfied: idna<4,>=2.5 in /usr/local/lib/python3.10/dist-packages (from requests>=2.19.0->pooch>=1.5->mne>=1.0.3->pyhealth) (3.4)\n",
            "Requirement already satisfied: certifi>=2017.4.17 in /usr/local/lib/python3.10/dist-packages (from requests>=2.19.0->pooch>=1.5->mne>=1.0.3->pyhealth) (2023.7.22)\n",
            "Building wheels for collected packages: pandarallel\n",
            "  Building wheel for pandarallel (setup.py) ... \u001b[?25l\u001b[?25hdone\n",
            "  Created wheel for pandarallel: filename=pandarallel-1.6.5-py3-none-any.whl size=16673 sha256=3b94e3c82854076768bae37090aef4fa2077ff3435c387ea08ddded34d5cc45a\n",
            "  Stored in directory: /root/.cache/pip/wheels/50/4f/1e/34e057bb868842209f1623f195b74fd7eda229308a7352d47f\n",
            "Successfully built pandarallel\n",
            "Installing collected packages: urllib3, rdkit, dill, pandarallel, mne, pyhealth\n",
            "  Attempting uninstall: urllib3\n",
            "    Found existing installation: urllib3 2.0.4\n",
            "    Uninstalling urllib3-2.0.4:\n",
            "      Successfully uninstalled urllib3-2.0.4\n",
            "Successfully installed dill-0.3.7 mne-1.5.0 pandarallel-1.6.5 pyhealth-1.1.4 rdkit-2023.3.3 urllib3-1.26.15\n"
          ]
        }
      ]
    },
    {
      "cell_type": "markdown",
      "source": [
        "### **Step 1: Load dataset**\n",
        "- **[README]:** We call [pyhealth.datasets](https://pyhealth.readthedocs.io/en/latest/api/datasets.html) to process and obtain the dataset.\n",
        "  - `root` is the arguments directing to the data folder.\n",
        "  - `tables` is a list of table names from raw databases, which specifies the information that will be used in building the pipeline. Currently, we support [MIMIC3Dataset](https://pyhealth.readthedocs.io/en/latest/api/datasets/pyhealth.datasets.MIMIC3Dataset.html), [MIMIC4Dataset](https://pyhealth.readthedocs.io/en/latest/api/datasets/pyhealth.datasets.MIMIC4Dataset.html), [eICUDataset](https://pyhealth.readthedocs.io/en/latest/api/datasets/pyhealth.datasets.eICUDataset.html), [OMOPDataset](https://pyhealth.readthedocs.io/en/latest/api/datasets/pyhealth.datasets.OMOPDataset.html).\n",
        "  - `code_mapping [default: None]` asks a directionary input, specifying the new coding systems for each data table. For example, `{\"NDC\": (\"ATC\", {\"target_kwargs\": {\"level\": 3}})}` means that our pyhealth will automatically change the codings from `NDC` into ATC-3 level for tables if any.\n",
        "  - `dev`: if set `True`, will only load a smaller set of patients.\n",
        "- **[Next Step]:** This `pyhealth.datasets` object will be used in **Step 2**."
      ],
      "metadata": {
        "id": "_1S5rqae7FhB"
      }
    },
    {
      "cell_type": "code",
      "source": [
        "from pyhealth.datasets import MIMIC3Dataset\n",
        "\n",
        "mimic3_ds = MIMIC3Dataset(\n",
        "        root=\"https://storage.googleapis.com/pyhealth/Synthetic_MIMIC-III/\",\n",
        "        tables=[\"DIAGNOSES_ICD\", \"PROCEDURES_ICD\", \"PRESCRIPTIONS\"],\n",
        "        code_mapping={\"NDC\": (\"ATC\", {\"target_kwargs\": {\"level\": 3}})},\n",
        "        dev=True\n",
        ")\n",
        "\n",
        "mimic3_ds.stat()"
      ],
      "metadata": {
        "id": "5qKMacix0RE_",
        "colab": {
          "base_uri": "https://localhost:8080/",
          "height": 321
        },
        "outputId": "fc45f0a0-ae20-4b78-b969-4208eb469401"
      },
      "execution_count": null,
      "outputs": [
        {
          "output_type": "stream",
          "name": "stderr",
          "text": [
            "Parsing PATIENTS and ADMISSIONS: 100%|██████████| 1000/1000 [00:02<00:00, 486.46it/s]\n",
            "Parsing DIAGNOSES_ICD: 100%|██████████| 52354/52354 [00:08<00:00, 6510.48it/s]\n",
            "Parsing PROCEDURES_ICD: 100%|██████████| 45769/45769 [00:06<00:00, 7499.48it/s]\n",
            "Parsing PRESCRIPTIONS: 100%|██████████| 50710/50710 [01:45<00:00, 481.75it/s]\n",
            "Mapping codes: 100%|██████████| 1000/1000 [00:01<00:00, 725.47it/s]\n"
          ]
        },
        {
          "output_type": "stream",
          "name": "stdout",
          "text": [
            "\n",
            "Statistics of base dataset (dev=True):\n",
            "\t- Dataset: MIMIC3Dataset\n",
            "\t- Number of patients: 1000\n",
            "\t- Number of visits: 1054\n",
            "\t- Number of visits per patient: 1.0540\n",
            "\t- Number of events per visit in DIAGNOSES_ICD: 9.2068\n",
            "\t- Number of events per visit in PROCEDURES_ICD: 3.0380\n",
            "\t- Number of events per visit in PRESCRIPTIONS: 40.1869\n",
            "\n"
          ]
        },
        {
          "output_type": "execute_result",
          "data": {
            "text/plain": [
              "'\\nStatistics of base dataset (dev=True):\\n\\t- Dataset: MIMIC3Dataset\\n\\t- Number of patients: 1000\\n\\t- Number of visits: 1054\\n\\t- Number of visits per patient: 1.0540\\n\\t- Number of events per visit in DIAGNOSES_ICD: 9.2068\\n\\t- Number of events per visit in PROCEDURES_ICD: 3.0380\\n\\t- Number of events per visit in PRESCRIPTIONS: 40.1869\\n'"
            ],
            "application/vnd.google.colaboratory.intrinsic+json": {
              "type": "string"
            }
          },
          "metadata": {},
          "execution_count": 3
        }
      ]
    },
    {
      "cell_type": "code",
      "source": [
        "# data format\n",
        "mimic3_ds.info()"
      ],
      "metadata": {
        "id": "aEKInKh1KEa4",
        "colab": {
          "base_uri": "https://localhost:8080/"
        },
        "outputId": "572b9955-2d28-4f95-af4b-43b2a8dcb717"
      },
      "execution_count": null,
      "outputs": [
        {
          "output_type": "stream",
          "name": "stdout",
          "text": [
            "\n",
            "dataset.patients: patient_id -> <Patient>\n",
            "\n",
            "<Patient>\n",
            "    - visits: visit_id -> <Visit> \n",
            "    - other patient-level info\n",
            "    \n",
            "    <Visit>\n",
            "        - event_list_dict: table_name -> List[Event]\n",
            "        - other visit-level info\n",
            "    \n",
            "        <Event>\n",
            "            - code: str\n",
            "            - other event-level info\n",
            "\n"
          ]
        }
      ]
    },
    {
      "cell_type": "markdown",
      "source": [
        "![image.png](data:image/png;base64,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)"
      ],
      "metadata": {
        "id": "t-E6eQpTCkVe"
      }
    },
    {
      "cell_type": "code",
      "source": [
        "\"\"\" check the information \"\"\"\n",
        "# mimic3_ds.patients\n",
        "# mimic3_ds.patients['947']\n",
        "# mimic3_ds.patients['947'].visits\n",
        "# mimic3_ds.patients['947'].visits['100999']\n",
        "# mimic3_ds.patients['947'].visits['100999'].get_code_list('DIAGNOSES_ICD')"
      ],
      "metadata": {
        "id": "ZTZJTE8e2JIw"
      },
      "execution_count": null,
      "outputs": []
    },
    {
      "cell_type": "markdown",
      "source": [
        "### **Step 2: Define healthcare task**\n",
        "- **[README]:** This step assigns a **task function** to the dataset for data loading [pyhealth.tasks](https://pyhealth.readthedocs.io/en/latest/api/tasks.html). The **task function** specifics how to process each pateint's data into a set of samples for the downstream machine learning models.\n",
        "- **[Next Step]:** This `pyhealth.tasks` object will be used in **Step 3**."
      ],
      "metadata": {
        "id": "qXzoZxt0LvL0"
      }
    },
    {
      "cell_type": "code",
      "source": [
        "from pyhealth.tasks import drug_recommendation_mimic3_fn\n",
        "\n",
        "mimic3_ds = mimic3_ds.set_task(task_fn=drug_recommendation_mimic3_fn)\n",
        "# stats info\n",
        "mimic3_ds.stat()"
      ],
      "metadata": {
        "id": "-U6KdEhULt9P",
        "colab": {
          "base_uri": "https://localhost:8080/",
          "height": 536
        },
        "outputId": "da4ebd5f-3d04-4448-cb36-3e4ffb9fed61"
      },
      "execution_count": null,
      "outputs": [
        {
          "output_type": "stream",
          "name": "stderr",
          "text": [
            "Generating samples for drug_recommendation_mimic3_fn: 100%|██████████| 1000/1000 [00:00<00:00, 25013.44it/s]"
          ]
        },
        {
          "output_type": "stream",
          "name": "stdout",
          "text": [
            "Statistics of sample dataset:\n",
            "\t- Dataset: MIMIC3Dataset\n",
            "\t- Task: drug_recommendation_mimic3_fn\n",
            "\t- Number of samples: 20\n",
            "\t- Number of patients: 10\n",
            "\t- Number of visits: 20\n",
            "\t- Number of visits per patient: 2.0000\n",
            "\t- conditions:\n",
            "\t\t- Number of conditions per sample: 19.3000\n",
            "\t\t- Number of unique conditions: 193\n",
            "\t\t- Distribution of conditions (Top-10): [('4280', 11), ('4019', 8), ('41401', 8), ('3051', 8), ('2768', 6), ('25000', 6), ('311', 5), ('5849', 5), ('51881', 5), ('5856', 5)]\n",
            "\t- procedures:\n",
            "\t\t- Number of procedures per sample: 5.7000\n",
            "\t\t- Number of unique procedures: 51\n",
            "\t\t- Distribution of procedures (Top-10): [('3893', 14), ('9604', 7), ('8872', 6), ('9671', 5), ('8856', 4), ('4513', 3), ('3615', 3), ('8382', 3), ('370', 2), ('4516', 2)]\n",
            "\t- drugs:\n",
            "\t\t- Number of drugs per sample: 28.4500\n",
            "\t\t- Number of unique drugs: 116\n",
            "\t\t- Distribution of drugs (Top-10): [('B05X', 19), ('A06A', 19), ('B01A', 16), ('V06D', 15), ('N02A', 15), ('N02B', 15), ('V04C', 14), ('C07A', 13), ('A02B', 12), ('R03B', 12)]\n",
            "\t- drugs_all:\n",
            "\t\t- Number of drugs_all per sample: 39.0000\n",
            "\t\t- Number of unique drugs_all: 116\n",
            "\t\t- Distribution of drugs_all (Top-10): [('A06A', 29), ('B05X', 28), ('B01A', 23), ('V06D', 22), ('N02A', 22), ('N02B', 22), ('V04C', 20), ('C07A', 19), ('A02B', 18), ('A12C', 17)]\n"
          ]
        },
        {
          "output_type": "stream",
          "name": "stderr",
          "text": [
            "\n"
          ]
        },
        {
          "output_type": "execute_result",
          "data": {
            "text/plain": [
              "\"Statistics of sample dataset:\\n\\t- Dataset: MIMIC3Dataset\\n\\t- Task: drug_recommendation_mimic3_fn\\n\\t- Number of samples: 20\\n\\t- Number of patients: 10\\n\\t- Number of visits: 20\\n\\t- Number of visits per patient: 2.0000\\n\\t- conditions:\\n\\t\\t- Number of conditions per sample: 19.3000\\n\\t\\t- Number of unique conditions: 193\\n\\t\\t- Distribution of conditions (Top-10): [('4280', 11), ('4019', 8), ('41401', 8), ('3051', 8), ('2768', 6), ('25000', 6), ('311', 5), ('5849', 5), ('51881', 5), ('5856', 5)]\\n\\t- procedures:\\n\\t\\t- Number of procedures per sample: 5.7000\\n\\t\\t- Number of unique procedures: 51\\n\\t\\t- Distribution of procedures (Top-10): [('3893', 14), ('9604', 7), ('8872', 6), ('9671', 5), ('8856', 4), ('4513', 3), ('3615', 3), ('8382', 3), ('370', 2), ('4516', 2)]\\n\\t- drugs:\\n\\t\\t- Number of drugs per sample: 28.4500\\n\\t\\t- Number of unique drugs: 116\\n\\t\\t- Distribution of drugs (Top-10): [('B05X', 19), ('A06A', 19), ('B01A', 16), ('V06D', 15), ('N02A', 15), ('N02B', 15), ('V04C', 14), ('C07A', 13), ('A02B', 12), ('R03B', 12)]\\n\\t- drugs_all:\\n\\t\\t- Number of drugs_all per sample: 39.0000\\n\\t\\t- Number of unique drugs_all: 116\\n\\t\\t- Distribution of drugs_all (Top-10): [('A06A', 29), ('B05X', 28), ('B01A', 23), ('V06D', 22), ('N02A', 22), ('N02B', 22), ('V04C', 20), ('C07A', 19), ('A02B', 18), ('A12C', 17)]\""
            ],
            "application/vnd.google.colaboratory.intrinsic+json": {
              "type": "string"
            }
          },
          "metadata": {},
          "execution_count": 10
        }
      ]
    },
    {
      "cell_type": "code",
      "source": [
        "mimic3_ds.samples[0]"
      ],
      "metadata": {
        "id": "fpUl86P32iGc"
      },
      "execution_count": null,
      "outputs": []
    },
    {
      "cell_type": "code",
      "source": [
        "from pyhealth.datasets.splitter import split_by_patient\n",
        "from pyhealth.datasets import split_by_patient, get_dataloader\n",
        "\n",
        "# data split\n",
        "train_dataset, val_dataset, test_dataset = split_by_patient(mimic3_ds, [0.8, 0.1, 0.1])\n",
        "\n",
        "# create dataloaders (they are <torch.data.DataLoader> object)\n",
        "train_loader = get_dataloader(train_dataset, batch_size=64, shuffle=True)\n",
        "val_loader = get_dataloader(val_dataset, batch_size=64, shuffle=False)\n",
        "test_loader = get_dataloader(test_dataset, batch_size=64, shuffle=False)"
      ],
      "metadata": {
        "id": "i8u3ITyaMaCL"
      },
      "execution_count": null,
      "outputs": []
    },
    {
      "cell_type": "markdown",
      "source": [
        "### **Step 3: Define ML Model**\n",
        "- **[README]:** We initialize an ML model for the healthcare task by calling [pyhealth.models](https://pyhealth.readthedocs.io/en/latest/api/models.html).\n",
        "- **[Next Step]:** This `pyhealth.models` object will be used in **Step 4**.\n",
        "- **[Other Use Case]:** Our `pyhealth.models` object is as general as any instance from `torch.nn.Module`. Users may use it separately for supporting any other customized pipeline."
      ],
      "metadata": {
        "id": "ZOKdYnlQN2o4"
      }
    },
    {
      "cell_type": "code",
      "source": [
        "from pyhealth.models import Transformer\n",
        "\n",
        "model = Transformer(\n",
        "    dataset=mimic3_ds,\n",
        "    feature_keys=[\"conditions\", \"procedures\"],\n",
        "    label_key=\"drugs\",\n",
        "    mode=\"multilabel\",\n",
        ")\n"
      ],
      "metadata": {
        "id": "UNSP6S4CN78V"
      },
      "execution_count": null,
      "outputs": []
    },
    {
      "cell_type": "markdown",
      "source": [
        "### **Step 4: Model Training**\n",
        "- **[README]:** We call our [pyhealth.train.Trainer](https://pyhealth.readthedocs.io/en/latest/api/trainer.html) to train the model by giving the `train_loader`, the `val_loader`, val_metric, and specify other arguemnts, such as epochs, optimizer, learning rate, etc. The trainer will automatically save the best model and output the path in the end.\n",
        "- **[Next Step]:** The best model will be used in **Step 5** for evaluation.\n"
      ],
      "metadata": {
        "id": "8OCmJTSEOJmW"
      }
    },
    {
      "cell_type": "code",
      "source": [
        "from pyhealth.trainer import Trainer\n",
        "\n",
        "trainer = Trainer(model=model)\n",
        "trainer.train(\n",
        "    train_dataloader=train_loader,\n",
        "    val_dataloader=val_loader,\n",
        "    epochs=3,\n",
        "    monitor=\"pr_auc_samples\",\n",
        ")"
      ],
      "metadata": {
        "id": "UVZQOIK2OOJW",
        "colab": {
          "base_uri": "https://localhost:8080/",
          "height": 1000,
          "referenced_widgets": [
            "0abfcf8aebe44d41a1b8f9f216b969d6",
            "5aae0648297b48b7be54bb0ae54e81f6",
            "5b1ba13273d14c4dab11a084ac4ecec9",
            "4b9235d86b334fc2bddb03381a737a3f",
            "e27349c8ee3e4d529c4250188562b172",
            "fecbfeef37e942898df3f2aa7ddf7e0a",
            "0e4b0ca194a94fb19dc8b90b09dadb3b",
            "1e4878ab7334449ab67e9b8458c4ffc2",
            "a766b6e12ed94eb5b27010da962153e0",
            "b278345f331c4c76bc8151728d8aef86",
            "133939417bf9438d9680b6f80dd9308a",
            "5985cd57c01a4e06bc9e9ca9393dd148",
            "e881050ffc51475d870cb846a1cac925",
            "bedd1c7fdcd840a38caeca7959567d3b",
            "a8a96810e0ca4eef8995364341eed6a0",
            "edbd99c2bf5049eca67ba7f421b44990",
            "49b8f98181c64b56aaf84a6bf6a08f63",
            "55006893d42744ea9d7e16506e90aa6e",
            "5332820289264e0d887357fa1d2b8fe3",
            "8ad71610d7f6459b962b8c88d0915687",
            "4445f23df27f4a52a37ad29e41392689",
            "9de26f4433e04cac9edc9fb1548d071c",
            "7cca5f53502c41c7bdc650e733b3a568",
            "06cd40376c274f30884bf1259bb27935",
            "f7d0073d8dee4cf09aa9ec47f23e9850",
            "d64a484ab45c4b479ea97955869ba19a",
            "70fc97b646d844ee841cb1485d062579",
            "bbed0b65a29245dbb00aa04f7e56482e",
            "efa9cd36a17a416e8db923d655016314",
            "fc442e76226f437a8c94bb162627ce6a",
            "7a8e57abbd314a12a17f568ecc07ecbc",
            "26b9b112b7024449b1d0e27b85da8856",
            "315cc672701e4f49881275b8b5fcbf68"
          ]
        },
        "outputId": "4f6226e8-d64c-4a6a-fc34-ce93c27f088a"
      },
      "execution_count": null,
      "outputs": [
        {
          "output_type": "stream",
          "name": "stderr",
          "text": [
            "Transformer(\n",
            "  (embeddings): ModuleDict(\n",
            "    (conditions): Embedding(195, 128, padding_idx=0)\n",
            "    (procedures): Embedding(53, 128, padding_idx=0)\n",
            "  )\n",
            "  (linear_layers): ModuleDict()\n",
            "  (transformer): ModuleDict(\n",
            "    (conditions): TransformerLayer(\n",
            "      (transformer): ModuleList(\n",
            "        (0): TransformerBlock(\n",
            "          (attention): MultiHeadedAttention(\n",
            "            (linear_layers): ModuleList(\n",
            "              (0): Linear(in_features=128, out_features=128, bias=False)\n",
            "              (1): Linear(in_features=128, out_features=128, bias=False)\n",
            "              (2): Linear(in_features=128, out_features=128, bias=False)\n",
            "            )\n",
            "            (output_linear): Linear(in_features=128, out_features=128, bias=False)\n",
            "            (attention): Attention()\n",
            "            (dropout): Dropout(p=0.1, inplace=False)\n",
            "          )\n",
            "          (feed_forward): PositionwiseFeedForward(\n",
            "            (w_1): Linear(in_features=128, out_features=512, bias=True)\n",
            "            (w_2): Linear(in_features=512, out_features=128, bias=True)\n",
            "            (dropout): Dropout(p=0.5, inplace=False)\n",
            "            (activation): GELU(approximate='none')\n",
            "          )\n",
            "          (input_sublayer): SublayerConnection(\n",
            "            (norm): LayerNorm((128,), eps=1e-05, elementwise_affine=True)\n",
            "            (dropout): Dropout(p=0.5, inplace=False)\n",
            "          )\n",
            "          (output_sublayer): SublayerConnection(\n",
            "            (norm): LayerNorm((128,), eps=1e-05, elementwise_affine=True)\n",
            "            (dropout): Dropout(p=0.5, inplace=False)\n",
            "          )\n",
            "          (dropout): Dropout(p=0.5, inplace=False)\n",
            "        )\n",
            "      )\n",
            "    )\n",
            "    (procedures): TransformerLayer(\n",
            "      (transformer): ModuleList(\n",
            "        (0): TransformerBlock(\n",
            "          (attention): MultiHeadedAttention(\n",
            "            (linear_layers): ModuleList(\n",
            "              (0): Linear(in_features=128, out_features=128, bias=False)\n",
            "              (1): Linear(in_features=128, out_features=128, bias=False)\n",
            "              (2): Linear(in_features=128, out_features=128, bias=False)\n",
            "            )\n",
            "            (output_linear): Linear(in_features=128, out_features=128, bias=False)\n",
            "            (attention): Attention()\n",
            "            (dropout): Dropout(p=0.1, inplace=False)\n",
            "          )\n",
            "          (feed_forward): PositionwiseFeedForward(\n",
            "            (w_1): Linear(in_features=128, out_features=512, bias=True)\n",
            "            (w_2): Linear(in_features=512, out_features=128, bias=True)\n",
            "            (dropout): Dropout(p=0.5, inplace=False)\n",
            "            (activation): GELU(approximate='none')\n",
            "          )\n",
            "          (input_sublayer): SublayerConnection(\n",
            "            (norm): LayerNorm((128,), eps=1e-05, elementwise_affine=True)\n",
            "            (dropout): Dropout(p=0.5, inplace=False)\n",
            "          )\n",
            "          (output_sublayer): SublayerConnection(\n",
            "            (norm): LayerNorm((128,), eps=1e-05, elementwise_affine=True)\n",
            "            (dropout): Dropout(p=0.5, inplace=False)\n",
            "          )\n",
            "          (dropout): Dropout(p=0.5, inplace=False)\n",
            "        )\n",
            "      )\n",
            "    )\n",
            "  )\n",
            "  (fc): Linear(in_features=256, out_features=116, bias=True)\n",
            ")\n",
            "Metrics: None\n",
            "Device: cpu\n",
            "\n",
            "Training:\n",
            "Batch size: 64\n",
            "Optimizer: <class 'torch.optim.adam.Adam'>\n",
            "Optimizer params: {'lr': 0.001}\n",
            "Weight decay: 0.0\n",
            "Max grad norm: None\n",
            "Val dataloader: <torch.utils.data.dataloader.DataLoader object at 0x7f3d818424c0>\n",
            "Monitor: pr_auc_samples\n",
            "Monitor criterion: max\n",
            "Epochs: 3\n",
            "\n"
          ]
        },
        {
          "output_type": "display_data",
          "data": {
            "text/plain": [
              "Epoch 0 / 3:   0%|          | 0/1 [00:00<?, ?it/s]"
            ],
            "application/vnd.jupyter.widget-view+json": {
              "version_major": 2,
              "version_minor": 0,
              "model_id": "0abfcf8aebe44d41a1b8f9f216b969d6"
            }
          },
          "metadata": {}
        },
        {
          "output_type": "stream",
          "name": "stderr",
          "text": [
            "--- Train epoch-0, step-1 ---\n",
            "loss: 1.0764\n",
            "Evaluation: 100%|██████████| 1/1 [00:00<00:00, 154.17it/s]\n",
            "--- Eval epoch-0, step-1 ---\n",
            "pr_auc_samples: 0.4840\n",
            "loss: 0.9478\n",
            "New best pr_auc_samples score (0.4840) at epoch-0, step-1\n",
            "\n"
          ]
        },
        {
          "output_type": "display_data",
          "data": {
            "text/plain": [
              "Epoch 1 / 3:   0%|          | 0/1 [00:00<?, ?it/s]"
            ],
            "application/vnd.jupyter.widget-view+json": {
              "version_major": 2,
              "version_minor": 0,
              "model_id": "5985cd57c01a4e06bc9e9ca9393dd148"
            }
          },
          "metadata": {}
        },
        {
          "output_type": "stream",
          "name": "stderr",
          "text": [
            "--- Train epoch-1, step-2 ---\n",
            "loss: 1.0010\n",
            "Evaluation: 100%|██████████| 1/1 [00:00<00:00, 72.56it/s]\n",
            "--- Eval epoch-1, step-2 ---\n",
            "pr_auc_samples: 0.4832\n",
            "loss: 0.9429\n",
            "\n"
          ]
        },
        {
          "output_type": "display_data",
          "data": {
            "text/plain": [
              "Epoch 2 / 3:   0%|          | 0/1 [00:00<?, ?it/s]"
            ],
            "application/vnd.jupyter.widget-view+json": {
              "version_major": 2,
              "version_minor": 0,
              "model_id": "7cca5f53502c41c7bdc650e733b3a568"
            }
          },
          "metadata": {}
        },
        {
          "output_type": "stream",
          "name": "stderr",
          "text": [
            "--- Train epoch-2, step-3 ---\n",
            "loss: 0.9128\n",
            "Evaluation: 100%|██████████| 1/1 [00:00<00:00, 153.91it/s]\n",
            "--- Eval epoch-2, step-3 ---\n",
            "pr_auc_samples: 0.4855\n",
            "loss: 0.9340\n",
            "New best pr_auc_samples score (0.4855) at epoch-2, step-3\n",
            "Loaded best model\n"
          ]
        }
      ]
    },
    {
      "cell_type": "markdown",
      "source": [
        "### **Step 5: Evaluation**"
      ],
      "metadata": {
        "id": "5p-IzKe4OdA-"
      }
    },
    {
      "cell_type": "code",
      "source": [
        "# option 1: use our built-in evaluation metric\n",
        "score = trainer.evaluate(test_loader)\n",
        "print (score)\n",
        "\n",
        "# option 2: use our pyhealth.metrics to evaluate\n",
        "from pyhealth.metrics.multilabel import multilabel_metrics_fn\n",
        "y_true, y_prob, loss = trainer.inference(test_loader)\n",
        "multilabel_metrics_fn(y_true, y_prob, metrics=[\"pr_auc_samples\"])"
      ],
      "metadata": {
        "id": "t-0YWAcAOfDE",
        "colab": {
          "base_uri": "https://localhost:8080/"
        },
        "outputId": "04a20331-dff9-46f3-c593-bd587e183c27"
      },
      "execution_count": null,
      "outputs": [
        {
          "output_type": "stream",
          "name": "stderr",
          "text": [
            "Evaluation: 100%|██████████| 1/1 [00:00<00:00, 96.16it/s]\n"
          ]
        },
        {
          "output_type": "stream",
          "name": "stdout",
          "text": [
            "{'pr_auc_samples': 0.24748548437566276, 'loss': 0.8778110146522522}\n"
          ]
        },
        {
          "output_type": "stream",
          "name": "stderr",
          "text": [
            "Evaluation: 100%|██████████| 1/1 [00:00<00:00, 77.80it/s]\n"
          ]
        },
        {
          "output_type": "execute_result",
          "data": {
            "text/plain": [
              "{'pr_auc_samples': 0.24748548437566276}"
            ]
          },
          "metadata": {},
          "execution_count": 16
        }
      ]
    },
    {
      "cell_type": "code",
      "source": [],
      "metadata": {
        "id": "aeB8-LJ-JGzp"
      },
      "execution_count": null,
      "outputs": []
    },
    {
      "cell_type": "markdown",
      "source": [
        "If this helps, please give us a star ⭐ (fork, and watch) at https://github.com/sunlabuiuc/PyHealth.\n",
        "\n",
        "Thanks very much for your support!"
      ],
      "metadata": {
        "id": "YRHmb5ixazUK"
      }
    },
    {
      "cell_type": "code",
      "source": [],
      "metadata": {
        "id": "nO-Ehz4Sazmw"
      },
      "execution_count": null,
      "outputs": []
    }
  ],
  "metadata": {
    "colab": {
      "provenance": [],
      "collapsed_sections": [
        "qXzoZxt0LvL0"
      ]
    },
    "kernelspec": {
      "display_name": "Python 3",
      "name": "python3"
    },
    "widgets": {
      "application/vnd.jupyter.widget-state+json": {
        "0abfcf8aebe44d41a1b8f9f216b969d6": {
          "model_module": "@jupyter-widgets/controls",
          "model_name": "HBoxModel",
          "model_module_version": "1.5.0",
          "state": {
            "_dom_classes": [],
            "_model_module": "@jupyter-widgets/controls",
            "_model_module_version": "1.5.0",
            "_model_name": "HBoxModel",
            "_view_count": null,
            "_view_module": "@jupyter-widgets/controls",
            "_view_module_version": "1.5.0",
            "_view_name": "HBoxView",
            "box_style": "",
            "children": [
              "IPY_MODEL_5aae0648297b48b7be54bb0ae54e81f6",
              "IPY_MODEL_5b1ba13273d14c4dab11a084ac4ecec9",
              "IPY_MODEL_4b9235d86b334fc2bddb03381a737a3f"
            ],
            "layout": "IPY_MODEL_e27349c8ee3e4d529c4250188562b172"
          }
        },
        "5aae0648297b48b7be54bb0ae54e81f6": {
          "model_module": "@jupyter-widgets/controls",
          "model_name": "HTMLModel",
          "model_module_version": "1.5.0",
          "state": {
            "_dom_classes": [],
            "_model_module": "@jupyter-widgets/controls",
            "_model_module_version": "1.5.0",
            "_model_name": "HTMLModel",
            "_view_count": null,
            "_view_module": "@jupyter-widgets/controls",
            "_view_module_version": "1.5.0",
            "_view_name": "HTMLView",
            "description": "",
            "description_tooltip": null,
            "layout": "IPY_MODEL_fecbfeef37e942898df3f2aa7ddf7e0a",
            "placeholder": "​",
            "style": "IPY_MODEL_0e4b0ca194a94fb19dc8b90b09dadb3b",
            "value": "Epoch 0 / 3: 100%"
          }
        },
        "5b1ba13273d14c4dab11a084ac4ecec9": {
          "model_module": "@jupyter-widgets/controls",
          "model_name": "FloatProgressModel",
          "model_module_version": "1.5.0",
          "state": {
            "_dom_classes": [],
            "_model_module": "@jupyter-widgets/controls",
            "_model_module_version": "1.5.0",
            "_model_name": "FloatProgressModel",
            "_view_count": null,
            "_view_module": "@jupyter-widgets/controls",
            "_view_module_version": "1.5.0",
            "_view_name": "ProgressView",
            "bar_style": "success",
            "description": "",
            "description_tooltip": null,
            "layout": "IPY_MODEL_1e4878ab7334449ab67e9b8458c4ffc2",
            "max": 1,
            "min": 0,
            "orientation": "horizontal",
            "style": "IPY_MODEL_a766b6e12ed94eb5b27010da962153e0",
            "value": 1
          }
        },
        "4b9235d86b334fc2bddb03381a737a3f": {
          "model_module": "@jupyter-widgets/controls",
          "model_name": "HTMLModel",
          "model_module_version": "1.5.0",
          "state": {
            "_dom_classes": [],
            "_model_module": "@jupyter-widgets/controls",
            "_model_module_version": "1.5.0",
            "_model_name": "HTMLModel",
            "_view_count": null,
            "_view_module": "@jupyter-widgets/controls",
            "_view_module_version": "1.5.0",
            "_view_name": "HTMLView",
            "description": "",
            "description_tooltip": null,
            "layout": "IPY_MODEL_b278345f331c4c76bc8151728d8aef86",
            "placeholder": "​",
            "style": "IPY_MODEL_133939417bf9438d9680b6f80dd9308a",
            "value": " 1/1 [00:00&lt;00:00,  3.06it/s]"
          }
        },
        "e27349c8ee3e4d529c4250188562b172": {
          "model_module": "@jupyter-widgets/base",
          "model_name": "LayoutModel",
          "model_module_version": "1.2.0",
          "state": {
            "_model_module": "@jupyter-widgets/base",
            "_model_module_version": "1.2.0",
            "_model_name": "LayoutModel",
            "_view_count": null,
            "_view_module": "@jupyter-widgets/base",
            "_view_module_version": "1.2.0",
            "_view_name": "LayoutView",
            "align_content": null,
            "align_items": null,
            "align_self": null,
            "border": null,
            "bottom": null,
            "display": null,
            "flex": null,
            "flex_flow": null,
            "grid_area": null,
            "grid_auto_columns": null,
            "grid_auto_flow": null,
            "grid_auto_rows": null,
            "grid_column": null,
            "grid_gap": null,
            "grid_row": null,
            "grid_template_areas": null,
            "grid_template_columns": null,
            "grid_template_rows": null,
            "height": null,
            "justify_content": null,
            "justify_items": null,
            "left": null,
            "margin": null,
            "max_height": null,
            "max_width": null,
            "min_height": null,
            "min_width": null,
            "object_fit": null,
            "object_position": null,
            "order": null,
            "overflow": null,
            "overflow_x": null,
            "overflow_y": null,
            "padding": null,
            "right": null,
            "top": null,
            "visibility": null,
            "width": null
          }
        },
        "fecbfeef37e942898df3f2aa7ddf7e0a": {
          "model_module": "@jupyter-widgets/base",
          "model_name": "LayoutModel",
          "model_module_version": "1.2.0",
          "state": {
            "_model_module": "@jupyter-widgets/base",
            "_model_module_version": "1.2.0",
            "_model_name": "LayoutModel",
            "_view_count": null,
            "_view_module": "@jupyter-widgets/base",
            "_view_module_version": "1.2.0",
            "_view_name": "LayoutView",
            "align_content": null,
            "align_items": null,
            "align_self": null,
            "border": null,
            "bottom": null,
            "display": null,
            "flex": null,
            "flex_flow": null,
            "grid_area": null,
            "grid_auto_columns": null,
            "grid_auto_flow": null,
            "grid_auto_rows": null,
            "grid_column": null,
            "grid_gap": null,
            "grid_row": null,
            "grid_template_areas": null,
            "grid_template_columns": null,
            "grid_template_rows": null,
            "height": null,
            "justify_content": null,
            "justify_items": null,
            "left": null,
            "margin": null,
            "max_height": null,
            "max_width": null,
            "min_height": null,
            "min_width": null,
            "object_fit": null,
            "object_position": null,
            "order": null,
            "overflow": null,
            "overflow_x": null,
            "overflow_y": null,
            "padding": null,
            "right": null,
            "top": null,
            "visibility": null,
            "width": null
          }
        },
        "0e4b0ca194a94fb19dc8b90b09dadb3b": {
          "model_module": "@jupyter-widgets/controls",
          "model_name": "DescriptionStyleModel",
          "model_module_version": "1.5.0",
          "state": {
            "_model_module": "@jupyter-widgets/controls",
            "_model_module_version": "1.5.0",
            "_model_name": "DescriptionStyleModel",
            "_view_count": null,
            "_view_module": "@jupyter-widgets/base",
            "_view_module_version": "1.2.0",
            "_view_name": "StyleView",
            "description_width": ""
          }
        },
        "1e4878ab7334449ab67e9b8458c4ffc2": {
          "model_module": "@jupyter-widgets/base",
          "model_name": "LayoutModel",
          "model_module_version": "1.2.0",
          "state": {
            "_model_module": "@jupyter-widgets/base",
            "_model_module_version": "1.2.0",
            "_model_name": "LayoutModel",
            "_view_count": null,
            "_view_module": "@jupyter-widgets/base",
            "_view_module_version": "1.2.0",
            "_view_name": "LayoutView",
            "align_content": null,
            "align_items": null,
            "align_self": null,
            "border": null,
            "bottom": null,
            "display": null,
            "flex": null,
            "flex_flow": null,
            "grid_area": null,
            "grid_auto_columns": null,
            "grid_auto_flow": null,
            "grid_auto_rows": null,
            "grid_column": null,
            "grid_gap": null,
            "grid_row": null,
            "grid_template_areas": null,
            "grid_template_columns": null,
            "grid_template_rows": null,
            "height": null,
            "justify_content": null,
            "justify_items": null,
            "left": null,
            "margin": null,
            "max_height": null,
            "max_width": null,
            "min_height": null,
            "min_width": null,
            "object_fit": null,
            "object_position": null,
            "order": null,
            "overflow": null,
            "overflow_x": null,
            "overflow_y": null,
            "padding": null,
            "right": null,
            "top": null,
            "visibility": null,
            "width": null
          }
        },
        "a766b6e12ed94eb5b27010da962153e0": {
          "model_module": "@jupyter-widgets/controls",
          "model_name": "ProgressStyleModel",
          "model_module_version": "1.5.0",
          "state": {
            "_model_module": "@jupyter-widgets/controls",
            "_model_module_version": "1.5.0",
            "_model_name": "ProgressStyleModel",
            "_view_count": null,
            "_view_module": "@jupyter-widgets/base",
            "_view_module_version": "1.2.0",
            "_view_name": "StyleView",
            "bar_color": null,
            "description_width": ""
          }
        },
        "b278345f331c4c76bc8151728d8aef86": {
          "model_module": "@jupyter-widgets/base",
          "model_name": "LayoutModel",
          "model_module_version": "1.2.0",
          "state": {
            "_model_module": "@jupyter-widgets/base",
            "_model_module_version": "1.2.0",
            "_model_name": "LayoutModel",
            "_view_count": null,
            "_view_module": "@jupyter-widgets/base",
            "_view_module_version": "1.2.0",
            "_view_name": "LayoutView",
            "align_content": null,
            "align_items": null,
            "align_self": null,
            "border": null,
            "bottom": null,
            "display": null,
            "flex": null,
            "flex_flow": null,
            "grid_area": null,
            "grid_auto_columns": null,
            "grid_auto_flow": null,
            "grid_auto_rows": null,
            "grid_column": null,
            "grid_gap": null,
            "grid_row": null,
            "grid_template_areas": null,
            "grid_template_columns": null,
            "grid_template_rows": null,
            "height": null,
            "justify_content": null,
            "justify_items": null,
            "left": null,
            "margin": null,
            "max_height": null,
            "max_width": null,
            "min_height": null,
            "min_width": null,
            "object_fit": null,
            "object_position": null,
            "order": null,
            "overflow": null,
            "overflow_x": null,
            "overflow_y": null,
            "padding": null,
            "right": null,
            "top": null,
            "visibility": null,
            "width": null
          }
        },
        "133939417bf9438d9680b6f80dd9308a": {
          "model_module": "@jupyter-widgets/controls",
          "model_name": "DescriptionStyleModel",
          "model_module_version": "1.5.0",
          "state": {
            "_model_module": "@jupyter-widgets/controls",
            "_model_module_version": "1.5.0",
            "_model_name": "DescriptionStyleModel",
            "_view_count": null,
            "_view_module": "@jupyter-widgets/base",
            "_view_module_version": "1.2.0",
            "_view_name": "StyleView",
            "description_width": ""
          }
        },
        "5985cd57c01a4e06bc9e9ca9393dd148": {
          "model_module": "@jupyter-widgets/controls",
          "model_name": "HBoxModel",
          "model_module_version": "1.5.0",
          "state": {
            "_dom_classes": [],
            "_model_module": "@jupyter-widgets/controls",
            "_model_module_version": "1.5.0",
            "_model_name": "HBoxModel",
            "_view_count": null,
            "_view_module": "@jupyter-widgets/controls",
            "_view_module_version": "1.5.0",
            "_view_name": "HBoxView",
            "box_style": "",
            "children": [
              "IPY_MODEL_e881050ffc51475d870cb846a1cac925",
              "IPY_MODEL_bedd1c7fdcd840a38caeca7959567d3b",
              "IPY_MODEL_a8a96810e0ca4eef8995364341eed6a0"
            ],
            "layout": "IPY_MODEL_edbd99c2bf5049eca67ba7f421b44990"
          }
        },
        "e881050ffc51475d870cb846a1cac925": {
          "model_module": "@jupyter-widgets/controls",
          "model_name": "HTMLModel",
          "model_module_version": "1.5.0",
          "state": {
            "_dom_classes": [],
            "_model_module": "@jupyter-widgets/controls",
            "_model_module_version": "1.5.0",
            "_model_name": "HTMLModel",
            "_view_count": null,
            "_view_module": "@jupyter-widgets/controls",
            "_view_module_version": "1.5.0",
            "_view_name": "HTMLView",
            "description": "",
            "description_tooltip": null,
            "layout": "IPY_MODEL_49b8f98181c64b56aaf84a6bf6a08f63",
            "placeholder": "​",
            "style": "IPY_MODEL_55006893d42744ea9d7e16506e90aa6e",
            "value": "Epoch 1 / 3: 100%"
          }
        },
        "bedd1c7fdcd840a38caeca7959567d3b": {
          "model_module": "@jupyter-widgets/controls",
          "model_name": "FloatProgressModel",
          "model_module_version": "1.5.0",
          "state": {
            "_dom_classes": [],
            "_model_module": "@jupyter-widgets/controls",
            "_model_module_version": "1.5.0",
            "_model_name": "FloatProgressModel",
            "_view_count": null,
            "_view_module": "@jupyter-widgets/controls",
            "_view_module_version": "1.5.0",
            "_view_name": "ProgressView",
            "bar_style": "success",
            "description": "",
            "description_tooltip": null,
            "layout": "IPY_MODEL_5332820289264e0d887357fa1d2b8fe3",
            "max": 1,
            "min": 0,
            "orientation": "horizontal",
            "style": "IPY_MODEL_8ad71610d7f6459b962b8c88d0915687",
            "value": 1
          }
        },
        "a8a96810e0ca4eef8995364341eed6a0": {
          "model_module": "@jupyter-widgets/controls",
          "model_name": "HTMLModel",
          "model_module_version": "1.5.0",
          "state": {
            "_dom_classes": [],
            "_model_module": "@jupyter-widgets/controls",
            "_model_module_version": "1.5.0",
            "_model_name": "HTMLModel",
            "_view_count": null,
            "_view_module": "@jupyter-widgets/controls",
            "_view_module_version": "1.5.0",
            "_view_name": "HTMLView",
            "description": "",
            "description_tooltip": null,
            "layout": "IPY_MODEL_4445f23df27f4a52a37ad29e41392689",
            "placeholder": "​",
            "style": "IPY_MODEL_9de26f4433e04cac9edc9fb1548d071c",
            "value": " 1/1 [00:00&lt;00:00, 17.95it/s]"
          }
        },
        "edbd99c2bf5049eca67ba7f421b44990": {
          "model_module": "@jupyter-widgets/base",
          "model_name": "LayoutModel",
          "model_module_version": "1.2.0",
          "state": {
            "_model_module": "@jupyter-widgets/base",
            "_model_module_version": "1.2.0",
            "_model_name": "LayoutModel",
            "_view_count": null,
            "_view_module": "@jupyter-widgets/base",
            "_view_module_version": "1.2.0",
            "_view_name": "LayoutView",
            "align_content": null,
            "align_items": null,
            "align_self": null,
            "border": null,
            "bottom": null,
            "display": null,
            "flex": null,
            "flex_flow": null,
            "grid_area": null,
            "grid_auto_columns": null,
            "grid_auto_flow": null,
            "grid_auto_rows": null,
            "grid_column": null,
            "grid_gap": null,
            "grid_row": null,
            "grid_template_areas": null,
            "grid_template_columns": null,
            "grid_template_rows": null,
            "height": null,
            "justify_content": null,
            "justify_items": null,
            "left": null,
            "margin": null,
            "max_height": null,
            "max_width": null,
            "min_height": null,
            "min_width": null,
            "object_fit": null,
            "object_position": null,
            "order": null,
            "overflow": null,
            "overflow_x": null,
            "overflow_y": null,
            "padding": null,
            "right": null,
            "top": null,
            "visibility": null,
            "width": null
          }
        },
        "49b8f98181c64b56aaf84a6bf6a08f63": {
          "model_module": "@jupyter-widgets/base",
          "model_name": "LayoutModel",
          "model_module_version": "1.2.0",
          "state": {
            "_model_module": "@jupyter-widgets/base",
            "_model_module_version": "1.2.0",
            "_model_name": "LayoutModel",
            "_view_count": null,
            "_view_module": "@jupyter-widgets/base",
            "_view_module_version": "1.2.0",
            "_view_name": "LayoutView",
            "align_content": null,
            "align_items": null,
            "align_self": null,
            "border": null,
            "bottom": null,
            "display": null,
            "flex": null,
            "flex_flow": null,
            "grid_area": null,
            "grid_auto_columns": null,
            "grid_auto_flow": null,
            "grid_auto_rows": null,
            "grid_column": null,
            "grid_gap": null,
            "grid_row": null,
            "grid_template_areas": null,
            "grid_template_columns": null,
            "grid_template_rows": null,
            "height": null,
            "justify_content": null,
            "justify_items": null,
            "left": null,
            "margin": null,
            "max_height": null,
            "max_width": null,
            "min_height": null,
            "min_width": null,
            "object_fit": null,
            "object_position": null,
            "order": null,
            "overflow": null,
            "overflow_x": null,
            "overflow_y": null,
            "padding": null,
            "right": null,
            "top": null,
            "visibility": null,
            "width": null
          }
        },
        "55006893d42744ea9d7e16506e90aa6e": {
          "model_module": "@jupyter-widgets/controls",
          "model_name": "DescriptionStyleModel",
          "model_module_version": "1.5.0",
          "state": {
            "_model_module": "@jupyter-widgets/controls",
            "_model_module_version": "1.5.0",
            "_model_name": "DescriptionStyleModel",
            "_view_count": null,
            "_view_module": "@jupyter-widgets/base",
            "_view_module_version": "1.2.0",
            "_view_name": "StyleView",
            "description_width": ""
          }
        },
        "5332820289264e0d887357fa1d2b8fe3": {
          "model_module": "@jupyter-widgets/base",
          "model_name": "LayoutModel",
          "model_module_version": "1.2.0",
          "state": {
            "_model_module": "@jupyter-widgets/base",
            "_model_module_version": "1.2.0",
            "_model_name": "LayoutModel",
            "_view_count": null,
            "_view_module": "@jupyter-widgets/base",
            "_view_module_version": "1.2.0",
            "_view_name": "LayoutView",
            "align_content": null,
            "align_items": null,
            "align_self": null,
            "border": null,
            "bottom": null,
            "display": null,
            "flex": null,
            "flex_flow": null,
            "grid_area": null,
            "grid_auto_columns": null,
            "grid_auto_flow": null,
            "grid_auto_rows": null,
            "grid_column": null,
            "grid_gap": null,
            "grid_row": null,
            "grid_template_areas": null,
            "grid_template_columns": null,
            "grid_template_rows": null,
            "height": null,
            "justify_content": null,
            "justify_items": null,
            "left": null,
            "margin": null,
            "max_height": null,
            "max_width": null,
            "min_height": null,
            "min_width": null,
            "object_fit": null,
            "object_position": null,
            "order": null,
            "overflow": null,
            "overflow_x": null,
            "overflow_y": null,
            "padding": null,
            "right": null,
            "top": null,
            "visibility": null,
            "width": null
          }
        },
        "8ad71610d7f6459b962b8c88d0915687": {
          "model_module": "@jupyter-widgets/controls",
          "model_name": "ProgressStyleModel",
          "model_module_version": "1.5.0",
          "state": {
            "_model_module": "@jupyter-widgets/controls",
            "_model_module_version": "1.5.0",
            "_model_name": "ProgressStyleModel",
            "_view_count": null,
            "_view_module": "@jupyter-widgets/base",
            "_view_module_version": "1.2.0",
            "_view_name": "StyleView",
            "bar_color": null,
            "description_width": ""
          }
        },
        "4445f23df27f4a52a37ad29e41392689": {
          "model_module": "@jupyter-widgets/base",
          "model_name": "LayoutModel",
          "model_module_version": "1.2.0",
          "state": {
            "_model_module": "@jupyter-widgets/base",
            "_model_module_version": "1.2.0",
            "_model_name": "LayoutModel",
            "_view_count": null,
            "_view_module": "@jupyter-widgets/base",
            "_view_module_version": "1.2.0",
            "_view_name": "LayoutView",
            "align_content": null,
            "align_items": null,
            "align_self": null,
            "border": null,
            "bottom": null,
            "display": null,
            "flex": null,
            "flex_flow": null,
            "grid_area": null,
            "grid_auto_columns": null,
            "grid_auto_flow": null,
            "grid_auto_rows": null,
            "grid_column": null,
            "grid_gap": null,
            "grid_row": null,
            "grid_template_areas": null,
            "grid_template_columns": null,
            "grid_template_rows": null,
            "height": null,
            "justify_content": null,
            "justify_items": null,
            "left": null,
            "margin": null,
            "max_height": null,
            "max_width": null,
            "min_height": null,
            "min_width": null,
            "object_fit": null,
            "object_position": null,
            "order": null,
            "overflow": null,
            "overflow_x": null,
            "overflow_y": null,
            "padding": null,
            "right": null,
            "top": null,
            "visibility": null,
            "width": null
          }
        },
        "9de26f4433e04cac9edc9fb1548d071c": {
          "model_module": "@jupyter-widgets/controls",
          "model_name": "DescriptionStyleModel",
          "model_module_version": "1.5.0",
          "state": {
            "_model_module": "@jupyter-widgets/controls",
            "_model_module_version": "1.5.0",
            "_model_name": "DescriptionStyleModel",
            "_view_count": null,
            "_view_module": "@jupyter-widgets/base",
            "_view_module_version": "1.2.0",
            "_view_name": "StyleView",
            "description_width": ""
          }
        },
        "7cca5f53502c41c7bdc650e733b3a568": {
          "model_module": "@jupyter-widgets/controls",
          "model_name": "HBoxModel",
          "model_module_version": "1.5.0",
          "state": {
            "_dom_classes": [],
            "_model_module": "@jupyter-widgets/controls",
            "_model_module_version": "1.5.0",
            "_model_name": "HBoxModel",
            "_view_count": null,
            "_view_module": "@jupyter-widgets/controls",
            "_view_module_version": "1.5.0",
            "_view_name": "HBoxView",
            "box_style": "",
            "children": [
              "IPY_MODEL_06cd40376c274f30884bf1259bb27935",
              "IPY_MODEL_f7d0073d8dee4cf09aa9ec47f23e9850",
              "IPY_MODEL_d64a484ab45c4b479ea97955869ba19a"
            ],
            "layout": "IPY_MODEL_70fc97b646d844ee841cb1485d062579"
          }
        },
        "06cd40376c274f30884bf1259bb27935": {
          "model_module": "@jupyter-widgets/controls",
          "model_name": "HTMLModel",
          "model_module_version": "1.5.0",
          "state": {
            "_dom_classes": [],
            "_model_module": "@jupyter-widgets/controls",
            "_model_module_version": "1.5.0",
            "_model_name": "HTMLModel",
            "_view_count": null,
            "_view_module": "@jupyter-widgets/controls",
            "_view_module_version": "1.5.0",
            "_view_name": "HTMLView",
            "description": "",
            "description_tooltip": null,
            "layout": "IPY_MODEL_bbed0b65a29245dbb00aa04f7e56482e",
            "placeholder": "​",
            "style": "IPY_MODEL_efa9cd36a17a416e8db923d655016314",
            "value": "Epoch 2 / 3: 100%"
          }
        },
        "f7d0073d8dee4cf09aa9ec47f23e9850": {
          "model_module": "@jupyter-widgets/controls",
          "model_name": "FloatProgressModel",
          "model_module_version": "1.5.0",
          "state": {
            "_dom_classes": [],
            "_model_module": "@jupyter-widgets/controls",
            "_model_module_version": "1.5.0",
            "_model_name": "FloatProgressModel",
            "_view_count": null,
            "_view_module": "@jupyter-widgets/controls",
            "_view_module_version": "1.5.0",
            "_view_name": "ProgressView",
            "bar_style": "success",
            "description": "",
            "description_tooltip": null,
            "layout": "IPY_MODEL_fc442e76226f437a8c94bb162627ce6a",
            "max": 1,
            "min": 0,
            "orientation": "horizontal",
            "style": "IPY_MODEL_7a8e57abbd314a12a17f568ecc07ecbc",
            "value": 1
          }
        },
        "d64a484ab45c4b479ea97955869ba19a": {
          "model_module": "@jupyter-widgets/controls",
          "model_name": "HTMLModel",
          "model_module_version": "1.5.0",
          "state": {
            "_dom_classes": [],
            "_model_module": "@jupyter-widgets/controls",
            "_model_module_version": "1.5.0",
            "_model_name": "HTMLModel",
            "_view_count": null,
            "_view_module": "@jupyter-widgets/controls",
            "_view_module_version": "1.5.0",
            "_view_name": "HTMLView",
            "description": "",
            "description_tooltip": null,
            "layout": "IPY_MODEL_26b9b112b7024449b1d0e27b85da8856",
            "placeholder": "​",
            "style": "IPY_MODEL_315cc672701e4f49881275b8b5fcbf68",
            "value": " 1/1 [00:00&lt;00:00, 11.64it/s]"
          }
        },
        "70fc97b646d844ee841cb1485d062579": {
          "model_module": "@jupyter-widgets/base",
          "model_name": "LayoutModel",
          "model_module_version": "1.2.0",
          "state": {
            "_model_module": "@jupyter-widgets/base",
            "_model_module_version": "1.2.0",
            "_model_name": "LayoutModel",
            "_view_count": null,
            "_view_module": "@jupyter-widgets/base",
            "_view_module_version": "1.2.0",
            "_view_name": "LayoutView",
            "align_content": null,
            "align_items": null,
            "align_self": null,
            "border": null,
            "bottom": null,
            "display": null,
            "flex": null,
            "flex_flow": null,
            "grid_area": null,
            "grid_auto_columns": null,
            "grid_auto_flow": null,
            "grid_auto_rows": null,
            "grid_column": null,
            "grid_gap": null,
            "grid_row": null,
            "grid_template_areas": null,
            "grid_template_columns": null,
            "grid_template_rows": null,
            "height": null,
            "justify_content": null,
            "justify_items": null,
            "left": null,
            "margin": null,
            "max_height": null,
            "max_width": null,
            "min_height": null,
            "min_width": null,
            "object_fit": null,
            "object_position": null,
            "order": null,
            "overflow": null,
            "overflow_x": null,
            "overflow_y": null,
            "padding": null,
            "right": null,
            "top": null,
            "visibility": null,
            "width": null
          }
        },
        "bbed0b65a29245dbb00aa04f7e56482e": {
          "model_module": "@jupyter-widgets/base",
          "model_name": "LayoutModel",
          "model_module_version": "1.2.0",
          "state": {
            "_model_module": "@jupyter-widgets/base",
            "_model_module_version": "1.2.0",
            "_model_name": "LayoutModel",
            "_view_count": null,
            "_view_module": "@jupyter-widgets/base",
            "_view_module_version": "1.2.0",
            "_view_name": "LayoutView",
            "align_content": null,
            "align_items": null,
            "align_self": null,
            "border": null,
            "bottom": null,
            "display": null,
            "flex": null,
            "flex_flow": null,
            "grid_area": null,
            "grid_auto_columns": null,
            "grid_auto_flow": null,
            "grid_auto_rows": null,
            "grid_column": null,
            "grid_gap": null,
            "grid_row": null,
            "grid_template_areas": null,
            "grid_template_columns": null,
            "grid_template_rows": null,
            "height": null,
            "justify_content": null,
            "justify_items": null,
            "left": null,
            "margin": null,
            "max_height": null,
            "max_width": null,
            "min_height": null,
            "min_width": null,
            "object_fit": null,
            "object_position": null,
            "order": null,
            "overflow": null,
            "overflow_x": null,
            "overflow_y": null,
            "padding": null,
            "right": null,
            "top": null,
            "visibility": null,
            "width": null
          }
        },
        "efa9cd36a17a416e8db923d655016314": {
          "model_module": "@jupyter-widgets/controls",
          "model_name": "DescriptionStyleModel",
          "model_module_version": "1.5.0",
          "state": {
            "_model_module": "@jupyter-widgets/controls",
            "_model_module_version": "1.5.0",
            "_model_name": "DescriptionStyleModel",
            "_view_count": null,
            "_view_module": "@jupyter-widgets/base",
            "_view_module_version": "1.2.0",
            "_view_name": "StyleView",
            "description_width": ""
          }
        },
        "fc442e76226f437a8c94bb162627ce6a": {
          "model_module": "@jupyter-widgets/base",
          "model_name": "LayoutModel",
          "model_module_version": "1.2.0",
          "state": {
            "_model_module": "@jupyter-widgets/base",
            "_model_module_version": "1.2.0",
            "_model_name": "LayoutModel",
            "_view_count": null,
            "_view_module": "@jupyter-widgets/base",
            "_view_module_version": "1.2.0",
            "_view_name": "LayoutView",
            "align_content": null,
            "align_items": null,
            "align_self": null,
            "border": null,
            "bottom": null,
            "display": null,
            "flex": null,
            "flex_flow": null,
            "grid_area": null,
            "grid_auto_columns": null,
            "grid_auto_flow": null,
            "grid_auto_rows": null,
            "grid_column": null,
            "grid_gap": null,
            "grid_row": null,
            "grid_template_areas": null,
            "grid_template_columns": null,
            "grid_template_rows": null,
            "height": null,
            "justify_content": null,
            "justify_items": null,
            "left": null,
            "margin": null,
            "max_height": null,
            "max_width": null,
            "min_height": null,
            "min_width": null,
            "object_fit": null,
            "object_position": null,
            "order": null,
            "overflow": null,
            "overflow_x": null,
            "overflow_y": null,
            "padding": null,
            "right": null,
            "top": null,
            "visibility": null,
            "width": null
          }
        },
        "7a8e57abbd314a12a17f568ecc07ecbc": {
          "model_module": "@jupyter-widgets/controls",
          "model_name": "ProgressStyleModel",
          "model_module_version": "1.5.0",
          "state": {
            "_model_module": "@jupyter-widgets/controls",
            "_model_module_version": "1.5.0",
            "_model_name": "ProgressStyleModel",
            "_view_count": null,
            "_view_module": "@jupyter-widgets/base",
            "_view_module_version": "1.2.0",
            "_view_name": "StyleView",
            "bar_color": null,
            "description_width": ""
          }
        },
        "26b9b112b7024449b1d0e27b85da8856": {
          "model_module": "@jupyter-widgets/base",
          "model_name": "LayoutModel",
          "model_module_version": "1.2.0",
          "state": {
            "_model_module": "@jupyter-widgets/base",
            "_model_module_version": "1.2.0",
            "_model_name": "LayoutModel",
            "_view_count": null,
            "_view_module": "@jupyter-widgets/base",
            "_view_module_version": "1.2.0",
            "_view_name": "LayoutView",
            "align_content": null,
            "align_items": null,
            "align_self": null,
            "border": null,
            "bottom": null,
            "display": null,
            "flex": null,
            "flex_flow": null,
            "grid_area": null,
            "grid_auto_columns": null,
            "grid_auto_flow": null,
            "grid_auto_rows": null,
            "grid_column": null,
            "grid_gap": null,
            "grid_row": null,
            "grid_template_areas": null,
            "grid_template_columns": null,
            "grid_template_rows": null,
            "height": null,
            "justify_content": null,
            "justify_items": null,
            "left": null,
            "margin": null,
            "max_height": null,
            "max_width": null,
            "min_height": null,
            "min_width": null,
            "object_fit": null,
            "object_position": null,
            "order": null,
            "overflow": null,
            "overflow_x": null,
            "overflow_y": null,
            "padding": null,
            "right": null,
            "top": null,
            "visibility": null,
            "width": null
          }
        },
        "315cc672701e4f49881275b8b5fcbf68": {
          "model_module": "@jupyter-widgets/controls",
          "model_name": "DescriptionStyleModel",
          "model_module_version": "1.5.0",
          "state": {
            "_model_module": "@jupyter-widgets/controls",
            "_model_module_version": "1.5.0",
            "_model_name": "DescriptionStyleModel",
            "_view_count": null,
            "_view_module": "@jupyter-widgets/base",
            "_view_module_version": "1.2.0",
            "_view_name": "StyleView",
            "description_width": ""
          }
        }
      }
    },
    "gpuClass": "standard"
  },
  "nbformat": 4,
  "nbformat_minor": 0
}