{
 "cells": [
  {
   "cell_type": "code",
   "execution_count": 1,
   "id": "082a7577",
   "metadata": {},
   "outputs": [
    {
     "name": "stderr",
     "output_type": "stream",
     "text": [
      "/home/chaoqiy2/miniconda3/envs/moltext/lib/python3.7/site-packages/tqdm/auto.py:21: TqdmWarning: IProgress not found. Please update jupyter and ipywidgets. See https://ipywidgets.readthedocs.io/en/stable/user_install.html\n",
      "  from .autonotebook import tqdm as notebook_tqdm\n"
     ]
    }
   ],
   "source": [
    "import torch\n",
    "import torch.nn as nn\n",
    "import torch.nn.functional as F\n",
    "import torchvision\n",
    "import cv2\n",
    "import numpy as np\n",
    "\n",
    "device = torch.device('cuda:0')"
   ]
  },
  {
   "cell_type": "markdown",
   "id": "84951b5a",
   "metadata": {},
   "source": [
    "## 1. Load MNIST Dataset"
   ]
  },
  {
   "cell_type": "code",
   "execution_count": 2,
   "id": "0dce3988",
   "metadata": {},
   "outputs": [
    {
     "name": "stdout",
     "output_type": "stream",
     "text": [
      "(60000, 28, 28) (60000,)\n",
      "(10000, 28, 28) (10000,)\n"
     ]
    },
    {
     "name": "stderr",
     "output_type": "stream",
     "text": [
      "/home/chaoqiy2/miniconda3/envs/moltext/lib/python3.7/site-packages/torchvision/datasets/mnist.py:498: UserWarning: The given NumPy array is not writeable, and PyTorch does not support non-writeable tensors. This means you can write to the underlying (supposedly non-writeable) NumPy array using the tensor. You may want to copy the array to protect its data or make it writeable before converting it to a tensor. This type of warning will be suppressed for the rest of this program. (Triggered internally at  /opt/conda/conda-bld/pytorch_1631630836880/work/torch/csrc/utils/tensor_numpy.cpp:180.)\n",
      "  return torch.from_numpy(parsed.astype(m[2], copy=False)).view(*s)\n"
     ]
    }
   ],
   "source": [
    "# for training set, we load the data and label\n",
    "trainset = torchvision.datasets.MNIST(root='./data', train = True, download = True)\n",
    "xtrain = trainset.data.numpy()\n",
    "ytrain = trainset.targets.numpy()\n",
    "\n",
    "# for test set, we load the data and label\n",
    "testset = torchvision.datasets.MNIST(root='./data', train = False, download = True)\n",
    "xtest = testset.data.numpy()\n",
    "ytest = testset.targets.numpy()\n",
    "\n",
    "print (xtrain.shape, ytrain.shape)\n",
    "print (xtest.shape, ytest.shape)"
   ]
  },
  {
   "cell_type": "markdown",
   "id": "749db835",
   "metadata": {},
   "source": [
    "### get data loader"
   ]
  },
  {
   "cell_type": "code",
   "execution_count": 3,
   "id": "8e1ea4e7",
   "metadata": {},
   "outputs": [],
   "source": [
    "# transform pixel value (0, 255) into {0,1}\n",
    "xtrain = np.where(xtrain > 128, 1, 0)\n",
    "xtrain = xtrain.astype(np.float32)\n",
    "\n",
    "# transform pixel value (0, 255) into {0,1}\n",
    "xtest = np.where(xtest > 128, 1, 0)\n",
    "xtest = xtest.astype(np.float32)\n",
    "\n",
    "batch_size = 256\n",
    "trainloader = torch.utils.data.DataLoader([[xtrain[i], ytrain[i]] for i in range(len(ytrain))], \\\n",
    "                                          shuffle=True, batch_size=batch_size)\n",
    "testloader = torch.utils.data.DataLoader([[xtest[i], ytest[i]] for i in range(len(ytest))], \\\n",
    "                                         shuffle=False, batch_size=batch_size)\n"
   ]
  },
  {
   "cell_type": "markdown",
   "id": "ae795623",
   "metadata": {},
   "source": [
    "## 2. Define the VAE Model (unconditioned)"
   ]
  },
  {
   "cell_type": "code",
   "execution_count": 33,
   "id": "80491606",
   "metadata": {},
   "outputs": [
    {
     "data": {
      "text/plain": [
       "VAE(\n",
       "  (encoder1): Linear(in_features=784, out_features=128, bias=True)\n",
       "  (mu): Linear(in_features=128, out_features=8, bias=True)\n",
       "  (log_sigma2): Linear(in_features=128, out_features=8, bias=True)\n",
       "  (decoder1): Linear(in_features=8, out_features=128, bias=True)\n",
       "  (decoder2): Linear(in_features=128, out_features=784, bias=True)\n",
       ")"
      ]
     },
     "execution_count": 33,
     "metadata": {},
     "output_type": "execute_result"
    }
   ],
   "source": [
    "class VAE(nn.Module):\n",
    "    def __init__(self):\n",
    "        super(VAE, self).__init__()\n",
    "    \n",
    "        # DNN as encoder\n",
    "        self.encoder1 = nn.Linear(28*28, 128)\n",
    "        self.mu = nn.Linear(128, 8)\n",
    "        self.log_sigma2 = nn.Linear(128, 8)\n",
    "\n",
    "        # DNN as decoder\n",
    "        self.decoder1 = nn.Linear(8, 128)\n",
    "        self.decoder2 = nn.Linear(128, 28*28)\n",
    "        \n",
    "    def encoder(self, x):\n",
    "        h = torch.tanh(self.encoder1(x))\n",
    "        return self.mu(h), torch.sqrt(torch.exp(self.log_sigma2(h)))\n",
    "    \n",
    "    def sampling(self, mu, std): # Reparameterization trick\n",
    "        eps = torch.randn_like(std)\n",
    "        return mu + eps * std\n",
    "\n",
    "    def decoder(self, z):\n",
    "        h = torch.tanh(self.decoder1(z))\n",
    "        return torch.sigmoid(self.decoder2(h)) \n",
    "    \n",
    "    def forward(self, x):\n",
    "        mu, std = self.encoder(x.view(-1, 28*28))\n",
    "        z = self.sampling(mu, std)\n",
    "        return self.decoder(z), mu, std\n",
    "    \n",
    "    @staticmethod\n",
    "    def loss_func(x_hat, x, mu, std): \n",
    "        # define the reconstruction loss\n",
    "        ERR = F.binary_cross_entropy(x_hat, x, reduction='sum')\n",
    "        # define the KL divergence loss\n",
    "        KLD = -0.5 * torch.sum(1 + torch.log(std**2) - mu**2 - std**2)\n",
    "        return ERR + KLD, ERR, KLD\n",
    "    \n",
    "model = VAE()\n",
    "model.to(device) # move model to GPU"
   ]
  },
  {
   "cell_type": "markdown",
   "id": "3b4b479a",
   "metadata": {},
   "source": [
    "## 3. Model Training and Evaluation"
   ]
  },
  {
   "cell_type": "code",
   "execution_count": 34,
   "id": "af0aa027",
   "metadata": {},
   "outputs": [
    {
     "name": "stdout",
     "output_type": "stream",
     "text": [
      "-- epoch 0 --, train MSE: 46253.532987034574, train KL: 2965.6796634917564, test MSE: 33957.40220336914\n",
      "-- epoch 10 --, train MSE: 24715.56885804521, train KL: 4029.8427557762634, test MSE: 24002.60086364746\n",
      "-- epoch 20 --, train MSE: 23112.449376662233, train KL: 4155.92374709109, test MSE: 22585.853298950195\n",
      "-- epoch 30 --, train MSE: 22407.728390957447, train KL: 4229.467601500166, test MSE: 22136.877194213866\n",
      "-- epoch 40 --, train MSE: 21995.03388048537, train KL: 4269.6293924534575, test MSE: 21645.925708007813\n"
     ]
    }
   ],
   "source": [
    "optimizer = torch.optim.AdamW(model.parameters(), lr = 0.002)\n",
    "\n",
    "rec_loss, kl_loss = [], []\n",
    "for epoch in range(50):\n",
    "    \n",
    "    \"\"\" model training \"\"\"\n",
    "    model.train()\n",
    "    cur_rec_loss, cur_kl_loss = [], []\n",
    "    for batch_idx, (data, _) in enumerate(trainloader):\n",
    "        data = data.to(device)\n",
    "        rec, mu, std = model(data)\n",
    "        loss, err, kl = model.loss_func(rec, data.reshape(-1, 28*28), mu, std)\n",
    "        \n",
    "        optimizer.zero_grad()\n",
    "        loss.backward()\n",
    "        optimizer.step()\n",
    "        \n",
    "        cur_rec_loss.append(err.item())\n",
    "        cur_kl_loss.append(kl.item())\n",
    "        \n",
    "    rec_loss.append(np.mean(cur_rec_loss))\n",
    "    kl_loss.append(np.mean(cur_kl_loss))\n",
    "    \n",
    "    \"\"\" model evaluation \"\"\"\n",
    "    with torch.no_grad():\n",
    "        test_loss = []\n",
    "        for batch_idx, (data, _) in enumerate(testloader):\n",
    "            data = data.to(device)\n",
    "            rec, mu, std = model(data)\n",
    "            _, mse, _ = model.loss_func(rec, data.reshape(data.shape[0], -1), mu, std)\n",
    "            test_loss.append(mse.item())\n",
    "\n",
    "    if epoch % 10 == 0:\n",
    "        print (f\"-- epoch {epoch} --, train MSE: {np.mean(cur_rec_loss)}, train KL: {np.mean(cur_kl_loss)}, test MSE: {np.mean(test_loss)}\")\n",
    "        \n",
    "    "
   ]
  },
  {
   "cell_type": "markdown",
   "id": "f7c60293",
   "metadata": {},
   "source": [
    "## 4. Draw Loss Curve"
   ]
  },
  {
   "cell_type": "code",
   "execution_count": 35,
   "id": "ffef8894",
   "metadata": {},
   "outputs": [
    {
     "data": {
      "text/plain": [
       "Text(0.5, 1.0, 'KL divergence loss')"
      ]
     },
     "execution_count": 35,
     "metadata": {},
     "output_type": "execute_result"
    },
    {
     "data": {
      "image/png": "[encoded data removed]",
      "text/plain": [
       "<Figure size 1000x400 with 2 Axes>"
      ]
     },
     "metadata": {},
     "output_type": "display_data"
    }
   ],
   "source": [
    "import matplotlib.pyplot as plt\n",
    "\n",
    "plt.figure(figsize=(10, 4))\n",
    "plt.subplot(121)\n",
    "plt.plot(rec_loss)\n",
    "plt.title(\"rec MSE loss\")\n",
    "\n",
    "plt.subplot(122)\n",
    "plt.plot(kl_loss)\n",
    "plt.title(\"KL divergence loss\")"
   ]
  },
  {
   "cell_type": "markdown",
   "id": "6fab0c5b",
   "metadata": {},
   "source": [
    "## 5. Generate new data (cannot control with digit)"
   ]
  },
  {
   "cell_type": "code",
   "execution_count": 36,
   "id": "5f5a7ae4",
   "metadata": {},
   "outputs": [
    {
     "data": {
      "image/png": "[encoded data removed]",
      "text/plain": [
       "<Figure size 1000x300 with 10 Axes>"
      ]
     },
     "metadata": {},
     "output_type": "display_data"
    }
   ],
   "source": [
    "plt.figure(figsize=(10, 3))\n",
    "\n",
    "model.eval()\n",
    "with torch.no_grad():\n",
    "    for l in range(10):\n",
    "        plt.subplot(2, 5, l+1)\n",
    "        \n",
    "        # randomly generate a 8-dim bottleneck vector\n",
    "        x = np.random.normal(0, 1, 8)\n",
    "        x = x.astype(np.float32)\n",
    "        x = torch.from_numpy(x).to(device).unsqueeze(0)\n",
    "\n",
    "        # use decoder to generate the digit image\n",
    "        rec = model.decoder(x).detach().cpu().numpy()\n",
    "        rec = rec.reshape((1, 28, 28))[0]\n",
    "        plt.imshow(rec, cmap=\"gray\")\n",
    "\n",
    "plt.tight_layout()\n",
    "plt.show()"
   ]
  },
  {
   "cell_type": "markdown",
   "id": "7b53718b",
   "metadata": {},
   "source": [
    "## 6. Try to generate digits with given labels"
   ]
  },
  {
   "cell_type": "code",
   "execution_count": 37,
   "id": "9b5aa2f9",
   "metadata": {},
   "outputs": [
    {
     "data": {
      "text/plain": [
       "ConditionedVAE(\n",
       "  (digit): Embedding(10, 8)\n",
       "  (encoder1): Linear(in_features=784, out_features=128, bias=True)\n",
       "  (mu): Linear(in_features=128, out_features=8, bias=True)\n",
       "  (log_sigma2): Linear(in_features=128, out_features=8, bias=True)\n",
       "  (decoder1): Linear(in_features=8, out_features=128, bias=True)\n",
       "  (decoder2): Linear(in_features=128, out_features=784, bias=True)\n",
       ")"
      ]
     },
     "execution_count": 37,
     "metadata": {},
     "output_type": "execute_result"
    }
   ],
   "source": [
    "class ConditionedVAE(nn.Module):\n",
    "    def __init__(self):\n",
    "        super(ConditionedVAE, self).__init__()\n",
    "    \n",
    "        # for each digit, we learn a 8-dim vector\n",
    "        self.digit = nn.Embedding(10, 8)\n",
    "        \n",
    "        # DNN as encoder\n",
    "        self.encoder1 = nn.Linear(28*28, 128)\n",
    "        self.mu = nn.Linear(128, 8)\n",
    "        self.log_sigma2 = nn.Linear(128, 8)\n",
    "\n",
    "        # DNN as decoder\n",
    "        self.decoder1 = nn.Linear(8, 128)\n",
    "        self.decoder2 = nn.Linear(128, 28*28)\n",
    "        \n",
    "    def encoder(self, x):\n",
    "        h = torch.tanh(self.encoder1(x))\n",
    "        return self.mu(h), torch.sqrt(torch.exp(self.log_sigma2(h)))\n",
    "    \n",
    "    def sampling(self, mu, std): # Reparameterization trick\n",
    "        eps = torch.randn_like(std)\n",
    "        return mu + eps * std\n",
    "\n",
    "    def decoder(self, z, l):\n",
    "        z = z + self.digit(l)\n",
    "        h = torch.tanh(self.decoder1(z))\n",
    "        return torch.sigmoid(self.decoder2(h)) \n",
    "    \n",
    "    def forward(self, x, l):\n",
    "        mu, std = self.encoder(x.view(-1, 28*28))\n",
    "        z1 = self.sampling(mu, std)\n",
    "        z2 = self.sampling(mu, std)\n",
    "        z = (z1 +z2) / 2\n",
    "        return self.decoder(z, l), mu, std\n",
    "    \n",
    "    @staticmethod\n",
    "    def loss_func(x_hat, x, mu, std): \n",
    "        # define the reconstruction loss\n",
    "        ERR = F.binary_cross_entropy(x_hat, x, reduction='sum')\n",
    "        # define the KL divergence loss\n",
    "        KLD = -0.5 * torch.sum(1 + torch.log(std**2) - mu**2 - std**2)\n",
    "        return ERR + KLD, ERR, KLD\n",
    "    \n",
    "model = ConditionedVAE()\n",
    "model.to(device) # move model to GPU"
   ]
  },
  {
   "cell_type": "code",
   "execution_count": 73,
   "id": "53caf1bc",
   "metadata": {},
   "outputs": [
    {
     "name": "stdout",
     "output_type": "stream",
     "text": [
      "-- epoch 0 --, train MSE: 21091.236201379656, train KL: 3308.4039498836437, test MSE: 21157.176983642577\n",
      "-- epoch 10 --, train MSE: 20999.04569481383, train KL: 3317.5221440741357, test MSE: 21059.00046386719\n",
      "-- epoch 20 --, train MSE: 20934.905516539227, train KL: 3325.0378843916224, test MSE: 20998.86536254883\n",
      "-- epoch 30 --, train MSE: 20884.33543882979, train KL: 3326.6405564328456, test MSE: 21035.790444946288\n",
      "-- epoch 40 --, train MSE: 20837.269200880983, train KL: 3329.8353203956117, test MSE: 20945.185528564452\n"
     ]
    }
   ],
   "source": [
    "optimizer = torch.optim.AdamW(model.parameters(), lr = 0.001)\n",
    "\n",
    "rec_loss, kl_loss = [], []\n",
    "for epoch in range(50):\n",
    "    \n",
    "    \"\"\" model training \"\"\"\n",
    "    model.train()\n",
    "    cur_rec_loss, cur_kl_loss = [], []\n",
    "    for batch_idx, (data, label) in enumerate(trainloader):\n",
    "        data = data.to(device)\n",
    "        label = label.to(device)\n",
    "        rec, mu, std = model(data, label)\n",
    "        loss, err, kl = model.loss_func(rec, data.reshape(-1, 28*28), mu, std)\n",
    "        \n",
    "        optimizer.zero_grad()\n",
    "        loss.backward()\n",
    "        optimizer.step()\n",
    "        \n",
    "        cur_rec_loss.append(err.item())\n",
    "        cur_kl_loss.append(kl.item())\n",
    "        \n",
    "    rec_loss.append(np.mean(cur_rec_loss))\n",
    "    kl_loss.append(np.mean(cur_kl_loss))\n",
    "    \n",
    "    \"\"\" model evaluation \"\"\"\n",
    "    with torch.no_grad():\n",
    "        test_loss = []\n",
    "        for batch_idx, (data, label) in enumerate(testloader):\n",
    "            data = data.to(device)\n",
    "            label = label.to(device)\n",
    "            rec, mu, std = model(data, label)\n",
    "            _, mse, _ = model.loss_func(rec, data.reshape(data.shape[0], -1), mu, std)\n",
    "            test_loss.append(mse.item())\n",
    "\n",
    "    if epoch % 10 == 0:\n",
    "        print (f\"-- epoch {epoch} --, train MSE: {np.mean(cur_rec_loss)}, train KL: {np.mean(cur_kl_loss)}, test MSE: {np.mean(test_loss)}\")\n",
    "        \n",
    "    "
   ]
  },
  {
   "cell_type": "markdown",
   "id": "b8d6af9f",
   "metadata": {},
   "source": [
    "## 7. Generate new data (could control with digit)"
   ]
  },
  {
   "cell_type": "code",
   "execution_count": 86,
   "id": "b0277330",
   "metadata": {},
   "outputs": [
    {
     "data": {
      "image/png": "[encoded data removed]",
      "text/plain": [
       "<Figure size 1000x300 with 10 Axes>"
      ]
     },
     "metadata": {},
     "output_type": "display_data"
    }
   ],
   "source": [
    "plt.figure(figsize=(10, 3))\n",
    "\n",
    "model.eval()\n",
    "with torch.no_grad():\n",
    "    for idx, l in enumerate([0 for i in range(5)] + [1 for i in range(5)]):\n",
    "        plt.subplot(2, 5, idx+1)\n",
    "        \n",
    "        # randomly generate a 8-dim bottleneck vector\n",
    "        x = np.random.normal(0, 1, 8)\n",
    "        x = x.astype(np.float32)\n",
    "        x = torch.from_numpy(x).to(device).unsqueeze(0)\n",
    "        l = torch.LongTensor([l]).to(device).unsqueeze(0)\n",
    "\n",
    "        # use decoder to generate the digit image\n",
    "        rec = model.decoder(x, l).detach().cpu().numpy()\n",
    "        rec = rec.reshape((1, 28, 28))[0]\n",
    "        plt.imshow(rec, cmap=\"gray\")\n",
    "\n",
    "plt.tight_layout()\n",
    "plt.show()"
   ]
  },
  {
   "cell_type": "code",
   "execution_count": null,
   "id": "6b4534eb",
   "metadata": {},
   "outputs": [],
   "source": []
  },
  {
   "cell_type": "code",
   "execution_count": null,
   "id": "3bb88156",
   "metadata": {},
   "outputs": [],
   "source": []
  },
  {
   "cell_type": "code",
   "execution_count": 31,
   "id": "2fa408f0",
   "metadata": {},
   "outputs": [
    {
     "data": {
      "image/png": "[encoded data removed]",
      "text/plain": [
       "<Figure size 1000x300 with 5 Axes>"
      ]
     },
     "metadata": {},
     "output_type": "display_data"
    }
   ],
   "source": [
    "plt.figure(figsize=(10, 3))\n",
    "for i in range(5):\n",
    "    plt.subplot(1, 5, i+1)\n",
    "    plt.imshow(xtrain[i], cmap=\"gray\")\n",
    "\n",
    "plt.tight_layout()"
   ]
  },
  {
   "cell_type": "code",
   "execution_count": null,
   "id": "fde843c8",
   "metadata": {},
   "outputs": [],
   "source": []
  }
 ],
 "metadata": {
  "kernelspec": {
   "display_name": "Python 3 (ipykernel)",
   "language": "python",
   "name": "python3"
  },
  "language_info": {
   "codemirror_mode": {
    "name": "ipython",
    "version": 3
   },
   "file_extension": ".py",
   "mimetype": "text/x-python",
   "name": "python",
   "nbconvert_exporter": "python",
   "pygments_lexer": "ipython3",
   "version": "3.7.16"
  }
 },
 "nbformat": 4,
 "nbformat_minor": 5
}
