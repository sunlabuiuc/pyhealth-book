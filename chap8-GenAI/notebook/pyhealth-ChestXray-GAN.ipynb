{
 "cells": [
  {
   "cell_type": "code",
   "execution_count": 1,
   "id": "9a77c2ec",
   "metadata": {},
   "outputs": [],
   "source": [
    "# pip install pyhealth"
   ]
  },
  {
   "cell_type": "code",
   "execution_count": 2,
   "id": "733199b4",
   "metadata": {},
   "outputs": [],
   "source": [
    "import sys\n",
    "sys.path.insert(0, \"/shared/chaoqiy2/github/PyHealth\")"
   ]
  },
  {
   "cell_type": "code",
   "execution_count": 3,
   "id": "b8f057e8",
   "metadata": {},
   "outputs": [
    {
     "name": "stderr",
     "output_type": "stream",
     "text": [
      "/home/chaoqiy2/miniconda3/envs/moltext/lib/python3.7/site-packages/tqdm/auto.py:21: TqdmWarning: IProgress not found. Please update jupyter and ipywidgets. See https://ipywidgets.readthedocs.io/en/stable/user_install.html\n",
      "  from .autonotebook import tqdm as notebook_tqdm\n"
     ]
    }
   ],
   "source": [
    "import torch\n",
    "\n",
    "device = torch.device(\"cuda:0\")"
   ]
  },
  {
   "cell_type": "markdown",
   "id": "53feb87e",
   "metadata": {},
   "source": [
    "### STEP 1: load the chest Xray data"
   ]
  },
  {
   "cell_type": "code",
   "execution_count": 4,
   "id": "13913032",
   "metadata": {},
   "outputs": [
    {
     "name": "stdout",
     "output_type": "stream",
     "text": [
      "Statistics of COVID19CXRDataset:\n",
      "Number of samples: 21165\n",
      "Number of classes: 4\n",
      "Class distribution: Counter({'Normal': 10192, 'Lung Opacity': 6012, 'COVID': 3616, 'Viral Pneumonia': 1345})\n"
     ]
    }
   ],
   "source": [
    "from pyhealth.datasets import COVID19CXRDataset\n",
    "\n",
    "root = \"/shared/chaoqiy2/data/COVID-19_Radiography_Dataset\"\n",
    "base_dataset = COVID19CXRDataset(root, refresh_cache=False)\n",
    "\n",
    "base_dataset.stat()"
   ]
  },
  {
   "cell_type": "markdown",
   "id": "048ff2ee",
   "metadata": {},
   "source": [
    "### STEP 2: set task and processing the data"
   ]
  },
  {
   "cell_type": "code",
   "execution_count": 5,
   "id": "9487b2c6",
   "metadata": {},
   "outputs": [
    {
     "name": "stderr",
     "output_type": "stream",
     "text": [
      "Generating samples for COVID19CXRClassification: 100%|█| 21165/21165 [00:00<00:00, 3057850.03it/\n"
     ]
    }
   ],
   "source": [
    "from torchvision import transforms\n",
    "\n",
    "sample_dataset = base_dataset.set_task()\n",
    "\n",
    "# the transformation automatically normalize the pixel intensity into [0, 1]\n",
    "transform = transforms.Compose([\n",
    "    transforms.Lambda(lambda x: x if x.shape[0] == 3 else x.repeat(3, 1, 1)), # only use the first channel\n",
    "    transforms.Resize((128, 128)),\n",
    "])\n",
    "\n",
    "def encode(sample):\n",
    "    sample[\"path\"] = transform(sample[\"path\"])\n",
    "    return sample\n",
    "\n",
    "sample_dataset.set_transform(encode)"
   ]
  },
  {
   "cell_type": "code",
   "execution_count": 6,
   "id": "1601d7d1",
   "metadata": {},
   "outputs": [],
   "source": [
    "from pyhealth.datasets import split_by_visit, get_dataloader\n",
    "\n",
    "# split dataset\n",
    "train_dataset, val_dataset, test_dataset = split_by_visit(\n",
    "    sample_dataset, [0.8, 0.1, 0.1]\n",
    ")\n",
    "train_dataloader = get_dataloader(train_dataset, batch_size=256, shuffle=True, num_workers=10)\n",
    "val_dataloader = get_dataloader(val_dataset, batch_size=256, shuffle=False, num_workers=10)\n",
    "test_dataloader = get_dataloader(test_dataset, batch_size=256, shuffle=False, num_workers=10)"
   ]
  },
  {
   "cell_type": "code",
   "execution_count": 7,
   "id": "d4d8b012",
   "metadata": {},
   "outputs": [
    {
     "name": "stdout",
     "output_type": "stream",
     "text": [
      "torch.Size([3, 128, 128])\n",
      "loader size: train/val/test 16932 2116 2117\n"
     ]
    }
   ],
   "source": [
    "data = next(iter(train_dataloader))\n",
    "print (data[\"path\"][0].shape)\n",
    "\n",
    "print(\n",
    "    \"loader size: train/val/test\",\n",
    "    len(train_dataset),\n",
    "    len(val_dataset),\n",
    "    len(test_dataset),\n",
    ")"
   ]
  },
  {
   "cell_type": "markdown",
   "id": "a897d167",
   "metadata": {},
   "source": [
    "### STEP3: define the GAN model"
   ]
  },
  {
   "cell_type": "code",
   "execution_count": 18,
   "id": "b93a449c",
   "metadata": {},
   "outputs": [
    {
     "data": {
      "text/plain": [
       "GAN(\n",
       "  (discriminator): Sequential(\n",
       "    (0): ResBlock2D(\n",
       "      (conv1): Conv2d(3, 16, kernel_size=(3, 3), stride=(2, 2), padding=(1, 1))\n",
       "      (bn1): BatchNorm2d(16, eps=1e-05, momentum=0.1, affine=True, track_running_stats=True)\n",
       "      (relu): ELU(alpha=1.0)\n",
       "      (conv2): Conv2d(16, 16, kernel_size=(3, 3), stride=(1, 1), padding=(1, 1))\n",
       "      (bn2): BatchNorm2d(16, eps=1e-05, momentum=0.1, affine=True, track_running_stats=True)\n",
       "      (maxpool): MaxPool2d(kernel_size=2, stride=2, padding=0, dilation=1, ceil_mode=False)\n",
       "      (downsample): Sequential(\n",
       "        (0): Conv2d(3, 16, kernel_size=(3, 3), stride=(2, 2), padding=(1, 1))\n",
       "        (1): BatchNorm2d(16, eps=1e-05, momentum=0.1, affine=True, track_running_stats=True)\n",
       "      )\n",
       "      (dropout): Dropout(p=0.5, inplace=False)\n",
       "    )\n",
       "    (1): ResBlock2D(\n",
       "      (conv1): Conv2d(16, 64, kernel_size=(3, 3), stride=(2, 2), padding=(1, 1))\n",
       "      (bn1): BatchNorm2d(64, eps=1e-05, momentum=0.1, affine=True, track_running_stats=True)\n",
       "      (relu): ELU(alpha=1.0)\n",
       "      (conv2): Conv2d(64, 64, kernel_size=(3, 3), stride=(1, 1), padding=(1, 1))\n",
       "      (bn2): BatchNorm2d(64, eps=1e-05, momentum=0.1, affine=True, track_running_stats=True)\n",
       "      (maxpool): MaxPool2d(kernel_size=2, stride=2, padding=0, dilation=1, ceil_mode=False)\n",
       "      (downsample): Sequential(\n",
       "        (0): Conv2d(16, 64, kernel_size=(3, 3), stride=(2, 2), padding=(1, 1))\n",
       "        (1): BatchNorm2d(64, eps=1e-05, momentum=0.1, affine=True, track_running_stats=True)\n",
       "      )\n",
       "      (dropout): Dropout(p=0.5, inplace=False)\n",
       "    )\n",
       "    (2): ResBlock2D(\n",
       "      (conv1): Conv2d(64, 256, kernel_size=(3, 3), stride=(2, 2), padding=(1, 1))\n",
       "      (bn1): BatchNorm2d(256, eps=1e-05, momentum=0.1, affine=True, track_running_stats=True)\n",
       "      (relu): ELU(alpha=1.0)\n",
       "      (conv2): Conv2d(256, 256, kernel_size=(3, 3), stride=(1, 1), padding=(1, 1))\n",
       "      (bn2): BatchNorm2d(256, eps=1e-05, momentum=0.1, affine=True, track_running_stats=True)\n",
       "      (maxpool): MaxPool2d(kernel_size=2, stride=2, padding=0, dilation=1, ceil_mode=False)\n",
       "      (downsample): Sequential(\n",
       "        (0): Conv2d(64, 256, kernel_size=(3, 3), stride=(2, 2), padding=(1, 1))\n",
       "        (1): BatchNorm2d(256, eps=1e-05, momentum=0.1, affine=True, track_running_stats=True)\n",
       "      )\n",
       "      (dropout): Dropout(p=0.5, inplace=False)\n",
       "    )\n",
       "    (3): Flatten()\n",
       "    (4): Linear(in_features=1024, out_features=256, bias=True)\n",
       "    (5): ReLU()\n",
       "    (6): Linear(in_features=256, out_features=1, bias=True)\n",
       "    (7): Sigmoid()\n",
       "  )\n",
       "  (generator): Sequential(\n",
       "    (0): ConvTranspose2d(256, 256, kernel_size=(5, 5), stride=(2, 2))\n",
       "    (1): ReLU()\n",
       "    (2): ConvTranspose2d(256, 128, kernel_size=(5, 5), stride=(2, 2))\n",
       "    (3): ReLU()\n",
       "    (4): ConvTranspose2d(128, 64, kernel_size=(5, 5), stride=(2, 2))\n",
       "    (5): ReLU()\n",
       "    (6): ConvTranspose2d(64, 32, kernel_size=(6, 6), stride=(2, 2))\n",
       "    (7): ReLU()\n",
       "    (8): ConvTranspose2d(32, 3, kernel_size=(6, 6), stride=(2, 2))\n",
       "    (9): Sigmoid()\n",
       "  )\n",
       ")"
      ]
     },
     "execution_count": 18,
     "metadata": {},
     "output_type": "execute_result"
    }
   ],
   "source": [
    "from pyhealth.models import GAN\n",
    "\n",
    "model = GAN(\n",
    "    input_channel=3,\n",
    "    input_size=128,\n",
    "    hidden_dim = 256,\n",
    ")\n",
    "\n",
    "model.to(device)"
   ]
  },
  {
   "cell_type": "markdown",
   "id": "e6155755",
   "metadata": {},
   "source": [
    "### STEP4: training the GAN model in an adversarial way"
   ]
  },
  {
   "cell_type": "code",
   "execution_count": 19,
   "id": "a06f823a",
   "metadata": {},
   "outputs": [
    {
     "name": "stderr",
     "output_type": "stream",
     "text": [
      "100%|███████████████████████████████████████████████████████████| 67/67 [00:11<00:00,  5.83it/s]\n"
     ]
    },
    {
     "name": "stdout",
     "output_type": "stream",
     "text": [
      "epoch: 0 --- loss of G: 223.14766198396683, loss of D: 14.372084847651422\n"
     ]
    },
    {
     "name": "stderr",
     "output_type": "stream",
     "text": [
      "100%|███████████████████████████████████████████████████████████| 67/67 [00:11<00:00,  6.08it/s]\n"
     ]
    },
    {
     "name": "stdout",
     "output_type": "stream",
     "text": [
      "epoch: 1 --- loss of G: 466.95815896987915, loss of D: 0.5429049517260864\n"
     ]
    },
    {
     "name": "stderr",
     "output_type": "stream",
     "text": [
      "100%|███████████████████████████████████████████████████████████| 67/67 [00:11<00:00,  6.01it/s]\n"
     ]
    },
    {
     "name": "stdout",
     "output_type": "stream",
     "text": [
      "epoch: 2 --- loss of G: 541.9039497375488, loss of D: 0.154949375835713\n"
     ]
    },
    {
     "name": "stderr",
     "output_type": "stream",
     "text": [
      "100%|███████████████████████████████████████████████████████████| 67/67 [00:11<00:00,  6.04it/s]\n"
     ]
    },
    {
     "name": "stdout",
     "output_type": "stream",
     "text": [
      "epoch: 3 --- loss of G: 585.4883279800415, loss of D: 0.08368747876374982\n"
     ]
    },
    {
     "name": "stderr",
     "output_type": "stream",
     "text": [
      "100%|███████████████████████████████████████████████████████████| 67/67 [00:11<00:00,  6.01it/s]\n"
     ]
    },
    {
     "name": "stdout",
     "output_type": "stream",
     "text": [
      "epoch: 4 --- loss of G: 602.0627527236938, loss of D: 0.05825718602864072\n"
     ]
    },
    {
     "name": "stderr",
     "output_type": "stream",
     "text": [
      "100%|███████████████████████████████████████████████████████████| 67/67 [00:10<00:00,  6.15it/s]\n"
     ]
    },
    {
     "name": "stdout",
     "output_type": "stream",
     "text": [
      "epoch: 5 --- loss of G: 591.4524450302124, loss of D: 0.13042546913493425\n"
     ]
    },
    {
     "name": "stderr",
     "output_type": "stream",
     "text": [
      "100%|███████████████████████████████████████████████████████████| 67/67 [00:11<00:00,  5.91it/s]\n"
     ]
    },
    {
     "name": "stdout",
     "output_type": "stream",
     "text": [
      "epoch: 6 --- loss of G: 632.745792388916, loss of D: 0.20137088373303413\n"
     ]
    },
    {
     "name": "stderr",
     "output_type": "stream",
     "text": [
      "100%|███████████████████████████████████████████████████████████| 67/67 [00:10<00:00,  6.10it/s]\n"
     ]
    },
    {
     "name": "stdout",
     "output_type": "stream",
     "text": [
      "epoch: 7 --- loss of G: 661.4006824493408, loss of D: 0.10395967395743355\n"
     ]
    },
    {
     "name": "stderr",
     "output_type": "stream",
     "text": [
      "100%|███████████████████████████████████████████████████████████| 67/67 [00:10<00:00,  6.23it/s]\n"
     ]
    },
    {
     "name": "stdout",
     "output_type": "stream",
     "text": [
      "epoch: 8 --- loss of G: 677.7967081069946, loss of D: 0.5532456065993756\n"
     ]
    },
    {
     "name": "stderr",
     "output_type": "stream",
     "text": [
      "100%|███████████████████████████████████████████████████████████| 67/67 [00:11<00:00,  6.07it/s]\n"
     ]
    },
    {
     "name": "stdout",
     "output_type": "stream",
     "text": [
      "epoch: 9 --- loss of G: 433.70705580711365, loss of D: 22.162632698193192\n"
     ]
    },
    {
     "name": "stderr",
     "output_type": "stream",
     "text": [
      "100%|███████████████████████████████████████████████████████████| 67/67 [00:11<00:00,  6.08it/s]\n"
     ]
    },
    {
     "name": "stdout",
     "output_type": "stream",
     "text": [
      "epoch: 10 --- loss of G: 229.85241758823395, loss of D: 26.228228241205215\n"
     ]
    },
    {
     "name": "stderr",
     "output_type": "stream",
     "text": [
      "100%|███████████████████████████████████████████████████████████| 67/67 [00:11<00:00,  6.05it/s]\n"
     ]
    },
    {
     "name": "stdout",
     "output_type": "stream",
     "text": [
      "epoch: 11 --- loss of G: 174.89740097522736, loss of D: 35.14613048732281\n"
     ]
    },
    {
     "name": "stderr",
     "output_type": "stream",
     "text": [
      "100%|███████████████████████████████████████████████████████████| 67/67 [00:11<00:00,  5.98it/s]\n"
     ]
    },
    {
     "name": "stdout",
     "output_type": "stream",
     "text": [
      "epoch: 12 --- loss of G: 64.26566570997238, loss of D: 49.84083557128906\n"
     ]
    },
    {
     "name": "stderr",
     "output_type": "stream",
     "text": [
      "100%|███████████████████████████████████████████████████████████| 67/67 [00:10<00:00,  6.12it/s]\n"
     ]
    },
    {
     "name": "stdout",
     "output_type": "stream",
     "text": [
      "epoch: 13 --- loss of G: 55.36016184091568, loss of D: 46.46439307928085\n"
     ]
    },
    {
     "name": "stderr",
     "output_type": "stream",
     "text": [
      "100%|███████████████████████████████████████████████████████████| 67/67 [00:10<00:00,  6.19it/s]\n"
     ]
    },
    {
     "name": "stdout",
     "output_type": "stream",
     "text": [
      "epoch: 14 --- loss of G: 69.27246510982513, loss of D: 38.82108682394028\n"
     ]
    },
    {
     "name": "stderr",
     "output_type": "stream",
     "text": [
      "100%|███████████████████████████████████████████████████████████| 67/67 [00:10<00:00,  6.26it/s]\n"
     ]
    },
    {
     "name": "stdout",
     "output_type": "stream",
     "text": [
      "epoch: 15 --- loss of G: 64.44753348827362, loss of D: 47.80539244413376\n"
     ]
    },
    {
     "name": "stderr",
     "output_type": "stream",
     "text": [
      "100%|███████████████████████████████████████████████████████████| 67/67 [00:10<00:00,  6.10it/s]\n"
     ]
    },
    {
     "name": "stdout",
     "output_type": "stream",
     "text": [
      "epoch: 16 --- loss of G: 61.45279908180237, loss of D: 44.05769336223602\n"
     ]
    },
    {
     "name": "stderr",
     "output_type": "stream",
     "text": [
      "100%|███████████████████████████████████████████████████████████| 67/67 [00:10<00:00,  6.12it/s]\n"
     ]
    },
    {
     "name": "stdout",
     "output_type": "stream",
     "text": [
      "epoch: 17 --- loss of G: 75.36881673336029, loss of D: 40.88142177462578\n"
     ]
    },
    {
     "name": "stderr",
     "output_type": "stream",
     "text": [
      "100%|███████████████████████████████████████████████████████████| 67/67 [00:11<00:00,  5.97it/s]\n"
     ]
    },
    {
     "name": "stdout",
     "output_type": "stream",
     "text": [
      "epoch: 18 --- loss of G: 103.49066084623337, loss of D: 37.94770136475563\n"
     ]
    },
    {
     "name": "stderr",
     "output_type": "stream",
     "text": [
      "100%|███████████████████████████████████████████████████████████| 67/67 [00:10<00:00,  6.11it/s]\n"
     ]
    },
    {
     "name": "stdout",
     "output_type": "stream",
     "text": [
      "epoch: 19 --- loss of G: 91.51107203960419, loss of D: 40.233694821596146\n"
     ]
    },
    {
     "name": "stderr",
     "output_type": "stream",
     "text": [
      "100%|███████████████████████████████████████████████████████████| 67/67 [00:10<00:00,  6.16it/s]\n"
     ]
    },
    {
     "name": "stdout",
     "output_type": "stream",
     "text": [
      "epoch: 20 --- loss of G: 68.30243217945099, loss of D: 46.852890968322754\n"
     ]
    },
    {
     "name": "stderr",
     "output_type": "stream",
     "text": [
      "100%|███████████████████████████████████████████████████████████| 67/67 [00:10<00:00,  6.22it/s]\n"
     ]
    },
    {
     "name": "stdout",
     "output_type": "stream",
     "text": [
      "epoch: 21 --- loss of G: 67.08098781108856, loss of D: 40.69077146053314\n"
     ]
    },
    {
     "name": "stderr",
     "output_type": "stream",
     "text": [
      "100%|███████████████████████████████████████████████████████████| 67/67 [00:10<00:00,  6.13it/s]\n"
     ]
    },
    {
     "name": "stdout",
     "output_type": "stream",
     "text": [
      "epoch: 22 --- loss of G: 71.02358865737915, loss of D: 39.53429859876633\n"
     ]
    },
    {
     "name": "stderr",
     "output_type": "stream",
     "text": [
      "100%|███████████████████████████████████████████████████████████| 67/67 [00:11<00:00,  6.05it/s]\n"
     ]
    },
    {
     "name": "stdout",
     "output_type": "stream",
     "text": [
      "epoch: 23 --- loss of G: 75.0613711476326, loss of D: 44.871963798999786\n"
     ]
    },
    {
     "name": "stderr",
     "output_type": "stream",
     "text": [
      "100%|███████████████████████████████████████████████████████████| 67/67 [00:10<00:00,  6.19it/s]\n"
     ]
    },
    {
     "name": "stdout",
     "output_type": "stream",
     "text": [
      "epoch: 24 --- loss of G: 86.96417981386185, loss of D: 39.01591020822525\n"
     ]
    },
    {
     "name": "stderr",
     "output_type": "stream",
     "text": [
      "100%|███████████████████████████████████████████████████████████| 67/67 [00:11<00:00,  6.03it/s]\n"
     ]
    },
    {
     "name": "stdout",
     "output_type": "stream",
     "text": [
      "epoch: 25 --- loss of G: 71.5315232872963, loss of D: 42.92875400185585\n"
     ]
    },
    {
     "name": "stderr",
     "output_type": "stream",
     "text": [
      "100%|███████████████████████████████████████████████████████████| 67/67 [00:11<00:00,  6.05it/s]\n"
     ]
    },
    {
     "name": "stdout",
     "output_type": "stream",
     "text": [
      "epoch: 26 --- loss of G: 83.02981567382812, loss of D: 35.7115815281868\n"
     ]
    },
    {
     "name": "stderr",
     "output_type": "stream",
     "text": [
      "100%|███████████████████████████████████████████████████████████| 67/67 [00:10<00:00,  6.17it/s]\n"
     ]
    },
    {
     "name": "stdout",
     "output_type": "stream",
     "text": [
      "epoch: 27 --- loss of G: 79.00199449062347, loss of D: 44.660759538412094\n"
     ]
    },
    {
     "name": "stderr",
     "output_type": "stream",
     "text": [
      "100%|███████████████████████████████████████████████████████████| 67/67 [00:10<00:00,  6.24it/s]\n"
     ]
    },
    {
     "name": "stdout",
     "output_type": "stream",
     "text": [
      "epoch: 28 --- loss of G: 76.95186269283295, loss of D: 39.98225525021553\n"
     ]
    },
    {
     "name": "stderr",
     "output_type": "stream",
     "text": [
      "100%|███████████████████████████████████████████████████████████| 67/67 [00:11<00:00,  6.02it/s]"
     ]
    },
    {
     "name": "stdout",
     "output_type": "stream",
     "text": [
      "epoch: 29 --- loss of G: 68.42279094457626, loss of D: 42.02642643451691\n"
     ]
    },
    {
     "name": "stderr",
     "output_type": "stream",
     "text": [
      "\n"
     ]
    }
   ],
   "source": [
    "import torch\n",
    "from tqdm import tqdm\n",
    "\n",
    "# Loss function\n",
    "loss = torch.nn.BCELoss()\n",
    "opt_G = torch.optim.AdamW(model.generator.parameters(), lr=1e-3)\n",
    "opt_D = torch.optim.AdamW(model.discriminator.parameters(), lr=1e-4)\n",
    "\n",
    "curve_D, curve_G = [], []\n",
    "\n",
    "for epoch in range(30):\n",
    "    curve_G.append(0)\n",
    "    curve_D.append(0)\n",
    "    for batch in tqdm(train_dataloader):\n",
    "        \n",
    "        \"\"\" train discriminator \"\"\"\n",
    "        opt_D.zero_grad()\n",
    "\n",
    "        real_imgs = torch.stack(batch[\"path\"], dim=0).to(device)\n",
    "        batch_size = real_imgs.shape[0]\n",
    "        fake_imgs = model.generate_fake(batch_size, device)\n",
    "        \n",
    "        real_loss = loss(model.discriminator(real_imgs), torch.ones(batch_size, 1).to(device))\n",
    "        fake_loss = loss(model.discriminator(fake_imgs.detach()), torch.zeros(batch_size, 1).to(device))\n",
    "        loss_D = (real_loss + fake_loss) / 2\n",
    "\n",
    "        loss_D.backward()\n",
    "        opt_D.step()\n",
    "        \n",
    "        \"\"\" train generator \"\"\"\n",
    "        opt_G.zero_grad()\n",
    "        loss_G = loss(model.discriminator(fake_imgs), torch.ones(batch_size, 1).to(device))\n",
    "\n",
    "        loss_G.backward()\n",
    "        opt_G.step()\n",
    "        \n",
    "        curve_G[-1] += loss_G.item()\n",
    "        curve_D[-1] += loss_D.item()\n",
    "\n",
    "    print (f\"epoch: {epoch} --- loss of G: {curve_G[-1]}, loss of D: {curve_D[-1]}\")"
   ]
  },
  {
   "cell_type": "markdown",
   "id": "dd1b7851",
   "metadata": {},
   "source": [
    "### EXP 2: synthesize random images"
   ]
  },
  {
   "cell_type": "code",
   "execution_count": 23,
   "id": "e544672a",
   "metadata": {},
   "outputs": [
    {
     "data": {
      "image/png": "[encoded data removed]",
      "text/plain": [
       "<Figure size 640x480 with 1 Axes>"
      ]
     },
     "metadata": {},
     "output_type": "display_data"
    }
   ],
   "source": [
    "import torch\n",
    "import numpy as np\n",
    "import matplotlib.pyplot as plt\n",
    "\n",
    "model.eval()\n",
    "with torch.no_grad():\n",
    "    fake_imgs = model.generate_fake(1, device).detach().cpu()\n",
    "    plt.imshow(fake_imgs[0][0], cmap=\"gray\")\n",
    "    plt.show()"
   ]
  },
  {
   "cell_type": "code",
   "execution_count": null,
   "id": "6721f6e5",
   "metadata": {},
   "outputs": [],
   "source": []
  },
  {
   "cell_type": "code",
   "execution_count": null,
   "id": "9b5581ae",
   "metadata": {},
   "outputs": [],
   "source": []
  },
  {
   "cell_type": "code",
   "execution_count": null,
   "id": "b467c82b",
   "metadata": {},
   "outputs": [],
   "source": []
  }
 ],
 "metadata": {
  "kernelspec": {
   "display_name": "Python 3 (ipykernel)",
   "language": "python",
   "name": "python3"
  },
  "language_info": {
   "codemirror_mode": {
    "name": "ipython",
    "version": 3
   },
   "file_extension": ".py",
   "mimetype": "text/x-python",
   "name": "python",
   "nbconvert_exporter": "python",
   "pygments_lexer": "ipython3",
   "version": "3.7.16"
  }
 },
 "nbformat": 4,
 "nbformat_minor": 5
}
