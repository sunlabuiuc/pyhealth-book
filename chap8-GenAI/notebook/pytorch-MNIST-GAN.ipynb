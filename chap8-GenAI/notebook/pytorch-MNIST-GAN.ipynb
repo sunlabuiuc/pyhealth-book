{
 "cells": [
  {
   "cell_type": "code",
   "execution_count": 1,
   "id": "082a7577",
   "metadata": {},
   "outputs": [
    {
     "name": "stderr",
     "output_type": "stream",
     "text": [
      "/home/chaoqiy2/miniconda3/envs/moltext/lib/python3.7/site-packages/tqdm/auto.py:21: TqdmWarning: IProgress not found. Please update jupyter and ipywidgets. See https://ipywidgets.readthedocs.io/en/stable/user_install.html\n",
      "  from .autonotebook import tqdm as notebook_tqdm\n"
     ]
    }
   ],
   "source": [
    "import torch\n",
    "import torch.nn as nn\n",
    "import torch.nn.functional as F\n",
    "import torchvision\n",
    "import cv2\n",
    "import numpy as np\n",
    "from tqdm import tqdm\n",
    "\n",
    "device = torch.device('cuda:0')"
   ]
  },
  {
   "cell_type": "markdown",
   "id": "84951b5a",
   "metadata": {},
   "source": [
    "## 1. Load MNIST Dataset"
   ]
  },
  {
   "cell_type": "code",
   "execution_count": 2,
   "id": "0dce3988",
   "metadata": {},
   "outputs": [
    {
     "name": "stdout",
     "output_type": "stream",
     "text": [
      "(60000, 28, 28) (60000,)\n",
      "(10000, 28, 28) (10000,)\n"
     ]
    },
    {
     "name": "stderr",
     "output_type": "stream",
     "text": [
      "/home/chaoqiy2/miniconda3/envs/moltext/lib/python3.7/site-packages/torchvision/datasets/mnist.py:498: UserWarning: The given NumPy array is not writeable, and PyTorch does not support non-writeable tensors. This means you can write to the underlying (supposedly non-writeable) NumPy array using the tensor. You may want to copy the array to protect its data or make it writeable before converting it to a tensor. This type of warning will be suppressed for the rest of this program. (Triggered internally at  /opt/conda/conda-bld/pytorch_1631630836880/work/torch/csrc/utils/tensor_numpy.cpp:180.)\n",
      "  return torch.from_numpy(parsed.astype(m[2], copy=False)).view(*s)\n"
     ]
    }
   ],
   "source": [
    "# for training set, we load the data and label\n",
    "trainset = torchvision.datasets.MNIST(root='./data', train = True, download = True)\n",
    "xtrain = trainset.data.numpy()\n",
    "ytrain = trainset.targets.numpy()\n",
    "\n",
    "# for test set, we load the data and label\n",
    "testset = torchvision.datasets.MNIST(root='./data', train = False, download = True)\n",
    "xtest = testset.data.numpy()\n",
    "ytest = testset.targets.numpy()\n",
    "\n",
    "print (xtrain.shape, ytrain.shape)\n",
    "print (xtest.shape, ytest.shape)"
   ]
  },
  {
   "cell_type": "markdown",
   "id": "749db835",
   "metadata": {},
   "source": [
    "### get data loader"
   ]
  },
  {
   "cell_type": "code",
   "execution_count": 3,
   "id": "8e1ea4e7",
   "metadata": {},
   "outputs": [],
   "source": [
    "# transform pixel value (0, 255) into {0,1}\n",
    "xtrain = np.where(xtrain > 128, 1, 0)\n",
    "xtrain = xtrain.astype(np.float32)\n",
    "\n",
    "# transform pixel value (0, 255) into {0,1}\n",
    "xtest = np.where(xtest > 128, 1, 0)\n",
    "xtest = xtest.astype(np.float32)\n",
    "\n",
    "batch_size = 256\n",
    "trainloader = torch.utils.data.DataLoader([[xtrain[i], ytrain[i]] for i in range(len(ytrain))], \\\n",
    "                                          shuffle=True, batch_size=batch_size)\n",
    "testloader = torch.utils.data.DataLoader([[xtest[i], ytest[i]] for i in range(len(ytest))], \\\n",
    "                                         shuffle=False, batch_size=batch_size)\n"
   ]
  },
  {
   "cell_type": "markdown",
   "id": "ae795623",
   "metadata": {},
   "source": [
    "## 2. Define the GAN Model (unconditioned)"
   ]
  },
  {
   "cell_type": "code",
   "execution_count": 4,
   "id": "80491606",
   "metadata": {},
   "outputs": [
    {
     "data": {
      "text/plain": [
       "GAN(\n",
       "  (discriminator): Sequential(\n",
       "    (0): Linear(in_features=784, out_features=256, bias=True)\n",
       "    (1): LeakyReLU(negative_slope=0.01)\n",
       "    (2): Linear(in_features=256, out_features=128, bias=True)\n",
       "    (3): LeakyReLU(negative_slope=0.01)\n",
       "    (4): Linear(in_features=128, out_features=1, bias=True)\n",
       "    (5): Sigmoid()\n",
       "  )\n",
       "  (generator): Sequential(\n",
       "    (0): Linear(in_features=8, out_features=128, bias=True)\n",
       "    (1): LeakyReLU(negative_slope=0.01)\n",
       "    (2): Linear(in_features=128, out_features=256, bias=True)\n",
       "    (3): LeakyReLU(negative_slope=0.01)\n",
       "    (4): Linear(in_features=256, out_features=784, bias=True)\n",
       "  )\n",
       ")"
      ]
     },
     "execution_count": 4,
     "metadata": {},
     "output_type": "execute_result"
    }
   ],
   "source": [
    "class GAN(nn.Module):\n",
    "    def __init__(self):\n",
    "        super(GAN, self).__init__()\n",
    "    \n",
    "        self.discriminator = nn.Sequential(\n",
    "            nn.Linear(28*28, 256),\n",
    "            nn.LeakyReLU(negative_slope=0.01),\n",
    "            nn.Linear(256, 128),\n",
    "            nn.LeakyReLU(negative_slope=0.01),\n",
    "            nn.Linear(128, 1),\n",
    "            nn.Sigmoid()\n",
    "        )\n",
    "\n",
    "        self.generator = nn.Sequential(\n",
    "            nn.Linear(8, 128),\n",
    "            nn.LeakyReLU(negative_slope=0.01),\n",
    "            nn.Linear(128, 256),\n",
    "            nn.LeakyReLU(negative_slope=0.01),\n",
    "            nn.Linear(256, 28*28),\n",
    "        )\n",
    "        \n",
    "    def discriminate(self, x):\n",
    "        y = self.discriminator(x)\n",
    "        return y\n",
    "\n",
    "    def generate_fake(self, n_samples, device):\n",
    "        eps = torch.randn(n_samples, 8).to(device)\n",
    "        fake_images = torch.sigmoid(self.generator(eps))\n",
    "        return fake_images\n",
    "    \n",
    "model = GAN()\n",
    "model.to(device) # move model to GPU"
   ]
  },
  {
   "cell_type": "markdown",
   "id": "3b4b479a",
   "metadata": {},
   "source": [
    "## 3. Model Training and Evaluation"
   ]
  },
  {
   "cell_type": "code",
   "execution_count": 5,
   "id": "af0aa027",
   "metadata": {},
   "outputs": [
    {
     "name": "stdout",
     "output_type": "stream",
     "text": [
      "epoch: 0 --- loss of G: 695.0261586904526, loss of D: 50.8654022179544\n",
      "epoch: 1 --- loss of G: 1274.2839531898499, loss of D: 7.094595664180815\n",
      "epoch: 2 --- loss of G: 1529.9676642417908, loss of D: 4.5349901067093015\n",
      "epoch: 3 --- loss of G: 1545.0338296890259, loss of D: 1.0954959698137827\n",
      "epoch: 4 --- loss of G: 1692.133092880249, loss of D: 0.6184551562764682\n",
      "epoch: 5 --- loss of G: 1743.416913986206, loss of D: 0.42476586886914447\n",
      "epoch: 6 --- loss of G: 1695.3692665100098, loss of D: 0.5213441015803255\n",
      "epoch: 7 --- loss of G: 1627.5502800941467, loss of D: 0.8701088452944532\n",
      "epoch: 8 --- loss of G: 1657.6987328529358, loss of D: 0.8422141588525847\n",
      "epoch: 9 --- loss of G: 1789.485619544983, loss of D: 0.5825252528447891\n",
      "epoch: 10 --- loss of G: 1810.9714035987854, loss of D: 0.4312530436873203\n",
      "epoch: 11 --- loss of G: 1749.4982838630676, loss of D: 0.391650324119837\n",
      "epoch: 12 --- loss of G: 1584.6510038375854, loss of D: 1.518520547717344\n",
      "epoch: 13 --- loss of G: 1656.820168018341, loss of D: 1.3591436464921571\n",
      "epoch: 14 --- loss of G: 1688.5969309806824, loss of D: 0.775345545494929\n",
      "epoch: 15 --- loss of G: 1529.3418712615967, loss of D: 1.6780709930462763\n",
      "epoch: 16 --- loss of G: 1603.3464498519897, loss of D: 1.1283588078222238\n",
      "epoch: 17 --- loss of G: 1725.8995957374573, loss of D: 0.7933109770528972\n",
      "epoch: 18 --- loss of G: 1888.288634777069, loss of D: 0.8735020731983241\n",
      "epoch: 19 --- loss of G: 2025.5628209114075, loss of D: 0.8143617798450578\n",
      "epoch: 20 --- loss of G: 2302.210383415222, loss of D: 0.8852134109401959\n",
      "epoch: 21 --- loss of G: 2374.6018567085266, loss of D: 0.9865746799478075\n",
      "epoch: 22 --- loss of G: 2161.973858356476, loss of D: 0.8103632207639748\n",
      "epoch: 23 --- loss of G: 1949.0833959579468, loss of D: 0.9600134635111317\n",
      "epoch: 24 --- loss of G: 2038.557644367218, loss of D: 1.0048319010529667\n",
      "epoch: 25 --- loss of G: 1947.9932522773743, loss of D: 0.8170893375354353\n",
      "epoch: 26 --- loss of G: 1977.9396605491638, loss of D: 0.692037665117823\n",
      "epoch: 27 --- loss of G: 2170.4903526306152, loss of D: 0.6042951613781042\n",
      "epoch: 28 --- loss of G: 2374.2190642356873, loss of D: 0.4719853672067984\n",
      "epoch: 29 --- loss of G: 2512.6309871673584, loss of D: 0.44208943254943733\n",
      "epoch: 30 --- loss of G: 2361.2810587882996, loss of D: 0.5314267711801222\n",
      "epoch: 31 --- loss of G: 2468.888846874237, loss of D: 0.435187256586687\n",
      "epoch: 32 --- loss of G: 2483.759443759918, loss of D: 0.8248319301128504\n",
      "epoch: 33 --- loss of G: 2537.5093088150024, loss of D: 0.3995871182460178\n",
      "epoch: 34 --- loss of G: 2779.521695137024, loss of D: 0.217048923495895\n",
      "epoch: 35 --- loss of G: 2997.7844743728638, loss of D: 0.34474554622676123\n",
      "epoch: 36 --- loss of G: 3478.3358821868896, loss of D: 0.5836432130489726\n",
      "epoch: 37 --- loss of G: 2881.86229801178, loss of D: 0.3797126060367191\n",
      "epoch: 38 --- loss of G: 2823.009572982788, loss of D: 0.1552389531497056\n",
      "epoch: 39 --- loss of G: 2974.1685762405396, loss of D: 0.2735487626259214\n",
      "epoch: 40 --- loss of G: 3377.598508834839, loss of D: 0.2174332804457606\n",
      "epoch: 41 --- loss of G: 3509.4480295181274, loss of D: 0.11547676432018505\n",
      "epoch: 42 --- loss of G: 3676.364782333374, loss of D: 0.08563675620629324\n",
      "epoch: 43 --- loss of G: 3833.6711587905884, loss of D: 0.06918353135112282\n",
      "epoch: 44 --- loss of G: 3933.1134843826294, loss of D: 0.1399909158155025\n",
      "epoch: 45 --- loss of G: 3208.7262020111084, loss of D: 0.13351073508618327\n",
      "epoch: 46 --- loss of G: 3015.7455492019653, loss of D: 0.068721966770795\n",
      "epoch: 47 --- loss of G: 3385.5554876327515, loss of D: 0.06111494113210725\n",
      "epoch: 48 --- loss of G: 2745.2735557556152, loss of D: 0.025922079491905947\n",
      "epoch: 49 --- loss of G: 3330.8019671440125, loss of D: 0.010588320679755903\n"
     ]
    }
   ],
   "source": [
    "# the loss function\n",
    "loss = torch.nn.BCELoss()\n",
    "\n",
    "# optimizers\n",
    "opt_G = torch.optim.AdamW(model.generator.parameters(), lr=2e-4)\n",
    "opt_D = torch.optim.AdamW(model.discriminator.parameters(), lr=2e-4)\n",
    "\n",
    "# store the loss curve of D and G\n",
    "curve_D, curve_G = [], []\n",
    "for epoch in range(50):\n",
    "    \n",
    "    # store the loss over one epoch\n",
    "    curve_G.append(0)\n",
    "    curve_D.append(0)\n",
    "    \n",
    "    for data, label in trainloader:\n",
    "        \"\"\" train discriminator \"\"\"\n",
    "        opt_D.zero_grad()\n",
    "\n",
    "        batch_size = data.shape[0]\n",
    "        # get real and fake images\n",
    "        real_imgs = data.view(batch_size, -1).to(device)\n",
    "        fake_imgs = model.generate_fake(batch_size, device).detach()\n",
    "        # set their labels (real gets ones, and fake gets zeros)\n",
    "        ones = torch.ones(batch_size, 1).to(device)\n",
    "        zeros = torch.zeros(batch_size, 1).to(device)\n",
    "        \n",
    "        real_loss = loss(model.discriminator(real_imgs), ones)\n",
    "        fake_loss = loss(model.discriminator(fake_imgs), zeros)\n",
    "        loss_D = (real_loss + fake_loss) / 2\n",
    "\n",
    "        loss_D.backward()\n",
    "        opt_D.step()\n",
    "        \n",
    "        \"\"\" train generator \"\"\"\n",
    "        opt_G.zero_grad()\n",
    "        # get fake images and label it as ones\n",
    "        fake_imgs = model.generate_fake(batch_size, device)\n",
    "        loss_G = loss(model.discriminator(fake_imgs), ones)\n",
    "\n",
    "        loss_G.backward()\n",
    "        opt_G.step()\n",
    "\n",
    "        curve_G[-1] += loss_G.item()\n",
    "        curve_D[-1] += loss_D.item()\n",
    "\n",
    "    print (f\"epoch: {epoch} --- loss of G: {curve_G[-1]}, loss of D: {curve_D[-1]}\")\n",
    "    "
   ]
  },
  {
   "cell_type": "markdown",
   "id": "f7c60293",
   "metadata": {},
   "source": [
    "## 4. Draw Loss Curve"
   ]
  },
  {
   "cell_type": "code",
   "execution_count": 6,
   "id": "ffef8894",
   "metadata": {},
   "outputs": [
    {
     "data": {
      "text/plain": [
       "Text(0.5, 1.0, 'Discriminator loss')"
      ]
     },
     "execution_count": 6,
     "metadata": {},
     "output_type": "execute_result"
    },
    {
     "data": {
      "image/png": "[encoded data removed]",
      "text/plain": [
       "<Figure size 1000x400 with 2 Axes>"
      ]
     },
     "metadata": {},
     "output_type": "display_data"
    }
   ],
   "source": [
    "import matplotlib.pyplot as plt\n",
    "\n",
    "plt.figure(figsize=(10, 4))\n",
    "plt.subplot(121)\n",
    "plt.plot(curve_G)\n",
    "plt.title(\"Generator loss\")\n",
    "\n",
    "plt.subplot(122)\n",
    "plt.plot(curve_D)\n",
    "plt.title(\"Discriminator loss\")"
   ]
  },
  {
   "cell_type": "markdown",
   "id": "6fab0c5b",
   "metadata": {},
   "source": [
    "## 5. Generate new data (cannot control with digit)"
   ]
  },
  {
   "cell_type": "code",
   "execution_count": 7,
   "id": "5f5a7ae4",
   "metadata": {},
   "outputs": [
    {
     "data": {
      "image/png": "[encoded data removed]",
      "text/plain": [
       "<Figure size 1000x300 with 10 Axes>"
      ]
     },
     "metadata": {},
     "output_type": "display_data"
    }
   ],
   "source": [
    "plt.figure(figsize=(10, 3))\n",
    "\n",
    "model.eval()\n",
    "with torch.no_grad():\n",
    "    for l in range(10):\n",
    "        plt.subplot(2, 5, l+1)\n",
    "        \n",
    "        # use decoder to generate the digit image\n",
    "        rec = model.generate_fake(1, device).detach().cpu().numpy()\n",
    "        rec = rec.reshape((1, 28, 28))[0]\n",
    "        plt.imshow(rec, cmap=\"gray\")\n",
    "\n",
    "plt.tight_layout()\n",
    "plt.show()"
   ]
  },
  {
   "cell_type": "markdown",
   "id": "7b53718b",
   "metadata": {},
   "source": [
    "## 6. Try to generate digits with given labels"
   ]
  },
  {
   "cell_type": "code",
   "execution_count": 8,
   "id": "9b5aa2f9",
   "metadata": {},
   "outputs": [
    {
     "data": {
      "text/plain": [
       "ConditionalGAN(\n",
       "  (digit): Embedding(10, 8)\n",
       "  (discriminator): Sequential(\n",
       "    (0): Linear(in_features=784, out_features=256, bias=True)\n",
       "    (1): LeakyReLU(negative_slope=0.01)\n",
       "    (2): Linear(in_features=256, out_features=128, bias=True)\n",
       "    (3): LeakyReLU(negative_slope=0.01)\n",
       "    (4): Linear(in_features=128, out_features=11, bias=True)\n",
       "  )\n",
       "  (generator): Sequential(\n",
       "    (0): Linear(in_features=8, out_features=128, bias=True)\n",
       "    (1): LeakyReLU(negative_slope=0.01)\n",
       "    (2): Linear(in_features=128, out_features=256, bias=True)\n",
       "    (3): LeakyReLU(negative_slope=0.01)\n",
       "    (4): Linear(in_features=256, out_features=784, bias=True)\n",
       "  )\n",
       ")"
      ]
     },
     "execution_count": 8,
     "metadata": {},
     "output_type": "execute_result"
    }
   ],
   "source": [
    "class ConditionalGAN(nn.Module):\n",
    "    def __init__(self):\n",
    "        super(ConditionalGAN, self).__init__()\n",
    "    \n",
    "        self.digit = nn.Embedding(10, 8)\n",
    "        \n",
    "        self.discriminator = nn.Sequential(\n",
    "            nn.Linear(28*28, 256),\n",
    "            nn.LeakyReLU(negative_slope=0.01),\n",
    "            nn.Linear(256, 128),\n",
    "            nn.LeakyReLU(negative_slope=0.01),\n",
    "            nn.Linear(128, 11),\n",
    "        )\n",
    "\n",
    "        self.generator = nn.Sequential(\n",
    "            nn.Linear(8, 128),\n",
    "            nn.LeakyReLU(negative_slope=0.01),\n",
    "            nn.Linear(128, 256),\n",
    "            nn.LeakyReLU(negative_slope=0.01),\n",
    "            nn.Linear(256, 28*28),\n",
    "        )\n",
    "        \n",
    "    def discriminate(self, x):\n",
    "        y = self.discriminator(x)\n",
    "        return y\n",
    "\n",
    "    def generate_fake(self, labels, device):\n",
    "        eps = torch.randn(len(labels), 8).to(device)\n",
    "        digit_emb = self.digit(labels.to(device))\n",
    "        fake_images = torch.sigmoid(self.generator(eps + digit_emb))\n",
    "        return fake_images\n",
    "    \n",
    "model2 = ConditionalGAN()\n",
    "model2.to(device) # move model2 to GPU"
   ]
  },
  {
   "cell_type": "code",
   "execution_count": 9,
   "id": "53caf1bc",
   "metadata": {},
   "outputs": [
    {
     "name": "stdout",
     "output_type": "stream",
     "text": [
      "epoch: 0 --- loss of G: 788.7719261646271, loss of D: 249.15589278936386\n",
      "epoch: 1 --- loss of G: 1838.6043951511383, loss of D: 80.44264388084412\n",
      "epoch: 2 --- loss of G: 2102.773599624634, loss of D: 50.53576349467039\n",
      "epoch: 3 --- loss of G: 2326.7687826156616, loss of D: 41.09778410196304\n",
      "epoch: 4 --- loss of G: 1991.3291754722595, loss of D: 39.16494046896696\n",
      "epoch: 5 --- loss of G: 1733.1494302749634, loss of D: 40.30480021983385\n",
      "epoch: 6 --- loss of G: 1569.832537651062, loss of D: 38.646454468369484\n",
      "epoch: 7 --- loss of G: 1441.6888794898987, loss of D: 40.00721836090088\n",
      "epoch: 8 --- loss of G: 1528.6731719970703, loss of D: 33.40029916167259\n",
      "epoch: 9 --- loss of G: 1545.140658378601, loss of D: 31.359670847654343\n",
      "epoch: 10 --- loss of G: 1746.6944994926453, loss of D: 30.3902755305171\n",
      "epoch: 11 --- loss of G: 1790.6071848869324, loss of D: 28.08367743343115\n",
      "epoch: 12 --- loss of G: 1714.8177065849304, loss of D: 29.220395367592573\n",
      "epoch: 13 --- loss of G: 1755.838909626007, loss of D: 26.808752823621035\n",
      "epoch: 14 --- loss of G: 1667.664472103119, loss of D: 24.032070007175207\n",
      "epoch: 15 --- loss of G: 1678.1599130630493, loss of D: 23.34604425355792\n",
      "epoch: 16 --- loss of G: 1694.909604549408, loss of D: 22.226363565772772\n",
      "epoch: 17 --- loss of G: 1757.8988823890686, loss of D: 21.255750816315413\n",
      "epoch: 18 --- loss of G: 1835.9879364967346, loss of D: 19.8483319953084\n",
      "epoch: 19 --- loss of G: 1720.172782421112, loss of D: 19.292614549398422\n",
      "epoch: 20 --- loss of G: 1733.8251733779907, loss of D: 18.927824459969997\n",
      "epoch: 21 --- loss of G: 1621.1664910316467, loss of D: 18.057271137833595\n",
      "epoch: 22 --- loss of G: 1715.768904209137, loss of D: 17.297326382249594\n",
      "epoch: 23 --- loss of G: 1843.998046875, loss of D: 17.00943230651319\n",
      "epoch: 24 --- loss of G: 1782.4922161102295, loss of D: 16.180813025683165\n",
      "epoch: 25 --- loss of G: 1702.1572017669678, loss of D: 15.161861333996058\n",
      "epoch: 26 --- loss of G: 1713.0000987052917, loss of D: 14.969284880906343\n",
      "epoch: 27 --- loss of G: 1727.6912455558777, loss of D: 13.979672512039542\n",
      "epoch: 28 --- loss of G: 1730.681453704834, loss of D: 13.393535261973739\n",
      "epoch: 29 --- loss of G: 1721.6038646697998, loss of D: 12.571856429800391\n"
     ]
    }
   ],
   "source": [
    "# the loss function\n",
    "loss = torch.nn.CrossEntropyLoss()\n",
    "\n",
    "# optimizers\n",
    "opt_G = torch.optim.AdamW(model2.generator.parameters(), lr=2e-4)\n",
    "opt_D = torch.optim.AdamW(model2.discriminator.parameters(), lr=2e-4)\n",
    "opt_emb = torch.optim.AdamW(model2.digit.parameters(), lr=2e-4)\n",
    "\n",
    "curve_D, curve_G = [], []\n",
    "\n",
    "for epoch in range(30):\n",
    "    curve_G.append(0)\n",
    "    curve_D.append(0)\n",
    "    for data, label in trainloader:\n",
    "        \"\"\" train discriminator \"\"\"\n",
    "        opt_D.zero_grad()\n",
    "        opt_emb.zero_grad()\n",
    "        \n",
    "        batch_size = data.shape[0]\n",
    "        real_imgs = data.view(batch_size, -1).to(device)\n",
    "        fake_label = torch.LongTensor(np.arange(batch_size) % 10).to(device)\n",
    "        fake_imgs = model2.generate_fake(fake_label, device)\n",
    "        tens = (torch.ones(batch_size) * 10).long().to(device)\n",
    "        \n",
    "        label = torch.LongTensor(label).to(device)\n",
    "        real_loss = loss(model2.discriminator(real_imgs), label)\n",
    "        fake_loss = loss(model2.discriminator(fake_imgs), tens)\n",
    "        loss_D = (real_loss + fake_loss) / 2\n",
    "\n",
    "        loss_D.backward()\n",
    "        opt_D.step()\n",
    "        opt_emb.step()\n",
    "        \n",
    "        \"\"\" train generator \"\"\"\n",
    "        opt_G.zero_grad()\n",
    "        opt_emb.zero_grad()\n",
    "        fake_label = torch.LongTensor(np.arange(batch_size) % 10).to(device)\n",
    "        fake_imgs = model2.generate_fake(fake_label, device)\n",
    "        loss_G = loss(model2.discriminator(fake_imgs), fake_label)\n",
    "\n",
    "        loss_G.backward()\n",
    "        opt_G.step()\n",
    "        opt_emb.step()\n",
    "        \n",
    "        curve_G[-1] += loss_G.item()\n",
    "        curve_D[-1] += loss_D.item()\n",
    "\n",
    "    print (f\"epoch: {epoch} --- loss of G: {curve_G[-1]}, loss of D: {curve_D[-1]}\")\n",
    "    "
   ]
  },
  {
   "cell_type": "markdown",
   "id": "b8d6af9f",
   "metadata": {},
   "source": [
    "## 7. Generate new data (could control with digit)"
   ]
  },
  {
   "cell_type": "code",
   "execution_count": 10,
   "id": "b0277330",
   "metadata": {},
   "outputs": [
    {
     "data": {
      "image/png": "[encoded data removed]",
      "text/plain": [
       "<Figure size 1000x300 with 10 Axes>"
      ]
     },
     "metadata": {},
     "output_type": "display_data"
    }
   ],
   "source": [
    "plt.figure(figsize=(10, 3))\n",
    "\n",
    "model2.eval()\n",
    "with torch.no_grad():\n",
    "    for idx, l in enumerate(np.arange(10)):\n",
    "        plt.subplot(2, 5, idx+1)\n",
    "    \n",
    "        # use decoder to generate the digit image\n",
    "        rec = model2.generate_fake(torch.LongTensor([l]), device).detach().cpu().numpy()\n",
    "        rec = rec.reshape((1, 28, 28))[0]\n",
    "        plt.imshow(rec, cmap=\"gray\")\n",
    "\n",
    "plt.tight_layout()\n",
    "plt.show()"
   ]
  },
  {
   "cell_type": "code",
   "execution_count": null,
   "id": "61d3b13d",
   "metadata": {},
   "outputs": [],
   "source": []
  },
  {
   "cell_type": "code",
   "execution_count": null,
   "id": "0e4ddba5",
   "metadata": {},
   "outputs": [],
   "source": []
  }
 ],
 "metadata": {
  "kernelspec": {
   "display_name": "Python 3 (ipykernel)",
   "language": "python",
   "name": "python3"
  },
  "language_info": {
   "codemirror_mode": {
    "name": "ipython",
    "version": 3
   },
   "file_extension": ".py",
   "mimetype": "text/x-python",
   "name": "python",
   "nbconvert_exporter": "python",
   "pygments_lexer": "ipython3",
   "version": "3.7.16"
  }
 },
 "nbformat": 4,
 "nbformat_minor": 5
}
