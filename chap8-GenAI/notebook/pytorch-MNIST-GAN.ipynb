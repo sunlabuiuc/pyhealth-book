{
 "cells": [
  {
   "cell_type": "code",
   "execution_count": 1,
   "id": "082a7577",
   "metadata": {},
   "outputs": [
    {
     "name": "stderr",
     "output_type": "stream",
     "text": [
      "/home/chaoqiy2/miniconda3/envs/moltext/lib/python3.7/site-packages/tqdm/auto.py:21: TqdmWarning: IProgress not found. Please update jupyter and ipywidgets. See https://ipywidgets.readthedocs.io/en/stable/user_install.html\n",
      "  from .autonotebook import tqdm as notebook_tqdm\n"
     ]
    }
   ],
   "source": [
    "import torch\n",
    "import torch.nn as nn\n",
    "import torch.nn.functional as F\n",
    "import torchvision\n",
    "import cv2\n",
    "import numpy as np\n",
    "from tqdm import tqdm\n",
    "\n",
    "device = torch.device('cuda:0')"
   ]
  },
  {
   "cell_type": "markdown",
   "id": "84951b5a",
   "metadata": {},
   "source": [
    "## 1. Load MNIST Dataset"
   ]
  },
  {
   "cell_type": "code",
   "execution_count": 2,
   "id": "0dce3988",
   "metadata": {},
   "outputs": [
    {
     "name": "stdout",
     "output_type": "stream",
     "text": [
      "(60000, 28, 28) (60000,)\n",
      "(10000, 28, 28) (10000,)\n"
     ]
    },
    {
     "name": "stderr",
     "output_type": "stream",
     "text": [
      "/home/chaoqiy2/miniconda3/envs/moltext/lib/python3.7/site-packages/torchvision/datasets/mnist.py:498: UserWarning: The given NumPy array is not writeable, and PyTorch does not support non-writeable tensors. This means you can write to the underlying (supposedly non-writeable) NumPy array using the tensor. You may want to copy the array to protect its data or make it writeable before converting it to a tensor. This type of warning will be suppressed for the rest of this program. (Triggered internally at  /opt/conda/conda-bld/pytorch_1631630836880/work/torch/csrc/utils/tensor_numpy.cpp:180.)\n",
      "  return torch.from_numpy(parsed.astype(m[2], copy=False)).view(*s)\n"
     ]
    }
   ],
   "source": [
    "# for training set, we load the data and label\n",
    "trainset = torchvision.datasets.MNIST(root='./data', train = True, download = True)\n",
    "xtrain = trainset.data.numpy()\n",
    "ytrain = trainset.targets.numpy()\n",
    "\n",
    "# for test set, we load the data and label\n",
    "testset = torchvision.datasets.MNIST(root='./data', train = False, download = True)\n",
    "xtest = testset.data.numpy()\n",
    "ytest = testset.targets.numpy()\n",
    "\n",
    "print (xtrain.shape, ytrain.shape)\n",
    "print (xtest.shape, ytest.shape)"
   ]
  },
  {
   "cell_type": "markdown",
   "id": "749db835",
   "metadata": {},
   "source": [
    "### get data loader"
   ]
  },
  {
   "cell_type": "code",
   "execution_count": 3,
   "id": "8e1ea4e7",
   "metadata": {},
   "outputs": [],
   "source": [
    "# transform pixel value (0, 255) into {0,1}\n",
    "xtrain = np.where(xtrain > 128, 1, 0)\n",
    "xtrain = xtrain.astype(np.float32)\n",
    "\n",
    "# transform pixel value (0, 255) into {0,1}\n",
    "xtest = np.where(xtest > 128, 1, 0)\n",
    "xtest = xtest.astype(np.float32)\n",
    "\n",
    "batch_size = 256\n",
    "trainloader = torch.utils.data.DataLoader([[xtrain[i], ytrain[i]] for i in range(len(ytrain))], \\\n",
    "                                          shuffle=True, batch_size=batch_size)\n",
    "testloader = torch.utils.data.DataLoader([[xtest[i], ytest[i]] for i in range(len(ytest))], \\\n",
    "                                         shuffle=False, batch_size=batch_size)\n"
   ]
  },
  {
   "cell_type": "markdown",
   "id": "ae795623",
   "metadata": {},
   "source": [
    "## 2. Define the GAN Model (unconditioned)"
   ]
  },
  {
   "cell_type": "code",
   "execution_count": 12,
   "id": "80491606",
   "metadata": {},
   "outputs": [
    {
     "data": {
      "text/plain": [
       "GAN(\n",
       "  (discriminator): Sequential(\n",
       "    (0): Linear(in_features=784, out_features=256, bias=True)\n",
       "    (1): LeakyReLU(negative_slope=0.01)\n",
       "    (2): Linear(in_features=256, out_features=128, bias=True)\n",
       "    (3): LeakyReLU(negative_slope=0.01)\n",
       "    (4): Linear(in_features=128, out_features=1, bias=True)\n",
       "    (5): Sigmoid()\n",
       "  )\n",
       "  (generator): Sequential(\n",
       "    (0): Linear(in_features=8, out_features=128, bias=True)\n",
       "    (1): LeakyReLU(negative_slope=0.01)\n",
       "    (2): Linear(in_features=128, out_features=256, bias=True)\n",
       "    (3): LeakyReLU(negative_slope=0.01)\n",
       "    (4): Linear(in_features=256, out_features=784, bias=True)\n",
       "  )\n",
       ")"
      ]
     },
     "execution_count": 12,
     "metadata": {},
     "output_type": "execute_result"
    }
   ],
   "source": [
    "class GAN(nn.Module):\n",
    "    def __init__(self):\n",
    "        super(GAN, self).__init__()\n",
    "    \n",
    "        self.discriminator = nn.Sequential(\n",
    "            nn.Linear(28*28, 256),\n",
    "            nn.LeakyReLU(negative_slope=0.01),\n",
    "            nn.Linear(256, 128),\n",
    "            nn.LeakyReLU(negative_slope=0.01),\n",
    "            nn.Linear(128, 1),\n",
    "            nn.Sigmoid()\n",
    "        )\n",
    "\n",
    "        self.generator = nn.Sequential(\n",
    "            nn.Linear(8, 128),\n",
    "            nn.LeakyReLU(negative_slope=0.01),\n",
    "            nn.Linear(128, 256),\n",
    "            nn.LeakyReLU(negative_slope=0.01),\n",
    "            nn.Linear(256, 28*28),\n",
    "        )\n",
    "        \n",
    "    def discriminate(self, x):\n",
    "        y = self.discriminator(x)\n",
    "        return y\n",
    "\n",
    "    def generate_fake(self, n_samples, device):\n",
    "        eps = torch.randn(n_samples, 8).to(device)\n",
    "        fake_images = torch.sigmoid(self.generator(eps))\n",
    "        return fake_images\n",
    "    \n",
    "model = GAN()\n",
    "model.to(device) # move model to GPU"
   ]
  },
  {
   "cell_type": "markdown",
   "id": "3b4b479a",
   "metadata": {},
   "source": [
    "## 3. Model Training and Evaluation"
   ]
  },
  {
   "cell_type": "code",
   "execution_count": 13,
   "id": "af0aa027",
   "metadata": {},
   "outputs": [
    {
     "name": "stdout",
     "output_type": "stream",
     "text": [
      "epoch: 0 --- loss of G: 746.3518468141556, loss of D: 43.85571137443185\n",
      "epoch: 1 --- loss of G: 1275.6765661239624, loss of D: 5.175452238880098\n",
      "epoch: 2 --- loss of G: 1571.3696827888489, loss of D: 4.034340920858085\n",
      "epoch: 3 --- loss of G: 1540.1672163009644, loss of D: 1.1458109847735614\n",
      "epoch: 4 --- loss of G: 1739.1681308746338, loss of D: 0.6526815529214218\n",
      "epoch: 5 --- loss of G: 1738.191285610199, loss of D: 0.6803972722555045\n",
      "epoch: 6 --- loss of G: 1904.284327507019, loss of D: 0.16001708725525532\n",
      "epoch: 7 --- loss of G: 2015.381419658661, loss of D: 0.06906200355297187\n",
      "epoch: 8 --- loss of G: 1779.7661428451538, loss of D: 0.3344802788051311\n",
      "epoch: 9 --- loss of G: 1726.6690983772278, loss of D: 0.7062132443243172\n",
      "epoch: 10 --- loss of G: 1726.0104131698608, loss of D: 0.7880213782191277\n",
      "epoch: 11 --- loss of G: 1760.945737361908, loss of D: 0.5973583782761125\n",
      "epoch: 12 --- loss of G: 1882.1977815628052, loss of D: 0.36222826021548826\n",
      "epoch: 13 --- loss of G: 1693.6355085372925, loss of D: 0.5358870265845326\n",
      "epoch: 14 --- loss of G: 1617.0784749984741, loss of D: 2.1066351655172184\n",
      "epoch: 15 --- loss of G: 1819.7214760780334, loss of D: 1.7655319616897032\n",
      "epoch: 16 --- loss of G: 1702.7568273544312, loss of D: 1.5923462299979292\n",
      "epoch: 17 --- loss of G: 1614.3887600898743, loss of D: 2.758785200829152\n",
      "epoch: 18 --- loss of G: 1669.8920741081238, loss of D: 1.945727328537032\n",
      "epoch: 19 --- loss of G: 1843.9588861465454, loss of D: 1.4226218229159713\n",
      "epoch: 20 --- loss of G: 1857.1752700805664, loss of D: 1.8609163521032315\n",
      "epoch: 21 --- loss of G: 1933.9636449813843, loss of D: 1.6379990682762582\n",
      "epoch: 22 --- loss of G: 1917.754147529602, loss of D: 1.256173449117341\n",
      "epoch: 23 --- loss of G: 1993.0948810577393, loss of D: 0.9659927990578581\n",
      "epoch: 24 --- loss of G: 2148.988597869873, loss of D: 1.23185357642069\n",
      "epoch: 25 --- loss of G: 2189.6506810188293, loss of D: 1.1467921534786\n",
      "epoch: 26 --- loss of G: 2371.4902443885803, loss of D: 1.1365683343174169\n",
      "epoch: 27 --- loss of G: 2314.4137477874756, loss of D: 1.3134945681376848\n",
      "epoch: 28 --- loss of G: 2293.468605041504, loss of D: 1.8864058009930886\n",
      "epoch: 29 --- loss of G: 2304.115032672882, loss of D: 2.4515852570184506\n",
      "epoch: 30 --- loss of G: 2166.274911403656, loss of D: 2.1309608769370243\n",
      "epoch: 31 --- loss of G: 2314.9937314987183, loss of D: 1.2743726274056826\n",
      "epoch: 32 --- loss of G: 2405.57635307312, loss of D: 1.3688470835986664\n",
      "epoch: 33 --- loss of G: 2448.554662704468, loss of D: 0.8053572329881717\n",
      "epoch: 34 --- loss of G: 2592.3896265029907, loss of D: 1.2501706598268356\n",
      "epoch: 35 --- loss of G: 2720.889358520508, loss of D: 1.7326328451454174\n",
      "epoch: 36 --- loss of G: 2735.913962364197, loss of D: 2.4749660199013306\n",
      "epoch: 37 --- loss of G: 2332.907552719116, loss of D: 1.5478170161222806\n",
      "epoch: 38 --- loss of G: 2332.1374883651733, loss of D: 1.2649284615472425\n",
      "epoch: 39 --- loss of G: 2388.313946723938, loss of D: 1.3693519476510119\n",
      "epoch: 40 --- loss of G: 2436.6382932662964, loss of D: 1.26060897471325\n",
      "epoch: 41 --- loss of G: 2316.727797985077, loss of D: 1.5275041457789484\n",
      "epoch: 42 --- loss of G: 2474.569311618805, loss of D: 1.8378893578337738\n",
      "epoch: 43 --- loss of G: 2451.581663131714, loss of D: 1.4304689276905265\n",
      "epoch: 44 --- loss of G: 2625.360191345215, loss of D: 1.2749904468219029\n",
      "epoch: 45 --- loss of G: 2535.6209321022034, loss of D: 1.6519437322713202\n",
      "epoch: 46 --- loss of G: 2483.5613226890564, loss of D: 2.927129815390799\n",
      "epoch: 47 --- loss of G: 2380.45946598053, loss of D: 2.1951384948333725\n",
      "epoch: 48 --- loss of G: 2434.2216053009033, loss of D: 2.180281783337705\n",
      "epoch: 49 --- loss of G: 2226.480115890503, loss of D: 2.546948796516517\n"
     ]
    }
   ],
   "source": [
    "# the loss function\n",
    "loss = torch.nn.BCELoss()\n",
    "\n",
    "# optimizers\n",
    "opt_G = torch.optim.AdamW(model.generator.parameters(), lr=2e-4)\n",
    "opt_D = torch.optim.AdamW(model.discriminator.parameters(), lr=2e-4)\n",
    "\n",
    "# store the loss curve of D and G\n",
    "curve_D, curve_G = [], []\n",
    "for epoch in range(50):\n",
    "    \n",
    "    # store the loss over one epoch\n",
    "    curve_G.append(0)\n",
    "    curve_D.append(0)\n",
    "    \n",
    "    for data, label in trainloader:\n",
    "        \"\"\" train discriminator \"\"\"\n",
    "        opt_D.zero_grad()\n",
    "\n",
    "        batch_size = data.shape[0]\n",
    "        # get real and fake images\n",
    "        real_imgs = data.view(batch_size, -1).to(device)\n",
    "        fake_imgs = model.generate_fake(batch_size, device).detach()\n",
    "        # set their labels (real gets ones, and fake gets zeros)\n",
    "        ones = torch.ones(batch_size, 1).to(device)\n",
    "        zeros = torch.zeros(batch_size, 1).to(device)\n",
    "        \n",
    "        real_loss = loss(model.discriminator(real_imgs), ones)\n",
    "        fake_loss = loss(model.discriminator(fake_imgs), zeros)\n",
    "        loss_D = (real_loss + fake_loss) / 2\n",
    "\n",
    "        loss_D.backward()\n",
    "        opt_D.step()\n",
    "        \n",
    "        \"\"\" train generator \"\"\"\n",
    "        opt_G.zero_grad()\n",
    "        # get fake images and label it as ones\n",
    "        fake_imgs = model.generate_fake(batch_size, device)\n",
    "        loss_G = loss(model.discriminator(fake_imgs), ones)\n",
    "\n",
    "        loss_G.backward()\n",
    "        opt_G.step()\n",
    "\n",
    "        curve_G[-1] += loss_G.item()\n",
    "        curve_D[-1] += loss_D.item()\n",
    "\n",
    "    print (f\"epoch: {epoch} --- loss of G: {curve_G[-1]}, loss of D: {curve_D[-1]}\")\n",
    "    "
   ]
  },
  {
   "cell_type": "markdown",
   "id": "f7c60293",
   "metadata": {},
   "source": [
    "## 4. Draw Loss Curve"
   ]
  },
  {
   "cell_type": "code",
   "execution_count": 6,
   "id": "ffef8894",
   "metadata": {},
   "outputs": [
    {
     "data": {
      "text/plain": [
       "Text(0.5, 1.0, 'Discriminator loss')"
      ]
     },
     "execution_count": 6,
     "metadata": {},
     "output_type": "execute_result"
    },
    {
     "data": {
      "image/png": "[encoded data removed]",
      "text/plain": [
       "<Figure size 1000x400 with 2 Axes>"
      ]
     },
     "metadata": {},
     "output_type": "display_data"
    }
   ],
   "source": [
    "import matplotlib.pyplot as plt\n",
    "\n",
    "plt.figure(figsize=(10, 4))\n",
    "plt.subplot(121)\n",
    "plt.plot(curve_G)\n",
    "plt.title(\"Generator loss\")\n",
    "\n",
    "plt.subplot(122)\n",
    "plt.plot(curve_D)\n",
    "plt.title(\"Discriminator loss\")"
   ]
  },
  {
   "cell_type": "markdown",
   "id": "6fab0c5b",
   "metadata": {},
   "source": [
    "## 5. Generate new data (cannot control with digit)"
   ]
  },
  {
   "cell_type": "code",
   "execution_count": 46,
   "id": "5f5a7ae4",
   "metadata": {},
   "outputs": [
    {
     "data": {
      "image/png": "[encoded data removed]",
      "text/plain": [
       "<Figure size 1000x300 with 10 Axes>"
      ]
     },
     "metadata": {},
     "output_type": "display_data"
    }
   ],
   "source": [
    "plt.figure(figsize=(10, 3))\n",
    "\n",
    "model.eval()\n",
    "with torch.no_grad():\n",
    "    for l in range(10):\n",
    "        plt.subplot(2, 5, l+1)\n",
    "        \n",
    "        # use decoder to generate the digit image\n",
    "        rec = model.generate_fake(1, device).detach().cpu().numpy()\n",
    "        rec = rec.reshape((1, 28, 28))[0]\n",
    "        plt.imshow(rec, cmap=\"gray\")\n",
    "\n",
    "plt.tight_layout()\n",
    "plt.show()"
   ]
  },
  {
   "cell_type": "markdown",
   "id": "7b53718b",
   "metadata": {},
   "source": [
    "## 6. Try to generate digits with given labels"
   ]
  },
  {
   "cell_type": "code",
   "execution_count": 50,
   "id": "9b5aa2f9",
   "metadata": {},
   "outputs": [
    {
     "data": {
      "text/plain": [
       "ConditionalGAN(\n",
       "  (digit): Embedding(10, 8)\n",
       "  (discriminator): Sequential(\n",
       "    (0): Linear(in_features=784, out_features=256, bias=True)\n",
       "    (1): LeakyReLU(negative_slope=0.01)\n",
       "    (2): Linear(in_features=256, out_features=128, bias=True)\n",
       "    (3): LeakyReLU(negative_slope=0.01)\n",
       "    (4): Linear(in_features=128, out_features=11, bias=True)\n",
       "  )\n",
       "  (generator): Sequential(\n",
       "    (0): Linear(in_features=8, out_features=128, bias=True)\n",
       "    (1): LeakyReLU(negative_slope=0.01)\n",
       "    (2): Linear(in_features=128, out_features=256, bias=True)\n",
       "    (3): LeakyReLU(negative_slope=0.01)\n",
       "    (4): Linear(in_features=256, out_features=784, bias=True)\n",
       "  )\n",
       ")"
      ]
     },
     "execution_count": 50,
     "metadata": {},
     "output_type": "execute_result"
    }
   ],
   "source": [
    "class ConditionalGAN(nn.Module):\n",
    "    def __init__(self):\n",
    "        super(ConditionalGAN, self).__init__()\n",
    "    \n",
    "        self.digit = nn.Embedding(10, 8)\n",
    "        \n",
    "        self.discriminator = nn.Sequential(\n",
    "            nn.Linear(28*28, 256),\n",
    "            nn.LeakyReLU(negative_slope=0.01),\n",
    "            nn.Linear(256, 128),\n",
    "            nn.LeakyReLU(negative_slope=0.01),\n",
    "            nn.Linear(128, 11),\n",
    "        )\n",
    "\n",
    "        self.generator = nn.Sequential(\n",
    "            nn.Linear(8, 128),\n",
    "            nn.LeakyReLU(negative_slope=0.01),\n",
    "            nn.Linear(128, 256),\n",
    "            nn.LeakyReLU(negative_slope=0.01),\n",
    "            nn.Linear(256, 28*28),\n",
    "        )\n",
    "        \n",
    "    def discriminate(self, x):\n",
    "        y = self.discriminator(x)\n",
    "        return y\n",
    "\n",
    "    def generate_fake(self, labels, device):\n",
    "        eps = torch.randn(len(labels), 8).to(device)\n",
    "        digit_emb = self.digit(labels.to(device))\n",
    "        fake_images = torch.sigmoid(self.generator(eps + digit_emb))\n",
    "        return fake_images\n",
    "    \n",
    "model2 = ConditionalGAN()\n",
    "model2.to(device) # move model2 to GPU"
   ]
  },
  {
   "cell_type": "code",
   "execution_count": 51,
   "id": "53caf1bc",
   "metadata": {},
   "outputs": [
    {
     "name": "stdout",
     "output_type": "stream",
     "text": [
      "epoch: 0 --- loss of G: 772.2894043922424, loss of D: 253.6632904112339\n",
      "epoch: 1 --- loss of G: 1811.8796508312225, loss of D: 81.96512834727764\n",
      "epoch: 2 --- loss of G: 2226.2025213241577, loss of D: 49.44732749462128\n",
      "epoch: 3 --- loss of G: 2137.08727312088, loss of D: 43.164166897535324\n",
      "epoch: 4 --- loss of G: 1846.9740529060364, loss of D: 42.306665010750294\n",
      "epoch: 5 --- loss of G: 1592.019693851471, loss of D: 42.322783283889294\n",
      "epoch: 6 --- loss of G: 1265.16086769104, loss of D: 48.140047274529934\n",
      "epoch: 7 --- loss of G: 1281.8643879890442, loss of D: 43.42868585139513\n",
      "epoch: 8 --- loss of G: 1302.4389877319336, loss of D: 39.14263329654932\n",
      "epoch: 9 --- loss of G: 1358.392385482788, loss of D: 40.226760141551495\n",
      "epoch: 10 --- loss of G: 1394.3552527427673, loss of D: 38.99539694190025\n",
      "epoch: 11 --- loss of G: 1366.3593831062317, loss of D: 39.10934320092201\n",
      "epoch: 12 --- loss of G: 1362.5845274925232, loss of D: 35.373429000377655\n",
      "epoch: 13 --- loss of G: 1411.9256987571716, loss of D: 30.856436416506767\n",
      "epoch: 14 --- loss of G: 1375.2152910232544, loss of D: 30.21755490452051\n",
      "epoch: 15 --- loss of G: 1480.145007610321, loss of D: 28.188156813383102\n",
      "epoch: 16 --- loss of G: 1473.4268159866333, loss of D: 26.216910429298878\n",
      "epoch: 17 --- loss of G: 1445.6228442192078, loss of D: 28.170091211795807\n",
      "epoch: 18 --- loss of G: 1480.7721605300903, loss of D: 24.028113894164562\n",
      "epoch: 19 --- loss of G: 1453.7626595497131, loss of D: 24.686365481466055\n",
      "epoch: 20 --- loss of G: 1556.9001088142395, loss of D: 23.225703358650208\n",
      "epoch: 21 --- loss of G: 1479.4168829917908, loss of D: 20.93703416362405\n",
      "epoch: 22 --- loss of G: 1440.05335855484, loss of D: 20.768205124884844\n",
      "epoch: 23 --- loss of G: 1493.0007152557373, loss of D: 20.001982871443033\n",
      "epoch: 24 --- loss of G: 1450.6880903244019, loss of D: 18.44558832794428\n",
      "epoch: 25 --- loss of G: 1486.433780670166, loss of D: 18.516604963690042\n",
      "epoch: 26 --- loss of G: 1612.832160949707, loss of D: 17.075833547860384\n",
      "epoch: 27 --- loss of G: 1678.7857131958008, loss of D: 17.140314899384975\n",
      "epoch: 28 --- loss of G: 1588.905858039856, loss of D: 16.425924587994814\n",
      "epoch: 29 --- loss of G: 1682.8118433952332, loss of D: 16.100432232022285\n"
     ]
    }
   ],
   "source": [
    "# the loss function\n",
    "loss = torch.nn.CrossEntropyLoss()\n",
    "\n",
    "# optimizers\n",
    "opt_G = torch.optim.AdamW(model2.generator.parameters(), lr=2e-4)\n",
    "opt_D = torch.optim.AdamW(model2.discriminator.parameters(), lr=2e-4)\n",
    "opt_emb = torch.optim.AdamW(model2.digit.parameters(), lr=2e-4)\n",
    "\n",
    "curve_D, curve_G = [], []\n",
    "\n",
    "for epoch in range(30):\n",
    "    curve_G.append(0)\n",
    "    curve_D.append(0)\n",
    "    for data, label in trainloader:\n",
    "        \"\"\" train discriminator \"\"\"\n",
    "        opt_D.zero_grad()\n",
    "        opt_emb.zero_grad()\n",
    "        \n",
    "        batch_size = data.shape[0]\n",
    "        real_imgs = data.view(batch_size, -1).to(device)\n",
    "        fake_label = torch.LongTensor(np.arange(batch_size) % 10).to(device)\n",
    "        fake_imgs = model2.generate_fake(fake_label, device)\n",
    "        tens = (torch.ones(batch_size) * 10).long().to(device)\n",
    "        \n",
    "        label = torch.LongTensor(label).to(device)\n",
    "        real_loss = loss(model2.discriminator(real_imgs), label)\n",
    "        fake_loss = loss(model2.discriminator(fake_imgs), tens)\n",
    "        loss_D = (real_loss + fake_loss) / 2\n",
    "\n",
    "        loss_D.backward()\n",
    "        opt_D.step()\n",
    "        opt_emb.step()\n",
    "        \n",
    "        \"\"\" train generator \"\"\"\n",
    "        opt_G.zero_grad()\n",
    "        opt_emb.zero_grad()\n",
    "        fake_label = torch.LongTensor(np.arange(batch_size) % 10).to(device)\n",
    "        fake_imgs = model2.generate_fake(fake_label, device)\n",
    "        loss_G = loss(model2.discriminator(fake_imgs), fake_label)\n",
    "\n",
    "        loss_G.backward()\n",
    "        opt_G.step()\n",
    "        opt_emb.step()\n",
    "        \n",
    "        curve_G[-1] += loss_G.item()\n",
    "        curve_D[-1] += loss_D.item()\n",
    "\n",
    "    print (f\"epoch: {epoch} --- loss of G: {curve_G[-1]}, loss of D: {curve_D[-1]}\")\n",
    "    "
   ]
  },
  {
   "cell_type": "markdown",
   "id": "b8d6af9f",
   "metadata": {},
   "source": [
    "## 7. Generate new data (could control with digit)"
   ]
  },
  {
   "cell_type": "code",
   "execution_count": 53,
   "id": "b0277330",
   "metadata": {},
   "outputs": [
    {
     "data": {
      "image/png": "[encoded data removed]",
      "text/plain": [
       "<Figure size 1000x300 with 10 Axes>"
      ]
     },
     "metadata": {},
     "output_type": "display_data"
    }
   ],
   "source": [
    "plt.figure(figsize=(10, 3))\n",
    "\n",
    "model2.eval()\n",
    "with torch.no_grad():\n",
    "    for idx, l in enumerate(np.arange(10)):\n",
    "        plt.subplot(2, 5, idx+1)\n",
    "    \n",
    "        # use decoder to generate the digit image\n",
    "        rec = model2.generate_fake(torch.LongTensor([l]), device).detach().cpu().numpy()\n",
    "        rec = rec.reshape((1, 28, 28))[0]\n",
    "        plt.imshow(rec, cmap=\"gray\")\n",
    "\n",
    "plt.tight_layout()\n",
    "plt.show()"
   ]
  },
  {
   "cell_type": "code",
   "execution_count": null,
   "id": "61d3b13d",
   "metadata": {},
   "outputs": [],
   "source": []
  },
  {
   "cell_type": "code",
   "execution_count": null,
   "id": "0e4ddba5",
   "metadata": {},
   "outputs": [],
   "source": []
  },
  {
   "cell_type": "code",
   "execution_count": null,
   "id": "3d5481bd",
   "metadata": {},
   "outputs": [],
   "source": []
  }
 ],
 "metadata": {
  "kernelspec": {
   "display_name": "Python 3 (ipykernel)",
   "language": "python",
   "name": "python3"
  },
  "language_info": {
   "codemirror_mode": {
    "name": "ipython",
    "version": 3
   },
   "file_extension": ".py",
   "mimetype": "text/x-python",
   "name": "python",
   "nbconvert_exporter": "python",
   "pygments_lexer": "ipython3",
   "version": "3.7.16"
  }
 },
 "nbformat": 4,
 "nbformat_minor": 5
}
