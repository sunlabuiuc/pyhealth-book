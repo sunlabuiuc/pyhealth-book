{
 "cells": [
  {
   "cell_type": "code",
   "execution_count": 1,
   "id": "9a77c2ec",
   "metadata": {},
   "outputs": [],
   "source": [
    "# pip install pyhealth"
   ]
  },
  {
   "cell_type": "markdown",
   "id": "53feb87e",
   "metadata": {},
   "source": [
    "### STEP 1: load the chest Xray data"
   ]
  },
  {
   "cell_type": "code",
   "execution_count": 2,
   "id": "13913032",
   "metadata": {},
   "outputs": [
    {
     "name": "stderr",
     "output_type": "stream",
     "text": [
      "/home/chaoqiy2/miniconda3/envs/moltext/lib/python3.7/site-packages/tqdm/auto.py:21: TqdmWarning: IProgress not found. Please update jupyter and ipywidgets. See https://ipywidgets.readthedocs.io/en/stable/user_install.html\n",
      "  from .autonotebook import tqdm as notebook_tqdm\n"
     ]
    },
    {
     "name": "stdout",
     "output_type": "stream",
     "text": [
      "Statistics of COVID19CXRDataset:\n",
      "Number of samples: 21165\n",
      "Number of classes: 4\n",
      "Class distribution: Counter({'Normal': 10192, 'Lung Opacity': 6012, 'COVID': 3616, 'Viral Pneumonia': 1345})\n"
     ]
    }
   ],
   "source": [
    "from pyhealth.datasets import COVID19CXRDataset\n",
    "\n",
    "root = \"/srv/local/data/COVID-19_Radiography_Dataset\"\n",
    "base_dataset = COVID19CXRDataset(root)\n",
    "\n",
    "base_dataset.stat()"
   ]
  },
  {
   "cell_type": "markdown",
   "id": "048ff2ee",
   "metadata": {},
   "source": [
    "### STEP 2: set task and processing the data"
   ]
  },
  {
   "cell_type": "code",
   "execution_count": 3,
   "id": "9487b2c6",
   "metadata": {},
   "outputs": [
    {
     "name": "stderr",
     "output_type": "stream",
     "text": [
      "Generating samples for COVID19CXRClassification: 100%|███████████████████████████████████████████| 21165/21165 [00:00<00:00, 1922022.30it/s]\n"
     ]
    }
   ],
   "source": [
    "from torchvision import transforms\n",
    "\n",
    "sample_dataset = base_dataset.set_task()\n",
    "\n",
    "# the transformation automatically normalize the pixel intensity into [0, 1]\n",
    "transform = transforms.Compose([\n",
    "    transforms.Lambda(lambda x: x if x.shape[0] == 3 else x.repeat(3, 1, 1)), # only use the first channel\n",
    "    transforms.Resize((128, 128)),\n",
    "])\n",
    "\n",
    "def encode(sample):\n",
    "    sample[\"path\"] = transform(sample[\"path\"])\n",
    "    return sample\n",
    "\n",
    "sample_dataset.set_transform(encode)"
   ]
  },
  {
   "cell_type": "code",
   "execution_count": 4,
   "id": "1601d7d1",
   "metadata": {},
   "outputs": [],
   "source": [
    "from pyhealth.datasets import split_by_visit, get_dataloader\n",
    "\n",
    "# split dataset\n",
    "train_dataset, val_dataset, test_dataset = split_by_visit(\n",
    "    sample_dataset, [0.8, 0.1, 0.1]\n",
    ")\n",
    "train_dataloader = get_dataloader(train_dataset, batch_size=256, shuffle=True)\n",
    "val_dataloader = get_dataloader(val_dataset, batch_size=256, shuffle=False)\n",
    "test_dataloader = get_dataloader(test_dataset, batch_size=256, shuffle=False)"
   ]
  },
  {
   "cell_type": "code",
   "execution_count": 5,
   "id": "d4d8b012",
   "metadata": {},
   "outputs": [
    {
     "name": "stdout",
     "output_type": "stream",
     "text": [
      "torch.Size([3, 128, 128])\n",
      "loader size: train/val/test 16932 2116 2117\n"
     ]
    }
   ],
   "source": [
    "data = next(iter(train_dataloader))\n",
    "print (data[\"path\"][0].shape)\n",
    "\n",
    "print(\n",
    "    \"loader size: train/val/test\",\n",
    "    len(train_dataset),\n",
    "    len(val_dataset),\n",
    "    len(test_dataset),\n",
    ")"
   ]
  },
  {
   "cell_type": "markdown",
   "id": "d3c8fb9b",
   "metadata": {},
   "source": [
    "### STEP 3: initialize the VAE model"
   ]
  },
  {
   "cell_type": "code",
   "execution_count": 6,
   "id": "2e98d56a",
   "metadata": {},
   "outputs": [],
   "source": [
    "from pyhealth.models import VAE\n",
    "\n",
    "model = VAE(\n",
    "    dataset=sample_dataset,\n",
    "    input_channel=3,\n",
    "    input_size=128,\n",
    "    feature_keys=[\"path\"],\n",
    "    label_key=\"path\",\n",
    "    mode=\"regression\",\n",
    "    hidden_dim = 256,\n",
    ")"
   ]
  },
  {
   "cell_type": "markdown",
   "id": "a8929c00",
   "metadata": {},
   "source": [
    "### STEP 4: define trainer"
   ]
  },
  {
   "cell_type": "code",
   "execution_count": 7,
   "id": "19d4138c",
   "metadata": {},
   "outputs": [
    {
     "name": "stdout",
     "output_type": "stream",
     "text": [
      "VAE(\n",
      "  (encoder1): Sequential(\n",
      "    (0): ResBlock2D(\n",
      "      (conv1): Conv2d(3, 16, kernel_size=(3, 3), stride=(2, 2), padding=(1, 1))\n",
      "      (bn1): BatchNorm2d(16, eps=1e-05, momentum=0.1, affine=True, track_running_stats=True)\n",
      "      (relu): ELU(alpha=1.0)\n",
      "      (conv2): Conv2d(16, 16, kernel_size=(3, 3), stride=(1, 1), padding=(1, 1))\n",
      "      (bn2): BatchNorm2d(16, eps=1e-05, momentum=0.1, affine=True, track_running_stats=True)\n",
      "      (maxpool): MaxPool2d(kernel_size=2, stride=2, padding=0, dilation=1, ceil_mode=False)\n",
      "      (downsample): Sequential(\n",
      "        (0): Conv2d(3, 16, kernel_size=(3, 3), stride=(2, 2), padding=(1, 1))\n",
      "        (1): BatchNorm2d(16, eps=1e-05, momentum=0.1, affine=True, track_running_stats=True)\n",
      "      )\n",
      "      (dropout): Dropout(p=0.5, inplace=False)\n",
      "    )\n",
      "    (1): ResBlock2D(\n",
      "      (conv1): Conv2d(16, 64, kernel_size=(3, 3), stride=(2, 2), padding=(1, 1))\n",
      "      (bn1): BatchNorm2d(64, eps=1e-05, momentum=0.1, affine=True, track_running_stats=True)\n",
      "      (relu): ELU(alpha=1.0)\n",
      "      (conv2): Conv2d(64, 64, kernel_size=(3, 3), stride=(1, 1), padding=(1, 1))\n",
      "      (bn2): BatchNorm2d(64, eps=1e-05, momentum=0.1, affine=True, track_running_stats=True)\n",
      "      (maxpool): MaxPool2d(kernel_size=2, stride=2, padding=0, dilation=1, ceil_mode=False)\n",
      "      (downsample): Sequential(\n",
      "        (0): Conv2d(16, 64, kernel_size=(3, 3), stride=(2, 2), padding=(1, 1))\n",
      "        (1): BatchNorm2d(64, eps=1e-05, momentum=0.1, affine=True, track_running_stats=True)\n",
      "      )\n",
      "      (dropout): Dropout(p=0.5, inplace=False)\n",
      "    )\n",
      "    (2): ResBlock2D(\n",
      "      (conv1): Conv2d(64, 256, kernel_size=(3, 3), stride=(2, 2), padding=(1, 1))\n",
      "      (bn1): BatchNorm2d(256, eps=1e-05, momentum=0.1, affine=True, track_running_stats=True)\n",
      "      (relu): ELU(alpha=1.0)\n",
      "      (conv2): Conv2d(256, 256, kernel_size=(3, 3), stride=(1, 1), padding=(1, 1))\n",
      "      (bn2): BatchNorm2d(256, eps=1e-05, momentum=0.1, affine=True, track_running_stats=True)\n",
      "      (maxpool): MaxPool2d(kernel_size=2, stride=2, padding=0, dilation=1, ceil_mode=False)\n",
      "      (downsample): Sequential(\n",
      "        (0): Conv2d(64, 256, kernel_size=(3, 3), stride=(2, 2), padding=(1, 1))\n",
      "        (1): BatchNorm2d(256, eps=1e-05, momentum=0.1, affine=True, track_running_stats=True)\n",
      "      )\n",
      "      (dropout): Dropout(p=0.5, inplace=False)\n",
      "    )\n",
      "  )\n",
      "  (mu): Linear(in_features=1024, out_features=256, bias=True)\n",
      "  (log_std2): Linear(in_features=1024, out_features=256, bias=True)\n",
      "  (decoder1): Sequential(\n",
      "    (0): ConvTranspose2d(256, 256, kernel_size=(5, 5), stride=(2, 2))\n",
      "    (1): ReLU()\n",
      "    (2): ConvTranspose2d(256, 128, kernel_size=(5, 5), stride=(2, 2))\n",
      "    (3): ReLU()\n",
      "    (4): ConvTranspose2d(128, 64, kernel_size=(5, 5), stride=(2, 2))\n",
      "    (5): ReLU()\n",
      "    (6): ConvTranspose2d(64, 32, kernel_size=(6, 6), stride=(2, 2))\n",
      "    (7): ReLU()\n",
      "    (8): ConvTranspose2d(32, 3, kernel_size=(6, 6), stride=(2, 2))\n",
      "    (9): Sigmoid()\n",
      "  )\n",
      ")\n",
      "Metrics: ['kl_divergence', 'mse', 'mae']\n",
      "Device: cuda:4\n",
      "\n",
      "Training:\n",
      "Batch size: 256\n",
      "Optimizer: <class 'torch.optim.adam.Adam'>\n",
      "Optimizer params: {'lr': 0.001}\n",
      "Weight decay: 0.0\n",
      "Max grad norm: None\n",
      "Val dataloader: <torch.utils.data.dataloader.DataLoader object at 0x7f45a6bc1bd0>\n",
      "Monitor: kl_divergence\n",
      "Monitor criterion: min\n",
      "Epochs: 20\n",
      "\n"
     ]
    },
    {
     "name": "stderr",
     "output_type": "stream",
     "text": [
      "Epoch 0 / 20: 100%|█████████████████████████████████████████████████████████████████████████████████████████| 67/67 [01:03<00:00,  1.06it/s]"
     ]
    },
    {
     "name": "stdout",
     "output_type": "stream",
     "text": [
      "--- Train epoch-0, step-67 ---\n",
      "loss: 7853681.3489\n"
     ]
    },
    {
     "name": "stderr",
     "output_type": "stream",
     "text": [
      "\n",
      "Evaluation: 100%|█████████████████████████████████████████████████████████████████████████████████████████████| 9/9 [00:08<00:00,  1.10it/s]\n"
     ]
    },
    {
     "name": "stdout",
     "output_type": "stream",
     "text": [
      "--- Eval epoch-0, step-67 ---\n",
      "kl_divergence: 0.1531\n",
      "mse: 0.0000\n",
      "mae: 0.0000\n",
      "loss: 6813482.7778\n",
      "New best kl_divergence score (0.1531) at epoch-0, step-67\n",
      "\n"
     ]
    },
    {
     "name": "stderr",
     "output_type": "stream",
     "text": [
      "Epoch 1 / 20: 100%|█████████████████████████████████████████████████████████████████████████████████████████| 67/67 [01:01<00:00,  1.09it/s]"
     ]
    },
    {
     "name": "stdout",
     "output_type": "stream",
     "text": [
      "--- Train epoch-1, step-134 ---\n",
      "loss: 7269614.4039\n"
     ]
    },
    {
     "name": "stderr",
     "output_type": "stream",
     "text": [
      "\n",
      "Evaluation: 100%|█████████████████████████████████████████████████████████████████████████████████████████████| 9/9 [00:07<00:00,  1.16it/s]\n"
     ]
    },
    {
     "name": "stdout",
     "output_type": "stream",
     "text": [
      "--- Eval epoch-1, step-134 ---\n",
      "kl_divergence: 0.1448\n",
      "mse: 0.0000\n",
      "mae: 0.0000\n",
      "loss: 6721105.7222\n",
      "New best kl_divergence score (0.1448) at epoch-1, step-134\n",
      "\n"
     ]
    },
    {
     "name": "stderr",
     "output_type": "stream",
     "text": [
      "Epoch 2 / 20: 100%|█████████████████████████████████████████████████████████████████████████████████████████| 67/67 [01:00<00:00,  1.11it/s]"
     ]
    },
    {
     "name": "stdout",
     "output_type": "stream",
     "text": [
      "--- Train epoch-2, step-201 ---\n",
      "loss: 7193637.5196\n"
     ]
    },
    {
     "name": "stderr",
     "output_type": "stream",
     "text": [
      "\n",
      "Evaluation: 100%|█████████████████████████████████████████████████████████████████████████████████████████████| 9/9 [00:08<00:00,  1.08it/s]\n"
     ]
    },
    {
     "name": "stdout",
     "output_type": "stream",
     "text": [
      "--- Eval epoch-2, step-201 ---\n",
      "kl_divergence: 0.0814\n",
      "mse: 0.0000\n",
      "mae: 0.0000\n",
      "loss: 6604489.8750\n",
      "New best kl_divergence score (0.0814) at epoch-2, step-201\n",
      "\n"
     ]
    },
    {
     "name": "stderr",
     "output_type": "stream",
     "text": [
      "Epoch 3 / 20: 100%|█████████████████████████████████████████████████████████████████████████████████████████| 67/67 [01:01<00:00,  1.09it/s]"
     ]
    },
    {
     "name": "stdout",
     "output_type": "stream",
     "text": [
      "--- Train epoch-3, step-268 ---\n",
      "loss: 7142792.3386\n"
     ]
    },
    {
     "name": "stderr",
     "output_type": "stream",
     "text": [
      "\n",
      "Evaluation: 100%|█████████████████████████████████████████████████████████████████████████████████████████████| 9/9 [00:08<00:00,  1.12it/s]\n"
     ]
    },
    {
     "name": "stdout",
     "output_type": "stream",
     "text": [
      "--- Eval epoch-3, step-268 ---\n",
      "kl_divergence: 0.0750\n",
      "mse: 0.0000\n",
      "mae: 0.0000\n",
      "loss: 6609193.9722\n",
      "New best kl_divergence score (0.0750) at epoch-3, step-268\n",
      "\n"
     ]
    },
    {
     "name": "stderr",
     "output_type": "stream",
     "text": [
      "Epoch 4 / 20: 100%|█████████████████████████████████████████████████████████████████████████████████████████| 67/67 [00:57<00:00,  1.17it/s]"
     ]
    },
    {
     "name": "stdout",
     "output_type": "stream",
     "text": [
      "--- Train epoch-4, step-335 ---\n",
      "loss: 7118568.2015\n"
     ]
    },
    {
     "name": "stderr",
     "output_type": "stream",
     "text": [
      "\n",
      "Evaluation: 100%|█████████████████████████████████████████████████████████████████████████████████████████████| 9/9 [00:06<00:00,  1.48it/s]\n"
     ]
    },
    {
     "name": "stdout",
     "output_type": "stream",
     "text": [
      "--- Eval epoch-4, step-335 ---\n",
      "kl_divergence: 0.0546\n",
      "mse: 0.0000\n",
      "mae: 0.0000\n",
      "loss: 6568004.0833\n",
      "New best kl_divergence score (0.0546) at epoch-4, step-335\n",
      "\n"
     ]
    },
    {
     "name": "stderr",
     "output_type": "stream",
     "text": [
      "Epoch 5 / 20: 100%|█████████████████████████████████████████████████████████████████████████████████████████| 67/67 [00:45<00:00,  1.46it/s]"
     ]
    },
    {
     "name": "stdout",
     "output_type": "stream",
     "text": [
      "--- Train epoch-5, step-402 ---\n",
      "loss: 7100631.7071\n"
     ]
    },
    {
     "name": "stderr",
     "output_type": "stream",
     "text": [
      "\n",
      "Evaluation: 100%|█████████████████████████████████████████████████████████████████████████████████████████████| 9/9 [00:06<00:00,  1.45it/s]\n"
     ]
    },
    {
     "name": "stdout",
     "output_type": "stream",
     "text": [
      "--- Eval epoch-5, step-402 ---\n",
      "kl_divergence: 0.0584\n",
      "mse: 0.0000\n",
      "mae: 0.0000\n",
      "loss: 6594770.8333\n",
      "\n"
     ]
    },
    {
     "name": "stderr",
     "output_type": "stream",
     "text": [
      "Epoch 6 / 20: 100%|█████████████████████████████████████████████████████████████████████████████████████████| 67/67 [00:45<00:00,  1.49it/s]"
     ]
    },
    {
     "name": "stdout",
     "output_type": "stream",
     "text": [
      "--- Train epoch-6, step-469 ---\n",
      "loss: 7079662.5933\n"
     ]
    },
    {
     "name": "stderr",
     "output_type": "stream",
     "text": [
      "\n",
      "Evaluation: 100%|█████████████████████████████████████████████████████████████████████████████████████████████| 9/9 [00:05<00:00,  1.59it/s]\n"
     ]
    },
    {
     "name": "stdout",
     "output_type": "stream",
     "text": [
      "--- Eval epoch-6, step-469 ---\n",
      "kl_divergence: 0.0465\n",
      "mse: 0.0000\n",
      "mae: 0.0000\n",
      "loss: 6533144.2361\n",
      "New best kl_divergence score (0.0465) at epoch-6, step-469\n",
      "\n"
     ]
    },
    {
     "name": "stderr",
     "output_type": "stream",
     "text": [
      "Epoch 7 / 20: 100%|█████████████████████████████████████████████████████████████████████████████████████████| 67/67 [00:44<00:00,  1.50it/s]"
     ]
    },
    {
     "name": "stdout",
     "output_type": "stream",
     "text": [
      "--- Train epoch-7, step-536 ---\n",
      "loss: 7060642.8265\n"
     ]
    },
    {
     "name": "stderr",
     "output_type": "stream",
     "text": [
      "\n",
      "Evaluation: 100%|█████████████████████████████████████████████████████████████████████████████████████████████| 9/9 [00:05<00:00,  1.56it/s]\n"
     ]
    },
    {
     "name": "stdout",
     "output_type": "stream",
     "text": [
      "--- Eval epoch-7, step-536 ---\n",
      "kl_divergence: 0.0542\n",
      "mse: 0.0000\n",
      "mae: 0.0000\n",
      "loss: 6531832.1250\n",
      "\n"
     ]
    },
    {
     "name": "stderr",
     "output_type": "stream",
     "text": [
      "Epoch 8 / 20: 100%|█████████████████████████████████████████████████████████████████████████████████████████| 67/67 [00:45<00:00,  1.48it/s]"
     ]
    },
    {
     "name": "stdout",
     "output_type": "stream",
     "text": [
      "--- Train epoch-8, step-603 ---\n",
      "loss: 7057253.8116\n"
     ]
    },
    {
     "name": "stderr",
     "output_type": "stream",
     "text": [
      "\n",
      "Evaluation: 100%|█████████████████████████████████████████████████████████████████████████████████████████████| 9/9 [00:05<00:00,  1.61it/s]\n"
     ]
    },
    {
     "name": "stdout",
     "output_type": "stream",
     "text": [
      "--- Eval epoch-8, step-603 ---\n",
      "kl_divergence: 0.0484\n",
      "mse: 0.0000\n",
      "mae: 0.0000\n",
      "loss: 6521821.5972\n",
      "\n"
     ]
    },
    {
     "name": "stderr",
     "output_type": "stream",
     "text": [
      "Epoch 9 / 20: 100%|█████████████████████████████████████████████████████████████████████████████████████████| 67/67 [00:44<00:00,  1.51it/s]"
     ]
    },
    {
     "name": "stdout",
     "output_type": "stream",
     "text": [
      "--- Train epoch-9, step-670 ---\n",
      "loss: 7040469.0168\n"
     ]
    },
    {
     "name": "stderr",
     "output_type": "stream",
     "text": [
      "\n",
      "Evaluation: 100%|█████████████████████████████████████████████████████████████████████████████████████████████| 9/9 [00:05<00:00,  1.65it/s]\n"
     ]
    },
    {
     "name": "stdout",
     "output_type": "stream",
     "text": [
      "--- Eval epoch-9, step-670 ---\n",
      "kl_divergence: 0.0419\n",
      "mse: 0.0000\n",
      "mae: 0.0000\n",
      "loss: 6500187.3194\n",
      "New best kl_divergence score (0.0419) at epoch-9, step-670\n",
      "\n"
     ]
    },
    {
     "name": "stderr",
     "output_type": "stream",
     "text": [
      "Epoch 10 / 20: 100%|████████████████████████████████████████████████████████████████████████████████████████| 67/67 [00:44<00:00,  1.52it/s]"
     ]
    },
    {
     "name": "stdout",
     "output_type": "stream",
     "text": [
      "--- Train epoch-10, step-737 ---\n",
      "loss: 7034561.5196\n"
     ]
    },
    {
     "name": "stderr",
     "output_type": "stream",
     "text": [
      "\n",
      "Evaluation: 100%|█████████████████████████████████████████████████████████████████████████████████████████████| 9/9 [00:05<00:00,  1.68it/s]\n"
     ]
    },
    {
     "name": "stdout",
     "output_type": "stream",
     "text": [
      "--- Eval epoch-10, step-737 ---\n",
      "kl_divergence: 0.0423\n",
      "mse: 0.0000\n",
      "mae: 0.0000\n",
      "loss: 6508993.3333\n",
      "\n"
     ]
    },
    {
     "name": "stderr",
     "output_type": "stream",
     "text": [
      "Epoch 11 / 20: 100%|████████████████████████████████████████████████████████████████████████████████████████| 67/67 [00:43<00:00,  1.53it/s]"
     ]
    },
    {
     "name": "stdout",
     "output_type": "stream",
     "text": [
      "--- Train epoch-11, step-804 ---\n",
      "loss: 7028912.4543\n"
     ]
    },
    {
     "name": "stderr",
     "output_type": "stream",
     "text": [
      "\n",
      "Evaluation: 100%|█████████████████████████████████████████████████████████████████████████████████████████████| 9/9 [00:05<00:00,  1.65it/s]\n"
     ]
    },
    {
     "name": "stdout",
     "output_type": "stream",
     "text": [
      "--- Eval epoch-11, step-804 ---\n",
      "kl_divergence: 0.0338\n",
      "mse: 0.0000\n",
      "mae: 0.0000\n",
      "loss: 6510866.0417\n",
      "New best kl_divergence score (0.0338) at epoch-11, step-804\n",
      "\n"
     ]
    },
    {
     "name": "stderr",
     "output_type": "stream",
     "text": [
      "Epoch 12 / 20: 100%|████████████████████████████████████████████████████████████████████████████████████████| 67/67 [00:43<00:00,  1.56it/s]"
     ]
    },
    {
     "name": "stdout",
     "output_type": "stream",
     "text": [
      "--- Train epoch-12, step-871 ---\n",
      "loss: 7027013.5933\n"
     ]
    },
    {
     "name": "stderr",
     "output_type": "stream",
     "text": [
      "\n",
      "Evaluation: 100%|█████████████████████████████████████████████████████████████████████████████████████████████| 9/9 [00:05<00:00,  1.63it/s]\n"
     ]
    },
    {
     "name": "stdout",
     "output_type": "stream",
     "text": [
      "--- Eval epoch-12, step-871 ---\n",
      "kl_divergence: 0.0437\n",
      "mse: 0.0000\n",
      "mae: 0.0000\n",
      "loss: 6491712.3194\n",
      "\n"
     ]
    },
    {
     "name": "stderr",
     "output_type": "stream",
     "text": [
      "Epoch 13 / 20: 100%|████████████████████████████████████████████████████████████████████████████████████████| 67/67 [00:44<00:00,  1.52it/s]"
     ]
    },
    {
     "name": "stdout",
     "output_type": "stream",
     "text": [
      "--- Train epoch-13, step-938 ---\n",
      "loss: 7018141.4291\n"
     ]
    },
    {
     "name": "stderr",
     "output_type": "stream",
     "text": [
      "\n",
      "Evaluation: 100%|█████████████████████████████████████████████████████████████████████████████████████████████| 9/9 [00:05<00:00,  1.60it/s]\n"
     ]
    },
    {
     "name": "stdout",
     "output_type": "stream",
     "text": [
      "--- Eval epoch-13, step-938 ---\n",
      "kl_divergence: 0.0470\n",
      "mse: 0.0000\n",
      "mae: 0.0000\n",
      "loss: 6505837.5139\n",
      "\n"
     ]
    },
    {
     "name": "stderr",
     "output_type": "stream",
     "text": [
      "Epoch 14 / 20: 100%|████████████████████████████████████████████████████████████████████████████████████████| 67/67 [00:44<00:00,  1.50it/s]"
     ]
    },
    {
     "name": "stdout",
     "output_type": "stream",
     "text": [
      "--- Train epoch-14, step-1005 ---\n",
      "loss: 7018323.3498\n"
     ]
    },
    {
     "name": "stderr",
     "output_type": "stream",
     "text": [
      "\n",
      "Evaluation: 100%|█████████████████████████████████████████████████████████████████████████████████████████████| 9/9 [00:05<00:00,  1.61it/s]\n"
     ]
    },
    {
     "name": "stdout",
     "output_type": "stream",
     "text": [
      "--- Eval epoch-14, step-1005 ---\n",
      "kl_divergence: 0.0527\n",
      "mse: 0.0000\n",
      "mae: 0.0000\n",
      "loss: 6499927.8889\n",
      "\n"
     ]
    },
    {
     "name": "stderr",
     "output_type": "stream",
     "text": [
      "Epoch 15 / 20: 100%|████████████████████████████████████████████████████████████████████████████████████████| 67/67 [00:43<00:00,  1.53it/s]"
     ]
    },
    {
     "name": "stdout",
     "output_type": "stream",
     "text": [
      "--- Train epoch-15, step-1072 ---\n",
      "loss: 7012684.5364\n"
     ]
    },
    {
     "name": "stderr",
     "output_type": "stream",
     "text": [
      "\n",
      "Evaluation: 100%|█████████████████████████████████████████████████████████████████████████████████████████████| 9/9 [00:05<00:00,  1.66it/s]\n"
     ]
    },
    {
     "name": "stdout",
     "output_type": "stream",
     "text": [
      "--- Eval epoch-15, step-1072 ---\n",
      "kl_divergence: 0.0354\n",
      "mse: 0.0000\n",
      "mae: 0.0000\n",
      "loss: 6472468.5972\n",
      "\n"
     ]
    },
    {
     "name": "stderr",
     "output_type": "stream",
     "text": [
      "Epoch 16 / 20: 100%|████████████████████████████████████████████████████████████████████████████████████████| 67/67 [00:43<00:00,  1.55it/s]"
     ]
    },
    {
     "name": "stdout",
     "output_type": "stream",
     "text": [
      "--- Train epoch-16, step-1139 ---\n",
      "loss: 7009036.7724\n"
     ]
    },
    {
     "name": "stderr",
     "output_type": "stream",
     "text": [
      "\n",
      "Evaluation: 100%|█████████████████████████████████████████████████████████████████████████████████████████████| 9/9 [00:05<00:00,  1.53it/s]\n"
     ]
    },
    {
     "name": "stdout",
     "output_type": "stream",
     "text": [
      "--- Eval epoch-16, step-1139 ---\n",
      "kl_divergence: 0.0327\n",
      "mse: 0.0000\n",
      "mae: 0.0000\n",
      "loss: 6488543.6111\n",
      "New best kl_divergence score (0.0327) at epoch-16, step-1139\n",
      "\n"
     ]
    },
    {
     "name": "stderr",
     "output_type": "stream",
     "text": [
      "Epoch 17 / 20: 100%|████████████████████████████████████████████████████████████████████████████████████████| 67/67 [00:46<00:00,  1.44it/s]"
     ]
    },
    {
     "name": "stdout",
     "output_type": "stream",
     "text": [
      "--- Train epoch-17, step-1206 ---\n",
      "loss: 7007894.7985\n"
     ]
    },
    {
     "name": "stderr",
     "output_type": "stream",
     "text": [
      "\n",
      "Evaluation: 100%|█████████████████████████████████████████████████████████████████████████████████████████████| 9/9 [00:05<00:00,  1.57it/s]\n"
     ]
    },
    {
     "name": "stdout",
     "output_type": "stream",
     "text": [
      "--- Eval epoch-17, step-1206 ---\n",
      "kl_divergence: 0.0428\n",
      "mse: 0.0000\n",
      "mae: 0.0000\n",
      "loss: 6477742.8194\n",
      "\n"
     ]
    },
    {
     "name": "stderr",
     "output_type": "stream",
     "text": [
      "Epoch 18 / 20: 100%|████████████████████████████████████████████████████████████████████████████████████████| 67/67 [00:45<00:00,  1.49it/s]"
     ]
    },
    {
     "name": "stdout",
     "output_type": "stream",
     "text": [
      "--- Train epoch-18, step-1273 ---\n",
      "loss: 6998958.7080\n"
     ]
    },
    {
     "name": "stderr",
     "output_type": "stream",
     "text": [
      "\n",
      "Evaluation: 100%|█████████████████████████████████████████████████████████████████████████████████████████████| 9/9 [00:05<00:00,  1.59it/s]\n"
     ]
    },
    {
     "name": "stdout",
     "output_type": "stream",
     "text": [
      "--- Eval epoch-18, step-1273 ---\n",
      "kl_divergence: 0.0374\n",
      "mse: 0.0000\n",
      "mae: 0.0000\n",
      "loss: 6475522.2083\n",
      "\n"
     ]
    },
    {
     "name": "stderr",
     "output_type": "stream",
     "text": [
      "Epoch 19 / 20: 100%|████████████████████████████████████████████████████████████████████████████████████████| 67/67 [00:44<00:00,  1.49it/s]"
     ]
    },
    {
     "name": "stdout",
     "output_type": "stream",
     "text": [
      "--- Train epoch-19, step-1340 ---\n",
      "loss: 6998535.8526\n"
     ]
    },
    {
     "name": "stderr",
     "output_type": "stream",
     "text": [
      "\n",
      "Evaluation: 100%|█████████████████████████████████████████████████████████████████████████████████████████████| 9/9 [00:05<00:00,  1.59it/s]\n"
     ]
    },
    {
     "name": "stdout",
     "output_type": "stream",
     "text": [
      "--- Eval epoch-19, step-1340 ---\n",
      "kl_divergence: 0.0323\n",
      "mse: 0.0000\n",
      "mae: 0.0000\n",
      "loss: 6478588.5000\n",
      "New best kl_divergence score (0.0323) at epoch-19, step-1340\n",
      "Loaded best model\n"
     ]
    }
   ],
   "source": [
    "from pyhealth.trainer import Trainer\n",
    "\n",
    "trainer = Trainer(model=model, device=\"cuda:4\", metrics=[\"kl_divergence\", \"mse\", \"mae\"])\n",
    "trainer.train(\n",
    "    train_dataloader=train_dataloader,\n",
    "    val_dataloader=val_dataloader,\n",
    "    epochs=20,\n",
    "    monitor = \"kl_divergence\",\n",
    "    monitor_criterion = 'min',\n",
    "    optimizer_params={\"lr\": 1e-3},\n",
    ")"
   ]
  },
  {
   "cell_type": "markdown",
   "id": "28e71409",
   "metadata": {},
   "source": [
    "### STEP 5: evaluate"
   ]
  },
  {
   "cell_type": "code",
   "execution_count": 8,
   "id": "3ab6408b",
   "metadata": {},
   "outputs": [
    {
     "name": "stderr",
     "output_type": "stream",
     "text": [
      "Evaluation: 100%|█████████████████████████████████████████████████████████████████████████████████████████████| 9/9 [00:05<00:00,  1.60it/s]\n"
     ]
    },
    {
     "name": "stdout",
     "output_type": "stream",
     "text": [
      "{'kl_divergence': 0.03204501, 'mse': 1.7194245e-18, 'mae': 8.95354e-10, 'loss': 6494522.055555556}\n"
     ]
    }
   ],
   "source": [
    "# evaluate on the test data\n",
    "print(trainer.evaluate(test_dataloader))"
   ]
  },
  {
   "cell_type": "markdown",
   "id": "90999882",
   "metadata": {},
   "source": [
    "### EXP 1: we check the original chest Xray image and the reconstructed ones"
   ]
  },
  {
   "cell_type": "code",
   "execution_count": 9,
   "id": "be30486f",
   "metadata": {},
   "outputs": [
    {
     "name": "stderr",
     "output_type": "stream",
     "text": [
      "Evaluation: 100%|█████████████████████████████████████████████████████████████████████████████████████████████| 9/9 [00:05<00:00,  1.59it/s]\n"
     ]
    }
   ],
   "source": [
    "X, X_rec, _ = trainer.inference(test_dataloader)"
   ]
  },
  {
   "cell_type": "code",
   "execution_count": 13,
   "id": "9275a00c",
   "metadata": {},
   "outputs": [
    {
     "data": {
      "image/png": "[encoded data removed]",
      "text/plain": [
       "<Figure size 640x480 with 2 Axes>"
      ]
     },
     "metadata": {},
     "output_type": "display_data"
    }
   ],
   "source": [
    "import matplotlib.pyplot as plt\n",
    "\n",
    "idx = 10\n",
    "plt.figure()\n",
    "plt.subplot(1, 2, 1)\n",
    "plt.imshow(X[idx].reshape(3, 128, 128)[0], cmap=\"gray\")\n",
    "plt.subplot(1, 2, 2)\n",
    "plt.imshow(X_rec[idx].reshape(3, 128, 128)[0], cmap=\"gray\")\n",
    "plt.show()"
   ]
  },
  {
   "cell_type": "markdown",
   "id": "dd1b7851",
   "metadata": {},
   "source": [
    "### EXP 2: synthesize random images"
   ]
  },
  {
   "cell_type": "code",
   "execution_count": 23,
   "id": "e544672a",
   "metadata": {},
   "outputs": [
    {
     "name": "stdout",
     "output_type": "stream",
     "text": [
      "torch.Size([1, 256, 1, 1])\n"
     ]
    },
    {
     "data": {
      "image/png": "[encoded data removed]",
      "text/plain": [
       "<Figure size 640x480 with 1 Axes>"
      ]
     },
     "metadata": {},
     "output_type": "display_data"
    }
   ],
   "source": [
    "import torch\n",
    "import numpy as np\n",
    "\n",
    "model = trainer.model\n",
    "  \n",
    "model.eval()\n",
    "with torch.no_grad():\n",
    "    # we generate a random 64-dimensional multi-gaussian vector\n",
    "    x = np.random.normal(0, 1, 256)\n",
    "    \n",
    "    x = x.astype(np.float32)\n",
    "    x = torch.from_numpy(x).to(trainer.device).unsqueeze(0).unsqueeze(2).unsqueeze(3)\n",
    "    print (x.shape)\n",
    "    rec = model.decoder(x).detach().cpu().numpy()\n",
    "    rec = rec.reshape((3, 128, 128))[0]\n",
    "    plt.imshow(rec, cmap=\"gray\")\n",
    "    plt.show()"
   ]
  },
  {
   "cell_type": "code",
   "execution_count": null,
   "id": "267e356d",
   "metadata": {},
   "outputs": [],
   "source": []
  }
 ],
 "metadata": {
  "kernelspec": {
   "display_name": "Python 3",
   "language": "python",
   "name": "python3"
  },
  "language_info": {
   "codemirror_mode": {
    "name": "ipython",
    "version": 3
   },
   "file_extension": ".py",
   "mimetype": "text/x-python",
   "name": "python",
   "nbconvert_exporter": "python",
   "pygments_lexer": "ipython3",
   "version": "3.7.16"
  }
 },
 "nbformat": 4,
 "nbformat_minor": 5
}
