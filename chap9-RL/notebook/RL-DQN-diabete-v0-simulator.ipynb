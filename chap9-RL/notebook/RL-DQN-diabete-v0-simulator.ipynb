{
 "cells": [
  {
   "cell_type": "code",
   "execution_count": 42,
   "id": "77f90424",
   "metadata": {},
   "outputs": [],
   "source": [
    "# disable any potential warning\n",
    "\n",
    "import warnings\n",
    "warnings.filterwarnings('ignore')"
   ]
  },
  {
   "cell_type": "markdown",
   "id": "0bb78f8d",
   "metadata": {},
   "source": [
    "# 1. Setup the dosing_rl_gym environment\n",
    "- Step1: copy the source files of the env \n",
    "```bash\n",
    "git clone https://github.com/strongio/dosing-rl-gym\n",
    "```\n",
    "\n",
    "- Step2: install the package\n",
    "```bash\n",
    "cd dosing-rl-gym\n",
    "python setup.py install\n",
    "```\n",
    "\n",
    "- Basic background of the environment is shown in this [jupyter](https://github.com/strongio/dosing-rl-gym/blob/master/dosing_rl_gym/resources/Diabetic%20Background.ipynb)"
   ]
  },
  {
   "cell_type": "code",
   "execution_count": 43,
   "id": "f0e125a9",
   "metadata": {},
   "outputs": [],
   "source": [
    "import copy\n",
    "import pandas as pd\n",
    "import numpy as np\n",
    "import matplotlib.pyplot as plt\n",
    "from tqdm import tqdm\n",
    "import torch\n",
    "\n",
    "# set up the env\n",
    "import gym\n",
    "import dosing_rl_gym\n",
    "\n",
    "# move the model to GPU for training.\n",
    "# if you do not have GPU, set \"cpu\"\n",
    "device = torch.device(\"cuda:1\")"
   ]
  },
  {
   "cell_type": "markdown",
   "id": "ada26503",
   "metadata": {},
   "source": [
    "# 2. Create diabete-v0 simulator"
   ]
  },
  {
   "cell_type": "code",
   "execution_count": 55,
   "id": "65f40816",
   "metadata": {},
   "outputs": [],
   "source": [
    "env = gym.make(\"Diabetic-v0\")\n",
    "\n",
    "# insulin pump every 10 minutes in 1 day (144 steps)\n",
    "episode_length = 10\n",
    "env.set_episode_length(episode_length)"
   ]
  },
  {
   "cell_type": "code",
   "execution_count": 56,
   "id": "8ebd5dbf",
   "metadata": {},
   "outputs": [
    {
     "data": {
      "text/plain": [
       "array([2. , 2.1, 2.2, 2.3, 2.4, 2.5, 2.6, 2.7, 2.8, 2.9, 3. ])"
      ]
     },
     "execution_count": 56,
     "metadata": {},
     "output_type": "execute_result"
    }
   ],
   "source": [
    "# A is the action space, representing insulin pump volumn (mU/min)\n",
    "A = np.linspace(2, 3, 11)\n",
    "A"
   ]
  },
  {
   "cell_type": "markdown",
   "id": "86f46ccd",
   "metadata": {},
   "source": [
    "### action space is represented by:\n",
    "- 0 Blood Glucose (mg/dL)\n",
    "- 1 Remote Insulin (micro-u/ml)\n",
    "- 2 Plasma Insulin (micro-u/ml)\n",
    "- 3 S1\n",
    "- 4 S2\n",
    "- 5 Gut blood glucose (mg/dl)\n",
    "- 6 Meal disturbance (mmol/L-min)\n",
    "- 7 Previous Blood glucose (mg/dL)\n",
    "- 8 Previous meal disturbance (mmol/L-min)"
   ]
  },
  {
   "cell_type": "markdown",
   "id": "6a922f89",
   "metadata": {},
   "source": [
    "### reward is calculated by this function (dependent on the Glucose level)"
   ]
  },
  {
   "cell_type": "code",
   "execution_count": 120,
   "id": "dc50b71d",
   "metadata": {},
   "outputs": [
    {
     "data": {
      "text/plain": [
       "Text(0, 0.5, 'Reward')"
      ]
     },
     "execution_count": 120,
     "metadata": {},
     "output_type": "execute_result"
    },
    {
     "data": {
      "image/png": "[encoded data removed]",
      "text/plain": [
       "<Figure size 1100x400 with 1 Axes>"
      ]
     },
     "metadata": {},
     "output_type": "display_data"
    }
   ],
   "source": [
    "g = 0.7\n",
    "target= 80.0\n",
    "lb, ub = 65.0, 105.0\n",
    "reward_func = []\n",
    "dr = np.arange(55.0, 115.0, .5)\n",
    "for v in dr:\n",
    "    r = 1. - np.tanh(np.abs((v - target) / g) * .1) ** 2\n",
    "    if (v < lb) or (v > ub):\n",
    "        r = -1.\n",
    "    reward_func.append(r)\n",
    "    \n",
    "plt.figure(1, figsize=(11,4))\n",
    "plt.plot(dr, reward_func)\n",
    "plt.xlabel('Glucose (mg/dL)')\n",
    "plt.ylabel('Reward')"
   ]
  },
  {
   "cell_type": "code",
   "execution_count": 72,
   "id": "e44a5586",
   "metadata": {},
   "outputs": [
    {
     "name": "stdout",
     "output_type": "stream",
     "text": [
      "state [  82.74149883   30.59912634   28.95833456   14.40160571   15.62373179\n",
      "  254.08005318 1000.           82.46919802 1000.        ]\n",
      "reward 0.8610384168897757\n",
      "whether the game is over: False\n"
     ]
    }
   ],
   "source": [
    "\"\"\" Example \"\"\"\n",
    "\n",
    "# the initial state of env is randomly initialized\n",
    "env.reset()\n",
    "\n",
    "# action\n",
    "a = [2.5]\n",
    "\n",
    "# next state\n",
    "state, reward, done, _ = env.step([a])\n",
    "\n",
    "print (\"state\", state)\n",
    "print (\"reward\", reward)\n",
    "print (\"whether the game is over:\", done)"
   ]
  },
  {
   "cell_type": "markdown",
   "id": "54c48c26",
   "metadata": {},
   "source": [
    "# 3. collect offline RL samples from this env"
   ]
  },
  {
   "cell_type": "code",
   "execution_count": 63,
   "id": "43baf1c2",
   "metadata": {},
   "outputs": [
    {
     "name": "stderr",
     "output_type": "stream",
     "text": [
      "100%|█████████████████████████████████████████████████████████████████████████████████████████████████████████████████████████████████████████████████████████████████████████████████████████████████████████████████████████████████████████████████████████████████████████████████████| 2000/2000 [01:38<00:00, 20.40it/s]\n"
     ]
    }
   ],
   "source": [
    "# collect 2000 trajectories\n",
    "n_episodes = 2000\n",
    "\n",
    "samples = []\n",
    "for e in tqdm(range(n_episodes)):\n",
    "    env.reset()\n",
    "    # after the first step (a=2.5), we start the game\n",
    "    state, _, _, _ = env.step([2.5])\n",
    "    \n",
    "    for _ in range(env.episode_length-3):\n",
    "        # randomly choose the action\n",
    "        action = np.random.choice(A)\n",
    "        state_, reward, _, _ = env.step([action])\n",
    "        \n",
    "        # get the (s, a, r, s') sample\n",
    "        samples.append([state, action, reward, state_])\n",
    "        state = state_\n",
    "  \n",
    "# split the S, A, R, S_ to separate variables\n",
    "train_S = torch.FloatTensor([item[0] for item in samples])\n",
    "train_A = torch.FloatTensor([item[1] for item in samples]).unsqueeze(-1)\n",
    "train_R = torch.FloatTensor([item[2] for item in samples])\n",
    "train_S_ = torch.FloatTensor([item[3] for item in samples])"
   ]
  },
  {
   "cell_type": "code",
   "execution_count": 64,
   "id": "bd79a58d",
   "metadata": {},
   "outputs": [],
   "source": [
    "# normalize the data\n",
    "\n",
    "S_mean = train_S.mean(0)\n",
    "S_std = train_S.std(0)\n",
    "\n",
    "norm_train_S = (train_S - S_mean) / (S_std + 1e-8)\n",
    "norm_train_A = (train_A - train_A.mean(0)) / (train_A.std(0) + 1e-8)\n",
    "norm_train_S_ = (train_S_ - S_mean) / (S_std + 1e-8)\n",
    "\n",
    "norm_train_S = norm_train_S.to(device)\n",
    "norm_train_A = norm_train_A.to(device)\n",
    "norm_train_S_ = norm_train_S_.to(device)\n",
    "\n",
    "# no need to normalize the reward\n",
    "train_R = train_R.to(device)"
   ]
  },
  {
   "cell_type": "code",
   "execution_count": 65,
   "id": "f964d8d0",
   "metadata": {},
   "outputs": [
    {
     "data": {
      "text/plain": [
       "(torch.Size([284000, 9]),\n",
       " torch.Size([284000, 1]),\n",
       " torch.Size([284000]),\n",
       " torch.Size([284000, 9]))"
      ]
     },
     "execution_count": 65,
     "metadata": {},
     "output_type": "execute_result"
    }
   ],
   "source": [
    "norm_train_S.shape, norm_train_A.shape, train_R.shape, norm_train_S_.shape"
   ]
  },
  {
   "cell_type": "markdown",
   "id": "5fb180fe",
   "metadata": {},
   "source": [
    "# 4. build the DQN model"
   ]
  },
  {
   "cell_type": "code",
   "execution_count": 99,
   "id": "3e357aab",
   "metadata": {},
   "outputs": [
    {
     "data": {
      "text/plain": [
       "DQN(\n",
       "  (embedding): Linear(in_features=10, out_features=32, bias=True)\n",
       "  (Q): Sequential(\n",
       "    (0): Linear(in_features=32, out_features=8, bias=True)\n",
       "    (1): ReLU()\n",
       "    (2): Linear(in_features=8, out_features=1, bias=True)\n",
       "    (3): Sigmoid()\n",
       "  )\n",
       ")"
      ]
     },
     "execution_count": 99,
     "metadata": {},
     "output_type": "execute_result"
    }
   ],
   "source": [
    "import numpy as np\n",
    "import torch\n",
    "import torch.nn as nn\n",
    "import torch.nn.functional as F\n",
    "\n",
    "class DQN(nn.Module):\n",
    "    def __init__(self):\n",
    "        super().__init__()\n",
    "        \n",
    "        # 9 + 1 state with action input\n",
    "        self.embedding = nn.Linear(10, 32)\n",
    "        self.Q = nn.Sequential(\n",
    "            nn.Linear(32, 8),\n",
    "            nn.ReLU(),\n",
    "            nn.Linear(8, 1),\n",
    "            nn.Sigmoid(),\n",
    "        )\n",
    "    \n",
    "    def forward(self, s, a):\n",
    "        x = torch.cat([s, a], dim=-1)\n",
    "        x = self.embedding(x)\n",
    "        x = self.Q(torch.relu(x))\n",
    "        return x\n",
    "    \n",
    "model = DQN()\n",
    "model.to(device)"
   ]
  },
  {
   "cell_type": "code",
   "execution_count": 100,
   "id": "b5854fd8",
   "metadata": {},
   "outputs": [
    {
     "data": {
      "text/plain": [
       "35.46531730656499"
      ]
     },
     "execution_count": 100,
     "metadata": {},
     "output_type": "execute_result"
    }
   ],
   "source": [
    "def evaluate(model, env):\n",
    "    \"\"\" evaluate func the cumulative reward in the env using the model \"\"\"\n",
    "    ones = torch.ones(1, 1).to(device)\n",
    "    \n",
    "    # we evaluate after the first step with action a=2.5\n",
    "    s, reward, done, _ = env.step([2.5])\n",
    "\n",
    "    reward_list = []\n",
    "    for _ in range(env.episode_length-3):\n",
    "        s = torch.FloatTensor(s).unsqueeze(0).to(device)\n",
    "        s = (s - S_mean.to(device)) / (S_std.to(device) + 1e-8)\n",
    "        \n",
    "        # select the best action from our model\n",
    "        with torch.no_grad():\n",
    "            response = []\n",
    "            for a in A:\n",
    "                response.append(model(s, ones * a).cpu().numpy())\n",
    "        action = A[np.argmax(response)]\n",
    "        \n",
    "        s, reward, done, _ = env.step([action])\n",
    "        reward_list.append(reward)\n",
    "    return sum(reward_list)\n",
    "\n",
    "env.reset()\n",
    "env_copy = copy.deepcopy(env)\n",
    "\n",
    "# evaluate on the initial model\n",
    "evaluate(model, env_copy)"
   ]
  },
  {
   "cell_type": "markdown",
   "id": "669a6b4b",
   "metadata": {},
   "source": [
    "# 5. training the DQN model"
   ]
  },
  {
   "cell_type": "code",
   "execution_count": 101,
   "id": "05285069",
   "metadata": {},
   "outputs": [
    {
     "name": "stdout",
     "output_type": "stream",
     "text": [
      "--- epoch: 0 ---, trainig loss: 0.05908508226275444, reward: 35.52270950886288\n",
      "--- epoch: 500 ---, trainig loss: 0.06377474963665009, reward: 89.09879224441977\n",
      "--- epoch: 1000 ---, trainig loss: 0.06710536032915115, reward: 89.09879224441977\n",
      "--- epoch: 1500 ---, trainig loss: 0.06569214910268784, reward: 89.09879224441977\n",
      "--- epoch: 2000 ---, trainig loss: 0.06342136859893799, reward: 89.09879224441977\n",
      "--- epoch: 2500 ---, trainig loss: 0.06176581606268883, reward: 89.09879224441977\n",
      "--- epoch: 3000 ---, trainig loss: 0.06124673783779144, reward: 89.09879224441977\n",
      "--- epoch: 3500 ---, trainig loss: 0.06126878783106804, reward: 89.06626350407569\n",
      "--- epoch: 4000 ---, trainig loss: 0.06128304451704025, reward: 89.01832894195431\n",
      "--- epoch: 4500 ---, trainig loss: 0.061310891062021255, reward: 89.10066481001694\n",
      "--- epoch: 5000 ---, trainig loss: 0.061429426074028015, reward: 87.61831571593262\n"
     ]
    }
   ],
   "source": [
    "alpha = 0.5\n",
    "gamma = 0.95\n",
    "\n",
    "criterion = nn.MSELoss()\n",
    "optimizer = torch.optim.AdamW(model.parameters(), lr=0.0001)\n",
    "\n",
    "model.train()\n",
    "\n",
    "loss_curve = []\n",
    "for epoch in range(5001):\n",
    "    pre = model(norm_train_S, norm_train_A)\n",
    "    \n",
    "    # target Q(s, a)\n",
    "    with torch.no_grad():\n",
    "        max_part = []\n",
    "        for a in A:\n",
    "            max_part.append(model(norm_train_S_, torch.ones_like(norm_train_A) * a))\n",
    "            \n",
    "        max_part = torch.stack(max_part).squeeze(-1)\n",
    "        max_part, _ = torch.max(max_part, 0, keepdim=True)\n",
    "        target = pre + alpha * (train_R.unsqueeze(1) + gamma * max_part.T - pre)\n",
    "\n",
    "#     print (pre.shape, target.shape)\n",
    "    loss = criterion(pre, target)\n",
    "    loss_curve.append(loss.item())\n",
    "    \n",
    "    optimizer.zero_grad()\n",
    "    loss.backward()\n",
    "    optimizer.step()\n",
    "\n",
    "    if epoch % 500 == 0:\n",
    "        env_copy = copy.deepcopy(env)\n",
    "        reward = evaluate(model, env_copy)\n",
    "        print (f\"--- epoch: {epoch} ---, trainig loss: {loss_curve[-1]}, reward: {reward}\")"
   ]
  },
  {
   "cell_type": "markdown",
   "id": "bacf2050",
   "metadata": {},
   "source": [
    "# 6. visualize the performance"
   ]
  },
  {
   "cell_type": "code",
   "execution_count": 102,
   "id": "2cb5a89d",
   "metadata": {},
   "outputs": [],
   "source": [
    "# let us evaluate the final model\n",
    "\n",
    "ones = torch.ones(1, 1).to(device)\n",
    "    \n",
    "# we evaluate after the first step with action a=2.5\n",
    "s, reward, done, _ = env.step([2.5])\n",
    "\n",
    "reward_list = []\n",
    "for _ in range(env.episode_length-3):\n",
    "    s = torch.FloatTensor(s).unsqueeze(0).to(device)\n",
    "    s = (s - S_mean.to(device)) / (S_std.to(device) + 1e-8)\n",
    "\n",
    "    # select the best action from our model\n",
    "    with torch.no_grad():\n",
    "        response = []\n",
    "        for a in A:\n",
    "            response.append(model(s, ones * a).cpu().numpy())\n",
    "    action = A[np.argmax(response)]\n",
    "\n",
    "    s, reward, done, _ = env.step([action])\n",
    "    reward_list.append(reward)"
   ]
  },
  {
   "cell_type": "markdown",
   "id": "1176ee26",
   "metadata": {},
   "source": [
    "## 6.1 insulin pump over the day"
   ]
  },
  {
   "cell_type": "code",
   "execution_count": 109,
   "id": "54ace893",
   "metadata": {},
   "outputs": [
    {
     "name": "stdout",
     "output_type": "stream",
     "text": [
      "\n"
     ]
    },
    {
     "data": {
      "image/png": "[encoded data removed]",
      "text/plain": [
       "<Figure size 1100x200 with 1 Axes>"
      ]
     },
     "metadata": {},
     "output_type": "display_data"
    }
   ],
   "source": [
    "# Plot the results\n",
    "plt.figure(1, figsize=(11,2))\n",
    "ticks = np.linspace(0,24,13)\n",
    "\n",
    "plt.plot(env.t, env.u, 'b--', linewidth=3)\n",
    "plt.ylabel('Insulin Pump (mU/min)')\n",
    "plt.xlim([0,24])\n",
    "plt.xticks(ticks)\n",
    "plt.xlabel('Time (hour)')\n",
    "print ()"
   ]
  },
  {
   "cell_type": "markdown",
   "id": "01071a92",
   "metadata": {},
   "source": [
    "## 6.2 Glucose curve over the day"
   ]
  },
  {
   "cell_type": "code",
   "execution_count": 116,
   "id": "29cf7b9e",
   "metadata": {},
   "outputs": [
    {
     "name": "stdout",
     "output_type": "stream",
     "text": [
      "\n"
     ]
    },
    {
     "data": {
      "image/png": "[encoded data removed]",
      "text/plain": [
       "<Figure size 1100x200 with 1 Axes>"
      ]
     },
     "metadata": {},
     "output_type": "display_data"
    }
   ],
   "source": [
    "plt.figure(1, figsize=(11,2))\n",
    "ticks = np.linspace(0,24,13)\n",
    "\n",
    "plt.plot(env.t, env.G, 'r-',linewidth=2, alpha=0.5)\n",
    "plt.plot([0,24],[105,105],'k--',linewidth=2,label='Glucose bounds')\n",
    "plt.plot([0,24],[80,80],'k-',linewidth=2,label='Glucose target')\n",
    "plt.plot([0,24],[65,65],'k--',linewidth=2)\n",
    "\n",
    "plt.legend(loc='best')\n",
    "plt.ylabel('Glucose (mg/DL)')\n",
    "plt.xlim([0,24])\n",
    "plt.xticks(ticks)\n",
    "plt.xlabel('Time (hour)')\n",
    "print ()"
   ]
  },
  {
   "cell_type": "markdown",
   "id": "88ec94cf",
   "metadata": {},
   "source": [
    "## 6.3 Reward curve over the day"
   ]
  },
  {
   "cell_type": "code",
   "execution_count": 117,
   "id": "70313a34",
   "metadata": {},
   "outputs": [
    {
     "name": "stdout",
     "output_type": "stream",
     "text": [
      "\n"
     ]
    },
    {
     "data": {
      "image/png": "[encoded data removed]",
      "text/plain": [
       "<Figure size 1100x200 with 1 Axes>"
      ]
     },
     "metadata": {},
     "output_type": "display_data"
    }
   ],
   "source": [
    "# Plot the results\n",
    "plt.figure(1, figsize=(11,2))\n",
    "ticks = np.linspace(0,24,13)\n",
    "\n",
    "plt.plot(reward_list, linewidth=3)\n",
    "plt.ylabel('Rewards')\n",
    "plt.xlim([0,24])\n",
    "plt.xticks(ticks)\n",
    "plt.xlabel('Time (hour)')\n",
    "print ()"
   ]
  },
  {
   "cell_type": "code",
   "execution_count": null,
   "id": "32671ae0",
   "metadata": {},
   "outputs": [],
   "source": []
  }
 ],
 "metadata": {
  "kernelspec": {
   "display_name": "Python 3 (ipykernel)",
   "language": "python",
   "name": "python3"
  },
  "language_info": {
   "codemirror_mode": {
    "name": "ipython",
    "version": 3
   },
   "file_extension": ".py",
   "mimetype": "text/x-python",
   "name": "python",
   "nbconvert_exporter": "python",
   "pygments_lexer": "ipython3",
   "version": "3.7.16"
  }
 },
 "nbformat": 4,
 "nbformat_minor": 5
}
